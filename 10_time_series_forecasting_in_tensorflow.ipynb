{
 "cells": [
  {
   "cell_type": "markdown",
   "metadata": {},
   "source": [
    "# Time Series forecasting fundamentals with tensorflow + Milestone projet 3: BitPredict\n",
    "\n",
    "Time series problems deal with data over time.\n",
    "\n",
    "https://otexts.com/fpp3/\n",
    "\n",
    "https://www.uber.com/en-FR/blog/forecasting-introduction/"
   ]
  },
  {
   "cell_type": "markdown",
   "metadata": {},
   "source": [
    "<img src=\"course_images/10_time_series/10-example-time-series-problems.png\" height=\"500\">\n",
    "\n",
    "<img src=\"course_images/10_time_series/time_series_inputs_and_outputs.png\" height=\"500\">\n",
    "\n",
    "<img src=\"course_images/10_time_series/bitpredict_input_and_output_shape.png\" height=\"500\">"
   ]
  },
  {
   "cell_type": "markdown",
   "metadata": {},
   "source": [
    "Let's write some Tensorflow code to predict the price of Bitcoin based on the historical price of Bitcoin"
   ]
  },
  {
   "cell_type": "markdown",
   "metadata": {},
   "source": [
    "## Get data\n",
    "\n",
    "We're going to be using the historical price data of Bitcoin to try and predict the future price of Bitcoin, we downloaded the data from here: https://www.coindesk.com/price/bitcoin\n",
    "\n",
    "\n",
    "https://raw.githubusercontent.com/mrdbourke/tensorflow-deep-learning/main/extras/BTC_USD_2013-10-01_2021-05-18-CoinDesk.csv"
   ]
  },
  {
   "cell_type": "markdown",
   "metadata": {},
   "source": [
    "## importing time series pandas"
   ]
  },
  {
   "cell_type": "code",
   "execution_count": 125,
   "metadata": {},
   "outputs": [
    {
     "data": {
      "text/html": [
       "<div>\n",
       "<style scoped>\n",
       "    .dataframe tbody tr th:only-of-type {\n",
       "        vertical-align: middle;\n",
       "    }\n",
       "\n",
       "    .dataframe tbody tr th {\n",
       "        vertical-align: top;\n",
       "    }\n",
       "\n",
       "    .dataframe thead th {\n",
       "        text-align: right;\n",
       "    }\n",
       "</style>\n",
       "<table border=\"1\" class=\"dataframe\">\n",
       "  <thead>\n",
       "    <tr style=\"text-align: right;\">\n",
       "      <th></th>\n",
       "      <th>Currency</th>\n",
       "      <th>Closing Price (USD)</th>\n",
       "      <th>24h Open (USD)</th>\n",
       "      <th>24h High (USD)</th>\n",
       "      <th>24h Low (USD)</th>\n",
       "    </tr>\n",
       "    <tr>\n",
       "      <th>Date</th>\n",
       "      <th></th>\n",
       "      <th></th>\n",
       "      <th></th>\n",
       "      <th></th>\n",
       "      <th></th>\n",
       "    </tr>\n",
       "  </thead>\n",
       "  <tbody>\n",
       "    <tr>\n",
       "      <th>2013-10-01</th>\n",
       "      <td>BTC</td>\n",
       "      <td>123.65499</td>\n",
       "      <td>124.30466</td>\n",
       "      <td>124.75166</td>\n",
       "      <td>122.56349</td>\n",
       "    </tr>\n",
       "    <tr>\n",
       "      <th>2013-10-02</th>\n",
       "      <td>BTC</td>\n",
       "      <td>125.45500</td>\n",
       "      <td>123.65499</td>\n",
       "      <td>125.75850</td>\n",
       "      <td>123.63383</td>\n",
       "    </tr>\n",
       "    <tr>\n",
       "      <th>2013-10-03</th>\n",
       "      <td>BTC</td>\n",
       "      <td>108.58483</td>\n",
       "      <td>125.45500</td>\n",
       "      <td>125.66566</td>\n",
       "      <td>83.32833</td>\n",
       "    </tr>\n",
       "    <tr>\n",
       "      <th>2013-10-04</th>\n",
       "      <td>BTC</td>\n",
       "      <td>118.67466</td>\n",
       "      <td>108.58483</td>\n",
       "      <td>118.67500</td>\n",
       "      <td>107.05816</td>\n",
       "    </tr>\n",
       "    <tr>\n",
       "      <th>2013-10-05</th>\n",
       "      <td>BTC</td>\n",
       "      <td>121.33866</td>\n",
       "      <td>118.67466</td>\n",
       "      <td>121.93633</td>\n",
       "      <td>118.00566</td>\n",
       "    </tr>\n",
       "  </tbody>\n",
       "</table>\n",
       "</div>"
      ],
      "text/plain": [
       "           Currency  Closing Price (USD)  24h Open (USD)  24h High (USD)  \\\n",
       "Date                                                                       \n",
       "2013-10-01      BTC            123.65499       124.30466       124.75166   \n",
       "2013-10-02      BTC            125.45500       123.65499       125.75850   \n",
       "2013-10-03      BTC            108.58483       125.45500       125.66566   \n",
       "2013-10-04      BTC            118.67466       108.58483       118.67500   \n",
       "2013-10-05      BTC            121.33866       118.67466       121.93633   \n",
       "\n",
       "            24h Low (USD)  \n",
       "Date                       \n",
       "2013-10-01      122.56349  \n",
       "2013-10-02      123.63383  \n",
       "2013-10-03       83.32833  \n",
       "2013-10-04      107.05816  \n",
       "2013-10-05      118.00566  "
      ]
     },
     "execution_count": 125,
     "metadata": {},
     "output_type": "execute_result"
    }
   ],
   "source": [
    "# import with pandas\n",
    "import pandas as pd\n",
    "# read in our Bitcoin data and parse the dates\n",
    "df = pd.read_csv(\"data/time_series/BTC_USD_2013-10-01_2021-05-18-CoinDesk.csv\",\n",
    "                 parse_dates=[\"Date\"],\n",
    "                 index_col=[\"Date\"]) # parse the date column and tell pandas column 1 is a datetime\n",
    "\n",
    "df.head()"
   ]
  },
  {
   "cell_type": "code",
   "execution_count": 126,
   "metadata": {},
   "outputs": [
    {
     "name": "stdout",
     "output_type": "stream",
     "text": [
      "<class 'pandas.core.frame.DataFrame'>\n",
      "DatetimeIndex: 2787 entries, 2013-10-01 to 2021-05-18\n",
      "Data columns (total 5 columns):\n",
      " #   Column               Non-Null Count  Dtype  \n",
      "---  ------               --------------  -----  \n",
      " 0   Currency             2787 non-null   object \n",
      " 1   Closing Price (USD)  2787 non-null   float64\n",
      " 2   24h Open (USD)       2787 non-null   float64\n",
      " 3   24h High (USD)       2787 non-null   float64\n",
      " 4   24h Low (USD)        2787 non-null   float64\n",
      "dtypes: float64(4), object(1)\n",
      "memory usage: 130.6+ KB\n"
     ]
    }
   ],
   "source": [
    "df.info()"
   ]
  },
  {
   "cell_type": "code",
   "execution_count": 127,
   "metadata": {},
   "outputs": [
    {
     "data": {
      "text/plain": [
       "2787"
      ]
     },
     "execution_count": 127,
     "metadata": {},
     "output_type": "execute_result"
    }
   ],
   "source": [
    "# how many samples do we have?\n",
    "len(df)"
   ]
  },
  {
   "cell_type": "markdown",
   "metadata": {},
   "source": [
    "We've collected the historical price of Bitcoin for the past ~8 years but there's 2787 samples.\n",
    "\n",
    "Typically deep learning models usually like lots and lots and lots of samples (where lots and lots and lots can thousands to tens of thousands to millions).\n",
    "\n",
    "A smaller number of samples is something you'll often run into with time series data problems.\n",
    "\n",
    "> 🔑 **Note** The **seasonality** of a time series dataset is referred as the number of samples per year. So for our Bitcoin data, it has a seasonality of daily or value of 365 because we collect one sample per day meaning we'll get 365 samples per year."
   ]
  },
  {
   "cell_type": "markdown",
   "metadata": {},
   "source": [
    "<img src=\"course_images/10_time_series/10-types-of-time-series-patterns.png\" height=\"500\">\n",
    "\n",
    "<img src=\"course_images/10_time_series/univariate_and_multivariate_time_series_data.png\" height=\"500\">"
   ]
  },
  {
   "cell_type": "code",
   "execution_count": 128,
   "metadata": {},
   "outputs": [
    {
     "data": {
      "text/html": [
       "<div>\n",
       "<style scoped>\n",
       "    .dataframe tbody tr th:only-of-type {\n",
       "        vertical-align: middle;\n",
       "    }\n",
       "\n",
       "    .dataframe tbody tr th {\n",
       "        vertical-align: top;\n",
       "    }\n",
       "\n",
       "    .dataframe thead th {\n",
       "        text-align: right;\n",
       "    }\n",
       "</style>\n",
       "<table border=\"1\" class=\"dataframe\">\n",
       "  <thead>\n",
       "    <tr style=\"text-align: right;\">\n",
       "      <th></th>\n",
       "      <th>Price</th>\n",
       "    </tr>\n",
       "    <tr>\n",
       "      <th>Date</th>\n",
       "      <th></th>\n",
       "    </tr>\n",
       "  </thead>\n",
       "  <tbody>\n",
       "    <tr>\n",
       "      <th>2013-10-01</th>\n",
       "      <td>123.65499</td>\n",
       "    </tr>\n",
       "    <tr>\n",
       "      <th>2013-10-02</th>\n",
       "      <td>125.45500</td>\n",
       "    </tr>\n",
       "    <tr>\n",
       "      <th>2013-10-03</th>\n",
       "      <td>108.58483</td>\n",
       "    </tr>\n",
       "    <tr>\n",
       "      <th>2013-10-04</th>\n",
       "      <td>118.67466</td>\n",
       "    </tr>\n",
       "    <tr>\n",
       "      <th>2013-10-05</th>\n",
       "      <td>121.33866</td>\n",
       "    </tr>\n",
       "  </tbody>\n",
       "</table>\n",
       "</div>"
      ],
      "text/plain": [
       "                Price\n",
       "Date                 \n",
       "2013-10-01  123.65499\n",
       "2013-10-02  125.45500\n",
       "2013-10-03  108.58483\n",
       "2013-10-04  118.67466\n",
       "2013-10-05  121.33866"
      ]
     },
     "execution_count": 128,
     "metadata": {},
     "output_type": "execute_result"
    }
   ],
   "source": [
    "# only want closing price for each day\n",
    "bitcoin_prices = pd.DataFrame(df[\"Closing Price (USD)\"]).rename(columns={\"Closing Price (USD)\": \"Price\"})\n",
    "bitcoin_prices.head()"
   ]
  },
  {
   "cell_type": "code",
   "execution_count": 129,
   "metadata": {},
   "outputs": [
    {
     "data": {
      "text/plain": [
       "<matplotlib.legend.Legend at 0x23b977457d0>"
      ]
     },
     "execution_count": 129,
     "metadata": {},
     "output_type": "execute_result"
    },
    {
     "data": {
      "image/png": "[encoded data removed]",
      "text/plain": [
       "<Figure size 1000x700 with 1 Axes>"
      ]
     },
     "metadata": {},
     "output_type": "display_data"
    }
   ],
   "source": [
    "import matplotlib.pyplot as plt\n",
    "bitcoin_prices.plot(figsize=(10,7))\n",
    "plt.ylabel(\"BTC Price\")\n",
    "plt.title(\"Price of Bitcoin from 1 oct 2013 to 18 May 2021\", fontsize=16)\n",
    "plt.legend(fontsize=14)"
   ]
  },
  {
   "cell_type": "markdown",
   "metadata": {},
   "source": [
    "## Importing time series data with Python's CSV module"
   ]
  },
  {
   "cell_type": "code",
   "execution_count": 130,
   "metadata": {},
   "outputs": [
    {
     "data": {
      "text/plain": [
       "([datetime.datetime(2013, 10, 1, 0, 0),\n",
       "  datetime.datetime(2013, 10, 2, 0, 0),\n",
       "  datetime.datetime(2013, 10, 3, 0, 0),\n",
       "  datetime.datetime(2013, 10, 4, 0, 0),\n",
       "  datetime.datetime(2013, 10, 5, 0, 0),\n",
       "  datetime.datetime(2013, 10, 6, 0, 0),\n",
       "  datetime.datetime(2013, 10, 7, 0, 0),\n",
       "  datetime.datetime(2013, 10, 8, 0, 0),\n",
       "  datetime.datetime(2013, 10, 9, 0, 0),\n",
       "  datetime.datetime(2013, 10, 10, 0, 0)],\n",
       " [123.65499,\n",
       "  125.455,\n",
       "  108.58483,\n",
       "  118.67466,\n",
       "  121.33866,\n",
       "  120.65533,\n",
       "  121.795,\n",
       "  123.033,\n",
       "  124.049,\n",
       "  125.96116])"
      ]
     },
     "execution_count": 130,
     "metadata": {},
     "output_type": "execute_result"
    }
   ],
   "source": [
    "# importing and formatting historical Bitcoin data with Python\n",
    "import csv\n",
    "from datetime import datetime\n",
    "\n",
    "timesteps = []\n",
    "btc_price = []\n",
    "with open(\"./data/time_series/BTC_USD_2013-10-01_2021-05-18-CoinDesk.csv\", \"r\") as f:\n",
    "    csv_reader = csv.reader(f, delimiter=\",\")\n",
    "    next(csv_reader) # skip first line (this gets rid of the column titles (header))\n",
    "    for line in csv_reader:\n",
    "        timesteps.append(datetime.strptime(line[1], \"%Y-%m-%d\")) # get the dates as dates (not strings)\n",
    "        btc_price.append(float(line[2])) # get the closing price as float\n",
    "\n",
    "# viex first 10 of each\n",
    "timesteps[:10], btc_price[:10]"
   ]
  },
  {
   "cell_type": "code",
   "execution_count": 131,
   "metadata": {},
   "outputs": [
    {
     "data": {
      "image/png": "[encoded data removed]",
      "text/plain": [
       "<Figure size 1000x700 with 1 Axes>"
      ]
     },
     "metadata": {},
     "output_type": "display_data"
    }
   ],
   "source": [
    "# Plot from CSV\n",
    "import matplotlib.pyplot as plt\n",
    "import numpy as np\n",
    "plt.figure(figsize=(10,7))\n",
    "plt.plot(timesteps, btc_price)\n",
    "plt.ylabel(\"BTC Price\")\n",
    "plt.title(\"Price of Bitcoin from 1 oct 2013 to 18 May 2021\", fontsize=16)\n",
    "plt.xlabel(\"Date\");"
   ]
  },
  {
   "cell_type": "markdown",
   "metadata": {},
   "source": [
    "## Format data part 1: Create train and test sets of our time series data"
   ]
  },
  {
   "cell_type": "markdown",
   "metadata": {},
   "source": [
    "### Creating train and test sets with time series data (the wrong way)"
   ]
  },
  {
   "cell_type": "code",
   "execution_count": 132,
   "metadata": {},
   "outputs": [
    {
     "data": {
      "text/plain": [
       "(array(['2013-10-01T00:00:00.000000000', '2013-10-02T00:00:00.000000000',\n",
       "        '2013-10-03T00:00:00.000000000', '2013-10-04T00:00:00.000000000',\n",
       "        '2013-10-05T00:00:00.000000000', '2013-10-06T00:00:00.000000000',\n",
       "        '2013-10-07T00:00:00.000000000', '2013-10-08T00:00:00.000000000',\n",
       "        '2013-10-09T00:00:00.000000000', '2013-10-10T00:00:00.000000000'],\n",
       "       dtype='datetime64[ns]'),\n",
       " array([123.65499, 125.455  , 108.58483, 118.67466, 121.33866, 120.65533,\n",
       "        121.795  , 123.033  , 124.049  , 125.96116]))"
      ]
     },
     "execution_count": 132,
     "metadata": {},
     "output_type": "execute_result"
    }
   ],
   "source": [
    "# Get bitcoin date array\n",
    "timesteps = bitcoin_prices.index.to_numpy()\n",
    "prices = bitcoin_prices[\"Price\"].to_numpy()\n",
    "\n",
    "timesteps[:10], prices[:10]"
   ]
  },
  {
   "cell_type": "code",
   "execution_count": 133,
   "metadata": {},
   "outputs": [
    {
     "data": {
      "text/plain": [
       "((2229,),\n",
       " (558,),\n",
       " (2229,),\n",
       " array([ 7954.00623772, 56427.04312502,  4186.78374   ,  9906.40796505,\n",
       "        10983.21600203,   618.79      ,  9737.45855879,   519.015     ,\n",
       "        11452.23      ,   602.4075    ,  1004.71375   ,   705.47125   ,\n",
       "          277.853     ,   264.98625   ,  9917.24841434, 11261.80633174,\n",
       "        15632.41125   ,   509.70665   ,   332.471     ,   445.327     ,\n",
       "        10272.9025    , 11833.8973487 ,  3782.66410112, 10381.85595925,\n",
       "         6396.35212354,  6280.31010688, 11742.94125   ,   407.473     ,\n",
       "        10551.13163333,  1245.892     ,  3763.6205158 ,   238.06125   ,\n",
       "        11802.95996359,   270.07587   , 10367.52799811,   609.495     ,\n",
       "        47500.8975242 ,   455.28316   ,   304.9905    ,   620.59875   ,\n",
       "          226.30419   , 10818.50700762, 29111.52156712, 56300.33410863,\n",
       "          349.138     ,   728.36125   ,   644.091     ,   637.01625   ,\n",
       "          511.4725    ,   376.59      ,  1196.896     ,   414.458     ,\n",
       "          443.681     , 11358.70637963,  2232.2875    ,  8150.6325    ,\n",
       "         9251.2925    ,   597.585     ,   223.00366   , 58171.9090187 ,\n",
       "        11048.87927816,   657.22399   ,  8652.68376299,   394.92666   ,\n",
       "          435.926     ,  8166.31389402,   423.51566   ,   706.13375   ,\n",
       "        10352.04625   ,  4174.31997237,   410.08      , 54329.35863463,\n",
       "          198.93233   ,   514.62375   ,   759.43041   , 13573.71050315,\n",
       "        15991.8330244 ,  1091.333     ,  7624.85378592, 13140.66928406,\n",
       "         5260.20504309,   434.31683   ,  9617.37786138,  5151.57452817,\n",
       "        11382.20875   ,  9627.71625   ,  7357.44567732,  1311.58874   ,\n",
       "          411.672     ,  2702.00375   ,   290.485     ,  4414.1775    ,\n",
       "        12316.95301202,   326.365     ,   372.0575    , 43144.47129086,\n",
       "         2634.17375   ,  7924.1825    ,  4329.91722032,  3439.80569888,\n",
       "          196.02499   ,   573.34998   , 10917.15125   ,   219.94549   ,\n",
       "         9028.2975    ,   237.6588    ,  8324.025     ,   617.6875    ,\n",
       "        23537.36989089,  3772.68375   ,   386.954     ,  8163.9026381 ,\n",
       "         5045.67516591,  3949.79434166,   453.494     ,  5283.54375783,\n",
       "         9244.41581454,   581.65      ,  8672.40010729,  4800.34289746,\n",
       "        38461.6814033 ,   911.23204   ,   377.08      ,   237.21116   ,\n",
       "          231.33733   ,   598.9075    ,  8408.35875   ,  6662.86849956,\n",
       "         4300.55125   ,   923.52375   ,   601.227     ,  6904.4757727 ,\n",
       "         3539.62094724,   693.05883   ,  1251.5775    , 49764.1320816 ,\n",
       "         8086.7725    ,   426.279     , 10756.40458492,  9938.95122286,\n",
       "          444.85668   , 10863.06572391,   290.542     ,   671.814     ,\n",
       "          572.44833   , 38435.86351466,  6736.86772124,  7303.40575852,\n",
       "          247.65041   ,   422.741     ,   223.317     ,  7954.7675    ,\n",
       "          360.7525    ,   601.36875   ,  3617.34629116,   402.954     ,\n",
       "         2611.67999   ,   537.185     ,  4381.39625   ,   236.4388    ,\n",
       "        10110.83875   ,  6595.26032626,   265.0825    ,   582.52125   ,\n",
       "          769.09849   ,   489.4675    ,  7700.83412852,   318.337     ,\n",
       "         1018.41125   ,  8656.97092235,   380.817     ,   375.204     ,\n",
       "         6729.92593695,  3274.6375    ,   317.405     ,   263.4741    ,\n",
       "          254.64216   ,   245.145     , 10474.77125   ,   618.3275    ,\n",
       "         8116.96100795,   431.156     ,  6148.42270541,   252.8629    ,\n",
       "         6538.68243234,  2437.55375   ,   752.5525    ,  8794.35864452,\n",
       "          358.443     ,  6601.32415774,  6887.55490783,  9192.045     ,\n",
       "          321.386     , 11422.11446803,   916.77599   ,  8200.24609949,\n",
       "          745.97875   ,   621.3075    ,   241.07183   ,   789.36475   ,\n",
       "          373.744     , 17436.5975    ,   235.50369   ,  6281.40935565,\n",
       "          264.87516   ,  6509.77662125,   888.0625    ,  8347.56750541,\n",
       "          920.365     ,  1416.61      ,   655.427     ,  6405.13975468,\n",
       "        50032.69313676,  7624.18797056,   854.7225    ,  8843.67573222,\n",
       "         3865.31816498,  3194.96227244, 40302.79979284,  5200.19323932,\n",
       "         6412.53049073,  4065.79995285,   224.9815    , 15732.1       ,\n",
       "          416.851     ,   656.747     ,  6092.53310366, 10495.22736421,\n",
       "         8273.46401766,   578.84899   ,  3804.41917011,  5497.41127873,\n",
       "         7383.2175    ,  4858.60499   ,   407.017     ,  8208.75375   ,\n",
       "          490.18666   ,  9723.68015045,  2520.78375   ,  8039.6025    ,\n",
       "        19443.47635283,   381.20666   ,  2697.0775    ,   440.231     ,\n",
       "          283.84125   ,   320.036     ,   193.3511    ,   409.10375   ,\n",
       "          237.1035    ,  9812.22635058,   455.91625   ,  4543.1025    ,\n",
       "        10381.77610693,  5686.52625   , 16374.8975    ,  1028.845     ,\n",
       "         2556.1675    ,  3915.37531978,   629.61249   ,   346.775     ,\n",
       "          630.61875   , 23623.88553323, 11100.2925    ,   467.831     ,\n",
       "         6187.05375022,   235.6033    ,  9176.6863901 ,  7658.57      ,\n",
       "          197.4       ,  6338.73895675,  6283.18419982,  7250.77      ,\n",
       "          368.3618    ,   454.375     ,  7282.85851383,   456.46948   ,\n",
       "          601.015     ,   579.343     ,   357.48      ,   758.01016   ,\n",
       "        29333.60512062,   258.0065    ,   387.94      ,  9530.79088535,\n",
       "          395.59299   , 10903.01875   ,  1028.33375   ,  6883.49639377,\n",
       "         7311.56064392,   573.1025    ,   322.606     , 15540.59659081,\n",
       "         5552.52191055,  1062.07      ,  3263.54791299,  9048.71511916,\n",
       "          665.7975    ,   283.7507    ,   429.318     , 33002.53642704,\n",
       "          382.738     ,  9817.5975    ,   376.16      , 15820.49524108,\n",
       "          418.593     ,   341.041     ,   449.04333   , 10589.62639353,\n",
       "         1058.315     ,   442.10666   ,   562.95333   ,   326.55691   ,\n",
       "         5198.17317029,   278.2765    ,   920.58875   ,  2910.33625   ,\n",
       "          889.33875   ,  4008.37087185,   560.195     ,  2315.73625   ,\n",
       "          292.8678    ,   597.66833   ,  8784.99535244,  1211.73799   ,\n",
       "          278.68258   ,  7361.27186424,  9457.62707441,  9373.3025    ,\n",
       "        55343.92581533,  9617.51819493,   570.28833   ,  3581.55194724,\n",
       "          373.155     ,  5524.80109342,  9659.2875    ,   632.55      ,\n",
       "         2524.12624   , 14182.46499   ,  1747.04375   ,   617.24333   ,\n",
       "          376.99666   ,  5448.60063357,   267.53983   ,   623.99625   ,\n",
       "         4818.77063535,   982.8275    ,  3433.03528522,   645.615     ,\n",
       "          433.401     ,  6584.02884335,  1011.215     , 11305.1225    ,\n",
       "         5800.20890483,  1020.09      , 17221.65125   ,   224.53608   ,\n",
       "          377.889     ,  2714.70375   ,  4875.5994314 ,  6344.73894294,\n",
       "         6731.71014664,  2195.785     ,   432.60498   ,  9078.57877713,\n",
       "        61965.7825981 , 12444.92585999,   348.9025    ,  7495.1       ,\n",
       "        32154.16736327,   317.204     ,   223.4062    ,  9220.07588747,\n",
       "         5292.1483297 ,   270.7625    ,   230.6754    ,  5102.15075264,\n",
       "          506.025     , 38709.76537488, 10168.28770938,  8285.50124   ,\n",
       "          457.168     ,   654.895     ,  4036.7575    ,  1052.84375   ,\n",
       "          640.476     ,   490.8785    , 12335.99939465,   226.6168    ,\n",
       "          614.68875   ,   627.79833   ,  9225.99547934,   430.453     ,\n",
       "          229.02966   ,   654.018     ,  1242.806     ,   347.348     ,\n",
       "        10603.34887317,   233.141     , 11033.38352648,  7949.42579863,\n",
       "          655.418     , 11171.8175    ,   441.304     ,  6482.83059363,\n",
       "         8963.0575578 ,  1029.40875   ,   848.58125   ,   873.27168   ,\n",
       "         3549.7707991 , 10396.76720474,  3591.02215188,   284.286     ,\n",
       "         1079.5825    , 10364.92628823,   634.605     ,  5276.55831816,\n",
       "          445.045     ,   455.65333   ,  1004.85375   ,  9133.77783034,\n",
       "          881.87583   ,   574.71599   , 47884.1828623 ,  1260.668     ,\n",
       "         3968.43870099,   293.224     ,   700.135     ,   248.4467    ,\n",
       "         9228.8525    ,   673.008     ,  3933.60758963,   458.864     ,\n",
       "         8200.3187634 ,   446.236     ,  6725.03232699,  9464.22809682,\n",
       "         9516.13544309,  9229.85975494,  8904.71381654,   261.75225   ,\n",
       "          454.55666   ,  3689.56462034,  7562.03283175,  3007.0125    ,\n",
       "          372.819     ,   952.455     ,   586.05875   , 11279.60273563,\n",
       "          225.73291   , 47005.1906489 ,  8474.04822912,   678.567     ,\n",
       "         7239.76257544,   428.42593   ,  4110.94125   ,   786.9725    ,\n",
       "         2740.56875   , 13282.26034792, 16253.31027194, 33368.36593189,\n",
       "          240.70116   ,  2547.3225    ,   274.8977    ,  9680.9471279 ,\n",
       "         1206.74      ,  8103.21089959, 16576.69625   ,  1139.848     ,\n",
       "         3254.71      ,  7996.82125   ,  4405.74403136,  9659.66129819,\n",
       "         7041.73293642, 10211.4985817 ,  7385.46484791,   773.25      ,\n",
       "        11817.45548252,   405.621     , 48172.87747693,   427.8125    ,\n",
       "         3985.85123648,   597.51333   , 18640.2625    ,   892.26115   ,\n",
       "          235.948     ,   592.25666   ,   871.11583   ,   652.11      ,\n",
       "         3474.7625    ,  9131.41063031,  9047.5125    ,  7147.56832379,\n",
       "        19060.27690128,  2718.6175    , 45604.61575361, 10207.60500296,\n",
       "        11657.00393423, 36751.58497369,  7337.63667014,  5030.93327059,\n",
       "          309.903     ,   272.0175    ,  8719.331485  ,   375.83333   ,\n",
       "        10341.01598385,  7491.61125   , 34622.37323153,   376.26875   ,\n",
       "          453.067     ,  9362.63555697,  7141.06944869,   577.98749   ,\n",
       "         6282.61072659,   237.2277    ,   920.82875   ,   440.551     ,\n",
       "          246.728     ,   278.33337   ,   311.70274   ,  8146.414032  ,\n",
       "         9495.85526141,  9585.285     , 12399.11188466,  7251.27679432,\n",
       "         3404.4993134 ,   910.9325    , 45237.47568925,   435.091     ,\n",
       "         8608.12524504,  3753.435     ,   608.125     ,   348.898     ,\n",
       "         7270.5075    ,   579.59333   ,  7199.2375    ,   834.86666   ,\n",
       "         6689.8226826 ,   631.755     ,  6293.83642084,   644.085     ,\n",
       "         6341.09481265, 23008.77625674,  6365.65523152, 10436.36540836,\n",
       "          229.2025    , 10691.31129913,   573.01625   ,   606.8975    ,\n",
       "          682.226     ,   604.465     ,  1077.557     ,  9226.48582088,\n",
       "          270.813     ,  4160.535     ,   651.285     ,  8030.57      ,\n",
       "         3920.99125   ,   581.51      ]))"
      ]
     },
     "execution_count": 133,
     "metadata": {},
     "output_type": "execute_result"
    }
   ],
   "source": [
    "# Wrong way to make train/test sets for time series data\n",
    "from sklearn.model_selection import train_test_split\n",
    "\n",
    "X_train, X_test, y_train, y_test = train_test_split(timesteps, #dates\n",
    "                                                    prices, # BTC prices,\n",
    "                                                    test_size=0.2,\n",
    "                                                    random_state=42)\n",
    "\n",
    "X_train.shape, X_test.shape, y_train.shape, y_test"
   ]
  },
  {
   "cell_type": "code",
   "execution_count": 134,
   "metadata": {},
   "outputs": [
    {
     "data": {
      "image/png": "[encoded data removed]",
      "text/plain": [
       "<Figure size 1000x700 with 1 Axes>"
      ]
     },
     "metadata": {},
     "output_type": "display_data"
    }
   ],
   "source": [
    "# Let's plot wrong train and test splits\n",
    "plt.figure(figsize=(10, 7))\n",
    "plt.scatter(X_train, y_train, s=5, label=\"Train data\")\n",
    "plt.scatter(X_test, y_test, s=5, label=\"Test data\")\n",
    "plt.xlabel(\"Date\")\n",
    "plt.ylabel(\"BTC Price\")\n",
    "plt.legend(fontsize=14)\n",
    "plt.show();"
   ]
  },
  {
   "cell_type": "markdown",
   "metadata": {},
   "source": [
    "<img src=\"course_images/10_time_series/time_series_train_and_sets.png\" height=\"500\">"
   ]
  },
  {
   "cell_type": "markdown",
   "metadata": {},
   "source": [
    "### Create train and test sets for time series (the right way)"
   ]
  },
  {
   "cell_type": "code",
   "execution_count": 135,
   "metadata": {},
   "outputs": [
    {
     "data": {
      "text/plain": [
       "(2229, 558, 2229, 558)"
      ]
     },
     "execution_count": 135,
     "metadata": {},
     "output_type": "execute_result"
    }
   ],
   "source": [
    "# create train and test splits the right way for time series data\n",
    "split_size = int(0.8 * len(prices)) # 80% train, 20% test - you can change these values as needed (eg. 90/10, 95/5)\n",
    "\n",
    "# Create train data splits (everything before the split)\n",
    "X_train, y_train = timesteps[:split_size], prices[:split_size]\n",
    "\n",
    "# Create test data splits (everything beyond the split)\n",
    "X_test, y_test = timesteps[split_size:], prices[split_size:]\n",
    "\n",
    "len(X_train), len(X_test), len(y_train), len(y_test)"
   ]
  },
  {
   "cell_type": "code",
   "execution_count": 136,
   "metadata": {},
   "outputs": [
    {
     "data": {
      "image/png": "[encoded data removed]",
      "text/plain": [
       "<Figure size 1000x700 with 1 Axes>"
      ]
     },
     "metadata": {},
     "output_type": "display_data"
    }
   ],
   "source": [
    "# Plot correctly made splits\n",
    "plt.figure(figsize=(10, 7))\n",
    "plt.scatter(X_train, y_train, s=5, label=\"Train data\")\n",
    "plt.scatter(X_test, y_test, s=5, label=\"Test data\")\n",
    "plt.xlabel(\"Date\")\n",
    "plt.ylabel(\"BTC Price\")\n",
    "plt.legend(fontsize=14)\n",
    "plt.show();"
   ]
  },
  {
   "cell_type": "markdown",
   "metadata": {},
   "source": [
    "## Create a plotting function\n",
    "\n",
    "Typing plotting code is tedious, let's functionize it"
   ]
  },
  {
   "cell_type": "code",
   "execution_count": 137,
   "metadata": {},
   "outputs": [],
   "source": [
    "# Create a function to plot time series data\n",
    "def plot_time_series(timesteps, values, format=\".\", start=0, end=None, label=None):\n",
    "    \"\"\"\n",
    "    Plots timesteps (a series of points in time) against values ( a series of values across timesteps)\n",
    "\n",
    "    Parameters\n",
    "    ----------\n",
    "    timesteps : array of timestep values\n",
    "    values : array of values accross time\n",
    "    format : style of plot, default \".\"\n",
    "    start : where to start the plot (setting a value will index from start of timesteps & values)\n",
    "    end: where to end the plot\n",
    "    label : label to show on plot about values, default None\n",
    "    \"\"\"\n",
    "    # Plot series\n",
    "    plt.plot(timesteps[start:end], values[start:end], format, label=label)\n",
    "    plt.xlabel(\"Time\")\n",
    "    plt.ylabel(\"BTC Price\")\n",
    "    if label:\n",
    "        plt.legend(fontsize=14)\n",
    "    plt.grid(True)"
   ]
  },
  {
   "cell_type": "code",
   "execution_count": 138,
   "metadata": {},
   "outputs": [
    {
     "data": {
      "image/png": "[encoded data removed]",
      "text/plain": [
       "<Figure size 1000x700 with 1 Axes>"
      ]
     },
     "metadata": {},
     "output_type": "display_data"
    }
   ],
   "source": [
    "# Test out plotting function\n",
    "plt.figure(figsize=(10,7)) # we create 1 figure, then we add 2 plot\n",
    "plot_time_series(timesteps=X_train, values=y_train, label=\"Train data\")\n",
    "plot_time_series(timesteps=X_test, values=y_test, label=\"Test data\")"
   ]
  },
  {
   "cell_type": "markdown",
   "metadata": {},
   "source": [
    "## Modelling experiments\n",
    "\n",
    "We've got some Bitcoin historical data, to model it, let's run a series of modelling experiments and see which performs the best.\n",
    "\n",
    "* **Horizon** = number of timesteps into the future we're going to predict\n",
    "* **Window size** = number of timesteps we're going to use to predict **horizon**\n",
    "\n",
    "Modelling experiments we're running:\n",
    "* 0 \tNaïve model (baseline)\n",
    "* 1 \tDense model, window = 1, horizon = 7\n",
    "* 2 \tSame as 1, window = 30, horizon= 1\n",
    "* 3 \tSame as 1, window = 30, horizon= 7\n",
    "* 4 \tConv1D\n",
    "* 5 \tLSTM\n",
    "* 6 \tSame as 1 (but with multivariate data)\n",
    "* 7 \tN-BEATs Algorithm\n",
    "* 8 \tEnsemble (multiple models optimized on different loss functions)\n",
    "* 9 \tFuture prediction model (model to predict future values)\n",
    "* 10 \tSame as 1 (but with turkey 🦃 data introduced)"
   ]
  },
  {
   "cell_type": "markdown",
   "metadata": {},
   "source": [
    "## Model 0: Naive forecast (baseline)\n",
    "\n",
    "The formula looks like this:\n",
    "\n",
    "$$\\hat{y}_{t} = y_{t-1}$$\n",
    "\n",
    "In English:\n",
    "\n",
    "> The prediction at timestep t (y-hat) is equal to the value at timestep t-1 (previous timestep) - this is for a horizon of 1."
   ]
  },
  {
   "cell_type": "code",
   "execution_count": 139,
   "metadata": {},
   "outputs": [
    {
     "data": {
      "text/plain": [
       "(array([9226.48582088, 8794.35864452, 8798.04205463, 9081.18687849,\n",
       "        8711.53433917, 8760.89271814, 8749.52059102, 8656.97092235,\n",
       "        8500.64355816, 8469.2608989 ]),\n",
       " array([57107.12067189, 58788.20967893, 58102.19142623, 55715.54665129,\n",
       "        56573.5554719 , 52147.82118698, 49764.1320816 , 50032.69313676,\n",
       "        47885.62525472, 45604.61575361]))"
      ]
     },
     "execution_count": 139,
     "metadata": {},
     "output_type": "execute_result"
    }
   ],
   "source": [
    "# Create a native forecast\n",
    "naive_forecast = y_test[:-1]\n",
    "\n",
    "naive_forecast[:10], naive_forecast[-10:]"
   ]
  },
  {
   "cell_type": "code",
   "execution_count": 140,
   "metadata": {},
   "outputs": [
    {
     "data": {
      "image/png": "[encoded data removed]",
      "text/plain": [
       "<Figure size 1000x700 with 1 Axes>"
      ]
     },
     "metadata": {},
     "output_type": "display_data"
    }
   ],
   "source": [
    "plt.figure(figsize=(10,7)) # we create 1 figure, then we add 2 plot\n",
    "#plot_time_series(timesteps=X_train, values=y_train, label=\"Train data\")\n",
    "plot_time_series(timesteps=X_test, values=y_test, start=350, format=\"-\", label=\"Test data\")\n",
    "plot_time_series(timesteps=X_test[1:], values=naive_forecast, start=350, format=\"-\", label=\"Naive forecast\")"
   ]
  },
  {
   "cell_type": "markdown",
   "metadata": {},
   "source": [
    "## Evaluating a time series model\n",
    "\n",
    "Let's look into some evaluation metrics for time series forecasting.\n",
    "\n",
    "What are we doing?\n",
    "\n",
    "We're predicating a number, so that means we have a fomr of a regression problem.\n",
    "\n",
    "Because we're working on a regression problem, we'll need some regression-like metrics.\n",
    "\n",
    "A few common regression metrics (which can also be used for time series forecasting):\n",
    "* **MAE** - mean absolute error\n",
    "* **MSE** - mean squarred error\n",
    "* **RMSE** - root mean square error\n",
    "* **MAPE/sMAPE** - (symmetric) mean absolute percentage error\n",
    "* **MASE** - mean absolute scaled error\n",
    "\n",
    "For all of the above metrics, **lower is better**\n",
    "\n",
    "📖 https://otexts.com/fpp3/accuracy.html\n",
    "\n",
    "<img src=\"course_images/10_time_series/commons_time_series_evaluation_metrics.png\" height=\"500\">\n",
    "\n",
    "The main thing we're evaluating here is: **how do our model's forecasts (y_pred) compare against the actual values (y_true or ground truth values)?**"
   ]
  },
  {
   "cell_type": "code",
   "execution_count": 141,
   "metadata": {},
   "outputs": [],
   "source": [
    "import tensorflow as tf"
   ]
  },
  {
   "cell_type": "code",
   "execution_count": 142,
   "metadata": {},
   "outputs": [],
   "source": [
    "# MASE implementation\n",
    "def mean_absolute_scaled_error(y_true, y_pred):\n",
    "    \"\"\"\n",
    "    Implement MASE (assuming no seasonality of data).\n",
    "    \"\"\"\n",
    "    mae = tf.reduce_mean(tf.abs(y_true-y_pred))\n",
    "\n",
    "    # Find MAE of naive forecast (no seasonality)\n",
    "    mae_naive_no_season = tf.reduce_mean(tf.abs(y_true[1:] - y_true[:-1])) # our seasonality is 1 day (hence the shift of 1)\n",
    "\n",
    "    return mae / mae_naive_no_season"
   ]
  },
  {
   "cell_type": "code",
   "execution_count": 143,
   "metadata": {},
   "outputs": [
    {
     "data": {
      "text/plain": [
       "0.9995699939182626"
      ]
     },
     "execution_count": 143,
     "metadata": {},
     "output_type": "execute_result"
    }
   ],
   "source": [
    "mean_absolute_scaled_error(y_true=y_test[1:], y_pred=naive_forecast).numpy()"
   ]
  },
  {
   "cell_type": "code",
   "execution_count": 144,
   "metadata": {},
   "outputs": [],
   "source": [
    "# Create a function to take in model predictions and truth values and return evaluation metrics\n",
    "def evaluate_preds(y_true, y_pred):\n",
    "    # Make sure float32 datatype (for metric calculations)\n",
    "    y_true = tf.cast(y_true, dtype=tf.float32)\n",
    "    y_pred = tf.cast(y_pred, dtype=tf.float32)\n",
    "\n",
    "    # Calculate various evaluation metrics\n",
    "    mae = tf.keras.metrics.mean_absolute_error(y_true, y_pred)\n",
    "    mse = tf.keras.metrics.mean_squared_error(y_true, y_pred)\n",
    "    rmse = tf.sqrt(mse)\n",
    "    mape = tf.keras.metrics.mean_absolute_percentage_error(y_true, y_pred)\n",
    "    mase = mean_absolute_scaled_error(y_true, y_pred)\n",
    "\n",
    "    return {\n",
    "        \"mae\": mae.numpy(),\n",
    "        \"mse\": mse.numpy(),\n",
    "        \"rmse\": rmse.numpy(),\n",
    "        \"mape\": mape.numpy(),\n",
    "        \"mase\": mase.numpy()\n",
    "    }\n"
   ]
  },
  {
   "cell_type": "code",
   "execution_count": 145,
   "metadata": {},
   "outputs": [
    {
     "data": {
      "text/plain": [
       "{'mae': 567.9802,\n",
       " 'mse': 1147547.0,\n",
       " 'rmse': 1071.2362,\n",
       " 'mape': 2.5165248,\n",
       " 'mase': 0.99957}"
      ]
     },
     "execution_count": 145,
     "metadata": {},
     "output_type": "execute_result"
    }
   ],
   "source": [
    "naive_results = evaluate_preds(y_true=y_test[1:],\n",
    "                              y_pred=naive_forecast)\n",
    "naive_results"
   ]
  },
  {
   "cell_type": "markdown",
   "metadata": {},
   "source": [
    "## Other models you can use for baselines and for actual forecasts\n",
    "\n",
    "In this notebook, we're focused on TensorFlow and deep learning models.\n",
    "\n",
    "However there are plenty of other styles of time series forecating models you may want to experiment with:\n",
    "\n",
    "https://dev.mrdbourke.com/tensorflow-deep-learning/10_time_series_forecasting_in_tensorflow/#other-kinds-of-time-series-forecasting-models-which-can-be-used-for-baselines-and-actual-forecasts\n"
   ]
  },
  {
   "cell_type": "markdown",
   "metadata": {},
   "source": [
    "## Format Data Part 2: Windowing our dataset\n",
    "\n",
    "Why do we window?\n",
    "\n",
    "We window our time series dataset to turn our data into a supervised learning problem.\n",
    "\n",
    "```\n",
    "Windowing for one week\n",
    "[0, 1, 2, 3, 4, 5, 6] -> [7]\n",
    "[1, 2, 3, 4, 5, 6, 7] -> [8]\n",
    "[2, 3, 4, 5, 6, 7, 8] -> [9]\n",
    "```"
   ]
  },
  {
   "cell_type": "code",
   "execution_count": 146,
   "metadata": {},
   "outputs": [
    {
     "data": {
      "text/plain": [
       "2229"
      ]
     },
     "execution_count": 146,
     "metadata": {},
     "output_type": "execute_result"
    }
   ],
   "source": [
    "len(y_train)"
   ]
  },
  {
   "cell_type": "code",
   "execution_count": 147,
   "metadata": {},
   "outputs": [
    {
     "name": "stdout",
     "output_type": "stream",
     "text": [
      "We want to use: [123.65499, 125.455, 108.58483, 118.67466, 121.33866, 120.65533, 121.795] to predict this: 123.033\n"
     ]
    }
   ],
   "source": [
    "# What we want to do with our Bitcoin data\n",
    "print(f\"We want to use: {btc_price[:7]} to predict this: {btc_price[7]}\") "
   ]
  },
  {
   "cell_type": "code",
   "execution_count": 148,
   "metadata": {},
   "outputs": [],
   "source": [
    "# Let's setup global variables for window and horizon size\n",
    "HORIZON = 1 # predict next 1 day\n",
    "WINDOW_SIZE = 7 # use the past week of Bitcoin data to make the prediction"
   ]
  },
  {
   "cell_type": "code",
   "execution_count": 149,
   "metadata": {},
   "outputs": [],
   "source": [
    "# Create function de label windowed data\n",
    "def get_labelled_windows(x, horizon=HORIZON):\n",
    "    \"\"\"\n",
    "    creates label for windowed dataset.\n",
    "\n",
    "    E.g if Horizon=1\n",
    "    Input: [0, 1, 2, 3, 4, 5, 6, 7] -> Output: ([0, 1, 2, 3, 4, 5, 6], [7])\n",
    "    \"\"\"\n",
    "    return x[:, :-horizon], x[:, -horizon:]"
   ]
  },
  {
   "cell_type": "code",
   "execution_count": 150,
   "metadata": {},
   "outputs": [
    {
     "name": "stdout",
     "output_type": "stream",
     "text": [
      "Window: [0 1 2 3 4 5 6] -> Label: 7\n"
     ]
    }
   ],
   "source": [
    "# Test out the window labelling function\n",
    "test_window, test_label = get_labelled_windows(tf.expand_dims(tf.range(8), axis=0))\n",
    "print(f\"Window: {tf.squeeze(test_window).numpy()} -> Label: {tf.squeeze(test_label).numpy()}\")"
   ]
  },
  {
   "cell_type": "markdown",
   "metadata": {},
   "source": [
    "<img src=\"course_images/10_time_series/10-time-series-windows-and-horizons.png\" height=\"500\">\n",
    "\n",
    "<img src=\"http://eng.uber.com/wp-content/uploads/2018/09/image6-e1536165830511.png?uclick_id=4cf2e7cd-e97f-42c9-bf37-d6e6cea5531a\" height=\"500\">\n"
   ]
  },
  {
   "cell_type": "markdown",
   "metadata": {},
   "source": [
    "We've got a way to label our windowed data.\n",
    "\n",
    "However, this only work on a small scale.\n",
    "\n",
    "We need a way to do the above accros our entire time series.\n",
    "\n",
    "We could do this with Python for loops, however , for large time series, that'd be quite slow.\n",
    "\n",
    "To speed things up, we'll leverage Numpy's array indexing. - https://numpy.org/doc/stable/user/arrays.indexing.html\n",
    "\n",
    "Our function will:\n",
    "1. Create a window step of specific window size (e.g. [0, 1, 2, 3, 4, 5, 6])\n",
    "2. Use NumPy indexing to create a 2D array of multiple window steps, for example:\n",
    "\n",
    "```\n",
    "[[0, 1, 2, 3, 4, 5, 6]\n",
    "[1, 2, 3, 4, 5, 6, 7]\n",
    "[2, 3, 4, 5, 6, 7, 8]]\n",
    "```\n",
    "3. Uses the 2D array of multiple window steps (from 2.) to index on a target series (e.g. the historical price of Bitcoin)\n",
    "4. Uses our `get_labelled_windows()` function we created above to turn the window steps into windows with a specified horizon.\n",
    "\n",
    "> 📖 **Resource**: The function we're about to create has been adapted from the following article: https://towardsdatascience.com/fast-and-robust-sliding-window-vectorization-with-numpy-3ad950ed62f5"
   ]
  },
  {
   "cell_type": "code",
   "execution_count": 151,
   "metadata": {},
   "outputs": [],
   "source": [
    "import numpy as np\n",
    "\n",
    "# Create function to view NumPy arrays as windows\n",
    "def make_windows(x, window_size=WINDOW_SIZE, horizon=HORIZON):\n",
    "    \"\"\"\n",
    "    Turns a 1D aray into a 2D array of sequential labelled windows of window_size with horizon size labels.\n",
    "    \"\"\"\n",
    "    # 1. Create a window of a specific windows_size (add the horizon on the end for labelling later)\n",
    "    window_step = np.expand_dims(np.arange(window_size+horizon), axis=0)\n",
    "\n",
    "    # 2. Create a 2D array of multiple window steps ( minus 1 to account for 0 indexing)\n",
    "    window_indexes = window_step + np.expand_dims(np.arange(len(x)-(window_size+horizon-1)), axis=0).T # Create a 2D array of windows of size window_size\n",
    "    #print(f\"window indexes:\\n {window_indexes, window_indexes.shape}\")\n",
    "\n",
    "    # 3. Index on the target array (a time series) with 2D array of multiple window steps\n",
    "    windowed_array = x[window_indexes]\n",
    "    #print(windowed_array)\n",
    "\n",
    "    # 4. Get the labelles windows\n",
    "    windows, labels = get_labelled_windows(windowed_array, horizon=HORIZON)\n",
    "    return windows, labels\n"
   ]
  },
  {
   "cell_type": "code",
   "execution_count": 152,
   "metadata": {},
   "outputs": [
    {
     "data": {
      "text/plain": [
       "(2780, 2780)"
      ]
     },
     "execution_count": 152,
     "metadata": {},
     "output_type": "execute_result"
    }
   ],
   "source": [
    "full_windows, full_labels = make_windows(prices, window_size=WINDOW_SIZE, horizon=HORIZON)\n",
    "len(full_windows), len(full_labels)"
   ]
  },
  {
   "cell_type": "code",
   "execution_count": 153,
   "metadata": {},
   "outputs": [
    {
     "name": "stdout",
     "output_type": "stream",
     "text": [
      "Window: [123.65499 125.455   108.58483 118.67466 121.33866 120.65533 121.795  ] -> Label: [123.033]\n",
      "Window: [125.455   108.58483 118.67466 121.33866 120.65533 121.795   123.033  ] -> Label: [124.049]\n",
      "Window: [108.58483 118.67466 121.33866 120.65533 121.795   123.033   124.049  ] -> Label: [125.96116]\n"
     ]
    }
   ],
   "source": [
    "# View the first 3 windows/labels\n",
    "for i in range(3):\n",
    "    print(f\"Window: {full_windows[i]} -> Label: {full_labels[i]}\")"
   ]
  },
  {
   "cell_type": "code",
   "execution_count": 154,
   "metadata": {},
   "outputs": [
    {
     "name": "stdout",
     "output_type": "stream",
     "text": [
      "Window: [58788.20967893 58102.19142623 55715.54665129 56573.5554719\n",
      " 52147.82118698 49764.1320816  50032.69313676] -> Label: [47885.62525472]\n",
      "Window: [58102.19142623 55715.54665129 56573.5554719  52147.82118698\n",
      " 49764.1320816  50032.69313676 47885.62525472] -> Label: [45604.61575361]\n",
      "Window: [55715.54665129 56573.5554719  52147.82118698 49764.1320816\n",
      " 50032.69313676 47885.62525472 45604.61575361] -> Label: [43144.47129086]\n"
     ]
    }
   ],
   "source": [
    "# View the last 3 windows/labels\n",
    "for i in range(3):\n",
    "    print(f\"Window: {full_windows[i-3]} -> Label: {full_labels[i-3]}\")"
   ]
  },
  {
   "cell_type": "markdown",
   "metadata": {},
   "source": [
    "🔑 **Note**: There is a function which does similar to the above in tf.keras.preprocessing, an extension could be try and replicate what w've done using the premade function.\n",
    "\n",
    "https://www.tensorflow.org/api_docs/python/tf/keras/utils/timeseries_dataset_from_array"
   ]
  },
  {
   "cell_type": "markdown",
   "metadata": {},
   "source": [
    "## Turning windows into training and test sets"
   ]
  },
  {
   "cell_type": "code",
   "execution_count": 155,
   "metadata": {},
   "outputs": [],
   "source": [
    "# Make the train/test splits\n",
    "def make_train_test_splits(windows, labels, test_split=0.2):\n",
    "    \"\"\"\n",
    "    Splits matching pairs of windows and labels into train and test splits.\n",
    "    \"\"\"\n",
    "    split_size = int(len(windows) * (1-test_split)) # this will default to 80% train/20% test\n",
    "    train_windows = windows[:split_size]\n",
    "    train_labels = labels[:split_size]\n",
    "    test_windows = windows[split_size:]\n",
    "    test_labels = labels[split_size:]\n",
    "    return train_windows, test_windows, train_labels, test_labels"
   ]
  },
  {
   "cell_type": "code",
   "execution_count": 156,
   "metadata": {},
   "outputs": [
    {
     "data": {
      "text/plain": [
       "(2224, 556, 2224, 556)"
      ]
     },
     "execution_count": 156,
     "metadata": {},
     "output_type": "execute_result"
    }
   ],
   "source": [
    "# Create train and test windows\n",
    "train_windows, test_windows, train_labels, test_labels = make_train_test_splits(full_windows, full_labels)\n",
    "len(train_windows), len(test_windows), len(train_labels), len(test_labels)"
   ]
  },
  {
   "cell_type": "code",
   "execution_count": 157,
   "metadata": {},
   "outputs": [
    {
     "data": {
      "text/plain": [
       "(array([[123.65499, 125.455  , 108.58483, 118.67466, 121.33866, 120.65533,\n",
       "         121.795  ],\n",
       "        [125.455  , 108.58483, 118.67466, 121.33866, 120.65533, 121.795  ,\n",
       "         123.033  ],\n",
       "        [108.58483, 118.67466, 121.33866, 120.65533, 121.795  , 123.033  ,\n",
       "         124.049  ],\n",
       "        [118.67466, 121.33866, 120.65533, 121.795  , 123.033  , 124.049  ,\n",
       "         125.96116],\n",
       "        [121.33866, 120.65533, 121.795  , 123.033  , 124.049  , 125.96116,\n",
       "         125.27966]]),\n",
       " array([[123.033  ],\n",
       "        [124.049  ],\n",
       "        [125.96116],\n",
       "        [125.27966],\n",
       "        [125.9275 ]]))"
      ]
     },
     "execution_count": 157,
     "metadata": {},
     "output_type": "execute_result"
    }
   ],
   "source": [
    "train_windows[:5], train_labels[:5]"
   ]
  },
  {
   "cell_type": "code",
   "execution_count": 158,
   "metadata": {},
   "outputs": [
    {
     "data": {
      "text/plain": [
       "True"
      ]
     },
     "execution_count": 158,
     "metadata": {},
     "output_type": "execute_result"
    }
   ],
   "source": [
    "# Check to see if same (accounting for horizon and window size)\n",
    "np.array_equal(np.squeeze(train_labels[:-HORIZON-1]), y_train[WINDOW_SIZE:])"
   ]
  },
  {
   "cell_type": "markdown",
   "metadata": {},
   "source": [
    "## Make a modelling checkpoint callback\n",
    "\n",
    "Because our model's performance will fluctuate from experiment to experiment, we're going to write a model checkpoint so we can compare apples to apples.\n",
    "\n",
    "More specifically, we want to compare each of our model's best performances against the other model's best performances.\n",
    "\n",
    "For exmaple if our model performs the best on epoech 55 (but we're train for 100 epochs), we want to lad and evaluate the model saved on epoch 55.\n",
    "\n",
    "https://www.tensorflow.org/api_docs/python/tf/keras/callbacks/ModelCheckpoint"
   ]
  },
  {
   "cell_type": "code",
   "execution_count": 159,
   "metadata": {},
   "outputs": [],
   "source": [
    "import os\n",
    "\n",
    "# Create a function to implement a ModelCheckpoint callback with a specific filename\n",
    "def create_model_checkpoint(model_name, save_path=\"model_experiments\"):\n",
    "    return tf.keras.callbacks.ModelCheckpoint(\n",
    "        filepath=os.path.join(save_path, model_name),\n",
    "        monitor=\"val_loss\",\n",
    "        verbose=0, # only output a limited amount of text\n",
    "        save_best_only=True\n",
    "    )"
   ]
  },
  {
   "cell_type": "markdown",
   "metadata": {},
   "source": [
    "## Model 1: Dense model (window = 7, horizon = 1)\n",
    "\n",
    "Our first deep model is going to be a simple dense model:\n",
    "* A single dense layer with 128 hidden units and ReLU\n",
    "* An output layer with linear activation (no activation)\n",
    "* Adam optimizer and MAE loss function\n",
    "* Batch size of 128 (previously we've used 32)\n",
    "* 100 epochs\n",
    "\n",
    "Why these values ?\n",
    "\n",
    "Experimentation.\n",
    "\n",
    "* **Hyperparameters** = values a machine learning practitioner can adjust themselves\n",
    "* **Parameters** = values a model learns on its own"
   ]
  },
  {
   "cell_type": "code",
   "execution_count": 160,
   "metadata": {},
   "outputs": [
    {
     "name": "stdout",
     "output_type": "stream",
     "text": [
      "Epoch 1/100\n",
      " 1/18 [>.............................] - ETA: 6s - loss: 3030.7383 - mae: 3030.7383 - mse: 18918594.0000INFO:tensorflow:Assets written to: model_experiments\\model_1_dense\\assets\n"
     ]
    },
    {
     "name": "stderr",
     "output_type": "stream",
     "text": [
      "INFO:tensorflow:Assets written to: model_experiments\\model_1_dense\\assets\n"
     ]
    },
    {
     "name": "stdout",
     "output_type": "stream",
     "text": [
      "18/18 [==============================] - 1s 28ms/step - loss: 1151.3424 - mae: 1151.3424 - mse: 4984947.5000 - val_loss: 2795.5469 - val_mae: 2795.5469 - val_mse: 17662500.0000\n",
      "Epoch 2/100\n",
      " 1/18 [>.............................] - ETA: 0s - loss: 413.7601 - mae: 413.7601 - mse: 780917.4375INFO:tensorflow:Assets written to: model_experiments\\model_1_dense\\assets\n"
     ]
    },
    {
     "name": "stderr",
     "output_type": "stream",
     "text": [
      "INFO:tensorflow:Assets written to: model_experiments\\model_1_dense\\assets\n"
     ]
    },
    {
     "name": "stdout",
     "output_type": "stream",
     "text": [
      "18/18 [==============================] - 0s 22ms/step - loss: 289.6306 - mae: 289.6306 - mse: 361953.6250 - val_loss: 999.3126 - val_mae: 999.3126 - val_mse: 3348589.7500\n",
      "Epoch 3/100\n",
      " 1/18 [>.............................] - ETA: 0s - loss: 134.1765 - mae: 134.1765 - mse: 69738.1719INFO:tensorflow:Assets written to: model_experiments\\model_1_dense\\assets\n"
     ]
    },
    {
     "name": "stderr",
     "output_type": "stream",
     "text": [
      "INFO:tensorflow:Assets written to: model_experiments\\model_1_dense\\assets\n"
     ]
    },
    {
     "name": "stdout",
     "output_type": "stream",
     "text": [
      "18/18 [==============================] - 0s 23ms/step - loss: 193.4790 - mae: 193.4790 - mse: 178328.1562 - val_loss: 984.4655 - val_mae: 984.4655 - val_mse: 3168351.7500\n",
      "Epoch 4/100\n",
      " 1/18 [>.............................] - ETA: 0s - loss: 218.3420 - mae: 218.3420 - mse: 243267.6875INFO:tensorflow:Assets written to: model_experiments\\model_1_dense\\assets\n"
     ]
    },
    {
     "name": "stderr",
     "output_type": "stream",
     "text": [
      "INFO:tensorflow:Assets written to: model_experiments\\model_1_dense\\assets\n"
     ]
    },
    {
     "name": "stdout",
     "output_type": "stream",
     "text": [
      "18/18 [==============================] - 0s 23ms/step - loss: 180.3644 - mae: 180.3644 - mse: 170113.0000 - val_loss: 947.3606 - val_mae: 947.3606 - val_mse: 3019382.2500\n",
      "Epoch 5/100\n",
      " 1/18 [>.............................] - ETA: 0s - loss: 175.9755 - mae: 175.9755 - mse: 110233.8594INFO:tensorflow:Assets written to: model_experiments\\model_1_dense\\assets\n"
     ]
    },
    {
     "name": "stderr",
     "output_type": "stream",
     "text": [
      "INFO:tensorflow:Assets written to: model_experiments\\model_1_dense\\assets\n"
     ]
    },
    {
     "name": "stdout",
     "output_type": "stream",
     "text": [
      "18/18 [==============================] - 0s 22ms/step - loss: 170.9996 - mae: 170.9996 - mse: 155645.5781 - val_loss: 939.2979 - val_mae: 939.2979 - val_mse: 2858204.5000\n",
      "Epoch 6/100\n",
      " 1/18 [>.............................] - ETA: 0s - loss: 124.2366 - mae: 124.2366 - mse: 59916.5742INFO:tensorflow:Assets written to: model_experiments\\model_1_dense\\assets\n"
     ]
    },
    {
     "name": "stderr",
     "output_type": "stream",
     "text": [
      "INFO:tensorflow:Assets written to: model_experiments\\model_1_dense\\assets\n"
     ]
    },
    {
     "name": "stdout",
     "output_type": "stream",
     "text": [
      "18/18 [==============================] - 0s 24ms/step - loss: 168.1726 - mae: 168.1726 - mse: 149042.1406 - val_loss: 904.5242 - val_mae: 904.5241 - val_mse: 2760603.2500\n",
      "Epoch 7/100\n",
      " 1/18 [>.............................] - ETA: 0s - loss: 193.8137 - mae: 193.8137 - mse: 281037.3125"
     ]
    },
    {
     "name": "stdout",
     "output_type": "stream",
     "text": [
      "18/18 [==============================] - 0s 3ms/step - loss: 161.0889 - mae: 161.0889 - mse: 139281.1719 - val_loss: 911.2661 - val_mae: 911.2661 - val_mse: 2629396.2500\n",
      "Epoch 8/100\n",
      " 1/18 [>.............................] - ETA: 0s - loss: 134.4972 - mae: 134.4972 - mse: 69240.2734INFO:tensorflow:Assets written to: model_experiments\\model_1_dense\\assets\n"
     ]
    },
    {
     "name": "stderr",
     "output_type": "stream",
     "text": [
      "INFO:tensorflow:Assets written to: model_experiments\\model_1_dense\\assets\n"
     ]
    },
    {
     "name": "stdout",
     "output_type": "stream",
     "text": [
      "18/18 [==============================] - 0s 22ms/step - loss: 156.2197 - mae: 156.2197 - mse: 133435.2812 - val_loss: 858.0871 - val_mae: 858.0871 - val_mse: 2438303.2500\n",
      "Epoch 9/100\n",
      " 1/18 [>.............................] - ETA: 0s - loss: 132.1433 - mae: 132.1433 - mse: 82161.9688INFO:tensorflow:Assets written to: model_experiments\\model_1_dense\\assets\n"
     ]
    },
    {
     "name": "stderr",
     "output_type": "stream",
     "text": [
      "INFO:tensorflow:Assets written to: model_experiments\\model_1_dense\\assets\n"
     ]
    },
    {
     "name": "stdout",
     "output_type": "stream",
     "text": [
      "18/18 [==============================] - 0s 19ms/step - loss: 152.0936 - mae: 152.0936 - mse: 126914.6875 - val_loss: 837.7438 - val_mae: 837.7438 - val_mse: 2235052.0000\n",
      "Epoch 10/100\n",
      " 1/18 [>.............................] - ETA: 0s - loss: 155.7598 - mae: 155.7598 - mse: 179946.0625INFO:tensorflow:Assets written to: model_experiments\\model_1_dense\\assets\n"
     ]
    },
    {
     "name": "stderr",
     "output_type": "stream",
     "text": [
      "INFO:tensorflow:Assets written to: model_experiments\\model_1_dense\\assets\n"
     ]
    },
    {
     "name": "stdout",
     "output_type": "stream",
     "text": [
      "18/18 [==============================] - 0s 20ms/step - loss: 149.2458 - mae: 149.2458 - mse: 123459.9141 - val_loss: 800.5889 - val_mae: 800.5889 - val_mse: 2102718.2500\n",
      "Epoch 11/100\n",
      "18/18 [==============================] - 0s 3ms/step - loss: 143.2092 - mae: 143.2092 - mse: 114221.2031 - val_loss: 807.0508 - val_mae: 807.0508 - val_mse: 2042559.2500\n",
      "Epoch 12/100\n",
      "18/18 [==============================] - 0s 3ms/step - loss: 140.3362 - mae: 140.3362 - mse: 110332.2031 - val_loss: 859.2429 - val_mae: 859.2429 - val_mse: 2150836.7500\n",
      "Epoch 13/100\n",
      "18/18 [==============================] - 0s 3ms/step - loss: 141.2550 - mae: 141.2550 - mse: 110690.1406 - val_loss: 811.0020 - val_mae: 811.0020 - val_mse: 1981151.5000\n",
      "Epoch 14/100\n",
      "18/18 [==============================] - 0s 3ms/step - loss: 135.1094 - mae: 135.1094 - mse: 102845.1875 - val_loss: 805.9670 - val_mae: 805.9670 - val_mse: 1940146.6250\n",
      "Epoch 15/100\n",
      " 1/18 [>.............................] - ETA: 0s - loss: 145.0237 - mae: 145.0237 - mse: 79647.5391INFO:tensorflow:Assets written to: model_experiments\\model_1_dense\\assets\n"
     ]
    },
    {
     "name": "stderr",
     "output_type": "stream",
     "text": [
      "INFO:tensorflow:Assets written to: model_experiments\\model_1_dense\\assets\n"
     ]
    },
    {
     "name": "stdout",
     "output_type": "stream",
     "text": [
      "18/18 [==============================] - 0s 20ms/step - loss: 135.1204 - mae: 135.1204 - mse: 101896.2266 - val_loss: 717.6878 - val_mae: 717.6878 - val_mse: 1725626.1250\n",
      "Epoch 16/100\n",
      "18/18 [==============================] - 0s 3ms/step - loss: 130.0645 - mae: 130.0645 - mse: 96951.7344 - val_loss: 745.1596 - val_mae: 745.1596 - val_mse: 1730104.0000\n",
      "Epoch 17/100\n",
      "18/18 [==============================] - 0s 3ms/step - loss: 128.5097 - mae: 128.5097 - mse: 94137.9844 - val_loss: 750.7831 - val_mae: 750.7831 - val_mse: 1727310.1250\n",
      "Epoch 18/100\n",
      " 1/18 [>.............................] - ETA: 0s - loss: 146.5271 - mae: 146.5271 - mse: 112126.4062INFO:tensorflow:Assets written to: model_experiments\\model_1_dense\\assets\n"
     ]
    },
    {
     "name": "stderr",
     "output_type": "stream",
     "text": [
      "INFO:tensorflow:Assets written to: model_experiments\\model_1_dense\\assets\n"
     ]
    },
    {
     "name": "stdout",
     "output_type": "stream",
     "text": [
      "18/18 [==============================] - 0s 20ms/step - loss: 127.9479 - mae: 127.9479 - mse: 93996.1172 - val_loss: 700.3743 - val_mae: 700.3743 - val_mse: 1596452.0000\n",
      "Epoch 19/100\n",
      "18/18 [==============================] - 0s 3ms/step - loss: 125.7582 - mae: 125.7582 - mse: 91677.5000 - val_loss: 706.7156 - val_mae: 706.7156 - val_mse: 1593743.8750\n",
      "Epoch 20/100\n",
      " 1/18 [>.............................] - ETA: 0s - loss: 136.5609 - mae: 136.5609 - mse: 103028.4844INFO:tensorflow:Assets written to: model_experiments\\model_1_dense\\assets\n"
     ]
    },
    {
     "name": "stderr",
     "output_type": "stream",
     "text": [
      "INFO:tensorflow:Assets written to: model_experiments\\model_1_dense\\assets\n"
     ]
    },
    {
     "name": "stdout",
     "output_type": "stream",
     "text": [
      "18/18 [==============================] - 0s 19ms/step - loss: 123.8255 - mae: 123.8255 - mse: 90074.6484 - val_loss: 676.5428 - val_mae: 676.5428 - val_mse: 1527934.5000\n",
      "Epoch 21/100\n",
      " 1/18 [>.............................] - ETA: 0s - loss: 135.5307 - mae: 135.5307 - mse: 86168.3359INFO:tensorflow:Assets written to: model_experiments\\model_1_dense\\assets\n"
     ]
    },
    {
     "name": "stderr",
     "output_type": "stream",
     "text": [
      "INFO:tensorflow:Assets written to: model_experiments\\model_1_dense\\assets\n"
     ]
    },
    {
     "name": "stdout",
     "output_type": "stream",
     "text": [
      "18/18 [==============================] - 0s 20ms/step - loss: 127.3817 - mae: 127.3817 - mse: 92713.9062 - val_loss: 665.1163 - val_mae: 665.1163 - val_mse: 1501641.8750\n",
      "Epoch 22/100\n",
      "18/18 [==============================] - 0s 3ms/step - loss: 126.3881 - mae: 126.3881 - mse: 90863.4766 - val_loss: 724.9664 - val_mae: 724.9664 - val_mse: 1614736.8750\n",
      "Epoch 23/100\n",
      "18/18 [==============================] - 0s 3ms/step - loss: 129.0075 - mae: 129.0075 - mse: 91541.1797 - val_loss: 694.9037 - val_mae: 694.9037 - val_mse: 1534011.8750\n",
      "Epoch 24/100\n",
      " 1/18 [>.............................] - ETA: 0s - loss: 133.4638 - mae: 133.4638 - mse: 87697.1250INFO:tensorflow:Assets written to: model_experiments\\model_1_dense\\assets\n"
     ]
    },
    {
     "name": "stderr",
     "output_type": "stream",
     "text": [
      "INFO:tensorflow:Assets written to: model_experiments\\model_1_dense\\assets\n"
     ]
    },
    {
     "name": "stdout",
     "output_type": "stream",
     "text": [
      "18/18 [==============================] - 0s 21ms/step - loss: 122.3819 - mae: 122.3819 - mse: 87097.3984 - val_loss: 650.6418 - val_mae: 650.6418 - val_mse: 1454869.8750\n",
      "Epoch 25/100\n",
      " 1/18 [>.............................] - ETA: 0s - loss: 131.4941 - mae: 131.4941 - mse: 67070.5234INFO:tensorflow:Assets written to: model_experiments\\model_1_dense\\assets\n"
     ]
    },
    {
     "name": "stderr",
     "output_type": "stream",
     "text": [
      "INFO:tensorflow:Assets written to: model_experiments\\model_1_dense\\assets\n"
     ]
    },
    {
     "name": "stdout",
     "output_type": "stream",
     "text": [
      "18/18 [==============================] - 0s 20ms/step - loss: 120.6282 - mae: 120.6282 - mse: 85157.0625 - val_loss: 646.9995 - val_mae: 646.9995 - val_mse: 1442857.6250\n",
      "Epoch 26/100\n",
      "18/18 [==============================] - 0s 3ms/step - loss: 120.8276 - mae: 120.8276 - mse: 85318.5469 - val_loss: 647.4589 - val_mae: 647.4589 - val_mse: 1417200.0000\n",
      "Epoch 27/100\n",
      " 1/18 [>.............................] - ETA: 0s - loss: 165.9818 - mae: 165.9818 - mse: 132312.9375INFO:tensorflow:Assets written to: model_experiments\\model_1_dense\\assets\n"
     ]
    },
    {
     "name": "stderr",
     "output_type": "stream",
     "text": [
      "INFO:tensorflow:Assets written to: model_experiments\\model_1_dense\\assets\n"
     ]
    },
    {
     "name": "stdout",
     "output_type": "stream",
     "text": [
      "18/18 [==============================] - 0s 19ms/step - loss: 122.4793 - mae: 122.4793 - mse: 84884.9531 - val_loss: 637.9294 - val_mae: 637.9294 - val_mse: 1396678.2500\n",
      "Epoch 28/100\n",
      "18/18 [==============================] - 0s 3ms/step - loss: 118.5908 - mae: 118.5908 - mse: 83206.7969 - val_loss: 642.0479 - val_mae: 642.0479 - val_mse: 1394833.7500\n",
      "Epoch 29/100\n",
      " 1/18 [>.............................] - ETA: 0s - loss: 114.6633 - mae: 114.6633 - mse: 86029.4062INFO:tensorflow:Assets written to: model_experiments\\model_1_dense\\assets\n"
     ]
    },
    {
     "name": "stderr",
     "output_type": "stream",
     "text": [
      "INFO:tensorflow:Assets written to: model_experiments\\model_1_dense\\assets\n"
     ]
    },
    {
     "name": "stdout",
     "output_type": "stream",
     "text": [
      "18/18 [==============================] - 0s 19ms/step - loss: 119.9222 - mae: 119.9222 - mse: 83729.9922 - val_loss: 630.5175 - val_mae: 630.5175 - val_mse: 1378865.1250\n",
      "Epoch 30/100\n",
      "18/18 [==============================] - 0s 3ms/step - loss: 121.1951 - mae: 121.1951 - mse: 83462.0625 - val_loss: 632.1421 - val_mae: 632.1421 - val_mse: 1383279.2500\n",
      "Epoch 31/100\n",
      "18/18 [==============================] - 0s 3ms/step - loss: 121.6897 - mae: 121.6897 - mse: 82180.7422 - val_loss: 697.6756 - val_mae: 697.6756 - val_mse: 1511803.7500\n",
      "Epoch 32/100\n",
      " 1/18 [>.............................] - ETA: 0s - loss: 123.0744 - mae: 123.0744 - mse: 78835.9531INFO:tensorflow:Assets written to: model_experiments\\model_1_dense\\assets\n"
     ]
    },
    {
     "name": "stderr",
     "output_type": "stream",
     "text": [
      "INFO:tensorflow:Assets written to: model_experiments\\model_1_dense\\assets\n"
     ]
    },
    {
     "name": "stdout",
     "output_type": "stream",
     "text": [
      "18/18 [==============================] - 0s 19ms/step - loss: 119.5011 - mae: 119.5011 - mse: 84212.8281 - val_loss: 623.1819 - val_mae: 623.1819 - val_mse: 1344716.8750\n",
      "Epoch 33/100\n",
      "18/18 [==============================] - 0s 3ms/step - loss: 117.0874 - mae: 117.0874 - mse: 80779.2031 - val_loss: 673.3233 - val_mae: 673.3233 - val_mse: 1445706.6250\n",
      "Epoch 34/100\n",
      " 1/18 [>.............................] - ETA: 0s - loss: 142.9669 - mae: 142.9669 - mse: 130480.2031INFO:tensorflow:Assets written to: model_experiments\\model_1_dense\\assets\n"
     ]
    },
    {
     "name": "stderr",
     "output_type": "stream",
     "text": [
      "INFO:tensorflow:Assets written to: model_experiments\\model_1_dense\\assets\n"
     ]
    },
    {
     "name": "stdout",
     "output_type": "stream",
     "text": [
      "18/18 [==============================] - 0s 20ms/step - loss: 116.8347 - mae: 116.8347 - mse: 81380.3438 - val_loss: 619.7972 - val_mae: 619.7972 - val_mse: 1340173.1250\n",
      "Epoch 35/100\n",
      "18/18 [==============================] - 0s 3ms/step - loss: 115.3658 - mae: 115.3658 - mse: 80210.4297 - val_loss: 627.0325 - val_mae: 627.0325 - val_mse: 1364308.3750\n",
      "Epoch 36/100\n",
      " 1/18 [>.............................] - ETA: 0s - loss: 158.3717 - mae: 158.3717 - mse: 151324.8906INFO:tensorflow:Assets written to: model_experiments\\model_1_dense\\assets\n"
     ]
    },
    {
     "name": "stderr",
     "output_type": "stream",
     "text": [
      "INFO:tensorflow:Assets written to: model_experiments\\model_1_dense\\assets\n"
     ]
    },
    {
     "name": "stdout",
     "output_type": "stream",
     "text": [
      "18/18 [==============================] - 0s 19ms/step - loss: 117.1094 - mae: 117.1094 - mse: 79954.1641 - val_loss: 616.9705 - val_mae: 616.9705 - val_mse: 1329498.8750\n",
      "Epoch 37/100\n",
      "18/18 [==============================] - 0s 3ms/step - loss: 116.4167 - mae: 116.4167 - mse: 80184.5156 - val_loss: 652.6432 - val_mae: 652.6432 - val_mse: 1386337.6250\n",
      "Epoch 38/100\n",
      " 1/18 [>.............................] - ETA: 0s - loss: 105.7574 - mae: 105.7574 - mse: 66944.5625INFO:tensorflow:Assets written to: model_experiments\\model_1_dense\\assets\n"
     ]
    },
    {
     "name": "stderr",
     "output_type": "stream",
     "text": [
      "INFO:tensorflow:Assets written to: model_experiments\\model_1_dense\\assets\n"
     ]
    },
    {
     "name": "stdout",
     "output_type": "stream",
     "text": [
      "18/18 [==============================] - 0s 20ms/step - loss: 115.7911 - mae: 115.7911 - mse: 78880.7500 - val_loss: 608.6262 - val_mae: 608.6262 - val_mse: 1303247.3750\n",
      "Epoch 39/100\n",
      "18/18 [==============================] - 0s 3ms/step - loss: 115.6095 - mae: 115.6095 - mse: 79451.4062 - val_loss: 617.9276 - val_mae: 617.9276 - val_mse: 1330348.8750\n",
      "Epoch 40/100\n",
      "18/18 [==============================] - 0s 3ms/step - loss: 113.1958 - mae: 113.1958 - mse: 76843.0312 - val_loss: 611.8768 - val_mae: 611.8768 - val_mse: 1311602.5000\n",
      "Epoch 41/100\n",
      "18/18 [==============================] - 0s 3ms/step - loss: 114.0449 - mae: 114.0449 - mse: 76818.1250 - val_loss: 618.9482 - val_mae: 618.9482 - val_mse: 1303461.7500\n",
      "Epoch 42/100\n",
      "18/18 [==============================] - 0s 3ms/step - loss: 118.1514 - mae: 118.1514 - mse: 81067.8047 - val_loss: 627.1219 - val_mae: 627.1219 - val_mse: 1317810.1250\n",
      "Epoch 43/100\n",
      "18/18 [==============================] - 0s 3ms/step - loss: 116.4444 - mae: 116.4444 - mse: 76011.0547 - val_loss: 666.8640 - val_mae: 666.8640 - val_mse: 1459939.2500\n",
      "Epoch 44/100\n",
      " 1/18 [>.............................] - ETA: 0s - loss: 76.6132 - mae: 76.6132 - mse: 20615.0664INFO:tensorflow:Assets written to: model_experiments\\model_1_dense\\assets\n"
     ]
    },
    {
     "name": "stderr",
     "output_type": "stream",
     "text": [
      "INFO:tensorflow:Assets written to: model_experiments\\model_1_dense\\assets\n"
     ]
    },
    {
     "name": "stdout",
     "output_type": "stream",
     "text": [
      "18/18 [==============================] - 0s 20ms/step - loss: 117.7573 - mae: 117.7573 - mse: 78062.0469 - val_loss: 597.8444 - val_mae: 597.8444 - val_mse: 1264066.1250\n",
      "Epoch 45/100\n",
      "18/18 [==============================] - 0s 3ms/step - loss: 112.3328 - mae: 112.3328 - mse: 76445.7109 - val_loss: 602.1189 - val_mae: 602.1189 - val_mse: 1279397.6250\n",
      "Epoch 46/100\n",
      " 1/18 [>.............................] - ETA: 0s - loss: 86.3601 - mae: 86.3601 - mse: 46130.3047INFO:tensorflow:Assets written to: model_experiments\\model_1_dense\\assets\n"
     ]
    },
    {
     "name": "stderr",
     "output_type": "stream",
     "text": [
      "INFO:tensorflow:Assets written to: model_experiments\\model_1_dense\\assets\n"
     ]
    },
    {
     "name": "stdout",
     "output_type": "stream",
     "text": [
      "18/18 [==============================] - 0s 17ms/step - loss: 112.8813 - mae: 112.8813 - mse: 75587.8828 - val_loss: 594.7062 - val_mae: 594.7062 - val_mse: 1259043.5000\n",
      "Epoch 47/100\n",
      "18/18 [==============================] - 0s 3ms/step - loss: 111.5120 - mae: 111.5120 - mse: 75449.8906 - val_loss: 643.0566 - val_mae: 643.0566 - val_mse: 1342638.1250\n",
      "Epoch 48/100\n",
      "18/18 [==============================] - 0s 3ms/step - loss: 112.0963 - mae: 112.0963 - mse: 75509.6953 - val_loss: 613.9249 - val_mae: 613.9249 - val_mse: 1279088.2500\n",
      "Epoch 49/100\n",
      "18/18 [==============================] - 0s 3ms/step - loss: 114.3524 - mae: 114.3524 - mse: 76124.7578 - val_loss: 630.5873 - val_mae: 630.5873 - val_mse: 1312536.8750\n",
      "Epoch 50/100\n",
      "18/18 [==============================] - 0s 3ms/step - loss: 116.8600 - mae: 116.8600 - mse: 77065.0234 - val_loss: 666.8947 - val_mae: 666.8947 - val_mse: 1442276.8750\n",
      "Epoch 51/100\n",
      "18/18 [==============================] - 0s 3ms/step - loss: 113.7349 - mae: 113.7349 - mse: 75414.7734 - val_loss: 602.6605 - val_mae: 602.6605 - val_mse: 1253712.7500\n",
      "Epoch 52/100\n",
      " 1/18 [>.............................] - ETA: 0s - loss: 120.1005 - mae: 120.1005 - mse: 65793.2188INFO:tensorflow:Assets written to: model_experiments\\model_1_dense\\assets\n"
     ]
    },
    {
     "name": "stderr",
     "output_type": "stream",
     "text": [
      "INFO:tensorflow:Assets written to: model_experiments\\model_1_dense\\assets\n"
     ]
    },
    {
     "name": "stdout",
     "output_type": "stream",
     "text": [
      "18/18 [==============================] - 0s 20ms/step - loss: 112.8218 - mae: 112.8218 - mse: 75482.2422 - val_loss: 586.8019 - val_mae: 586.8019 - val_mse: 1229654.5000\n",
      "Epoch 53/100\n",
      "18/18 [==============================] - 0s 3ms/step - loss: 112.8220 - mae: 112.8220 - mse: 75629.0469 - val_loss: 613.4713 - val_mae: 613.4713 - val_mse: 1271423.1250\n",
      "Epoch 54/100\n",
      " 1/18 [>.............................] - ETA: 0s - loss: 104.1127 - mae: 104.1127 - mse: 71168.9141INFO:tensorflow:Assets written to: model_experiments\\model_1_dense\\assets\n"
     ]
    },
    {
     "name": "stderr",
     "output_type": "stream",
     "text": [
      "INFO:tensorflow:Assets written to: model_experiments\\model_1_dense\\assets\n"
     ]
    },
    {
     "name": "stdout",
     "output_type": "stream",
     "text": [
      "18/18 [==============================] - 0s 20ms/step - loss: 111.9094 - mae: 111.9094 - mse: 74144.2031 - val_loss: 585.1911 - val_mae: 585.1911 - val_mse: 1226654.0000\n",
      "Epoch 55/100\n",
      "18/18 [==============================] - 0s 3ms/step - loss: 113.4999 - mae: 113.4999 - mse: 76899.0469 - val_loss: 618.1023 - val_mae: 618.1023 - val_mse: 1278689.6250\n",
      "Epoch 56/100\n",
      "18/18 [==============================] - 0s 5ms/step - loss: 114.5534 - mae: 114.5534 - mse: 75365.6562 - val_loss: 833.2775 - val_mae: 833.2775 - val_mse: 1979685.2500\n",
      "Epoch 57/100\n",
      "18/18 [==============================] - 0s 3ms/step - loss: 130.3348 - mae: 130.3348 - mse: 88461.5703 - val_loss: 690.9345 - val_mae: 690.9345 - val_mse: 1501242.0000\n",
      "Epoch 58/100\n",
      "18/18 [==============================] - 0s 3ms/step - loss: 121.8655 - mae: 121.8655 - mse: 77393.1719 - val_loss: 593.6185 - val_mae: 593.6185 - val_mse: 1231470.2500\n",
      "Epoch 59/100\n",
      "18/18 [==============================] - 0s 3ms/step - loss: 111.9944 - mae: 111.9944 - mse: 74081.3672 - val_loss: 637.4833 - val_mae: 637.4833 - val_mse: 1350765.5000\n",
      "Epoch 60/100\n",
      "18/18 [==============================] - 0s 3ms/step - loss: 111.8074 - mae: 111.8074 - mse: 74821.2891 - val_loss: 608.1780 - val_mae: 608.1780 - val_mse: 1254967.6250\n",
      "Epoch 61/100\n",
      " 1/18 [>.............................] - ETA: 0s - loss: 135.3565 - mae: 135.3565 - mse: 99206.5938INFO:tensorflow:Assets written to: model_experiments\\model_1_dense\\assets\n"
     ]
    },
    {
     "name": "stderr",
     "output_type": "stream",
     "text": [
      "INFO:tensorflow:Assets written to: model_experiments\\model_1_dense\\assets\n"
     ]
    },
    {
     "name": "stdout",
     "output_type": "stream",
     "text": [
      "18/18 [==============================] - 0s 19ms/step - loss: 110.9911 - mae: 110.9911 - mse: 74298.5078 - val_loss: 580.1192 - val_mae: 580.1192 - val_mse: 1210740.3750\n",
      "Epoch 62/100\n",
      "18/18 [==============================] - 0s 3ms/step - loss: 107.7896 - mae: 107.7896 - mse: 71146.4062 - val_loss: 587.5483 - val_mae: 587.5483 - val_mse: 1216807.3750\n",
      "Epoch 63/100\n",
      "18/18 [==============================] - 0s 3ms/step - loss: 109.1292 - mae: 109.1292 - mse: 71772.1016 - val_loss: 595.4860 - val_mae: 595.4860 - val_mse: 1228966.8750\n",
      "Epoch 64/100\n",
      "18/18 [==============================] - 0s 3ms/step - loss: 110.6707 - mae: 110.6707 - mse: 73044.5859 - val_loss: 594.0659 - val_mae: 594.0659 - val_mse: 1226836.5000\n",
      "Epoch 65/100\n",
      " 1/18 [>.............................] - ETA: 0s - loss: 127.1150 - mae: 127.1150 - mse: 152286.6250INFO:tensorflow:Assets written to: model_experiments\\model_1_dense\\assets\n"
     ]
    },
    {
     "name": "stderr",
     "output_type": "stream",
     "text": [
      "INFO:tensorflow:Assets written to: model_experiments\\model_1_dense\\assets\n"
     ]
    },
    {
     "name": "stdout",
     "output_type": "stream",
     "text": [
      "18/18 [==============================] - 0s 18ms/step - loss: 110.5316 - mae: 110.5316 - mse: 73627.4922 - val_loss: 578.0367 - val_mae: 578.0367 - val_mse: 1205161.1250\n",
      "Epoch 66/100\n",
      " 1/18 [>.............................] - ETA: 0s - loss: 112.1730 - mae: 112.1730 - mse: 73504.8281INFO:tensorflow:Assets written to: model_experiments\\model_1_dense\\assets\n"
     ]
    },
    {
     "name": "stderr",
     "output_type": "stream",
     "text": [
      "INFO:tensorflow:Assets written to: model_experiments\\model_1_dense\\assets\n"
     ]
    },
    {
     "name": "stdout",
     "output_type": "stream",
     "text": [
      "18/18 [==============================] - 0s 20ms/step - loss: 108.0970 - mae: 108.0970 - mse: 71398.0000 - val_loss: 575.9259 - val_mae: 575.9259 - val_mse: 1196386.3750\n",
      "Epoch 67/100\n",
      "18/18 [==============================] - 0s 3ms/step - loss: 107.5284 - mae: 107.5284 - mse: 70555.1016 - val_loss: 623.1089 - val_mae: 623.1089 - val_mse: 1307739.7500\n",
      "Epoch 68/100\n",
      "18/18 [==============================] - 0s 3ms/step - loss: 110.6861 - mae: 110.6861 - mse: 70767.6016 - val_loss: 593.2531 - val_mae: 593.2531 - val_mse: 1241104.3750\n",
      "Epoch 69/100\n",
      "18/18 [==============================] - 0s 3ms/step - loss: 114.8616 - mae: 114.8616 - mse: 73542.0391 - val_loss: 672.8065 - val_mae: 672.8065 - val_mse: 1392018.7500\n",
      "Epoch 70/100\n",
      "18/18 [==============================] - 0s 3ms/step - loss: 119.4207 - mae: 119.4207 - mse: 76090.4375 - val_loss: 591.1063 - val_mae: 591.1063 - val_mse: 1238767.2500\n",
      "Epoch 71/100\n",
      "18/18 [==============================] - 0s 3ms/step - loss: 109.3888 - mae: 109.3888 - mse: 71007.0078 - val_loss: 577.7432 - val_mae: 577.7432 - val_mse: 1203904.8750\n",
      "Epoch 72/100\n",
      " 1/18 [>.............................] - ETA: 0s - loss: 92.9788 - mae: 92.9788 - mse: 73095.6406INFO:tensorflow:Assets written to: model_experiments\\model_1_dense\\assets\n"
     ]
    },
    {
     "name": "stderr",
     "output_type": "stream",
     "text": [
      "INFO:tensorflow:Assets written to: model_experiments\\model_1_dense\\assets\n"
     ]
    },
    {
     "name": "stdout",
     "output_type": "stream",
     "text": [
      "18/18 [==============================] - 0s 19ms/step - loss: 111.3619 - mae: 111.3619 - mse: 72904.6797 - val_loss: 573.9739 - val_mae: 573.9739 - val_mse: 1190087.8750\n",
      "Epoch 73/100\n",
      "18/18 [==============================] - 0s 3ms/step - loss: 113.9561 - mae: 113.9561 - mse: 74043.2578 - val_loss: 593.4192 - val_mae: 593.4192 - val_mse: 1239281.3750\n",
      "Epoch 74/100\n",
      "18/18 [==============================] - 0s 3ms/step - loss: 111.1304 - mae: 111.1304 - mse: 72802.9219 - val_loss: 592.3753 - val_mae: 592.3753 - val_mse: 1233677.8750\n",
      "Epoch 75/100\n",
      "18/18 [==============================] - 0s 3ms/step - loss: 112.8099 - mae: 112.8099 - mse: 72931.5078 - val_loss: 639.4336 - val_mae: 639.4336 - val_mse: 1313008.7500\n",
      "Epoch 76/100\n",
      "18/18 [==============================] - 0s 3ms/step - loss: 116.5531 - mae: 116.5531 - mse: 76358.2734 - val_loss: 641.1815 - val_mae: 641.1815 - val_mse: 1342790.1250\n",
      "Epoch 77/100\n",
      "18/18 [==============================] - 0s 3ms/step - loss: 108.3639 - mae: 108.3639 - mse: 69841.4922 - val_loss: 590.5714 - val_mae: 590.5714 - val_mse: 1210731.6250\n",
      "Epoch 78/100\n",
      "18/18 [==============================] - 0s 3ms/step - loss: 109.6862 - mae: 109.6862 - mse: 69731.8359 - val_loss: 579.6768 - val_mae: 579.6768 - val_mse: 1207152.6250\n",
      "Epoch 79/100\n",
      "18/18 [==============================] - 0s 3ms/step - loss: 108.4936 - mae: 108.4936 - mse: 71311.8281 - val_loss: 584.3112 - val_mae: 584.3112 - val_mse: 1214669.1250\n",
      "Epoch 80/100\n",
      "18/18 [==============================] - 0s 3ms/step - loss: 110.7402 - mae: 110.7402 - mse: 73256.1875 - val_loss: 620.2754 - val_mae: 620.2754 - val_mse: 1268138.8750\n",
      "Epoch 81/100\n",
      "18/18 [==============================] - 0s 3ms/step - loss: 108.1783 - mae: 108.1783 - mse: 70955.4062 - val_loss: 583.2316 - val_mae: 583.2316 - val_mse: 1194981.7500\n",
      "Epoch 82/100\n",
      "15/18 [========================>.....] - ETA: 0s - loss: 118.1788 - mae: 118.1788 - mse: 77617.2188 INFO:tensorflow:Assets written to: model_experiments\\model_1_dense\\assets\n"
     ]
    },
    {
     "name": "stderr",
     "output_type": "stream",
     "text": [
      "INFO:tensorflow:Assets written to: model_experiments\\model_1_dense\\assets\n"
     ]
    },
    {
     "name": "stdout",
     "output_type": "stream",
     "text": [
      "18/18 [==============================] - 1s 48ms/step - loss: 117.7809 - mae: 117.7809 - mse: 78286.8359 - val_loss: 570.5494 - val_mae: 570.5494 - val_mse: 1177305.7500\n",
      "Epoch 83/100\n",
      "18/18 [==============================] - 0s 3ms/step - loss: 114.7169 - mae: 114.7169 - mse: 75074.4297 - val_loss: 699.9246 - val_mae: 699.9246 - val_mse: 1500175.8750\n",
      "Epoch 84/100\n",
      "18/18 [==============================] - 0s 3ms/step - loss: 114.5269 - mae: 114.5269 - mse: 73957.2656 - val_loss: 575.1682 - val_mae: 575.1682 - val_mse: 1193612.3750\n",
      "Epoch 85/100\n",
      " 1/18 [>.............................] - ETA: 0s - loss: 85.3940 - mae: 85.3940 - mse: 39088.5977INFO:tensorflow:Assets written to: model_experiments\\model_1_dense\\assets\n"
     ]
    },
    {
     "name": "stderr",
     "output_type": "stream",
     "text": [
      "INFO:tensorflow:Assets written to: model_experiments\\model_1_dense\\assets\n"
     ]
    },
    {
     "name": "stdout",
     "output_type": "stream",
     "text": [
      "18/18 [==============================] - 0s 20ms/step - loss: 108.3043 - mae: 108.3043 - mse: 71410.2734 - val_loss: 568.9599 - val_mae: 568.9599 - val_mse: 1172989.7500\n",
      "Epoch 86/100\n",
      "18/18 [==============================] - 0s 3ms/step - loss: 106.6572 - mae: 106.6572 - mse: 69350.9219 - val_loss: 569.5392 - val_mae: 569.5392 - val_mse: 1172105.8750\n",
      "Epoch 87/100\n",
      "18/18 [==============================] - 0s 3ms/step - loss: 106.5571 - mae: 106.5571 - mse: 69179.1172 - val_loss: 591.3516 - val_mae: 591.3516 - val_mse: 1224496.3750\n",
      "Epoch 88/100\n",
      "18/18 [==============================] - 0s 3ms/step - loss: 108.4553 - mae: 108.4553 - mse: 71246.7734 - val_loss: 591.9285 - val_mae: 591.9285 - val_mse: 1229074.3750\n",
      "Epoch 89/100\n",
      "18/18 [==============================] - 0s 3ms/step - loss: 107.0985 - mae: 107.0985 - mse: 69749.2266 - val_loss: 584.1465 - val_mae: 584.1465 - val_mse: 1192083.3750\n",
      "Epoch 90/100\n",
      "18/18 [==============================] - 0s 3ms/step - loss: 106.5862 - mae: 106.5862 - mse: 67875.9922 - val_loss: 585.6457 - val_mae: 585.6457 - val_mse: 1195795.8750\n",
      "Epoch 91/100\n",
      "18/18 [==============================] - 0s 3ms/step - loss: 109.2702 - mae: 109.2702 - mse: 71036.6250 - val_loss: 573.1447 - val_mae: 573.1447 - val_mse: 1173067.5000\n",
      "Epoch 92/100\n",
      "18/18 [==============================] - 0s 3ms/step - loss: 109.7788 - mae: 109.7788 - mse: 71763.9531 - val_loss: 655.2137 - val_mae: 655.2137 - val_mse: 1367356.3750\n",
      "Epoch 93/100\n",
      "18/18 [==============================] - 0s 3ms/step - loss: 119.8360 - mae: 119.8360 - mse: 76173.0625 - val_loss: 639.4949 - val_mae: 639.4949 - val_mse: 1331898.8750\n",
      "Epoch 94/100\n",
      "18/18 [==============================] - 0s 3ms/step - loss: 113.6336 - mae: 113.6336 - mse: 74559.6406 - val_loss: 593.7310 - val_mae: 593.7310 - val_mse: 1210272.2500\n",
      "Epoch 95/100\n",
      "18/18 [==============================] - 0s 3ms/step - loss: 106.1370 - mae: 106.1370 - mse: 68001.8984 - val_loss: 570.3862 - val_mae: 570.3862 - val_mse: 1177249.3750\n",
      "Epoch 96/100\n",
      "18/18 [==============================] - 0s 3ms/step - loss: 106.4690 - mae: 106.4690 - mse: 69196.4922 - val_loss: 571.9270 - val_mae: 571.9270 - val_mse: 1180412.8750\n",
      "Epoch 97/100\n",
      "18/18 [==============================] - 0s 3ms/step - loss: 106.4240 - mae: 106.4240 - mse: 69510.7656 - val_loss: 573.4873 - val_mae: 573.4873 - val_mse: 1173920.0000\n",
      "Epoch 98/100\n",
      " 1/18 [>.............................] - ETA: 0s - loss: 113.1364 - mae: 113.1364 - mse: 60086.5078INFO:tensorflow:Assets written to: model_experiments\\model_1_dense\\assets\n"
     ]
    },
    {
     "name": "stderr",
     "output_type": "stream",
     "text": [
      "INFO:tensorflow:Assets written to: model_experiments\\model_1_dense\\assets\n"
     ]
    },
    {
     "name": "stdout",
     "output_type": "stream",
     "text": [
      "18/18 [==============================] - 0s 20ms/step - loss: 106.4329 - mae: 106.4329 - mse: 70109.6562 - val_loss: 567.0126 - val_mae: 567.0126 - val_mse: 1166645.1250\n",
      "Epoch 99/100\n",
      " 1/18 [>.............................] - ETA: 0s - loss: 149.9360 - mae: 149.9360 - mse: 120665.6484INFO:tensorflow:Assets written to: model_experiments\\model_1_dense\\assets\n"
     ]
    },
    {
     "name": "stderr",
     "output_type": "stream",
     "text": [
      "INFO:tensorflow:Assets written to: model_experiments\\model_1_dense\\assets\n"
     ]
    },
    {
     "name": "stdout",
     "output_type": "stream",
     "text": [
      "18/18 [==============================] - 0s 18ms/step - loss: 109.5977 - mae: 109.5977 - mse: 71300.8672 - val_loss: 565.5483 - val_mae: 565.5483 - val_mse: 1161920.7500\n",
      "Epoch 100/100\n",
      "18/18 [==============================] - 0s 3ms/step - loss: 116.6481 - mae: 116.6481 - mse: 72240.1562 - val_loss: 725.8797 - val_mae: 725.8797 - val_mse: 1523737.8750\n"
     ]
    },
    {
     "data": {
      "text/plain": [
       "<keras.src.callbacks.History at 0x23b99d1b710>"
      ]
     },
     "execution_count": 160,
     "metadata": {},
     "output_type": "execute_result"
    }
   ],
   "source": [
    "import tensorflow as tf\n",
    "import keras\n",
    "from keras import layers\n",
    "\n",
    "# Set random seed for as reproducible results as possible\n",
    "tf.random.set_seed(42)\n",
    "\n",
    "# 1. Construct model\n",
    "model_1 = tf.keras.Sequential([\n",
    "    layers.Dense(128, activation=\"relu\"),\n",
    "    layers.Dense(HORIZON, activation=\"linear\") # linear = same output as before last output(same as having no activation)\n",
    "], name=\"model_1_dense\")\n",
    "\n",
    "# 2. Compile\n",
    "model_1.compile(loss=\"mae\",\n",
    "                optimizer=tf.keras.optimizers.Adam(),\n",
    "                metrics=[\"mae\", \"mse\"])\n",
    "\n",
    "# 3. Fit the model\n",
    "model_1.fit(x=train_windows,\n",
    "            y=train_labels,\n",
    "            epochs=100,\n",
    "            verbose=1,\n",
    "            batch_size=128, # adjustable acconrding to the size of our sample (for 1 image, it is big, for us we have windows of 7 ())\n",
    "            validation_data=(test_windows, test_labels),\n",
    "            callbacks=[create_model_checkpoint(model_name=model_1.name)])"
   ]
  },
  {
   "cell_type": "code",
   "execution_count": 161,
   "metadata": {},
   "outputs": [
    {
     "name": "stdout",
     "output_type": "stream",
     "text": [
      "18/18 [==============================] - 0s 1ms/step - loss: 725.8798 - mae: 725.8798 - mse: 1523737.7500\n"
     ]
    },
    {
     "data": {
      "text/plain": [
       "[725.8797607421875, 725.8797607421875, 1523737.75]"
      ]
     },
     "execution_count": 161,
     "metadata": {},
     "output_type": "execute_result"
    }
   ],
   "source": [
    "# Evaluate model on test data\n",
    "model_1.evaluate(test_windows, test_labels)"
   ]
  },
  {
   "cell_type": "code",
   "execution_count": 162,
   "metadata": {},
   "outputs": [
    {
     "name": "stdout",
     "output_type": "stream",
     "text": [
      "18/18 [==============================] - 0s 1ms/step - loss: 565.5483 - mae: 565.5483 - mse: 1161920.7500\n"
     ]
    },
    {
     "data": {
      "text/plain": [
       "[565.5482788085938, 565.5482788085938, 1161920.75]"
      ]
     },
     "execution_count": 162,
     "metadata": {},
     "output_type": "execute_result"
    }
   ],
   "source": [
    "# Load in saved best performing model_1 and evaluate it on test data\n",
    "model_1 = tf.keras.models.load_model(\"model_experiments/model_1_dense/\")\n",
    "model_1.evaluate(test_windows, test_labels)"
   ]
  },
  {
   "cell_type": "markdown",
   "metadata": {},
   "source": [
    "## Making forecats with a model (on the test dataset)\n",
    "\n",
    "TO make \"forecasts\" on the test dataset (note: these wont't be actual forecats, they're only pseudo forecasts because actual forecats are into future), let's write a function to:\n",
    "\n",
    "1. Take in a train model\n",
    "2. Takes in some input data (same kind of data the model was trained on)\n",
    "3. Passes the input data to the model's predict() method\n",
    "4. Returns the predictions"
   ]
  },
  {
   "cell_type": "code",
   "execution_count": 163,
   "metadata": {},
   "outputs": [],
   "source": [
    "def make_preds(model, input_data):\n",
    "    \"\"\"\n",
    "    Uses model to make predictions input_data.\n",
    "    \"\"\"\n",
    "    forecast = model.predict(input_data)\n",
    "    return tf.squeeze(forecast) # return !D array of predictions"
   ]
  },
  {
   "cell_type": "code",
   "execution_count": 164,
   "metadata": {},
   "outputs": [
    {
     "name": "stdout",
     "output_type": "stream",
     "text": [
      "18/18 [==============================] - 0s 977us/step\n"
     ]
    },
    {
     "data": {
      "text/plain": [
       "(556,\n",
       " <tf.Tensor: shape=(10,), dtype=float32, numpy=\n",
       " array([8857.441 , 8758.465 , 9019.487 , 8771.895 , 8725.787 , 8749.8955,\n",
       "        8679.242 , 8499.248 , 8465.069 , 8517.217 ], dtype=float32)>)"
      ]
     },
     "execution_count": 164,
     "metadata": {},
     "output_type": "execute_result"
    }
   ],
   "source": [
    "# Make predictions using model_1 and see results\n",
    "model_1_preds = make_preds(model_1, test_windows)\n",
    "len(model_1_preds), model_1_preds[:10]"
   ]
  },
  {
   "cell_type": "code",
   "execution_count": 165,
   "metadata": {},
   "outputs": [
    {
     "data": {
      "text/plain": [
       "((556, 1), TensorShape([556]))"
      ]
     },
     "execution_count": 165,
     "metadata": {},
     "output_type": "execute_result"
    }
   ],
   "source": [
    "test_labels.shape, model_1_preds.shape"
   ]
  },
  {
   "cell_type": "code",
   "execution_count": 166,
   "metadata": {},
   "outputs": [
    {
     "data": {
      "text/plain": [
       "{'mae': 565.5482,\n",
       " 'mse': 1161920.8,\n",
       " 'rmse': 1077.9243,\n",
       " 'mape': 2.5257013,\n",
       " 'mase': 0.99351156}"
      ]
     },
     "execution_count": 166,
     "metadata": {},
     "output_type": "execute_result"
    }
   ],
   "source": [
    "# Evaluate preds\n",
    "model_1_results = evaluate_preds(y_true=tf.squeeze(test_labels),\n",
    "                                 y_pred=model_1_preds)\n",
    "model_1_results"
   ]
  },
  {
   "cell_type": "code",
   "execution_count": 167,
   "metadata": {},
   "outputs": [
    {
     "data": {
      "text/plain": [
       "{'mae': 567.9802,\n",
       " 'mse': 1147547.0,\n",
       " 'rmse': 1071.2362,\n",
       " 'mape': 2.5165248,\n",
       " 'mase': 0.99957}"
      ]
     },
     "execution_count": 167,
     "metadata": {},
     "output_type": "execute_result"
    }
   ],
   "source": [
    "naive_results"
   ]
  },
  {
   "cell_type": "code",
   "execution_count": 168,
   "metadata": {},
   "outputs": [
    {
     "data": {
      "image/png": "[encoded data removed]",
      "text/plain": [
       "<Figure size 1000x700 with 1 Axes>"
      ]
     },
     "metadata": {},
     "output_type": "display_data"
    }
   ],
   "source": [
    "# Let's plot our model 1 predictions\n",
    "offset = 450\n",
    "plt.figure(figsize=(10, 7))\n",
    "# Account for the test_window offset and index into test_labels to ensure correct plotting\n",
    "plot_time_series(\n",
    "    timesteps=X_test[-len(test_windows):],\n",
    "    values=test_labels[:, 0],\n",
    "    start=offset,\n",
    "    label=\"Test data\"\n",
    ")\n",
    "\n",
    "plot_time_series(\n",
    "    timesteps=X_test[-len(test_windows):],\n",
    "    values=model_1_preds,\n",
    "    start=offset,\n",
    "    format=\"-\",\n",
    "    label=\"Model_1_preds\"\n",
    ")"
   ]
  },
  {
   "cell_type": "markdown",
   "metadata": {},
   "source": [
    "Why our model lag ? This is due to autocorrelation:\n",
    "\n",
    "https://otexts.com/fpp3/acf.html"
   ]
  },
  {
   "cell_type": "markdown",
   "metadata": {},
   "source": [
    "## Model 2: Dense (window = 30, horizon = 1)"
   ]
  },
  {
   "cell_type": "code",
   "execution_count": 169,
   "metadata": {},
   "outputs": [],
   "source": [
    "HORIZON = 1 # predict one step at a time (1 day of Bitcoin prices)\n",
    "WINDOW_SIZE = 30 # use 30 timesteps in past (1 month)"
   ]
  },
  {
   "cell_type": "code",
   "execution_count": 170,
   "metadata": {},
   "outputs": [
    {
     "data": {
      "text/plain": [
       "(2757, 2757)"
      ]
     },
     "execution_count": 170,
     "metadata": {},
     "output_type": "execute_result"
    }
   ],
   "source": [
    "# Make windows data with appropriate horiwon and window sizes\n",
    "full_windows, full_labels = make_windows(prices, \n",
    "                                         window_size=WINDOW_SIZE, \n",
    "                                         horizon=HORIZON)\n",
    "len(full_windows), len(full_labels)"
   ]
  },
  {
   "cell_type": "code",
   "execution_count": 171,
   "metadata": {},
   "outputs": [
    {
     "data": {
      "text/plain": [
       "(2205, 552, 2205, 552)"
      ]
     },
     "execution_count": 171,
     "metadata": {},
     "output_type": "execute_result"
    }
   ],
   "source": [
    "# Make train and testing windows\n",
    "train_windows, test_windows, train_labels, test_labels = make_train_test_splits(windows=full_windows,\n",
    "                                                                                labels=full_labels,\n",
    "                                                                                test_split=0.2)\n",
    "len(train_windows), len(test_windows), len(train_labels), len(test_labels)"
   ]
  },
  {
   "cell_type": "code",
   "execution_count": 172,
   "metadata": {},
   "outputs": [
    {
     "data": {
      "text/plain": [
       "(array([[123.65499, 125.455  , 108.58483, 118.67466, 121.33866, 120.65533,\n",
       "         121.795  , 123.033  , 124.049  , 125.96116, 125.27966, 125.9275 ,\n",
       "         126.38333, 135.24199, 133.20333, 142.76333, 137.92333, 142.95166,\n",
       "         152.55183, 160.33883, 164.31499, 177.63333, 188.29716, 200.70166,\n",
       "         180.355  , 175.03166, 177.6965 , 187.15983, 192.75666, 197.4    ],\n",
       "        [125.455  , 108.58483, 118.67466, 121.33866, 120.65533, 121.795  ,\n",
       "         123.033  , 124.049  , 125.96116, 125.27966, 125.9275 , 126.38333,\n",
       "         135.24199, 133.20333, 142.76333, 137.92333, 142.95166, 152.55183,\n",
       "         160.33883, 164.31499, 177.63333, 188.29716, 200.70166, 180.355  ,\n",
       "         175.03166, 177.6965 , 187.15983, 192.75666, 197.4    , 196.02499],\n",
       "        [108.58483, 118.67466, 121.33866, 120.65533, 121.795  , 123.033  ,\n",
       "         124.049  , 125.96116, 125.27966, 125.9275 , 126.38333, 135.24199,\n",
       "         133.20333, 142.76333, 137.92333, 142.95166, 152.55183, 160.33883,\n",
       "         164.31499, 177.63333, 188.29716, 200.70166, 180.355  , 175.03166,\n",
       "         177.6965 , 187.15983, 192.75666, 197.4    , 196.02499, 198.04883]]),\n",
       " array([[196.02499],\n",
       "        [198.04883],\n",
       "        [198.93233]]))"
      ]
     },
     "execution_count": 172,
     "metadata": {},
     "output_type": "execute_result"
    }
   ],
   "source": [
    "train_windows[:3], train_labels[:3]"
   ]
  },
  {
   "cell_type": "code",
   "execution_count": 173,
   "metadata": {},
   "outputs": [
    {
     "name": "stdout",
     "output_type": "stream",
     "text": [
      "INFO:tensorflow:Assets written to: model_experiments\\model_2_dense\\assets\n"
     ]
    },
    {
     "name": "stderr",
     "output_type": "stream",
     "text": [
      "INFO:tensorflow:Assets written to: model_experiments\\model_2_dense\\assets\n"
     ]
    },
    {
     "name": "stdout",
     "output_type": "stream",
     "text": [
      "INFO:tensorflow:Assets written to: model_experiments\\model_2_dense\\assets\n"
     ]
    },
    {
     "name": "stderr",
     "output_type": "stream",
     "text": [
      "INFO:tensorflow:Assets written to: model_experiments\\model_2_dense\\assets\n"
     ]
    },
    {
     "name": "stdout",
     "output_type": "stream",
     "text": [
      "INFO:tensorflow:Assets written to: model_experiments\\model_2_dense\\assets\n"
     ]
    },
    {
     "name": "stderr",
     "output_type": "stream",
     "text": [
      "INFO:tensorflow:Assets written to: model_experiments\\model_2_dense\\assets\n"
     ]
    },
    {
     "name": "stdout",
     "output_type": "stream",
     "text": [
      "INFO:tensorflow:Assets written to: model_experiments\\model_2_dense\\assets\n"
     ]
    },
    {
     "name": "stderr",
     "output_type": "stream",
     "text": [
      "INFO:tensorflow:Assets written to: model_experiments\\model_2_dense\\assets\n"
     ]
    },
    {
     "name": "stdout",
     "output_type": "stream",
     "text": [
      "INFO:tensorflow:Assets written to: model_experiments\\model_2_dense\\assets\n"
     ]
    },
    {
     "name": "stderr",
     "output_type": "stream",
     "text": [
      "INFO:tensorflow:Assets written to: model_experiments\\model_2_dense\\assets\n"
     ]
    },
    {
     "name": "stdout",
     "output_type": "stream",
     "text": [
      "INFO:tensorflow:Assets written to: model_experiments\\model_2_dense\\assets\n"
     ]
    },
    {
     "name": "stderr",
     "output_type": "stream",
     "text": [
      "INFO:tensorflow:Assets written to: model_experiments\\model_2_dense\\assets\n"
     ]
    },
    {
     "name": "stdout",
     "output_type": "stream",
     "text": [
      "INFO:tensorflow:Assets written to: model_experiments\\model_2_dense\\assets\n"
     ]
    },
    {
     "name": "stderr",
     "output_type": "stream",
     "text": [
      "INFO:tensorflow:Assets written to: model_experiments\\model_2_dense\\assets\n"
     ]
    },
    {
     "name": "stdout",
     "output_type": "stream",
     "text": [
      "INFO:tensorflow:Assets written to: model_experiments\\model_2_dense\\assets\n"
     ]
    },
    {
     "name": "stderr",
     "output_type": "stream",
     "text": [
      "INFO:tensorflow:Assets written to: model_experiments\\model_2_dense\\assets\n"
     ]
    },
    {
     "name": "stdout",
     "output_type": "stream",
     "text": [
      "INFO:tensorflow:Assets written to: model_experiments\\model_2_dense\\assets\n"
     ]
    },
    {
     "name": "stderr",
     "output_type": "stream",
     "text": [
      "INFO:tensorflow:Assets written to: model_experiments\\model_2_dense\\assets\n"
     ]
    },
    {
     "name": "stdout",
     "output_type": "stream",
     "text": [
      "INFO:tensorflow:Assets written to: model_experiments\\model_2_dense\\assets\n"
     ]
    },
    {
     "name": "stderr",
     "output_type": "stream",
     "text": [
      "INFO:tensorflow:Assets written to: model_experiments\\model_2_dense\\assets\n"
     ]
    },
    {
     "name": "stdout",
     "output_type": "stream",
     "text": [
      "INFO:tensorflow:Assets written to: model_experiments\\model_2_dense\\assets\n"
     ]
    },
    {
     "name": "stderr",
     "output_type": "stream",
     "text": [
      "INFO:tensorflow:Assets written to: model_experiments\\model_2_dense\\assets\n"
     ]
    },
    {
     "name": "stdout",
     "output_type": "stream",
     "text": [
      "INFO:tensorflow:Assets written to: model_experiments\\model_2_dense\\assets\n"
     ]
    },
    {
     "name": "stderr",
     "output_type": "stream",
     "text": [
      "INFO:tensorflow:Assets written to: model_experiments\\model_2_dense\\assets\n"
     ]
    },
    {
     "name": "stdout",
     "output_type": "stream",
     "text": [
      "INFO:tensorflow:Assets written to: model_experiments\\model_2_dense\\assets\n"
     ]
    },
    {
     "name": "stderr",
     "output_type": "stream",
     "text": [
      "INFO:tensorflow:Assets written to: model_experiments\\model_2_dense\\assets\n"
     ]
    },
    {
     "name": "stdout",
     "output_type": "stream",
     "text": [
      "INFO:tensorflow:Assets written to: model_experiments\\model_2_dense\\assets\n"
     ]
    },
    {
     "name": "stderr",
     "output_type": "stream",
     "text": [
      "INFO:tensorflow:Assets written to: model_experiments\\model_2_dense\\assets\n"
     ]
    },
    {
     "name": "stdout",
     "output_type": "stream",
     "text": [
      "INFO:tensorflow:Assets written to: model_experiments\\model_2_dense\\assets\n"
     ]
    },
    {
     "name": "stderr",
     "output_type": "stream",
     "text": [
      "INFO:tensorflow:Assets written to: model_experiments\\model_2_dense\\assets\n"
     ]
    },
    {
     "name": "stdout",
     "output_type": "stream",
     "text": [
      "INFO:tensorflow:Assets written to: model_experiments\\model_2_dense\\assets\n"
     ]
    },
    {
     "name": "stderr",
     "output_type": "stream",
     "text": [
      "INFO:tensorflow:Assets written to: model_experiments\\model_2_dense\\assets\n"
     ]
    },
    {
     "name": "stdout",
     "output_type": "stream",
     "text": [
      "INFO:tensorflow:Assets written to: model_experiments\\model_2_dense\\assets\n"
     ]
    },
    {
     "name": "stderr",
     "output_type": "stream",
     "text": [
      "INFO:tensorflow:Assets written to: model_experiments\\model_2_dense\\assets\n"
     ]
    },
    {
     "name": "stdout",
     "output_type": "stream",
     "text": [
      "INFO:tensorflow:Assets written to: model_experiments\\model_2_dense\\assets\n"
     ]
    },
    {
     "name": "stderr",
     "output_type": "stream",
     "text": [
      "INFO:tensorflow:Assets written to: model_experiments\\model_2_dense\\assets\n"
     ]
    },
    {
     "name": "stdout",
     "output_type": "stream",
     "text": [
      "INFO:tensorflow:Assets written to: model_experiments\\model_2_dense\\assets\n"
     ]
    },
    {
     "name": "stderr",
     "output_type": "stream",
     "text": [
      "INFO:tensorflow:Assets written to: model_experiments\\model_2_dense\\assets\n"
     ]
    },
    {
     "name": "stdout",
     "output_type": "stream",
     "text": [
      "INFO:tensorflow:Assets written to: model_experiments\\model_2_dense\\assets\n"
     ]
    },
    {
     "name": "stderr",
     "output_type": "stream",
     "text": [
      "INFO:tensorflow:Assets written to: model_experiments\\model_2_dense\\assets\n"
     ]
    },
    {
     "name": "stdout",
     "output_type": "stream",
     "text": [
      "INFO:tensorflow:Assets written to: model_experiments\\model_2_dense\\assets\n"
     ]
    },
    {
     "name": "stderr",
     "output_type": "stream",
     "text": [
      "INFO:tensorflow:Assets written to: model_experiments\\model_2_dense\\assets\n"
     ]
    },
    {
     "name": "stdout",
     "output_type": "stream",
     "text": [
      "INFO:tensorflow:Assets written to: model_experiments\\model_2_dense\\assets\n"
     ]
    },
    {
     "name": "stderr",
     "output_type": "stream",
     "text": [
      "INFO:tensorflow:Assets written to: model_experiments\\model_2_dense\\assets\n"
     ]
    },
    {
     "name": "stdout",
     "output_type": "stream",
     "text": [
      "INFO:tensorflow:Assets written to: model_experiments\\model_2_dense\\assets\n"
     ]
    },
    {
     "name": "stderr",
     "output_type": "stream",
     "text": [
      "INFO:tensorflow:Assets written to: model_experiments\\model_2_dense\\assets\n"
     ]
    },
    {
     "name": "stdout",
     "output_type": "stream",
     "text": [
      "INFO:tensorflow:Assets written to: model_experiments\\model_2_dense\\assets\n"
     ]
    },
    {
     "name": "stderr",
     "output_type": "stream",
     "text": [
      "INFO:tensorflow:Assets written to: model_experiments\\model_2_dense\\assets\n"
     ]
    },
    {
     "name": "stdout",
     "output_type": "stream",
     "text": [
      "INFO:tensorflow:Assets written to: model_experiments\\model_2_dense\\assets\n"
     ]
    },
    {
     "name": "stderr",
     "output_type": "stream",
     "text": [
      "INFO:tensorflow:Assets written to: model_experiments\\model_2_dense\\assets\n"
     ]
    },
    {
     "name": "stdout",
     "output_type": "stream",
     "text": [
      "INFO:tensorflow:Assets written to: model_experiments\\model_2_dense\\assets\n"
     ]
    },
    {
     "name": "stderr",
     "output_type": "stream",
     "text": [
      "INFO:tensorflow:Assets written to: model_experiments\\model_2_dense\\assets\n"
     ]
    },
    {
     "name": "stdout",
     "output_type": "stream",
     "text": [
      "INFO:tensorflow:Assets written to: model_experiments\\model_2_dense\\assets\n"
     ]
    },
    {
     "name": "stderr",
     "output_type": "stream",
     "text": [
      "INFO:tensorflow:Assets written to: model_experiments\\model_2_dense\\assets\n"
     ]
    },
    {
     "name": "stdout",
     "output_type": "stream",
     "text": [
      "INFO:tensorflow:Assets written to: model_experiments\\model_2_dense\\assets\n"
     ]
    },
    {
     "name": "stderr",
     "output_type": "stream",
     "text": [
      "INFO:tensorflow:Assets written to: model_experiments\\model_2_dense\\assets\n"
     ]
    },
    {
     "name": "stdout",
     "output_type": "stream",
     "text": [
      "INFO:tensorflow:Assets written to: model_experiments\\model_2_dense\\assets\n"
     ]
    },
    {
     "name": "stderr",
     "output_type": "stream",
     "text": [
      "INFO:tensorflow:Assets written to: model_experiments\\model_2_dense\\assets\n"
     ]
    },
    {
     "data": {
      "text/plain": [
       "<keras.src.callbacks.History at 0x23b9b21a2d0>"
      ]
     },
     "execution_count": 173,
     "metadata": {},
     "output_type": "execute_result"
    }
   ],
   "source": [
    "tf.random.set_seed(42)\n",
    "\n",
    "# create model\n",
    "model_2 = tf.keras.Sequential([\n",
    "    layers.Dense(128, activation='relu'),\n",
    "    layers.Dense(HORIZON)\n",
    "], name='model_2_dense')\n",
    "\n",
    "# compile\n",
    "model_2.compile(loss='mae',\n",
    "                optimizer=tf.keras.optimizers.Adam())\n",
    "\n",
    "# Fit\n",
    "model_2.fit(train_windows,\n",
    "            train_labels,\n",
    "            epochs=100,\n",
    "            batch_size=128,\n",
    "            verbose=0,\n",
    "            validation_data=(test_windows, test_labels),\n",
    "            callbacks=[create_model_checkpoint(model_name=model_2.name)])"
   ]
  },
  {
   "cell_type": "code",
   "execution_count": 174,
   "metadata": {},
   "outputs": [
    {
     "name": "stdout",
     "output_type": "stream",
     "text": [
      "18/18 [==============================] - 0s 968us/step - loss: 623.9011\n"
     ]
    },
    {
     "data": {
      "text/plain": [
       "623.901123046875"
      ]
     },
     "execution_count": 174,
     "metadata": {},
     "output_type": "execute_result"
    }
   ],
   "source": [
    "# Evaluate model 2 on test data\n",
    "model_2.evaluate(test_windows, test_labels)"
   ]
  },
  {
   "cell_type": "code",
   "execution_count": 175,
   "metadata": {},
   "outputs": [
    {
     "name": "stdout",
     "output_type": "stream",
     "text": [
      "18/18 [==============================] - 0s 848us/step - loss: 618.8535\n"
     ]
    },
    {
     "data": {
      "text/plain": [
       "618.853515625"
      ]
     },
     "execution_count": 175,
     "metadata": {},
     "output_type": "execute_result"
    }
   ],
   "source": [
    "# Load in the best performing model\n",
    "model_2 = tf.keras.models.load_model(\"model_experiments/model_2_dense/\")\n",
    "model_2.evaluate(test_windows, test_labels)\n"
   ]
  },
  {
   "cell_type": "code",
   "execution_count": 176,
   "metadata": {},
   "outputs": [
    {
     "name": "stdout",
     "output_type": "stream",
     "text": [
      "18/18 [==============================] - 0s 921us/step\n"
     ]
    }
   ],
   "source": [
    "# Get forecast predictions\n",
    "model_2_preds = make_preds(model_2,\n",
    "                           input_data=test_windows)"
   ]
  },
  {
   "cell_type": "code",
   "execution_count": 177,
   "metadata": {},
   "outputs": [
    {
     "data": {
      "text/plain": [
       "{'mae': 618.85364,\n",
       " 'mse': 1303077.4,\n",
       " 'rmse': 1141.5242,\n",
       " 'mape': 2.834198,\n",
       " 'mase': 1.0817622}"
      ]
     },
     "execution_count": 177,
     "metadata": {},
     "output_type": "execute_result"
    }
   ],
   "source": [
    "# Evaluate results for model 2 predictions\n",
    "model_2_results = evaluate_preds(y_true=tf.squeeze(test_labels),\n",
    "                                 y_pred=model_2_preds)\n",
    "model_2_results"
   ]
  },
  {
   "cell_type": "code",
   "execution_count": 178,
   "metadata": {},
   "outputs": [
    {
     "data": {
      "text/plain": [
       "{'mae': 565.5482,\n",
       " 'mse': 1161920.8,\n",
       " 'rmse': 1077.9243,\n",
       " 'mape': 2.5257013,\n",
       " 'mase': 0.99351156}"
      ]
     },
     "execution_count": 178,
     "metadata": {},
     "output_type": "execute_result"
    }
   ],
   "source": [
    "model_1_results"
   ]
  },
  {
   "cell_type": "code",
   "execution_count": 179,
   "metadata": {},
   "outputs": [
    {
     "data": {
      "image/png": "[encoded data removed]",
      "text/plain": [
       "<Figure size 1000x700 with 1 Axes>"
      ]
     },
     "metadata": {},
     "output_type": "display_data"
    }
   ],
   "source": [
    "offset = 300\n",
    "plt.figure(figsize=(10, 7))\n",
    "# Account for test windows offset when plotting\n",
    "plot_time_series(\n",
    "    timesteps=X_test[-len(test_windows):],\n",
    "    values=test_labels[:, 0],\n",
    "    start=offset,\n",
    "    label=\"Test data\"\n",
    ")\n",
    "\n",
    "plot_time_series(\n",
    "    timesteps=X_test[-len(test_windows):],\n",
    "    values=model_2_preds,\n",
    "    start=offset,\n",
    "    format=\"-\",\n",
    "    label=\"Model_2_preds\"\n",
    ")"
   ]
  },
  {
   "cell_type": "markdown",
   "metadata": {},
   "source": [
    "## Model 3: Dense (window = 30, horizon = 7)"
   ]
  },
  {
   "cell_type": "code",
   "execution_count": 180,
   "metadata": {},
   "outputs": [
    {
     "data": {
      "text/plain": [
       "(2751, 2751)"
      ]
     },
     "execution_count": 180,
     "metadata": {},
     "output_type": "execute_result"
    }
   ],
   "source": [
    "WINDOW_SIZE = 30\n",
    "HORIZON = 7 # predicts 7 values at each timesteps\n",
    "\n",
    "# Make windows data with appropriate horiwon and window sizes\n",
    "full_windows, full_labels = make_windows(prices, \n",
    "                                         window_size=WINDOW_SIZE, \n",
    "                                         horizon=HORIZON)\n",
    "len(full_windows), len(full_labels)"
   ]
  },
  {
   "cell_type": "code",
   "execution_count": 181,
   "metadata": {},
   "outputs": [
    {
     "data": {
      "text/plain": [
       "(2200, 551, 2200, 551)"
      ]
     },
     "execution_count": 181,
     "metadata": {},
     "output_type": "execute_result"
    }
   ],
   "source": [
    "# Make train and testing windows\n",
    "train_windows, test_windows, train_labels, test_labels = make_train_test_splits(windows=full_windows,\n",
    "                                                                                labels=full_labels,\n",
    "                                                                                test_split=0.2)\n",
    "len(train_windows), len(test_windows), len(train_labels), len(test_labels)"
   ]
  },
  {
   "cell_type": "code",
   "execution_count": 182,
   "metadata": {},
   "outputs": [
    {
     "data": {
      "text/plain": [
       "(array([[123.65499, 125.455  , 108.58483, 118.67466, 121.33866, 120.65533,\n",
       "         121.795  , 123.033  , 124.049  , 125.96116, 125.27966, 125.9275 ,\n",
       "         126.38333, 135.24199, 133.20333, 142.76333, 137.92333, 142.95166,\n",
       "         152.55183, 160.33883, 164.31499, 177.63333, 188.29716, 200.70166,\n",
       "         180.355  , 175.03166, 177.6965 , 187.15983, 192.75666, 197.4    ],\n",
       "        [125.455  , 108.58483, 118.67466, 121.33866, 120.65533, 121.795  ,\n",
       "         123.033  , 124.049  , 125.96116, 125.27966, 125.9275 , 126.38333,\n",
       "         135.24199, 133.20333, 142.76333, 137.92333, 142.95166, 152.55183,\n",
       "         160.33883, 164.31499, 177.63333, 188.29716, 200.70166, 180.355  ,\n",
       "         175.03166, 177.6965 , 187.15983, 192.75666, 197.4    , 196.02499],\n",
       "        [108.58483, 118.67466, 121.33866, 120.65533, 121.795  , 123.033  ,\n",
       "         124.049  , 125.96116, 125.27966, 125.9275 , 126.38333, 135.24199,\n",
       "         133.20333, 142.76333, 137.92333, 142.95166, 152.55183, 160.33883,\n",
       "         164.31499, 177.63333, 188.29716, 200.70166, 180.355  , 175.03166,\n",
       "         177.6965 , 187.15983, 192.75666, 197.4    , 196.02499, 198.04883]]),\n",
       " array([[196.02499, 198.04883, 198.93233, 200.543  , 210.3075 , 225.02   ,\n",
       "         248.25333],\n",
       "        [198.04883, 198.93233, 200.543  , 210.3075 , 225.02   , 248.25333,\n",
       "         262.32666],\n",
       "        [198.93233, 200.543  , 210.3075 , 225.02   , 248.25333, 262.32666,\n",
       "         294.48699]]))"
      ]
     },
     "execution_count": 182,
     "metadata": {},
     "output_type": "execute_result"
    }
   ],
   "source": [
    "train_windows[:3], train_labels[:3]"
   ]
  },
  {
   "cell_type": "code",
   "execution_count": 183,
   "metadata": {},
   "outputs": [
    {
     "name": "stdout",
     "output_type": "stream",
     "text": [
      "INFO:tensorflow:Assets written to: model_experiments\\model_3_dense\\assets\n"
     ]
    },
    {
     "name": "stderr",
     "output_type": "stream",
     "text": [
      "INFO:tensorflow:Assets written to: model_experiments\\model_3_dense\\assets\n"
     ]
    },
    {
     "name": "stdout",
     "output_type": "stream",
     "text": [
      "INFO:tensorflow:Assets written to: model_experiments\\model_3_dense\\assets\n"
     ]
    },
    {
     "name": "stderr",
     "output_type": "stream",
     "text": [
      "INFO:tensorflow:Assets written to: model_experiments\\model_3_dense\\assets\n"
     ]
    },
    {
     "name": "stdout",
     "output_type": "stream",
     "text": [
      "INFO:tensorflow:Assets written to: model_experiments\\model_3_dense\\assets\n"
     ]
    },
    {
     "name": "stderr",
     "output_type": "stream",
     "text": [
      "INFO:tensorflow:Assets written to: model_experiments\\model_3_dense\\assets\n"
     ]
    },
    {
     "name": "stdout",
     "output_type": "stream",
     "text": [
      "INFO:tensorflow:Assets written to: model_experiments\\model_3_dense\\assets\n"
     ]
    },
    {
     "name": "stderr",
     "output_type": "stream",
     "text": [
      "INFO:tensorflow:Assets written to: model_experiments\\model_3_dense\\assets\n"
     ]
    },
    {
     "name": "stdout",
     "output_type": "stream",
     "text": [
      "INFO:tensorflow:Assets written to: model_experiments\\model_3_dense\\assets\n"
     ]
    },
    {
     "name": "stderr",
     "output_type": "stream",
     "text": [
      "INFO:tensorflow:Assets written to: model_experiments\\model_3_dense\\assets\n"
     ]
    },
    {
     "name": "stdout",
     "output_type": "stream",
     "text": [
      "INFO:tensorflow:Assets written to: model_experiments\\model_3_dense\\assets\n"
     ]
    },
    {
     "name": "stderr",
     "output_type": "stream",
     "text": [
      "INFO:tensorflow:Assets written to: model_experiments\\model_3_dense\\assets\n"
     ]
    },
    {
     "name": "stdout",
     "output_type": "stream",
     "text": [
      "INFO:tensorflow:Assets written to: model_experiments\\model_3_dense\\assets\n"
     ]
    },
    {
     "name": "stderr",
     "output_type": "stream",
     "text": [
      "INFO:tensorflow:Assets written to: model_experiments\\model_3_dense\\assets\n"
     ]
    },
    {
     "name": "stdout",
     "output_type": "stream",
     "text": [
      "INFO:tensorflow:Assets written to: model_experiments\\model_3_dense\\assets\n"
     ]
    },
    {
     "name": "stderr",
     "output_type": "stream",
     "text": [
      "INFO:tensorflow:Assets written to: model_experiments\\model_3_dense\\assets\n"
     ]
    },
    {
     "name": "stdout",
     "output_type": "stream",
     "text": [
      "INFO:tensorflow:Assets written to: model_experiments\\model_3_dense\\assets\n"
     ]
    },
    {
     "name": "stderr",
     "output_type": "stream",
     "text": [
      "INFO:tensorflow:Assets written to: model_experiments\\model_3_dense\\assets\n"
     ]
    },
    {
     "name": "stdout",
     "output_type": "stream",
     "text": [
      "INFO:tensorflow:Assets written to: model_experiments\\model_3_dense\\assets\n"
     ]
    },
    {
     "name": "stderr",
     "output_type": "stream",
     "text": [
      "INFO:tensorflow:Assets written to: model_experiments\\model_3_dense\\assets\n"
     ]
    },
    {
     "name": "stdout",
     "output_type": "stream",
     "text": [
      "INFO:tensorflow:Assets written to: model_experiments\\model_3_dense\\assets\n"
     ]
    },
    {
     "name": "stderr",
     "output_type": "stream",
     "text": [
      "INFO:tensorflow:Assets written to: model_experiments\\model_3_dense\\assets\n"
     ]
    },
    {
     "name": "stdout",
     "output_type": "stream",
     "text": [
      "INFO:tensorflow:Assets written to: model_experiments\\model_3_dense\\assets\n"
     ]
    },
    {
     "name": "stderr",
     "output_type": "stream",
     "text": [
      "INFO:tensorflow:Assets written to: model_experiments\\model_3_dense\\assets\n"
     ]
    },
    {
     "name": "stdout",
     "output_type": "stream",
     "text": [
      "INFO:tensorflow:Assets written to: model_experiments\\model_3_dense\\assets\n"
     ]
    },
    {
     "name": "stderr",
     "output_type": "stream",
     "text": [
      "INFO:tensorflow:Assets written to: model_experiments\\model_3_dense\\assets\n"
     ]
    },
    {
     "name": "stdout",
     "output_type": "stream",
     "text": [
      "INFO:tensorflow:Assets written to: model_experiments\\model_3_dense\\assets\n"
     ]
    },
    {
     "name": "stderr",
     "output_type": "stream",
     "text": [
      "INFO:tensorflow:Assets written to: model_experiments\\model_3_dense\\assets\n"
     ]
    },
    {
     "name": "stdout",
     "output_type": "stream",
     "text": [
      "INFO:tensorflow:Assets written to: model_experiments\\model_3_dense\\assets\n"
     ]
    },
    {
     "name": "stderr",
     "output_type": "stream",
     "text": [
      "INFO:tensorflow:Assets written to: model_experiments\\model_3_dense\\assets\n"
     ]
    },
    {
     "name": "stdout",
     "output_type": "stream",
     "text": [
      "INFO:tensorflow:Assets written to: model_experiments\\model_3_dense\\assets\n"
     ]
    },
    {
     "name": "stderr",
     "output_type": "stream",
     "text": [
      "INFO:tensorflow:Assets written to: model_experiments\\model_3_dense\\assets\n"
     ]
    },
    {
     "name": "stdout",
     "output_type": "stream",
     "text": [
      "INFO:tensorflow:Assets written to: model_experiments\\model_3_dense\\assets\n"
     ]
    },
    {
     "name": "stderr",
     "output_type": "stream",
     "text": [
      "INFO:tensorflow:Assets written to: model_experiments\\model_3_dense\\assets\n"
     ]
    },
    {
     "name": "stdout",
     "output_type": "stream",
     "text": [
      "INFO:tensorflow:Assets written to: model_experiments\\model_3_dense\\assets\n"
     ]
    },
    {
     "name": "stderr",
     "output_type": "stream",
     "text": [
      "INFO:tensorflow:Assets written to: model_experiments\\model_3_dense\\assets\n"
     ]
    },
    {
     "name": "stdout",
     "output_type": "stream",
     "text": [
      "INFO:tensorflow:Assets written to: model_experiments\\model_3_dense\\assets\n"
     ]
    },
    {
     "name": "stderr",
     "output_type": "stream",
     "text": [
      "INFO:tensorflow:Assets written to: model_experiments\\model_3_dense\\assets\n"
     ]
    },
    {
     "name": "stdout",
     "output_type": "stream",
     "text": [
      "INFO:tensorflow:Assets written to: model_experiments\\model_3_dense\\assets\n"
     ]
    },
    {
     "name": "stderr",
     "output_type": "stream",
     "text": [
      "INFO:tensorflow:Assets written to: model_experiments\\model_3_dense\\assets\n"
     ]
    },
    {
     "name": "stdout",
     "output_type": "stream",
     "text": [
      "INFO:tensorflow:Assets written to: model_experiments\\model_3_dense\\assets\n"
     ]
    },
    {
     "name": "stderr",
     "output_type": "stream",
     "text": [
      "INFO:tensorflow:Assets written to: model_experiments\\model_3_dense\\assets\n"
     ]
    },
    {
     "name": "stdout",
     "output_type": "stream",
     "text": [
      "INFO:tensorflow:Assets written to: model_experiments\\model_3_dense\\assets\n"
     ]
    },
    {
     "name": "stderr",
     "output_type": "stream",
     "text": [
      "INFO:tensorflow:Assets written to: model_experiments\\model_3_dense\\assets\n"
     ]
    },
    {
     "name": "stdout",
     "output_type": "stream",
     "text": [
      "INFO:tensorflow:Assets written to: model_experiments\\model_3_dense\\assets\n"
     ]
    },
    {
     "name": "stderr",
     "output_type": "stream",
     "text": [
      "INFO:tensorflow:Assets written to: model_experiments\\model_3_dense\\assets\n"
     ]
    },
    {
     "name": "stdout",
     "output_type": "stream",
     "text": [
      "INFO:tensorflow:Assets written to: model_experiments\\model_3_dense\\assets\n"
     ]
    },
    {
     "name": "stderr",
     "output_type": "stream",
     "text": [
      "INFO:tensorflow:Assets written to: model_experiments\\model_3_dense\\assets\n"
     ]
    },
    {
     "name": "stdout",
     "output_type": "stream",
     "text": [
      "INFO:tensorflow:Assets written to: model_experiments\\model_3_dense\\assets\n"
     ]
    },
    {
     "name": "stderr",
     "output_type": "stream",
     "text": [
      "INFO:tensorflow:Assets written to: model_experiments\\model_3_dense\\assets\n"
     ]
    },
    {
     "data": {
      "text/plain": [
       "<keras.src.callbacks.History at 0x23b9b1d68d0>"
      ]
     },
     "execution_count": 183,
     "metadata": {},
     "output_type": "execute_result"
    }
   ],
   "source": [
    "tf.random.set_seed(42)\n",
    "\n",
    "# create model (same as model_1 except with a different data input and output sizes)\n",
    "model_3 = tf.keras.Sequential([\n",
    "    layers.Dense(128, activation='relu'),\n",
    "    layers.Dense(HORIZON)\n",
    "], name='model_3_dense')\n",
    "\n",
    "# compile\n",
    "model_3.compile(loss='MAE',\n",
    "                optimizer=tf.keras.optimizers.Adam())\n",
    "\n",
    "# Fit\n",
    "model_3.fit(train_windows,\n",
    "            train_labels,\n",
    "            epochs=100,\n",
    "            batch_size=128,\n",
    "            verbose=0,\n",
    "            validation_data=(test_windows, test_labels),\n",
    "            callbacks=[create_model_checkpoint(model_name=model_3.name)])"
   ]
  },
  {
   "cell_type": "code",
   "execution_count": 184,
   "metadata": {},
   "outputs": [
    {
     "name": "stdout",
     "output_type": "stream",
     "text": [
      "18/18 [==============================] - 0s 1ms/step - loss: 1338.6613\n"
     ]
    },
    {
     "data": {
      "text/plain": [
       "1338.6612548828125"
      ]
     },
     "execution_count": 184,
     "metadata": {},
     "output_type": "execute_result"
    }
   ],
   "source": [
    "# Evaluate model 3 on test data\n",
    "model_3.evaluate(test_windows, test_labels)"
   ]
  },
  {
   "cell_type": "code",
   "execution_count": 185,
   "metadata": {},
   "outputs": [
    {
     "name": "stdout",
     "output_type": "stream",
     "text": [
      "18/18 [==============================] - 0s 1ms/step - loss: 1234.4977\n"
     ]
    },
    {
     "data": {
      "text/plain": [
       "1234.4976806640625"
      ]
     },
     "execution_count": 185,
     "metadata": {},
     "output_type": "execute_result"
    }
   ],
   "source": [
    "# Load in the best performing model\n",
    "model_3 = tf.keras.models.load_model(\"model_experiments/model_3_dense/\")\n",
    "model_3.evaluate(test_windows, test_labels)"
   ]
  },
  {
   "cell_type": "code",
   "execution_count": 186,
   "metadata": {},
   "outputs": [
    {
     "name": "stdout",
     "output_type": "stream",
     "text": [
      "18/18 [==============================] - 0s 986us/step\n"
     ]
    },
    {
     "data": {
      "text/plain": [
       "<tf.Tensor: shape=(5, 7), dtype=float32, numpy=\n",
       "array([[9454.988, 9032.537, 9421.765, 9528.852, 9589.421, 9715.785,\n",
       "        9478.563],\n",
       "       [9056.752, 8794.654, 9096.686, 9236.942, 9126.975, 9379.828,\n",
       "        9254.668],\n",
       "       [8707.913, 8637.683, 8855.981, 9002.733, 8919.703, 9257.323,\n",
       "        9153.691],\n",
       "       [8792.195, 9050.39 , 9037.587, 9183.001, 9194.786, 9313.148,\n",
       "        9180.618],\n",
       "       [8807.02 , 8958.463, 8867.365, 8953.368, 9060.467, 8941.149,\n",
       "        8945.98 ]], dtype=float32)>"
      ]
     },
     "execution_count": 186,
     "metadata": {},
     "output_type": "execute_result"
    }
   ],
   "source": [
    "model_3_preds = make_preds(model_3,\n",
    "                           input_data=test_windows)\n",
    "model_3_preds[:5]"
   ]
  },
  {
   "cell_type": "code",
   "execution_count": 187,
   "metadata": {},
   "outputs": [
    {
     "data": {
      "text/plain": [
       "(TensorShape([551, 7]), (551, 7), TensorShape([556]))"
      ]
     },
     "execution_count": 187,
     "metadata": {},
     "output_type": "execute_result"
    }
   ],
   "source": [
    "model_3_preds.shape, test_labels.shape, model_1_preds.shape"
   ]
  },
  {
   "cell_type": "code",
   "execution_count": 188,
   "metadata": {},
   "outputs": [
    {
     "data": {
      "text/plain": [
       "{'mae': array([  667.05804 ,   465.82562 ,   357.0385  ,   480.79477 ,\n",
       "          379.054   ,   482.89752 ,   509.3524  ,   515.0701  ,\n",
       "          562.9141  ,   566.89484 ,   625.2936  ,   701.2836  ,\n",
       "          886.51746 ,   880.45013 ,   645.6571  ,   307.84467 ,\n",
       "          197.02393 ,   224.36781 ,   167.10295 ,   201.72078 ,\n",
       "          207.00871 ,   279.79395 ,   486.9405  ,   351.56808 ,\n",
       "          283.76096 ,    93.737724,    77.97217 ,   110.72921 ,\n",
       "          174.54443 ,   198.51172 ,   268.89752 ,   406.63324 ,\n",
       "          333.09146 ,   316.9317  ,   318.4196  ,   289.6633  ,\n",
       "          308.52496 ,   262.02066 ,   228.30762 ,   197.97664 ,\n",
       "          423.91412 ,    66.06034 ,    76.597725,    64.72384 ,\n",
       "           95.387764,   152.27393 ,    63.98919 ,   180.2613  ,\n",
       "          133.33357 ,   149.2006  ,   162.59856 ,   129.02783 ,\n",
       "          173.02371 ,   243.89432 ,   197.34221 ,   335.4388  ,\n",
       "          566.8364  ,   481.04938 ,   496.45508 ,   541.3974  ,\n",
       "          321.60678 ,   162.10115 ,   248.3033  ,   336.7023  ,\n",
       "          367.01334 ,   487.84146 ,   363.25613 ,   501.7066  ,\n",
       "          126.74149 ,   212.33469 ,   314.15695 ,   462.4477  ,\n",
       "          551.35297 ,   412.11203 ,   356.43414 ,   320.99902 ,\n",
       "          287.21274 ,   336.33746 ,   484.3672  ,   775.4993  ,\n",
       "          748.70074 ,   602.5025  ,   304.53082 ,   228.93848 ,\n",
       "          211.28069 ,   229.93723 ,   197.13574 ,   223.40611 ,\n",
       "          410.21902 ,   611.357   ,   459.22266 ,   472.14273 ,\n",
       "          333.45703 ,   138.61244 ,   291.19907 ,   329.46722 ,\n",
       "          405.26215 ,   536.8785  ,   616.5317  ,   810.5396  ,\n",
       "          550.9132  ,   383.75375 ,   173.41476 ,   398.94672 ,\n",
       "          266.507   ,   435.7991  ,   516.9841  ,   653.64075 ,\n",
       "          983.4926  ,   971.2496  ,   833.53125 ,   328.76324 ,\n",
       "          207.42006 ,   221.20508 ,   223.95912 ,   261.63553 ,\n",
       "          359.77866 ,   472.2198  ,   669.3584  ,  1127.8715  ,\n",
       "         1716.6853  ,  2196.242   ,  2134.2305  ,  2071.3057  ,\n",
       "         2321.3132  ,  2649.7573  ,  1178.2904  ,   656.3423  ,\n",
       "          480.29547 ,   404.488   ,   507.0362  ,   431.99512 ,\n",
       "          504.0012  ,   291.5632  ,   226.59904 ,   226.87932 ,\n",
       "          339.0173  ,   261.12326 ,   271.73737 ,   349.49338 ,\n",
       "          195.04646 ,   382.17172 ,   566.4287  ,   870.7729  ,\n",
       "          792.42737 ,   878.946   ,   784.0621  ,   378.08502 ,\n",
       "          274.67307 ,   242.19357 ,   274.0023  ,   393.24268 ,\n",
       "          401.5249  ,   616.0341  ,   560.35895 ,   186.90471 ,\n",
       "          207.14719 ,   193.92955 ,   182.75119 ,   331.58307 ,\n",
       "          345.13412 ,   192.45647 ,   291.74072 ,   248.71986 ,\n",
       "          191.85498 ,   329.38455 ,   544.0069  ,   705.22705 ,\n",
       "          563.8058  ,   665.4422  ,   745.298   ,   912.44916 ,\n",
       "          905.13806 ,  1030.1628  ,   418.58246 ,   340.7596  ,\n",
       "          319.14926 ,   316.80386 ,   364.5759  ,   465.9897  ,\n",
       "          492.93625 ,   531.28015 ,   713.0078  ,   989.42883 ,\n",
       "          851.76227 ,   280.7747  ,   398.3206  ,   657.5939  ,\n",
       "          307.84738 ,   169.61719 ,   233.40402 ,   231.83287 ,\n",
       "          392.48605 ,   621.94    ,   651.33344 ,   584.8167  ,\n",
       "          205.25125 ,   284.0688  ,   343.5095  ,   334.6123  ,\n",
       "          590.1073  ,   736.03754 ,   772.72473 ,   420.65332 ,\n",
       "          327.3898  ,   236.51004 ,   201.62193 ,   646.96497 ,\n",
       "          190.46777 ,   162.72865 ,    98.02818 ,   145.80818 ,\n",
       "          198.67326 ,   291.86008 ,   353.1346  ,   344.05273 ,\n",
       "          588.5226  ,   137.02791 ,   246.83133 ,   235.67732 ,\n",
       "          146.65234 ,   234.22643 ,   188.0964  ,   124.55106 ,\n",
       "          141.72502 ,   159.73953 ,   209.13379 ,   255.71986 ,\n",
       "          402.048   ,   423.7705  ,   337.7793  ,   260.07297 ,\n",
       "          220.42369 ,   132.10449 ,   137.53822 ,   117.30511 ,\n",
       "           56.787807,   199.57967 ,    94.851425,    93.518135,\n",
       "          136.2758  ,   147.19797 ,   102.06529 ,   143.87947 ,\n",
       "          260.32156 ,   183.90598 ,   214.77162 ,   149.71317 ,\n",
       "          175.19727 ,   129.76381 ,   125.56124 ,   143.28822 ,\n",
       "          136.58328 ,   114.79297 ,   173.57533 ,   316.84    ,\n",
       "          581.6431  ,   659.3658  ,   758.12164 ,   852.9438  ,\n",
       "         1055.4658  ,  1245.4012  ,  1268.5616  ,   351.00238 ,\n",
       "          263.48898 ,   297.82785 ,   282.19196 ,   258.31918 ,\n",
       "          419.27148 ,   142.84975 ,   253.54869 ,   265.0678  ,\n",
       "          230.02162 ,   258.89035 ,   356.36035 ,   361.14468 ,\n",
       "          255.09543 ,   368.53683 ,   265.58817 ,   168.39787 ,\n",
       "          220.65527 ,   171.17885 ,   251.33273 ,   252.83678 ,\n",
       "          500.04242 ,   419.34946 ,   308.93207 ,   339.15945 ,\n",
       "          287.19223 ,   337.28043 ,   260.44058 ,   269.46246 ,\n",
       "          117.822266,   101.68178 ,   383.26926 ,   430.9993  ,\n",
       "          695.19965 ,   888.7042  ,  1085.7662  ,  1525.805   ,\n",
       "         1382.138   ,   943.09235 ,   554.60516 ,   131.12402 ,\n",
       "          123.08385 ,   151.46568 ,   244.64592 ,   290.98605 ,\n",
       "          227.76102 ,   199.09431 ,   260.7521  ,   318.72543 ,\n",
       "          239.26158 ,   189.44922 ,   436.5996  ,   413.8316  ,\n",
       "          461.1882  ,   395.11832 ,   317.3863  ,   117.54618 ,\n",
       "          222.9015  ,   362.38058 ,    80.81487 ,   175.90123 ,\n",
       "          355.73004 ,   311.673   ,   390.5293  ,   287.79047 ,\n",
       "          321.90723 ,   218.83803 ,   137.04631 ,   225.90291 ,\n",
       "          309.6723  ,   411.035   ,   549.7626  ,   675.2376  ,\n",
       "          577.4781  ,   405.03207 ,   161.0392  ,   164.78725 ,\n",
       "          330.96707 ,   312.6346  ,   404.53223 ,   501.32602 ,\n",
       "          739.91547 ,  1012.1829  ,  1170.0463  ,  1079.0762  ,\n",
       "         1171.2343  ,   239.99902 ,   238.8969  ,   159.65932 ,\n",
       "          248.81111 ,   225.43596 ,   235.57742 ,   272.50558 ,\n",
       "          204.03041 ,   414.71973 ,   604.6225  ,   632.3743  ,\n",
       "          888.4555  ,   985.58136 ,  1213.2767  ,  1090.0726  ,\n",
       "          359.90875 ,   404.9082  ,   326.55484 ,   196.47852 ,\n",
       "          455.83844 ,   740.2132  ,   868.18274 ,   778.44446 ,\n",
       "         1070.0547  ,  1277.532   ,  1645.1543  ,  1516.3379  ,\n",
       "          886.35156 ,   645.36945 ,   523.4001  ,   675.0142  ,\n",
       "          960.87946 ,  1247.202   ,  1080.248   ,  1098.4713  ,\n",
       "          962.1632  ,   830.80774 ,  1437.9255  ,  1439.0284  ,\n",
       "         1152.5273  ,   295.62027 ,   309.44113 ,   466.36215 ,\n",
       "          870.4171  ,   803.8613  ,   709.8856  ,   714.64703 ,\n",
       "          607.6331  ,   399.2564  ,   827.41766 ,  1741.3702  ,\n",
       "         2341.3503  ,  2593.2056  ,  3156.0474  ,  3226.2869  ,\n",
       "         3482.9185  ,  2145.366   ,   715.53625 ,   606.9863  ,\n",
       "         1079.747   ,  1069.3365  ,  1271.1769  ,  1643.2986  ,\n",
       "         2461.4077  ,  3160.9846  ,  2987.6516  ,  2249.2031  ,\n",
       "         2677.0579  ,  2609.225   ,  3372.0254  ,  2981.9294  ,\n",
       "         3844.8484  ,  4838.11    ,  4284.827   ,  4105.7563  ,\n",
       "         4581.5024  ,  3047.298   ,  2831.8074  ,  2568.3645  ,\n",
       "         3707.8342  ,  5202.732   ,  4333.0767  ,  1824.0592  ,\n",
       "          805.5329  ,  1083.9056  ,  2825.2014  ,  2801.3855  ,\n",
       "         3100.2673  ,  2989.6284  ,  3380.0032  ,  4455.406   ,\n",
       "         3559.9382  ,  1081.2483  ,   981.8273  ,  1673.7662  ,\n",
       "         1401.4113  ,  1448.2645  ,  2213.2036  ,  4135.896   ,\n",
       "         2870.8977  ,  2372.1052  ,  2745.8816  ,  2930.3442  ,\n",
       "         4261.857   ,  4866.2104  ,  4168.165   ,  5690.4766  ,\n",
       "         6749.609   ,  5855.4917  ,  7032.3433  ,  2929.8464  ,\n",
       "         1674.8398  ,  1865.1814  ,  1263.9928  ,  2391.6746  ,\n",
       "         2294.9336  ,  2767.4497  ,  3854.1316  ,  3616.5212  ,\n",
       "         2495.605   ,  3207.3984  ,  5534.735   ,  7328.46    ,\n",
       "        10068.469   ,  9441.265   ,  5647.0264  ,  2592.7869  ,\n",
       "         2052.201   ,  1955.1702  ,  2595.8464  ,  4082.9504  ,\n",
       "         3018.1223  ,  3457.6042  ,  2660.7761  ,  4815.471   ,\n",
       "         3867.3086  ,  6766.7124  ,  6179.7373  ,  6587.1685  ,\n",
       "         4398.9233  ,  2148.8794  ,  1642.8817  ,  1549.0245  ,\n",
       "         2145.4297  ,  2731.0496  ,  1947.2188  ,  1484.3722  ,\n",
       "         3183.4749  ,  4255.405   ,  5297.3774  ,  5207.8677  ,\n",
       "         4897.7944  ,  2554.6223  ,  1665.538   ,  3024.9011  ,\n",
       "         4317.544   ,  3756.726   ,  2691.0403  ,  2982.9978  ,\n",
       "         1652.0809  ,   626.81805 ,   908.68915 ,  1106.1038  ,\n",
       "         1078.1049  ,   790.2037  ,  1168.067   ,  1198.8376  ,\n",
       "         1469.0792  ,  2478.3416  ,  3104.2644  ,  3827.273   ,\n",
       "         2371.7622  ,  2263.3303  ,  2880.9817  ,  4388.543   ,\n",
       "         6075.933   ,  8267.644   ,  8403.349   ,  8606.531   ,\n",
       "         5863.5005  ,  4881.231   ,  4009.259   ,  2474.2322  ,\n",
       "         1579.8822  ,  2549.0066  ,  3794.2388  ,  5423.5513  ,\n",
       "         2889.2449  ,  1475.3147  ,  1985.6992  ,  2321.5374  ,\n",
       "          870.32587 ,  1375.4994  ,  1334.2042  ,  1314.2177  ,\n",
       "         2934.4302  ,  1633.4403  ,  2122.7188  ,  3146.2153  ,\n",
       "         5346.265   ,  8002.2144  ,  8328.41    ], dtype=float32),\n",
       " 'mse': array([5.10080312e+05, 2.51077672e+05, 1.89711922e+05, 2.93970312e+05,\n",
       "        1.93636281e+05, 2.79818531e+05, 3.21271969e+05, 3.40275438e+05,\n",
       "        4.72240094e+05, 5.38041188e+05, 6.19915562e+05, 6.64310688e+05,\n",
       "        9.16303000e+05, 8.29499000e+05, 4.57316719e+05, 1.17794930e+05,\n",
       "        4.63053242e+04, 7.01994219e+04, 3.98909102e+04, 6.21660078e+04,\n",
       "        5.03471484e+04, 1.08470875e+05, 2.76702031e+05, 1.43746781e+05,\n",
       "        9.33591875e+04, 9.87151562e+03, 7.53347217e+03, 1.50206699e+04,\n",
       "        4.33762773e+04, 5.13430625e+04, 8.98358516e+04, 1.84703109e+05,\n",
       "        1.34755359e+05, 1.75769625e+05, 1.88457922e+05, 1.53159734e+05,\n",
       "        1.44987500e+05, 1.23170680e+05, 8.31735234e+04, 6.33436484e+04,\n",
       "        1.89823734e+05, 5.31737939e+03, 9.82389160e+03, 7.05303467e+03,\n",
       "        1.36905918e+04, 2.62368242e+04, 8.01683252e+03, 3.73753984e+04,\n",
       "        1.96097363e+04, 2.95230977e+04, 3.93707461e+04, 2.21381719e+04,\n",
       "        4.61060625e+04, 7.79063359e+04, 9.30264453e+04, 1.84046531e+05,\n",
       "        3.70912844e+05, 2.94006656e+05, 3.08519500e+05, 3.20189938e+05,\n",
       "        1.25889633e+05, 9.03776953e+04, 1.11732625e+05, 1.79794156e+05,\n",
       "        2.21467578e+05, 3.12494344e+05, 1.59215031e+05, 2.75004969e+05,\n",
       "        2.28905312e+04, 6.09582617e+04, 1.31935797e+05, 2.64035062e+05,\n",
       "        3.47770562e+05, 2.46437828e+05, 1.86195422e+05, 1.31212828e+05,\n",
       "        1.08378617e+05, 2.00838422e+05, 3.22842250e+05, 6.78171438e+05,\n",
       "        5.87990188e+05, 3.81942000e+05, 1.17126203e+05, 6.66313906e+04,\n",
       "        6.34625625e+04, 7.62939766e+04, 5.25979492e+04, 8.65728594e+04,\n",
       "        1.88741219e+05, 4.17658000e+05, 2.52619609e+05, 2.63814031e+05,\n",
       "        1.54414469e+05, 2.48912246e+04, 1.13779586e+05, 1.35762594e+05,\n",
       "        2.83631188e+05, 4.02407438e+05, 4.85508656e+05, 7.20622312e+05,\n",
       "        3.49357750e+05, 1.69911281e+05, 5.45299297e+04, 1.83173984e+05,\n",
       "        1.48788906e+05, 3.51297281e+05, 4.25518438e+05, 6.11668875e+05,\n",
       "        1.21178138e+06, 1.06025462e+06, 7.28573875e+05, 1.45380953e+05,\n",
       "        5.40415273e+04, 8.24653047e+04, 6.13187227e+04, 7.70874453e+04,\n",
       "        2.28197516e+05, 3.50761500e+05, 5.81913125e+05, 2.27224275e+06,\n",
       "        4.41635600e+06, 6.44405100e+06, 6.15082300e+06, 5.73322500e+06,\n",
       "        6.28814050e+06, 7.13078400e+06, 1.66135425e+06, 6.16650438e+05,\n",
       "        3.26229062e+05, 2.00822203e+05, 3.49165781e+05, 2.21109719e+05,\n",
       "        3.25797062e+05, 1.16062992e+05, 8.69852031e+04, 9.18336328e+04,\n",
       "        1.66861125e+05, 1.08664484e+05, 1.52794453e+05, 2.25035031e+05,\n",
       "        7.45007656e+04, 2.05344328e+05, 3.70039062e+05, 7.99110125e+05,\n",
       "        7.16177312e+05, 8.26691438e+05, 6.47377438e+05, 1.79560000e+05,\n",
       "        1.15822039e+05, 7.82302891e+04, 1.10125961e+05, 1.84933406e+05,\n",
       "        2.08729391e+05, 4.40260781e+05, 3.58177281e+05, 4.87967305e+04,\n",
       "        7.58236875e+04, 5.29175273e+04, 4.56101758e+04, 1.41987516e+05,\n",
       "        1.53597406e+05, 7.41173672e+04, 9.96456719e+04, 8.67321094e+04,\n",
       "        5.44583477e+04, 1.33070000e+05, 3.19431812e+05, 7.06078062e+05,\n",
       "        6.20465438e+05, 7.58383500e+05, 7.98989500e+05, 1.05303425e+06,\n",
       "        9.55957500e+05, 1.06689012e+06, 2.04255297e+05, 2.39231156e+05,\n",
       "        1.77593953e+05, 1.24808109e+05, 1.55189406e+05, 2.73605719e+05,\n",
       "        2.98422906e+05, 3.52022344e+05, 7.27202875e+05, 1.15525162e+06,\n",
       "        8.61892500e+05, 1.49618594e+05, 2.32781031e+05, 4.74089656e+05,\n",
       "        1.23479750e+05, 5.85931602e+04, 8.42543359e+04, 7.95694609e+04,\n",
       "        2.22594906e+05, 4.73003312e+05, 5.18824469e+05, 4.15589344e+05,\n",
       "        5.76750039e+04, 9.11564844e+04, 1.51088656e+05, 1.50118531e+05,\n",
       "        4.65334750e+05, 6.37660062e+05, 6.99004812e+05, 2.40169750e+05,\n",
       "        1.75540047e+05, 1.28331117e+05, 7.15813906e+04, 4.48557656e+05,\n",
       "        5.56534023e+04, 3.33840938e+04, 2.30771582e+04, 4.13103242e+04,\n",
       "        7.38151172e+04, 1.38641547e+05, 1.56697031e+05, 1.44775562e+05,\n",
       "        3.68339438e+05, 3.08359746e+04, 8.60045000e+04, 9.68024531e+04,\n",
       "        3.11207637e+04, 7.48473594e+04, 5.98956055e+04, 1.87639668e+04,\n",
       "        2.63001074e+04, 3.53573438e+04, 7.55535547e+04, 8.13040000e+04,\n",
       "        2.02302031e+05, 2.01160734e+05, 1.31453203e+05, 7.64944141e+04,\n",
       "        5.97538828e+04, 2.59584785e+04, 2.34763613e+04, 2.37771777e+04,\n",
       "        6.56091748e+03, 4.75680000e+04, 1.31723203e+04, 9.91901074e+03,\n",
       "        2.98546465e+04, 3.40698906e+04, 2.77251445e+04, 2.80144961e+04,\n",
       "        7.37773672e+04, 3.89574492e+04, 5.47959336e+04, 3.75689805e+04,\n",
       "        4.07663398e+04, 2.00748652e+04, 2.26870195e+04, 2.73683535e+04,\n",
       "        3.73498555e+04, 2.25073789e+04, 4.83275078e+04, 1.28333945e+05,\n",
       "        6.76636812e+05, 7.87839312e+05, 1.03946731e+06, 1.09946900e+06,\n",
       "        1.45809575e+06, 1.82458125e+06, 1.64449425e+06, 1.68606109e+05,\n",
       "        1.04523688e+05, 1.08601438e+05, 1.13481500e+05, 1.25744320e+05,\n",
       "        2.04696672e+05, 3.95561914e+04, 8.54870625e+04, 8.60824609e+04,\n",
       "        7.91160000e+04, 1.23951930e+05, 1.89007922e+05, 1.62837219e+05,\n",
       "        8.16983828e+04, 1.48424719e+05, 9.57620156e+04, 4.71639688e+04,\n",
       "        6.65277891e+04, 5.17451250e+04, 9.63199766e+04, 7.79171641e+04,\n",
       "        2.90579031e+05, 2.09762391e+05, 1.24617000e+05, 1.43874328e+05,\n",
       "        1.15292086e+05, 1.33740297e+05, 9.68471953e+04, 9.31821094e+04,\n",
       "        4.54205391e+04, 2.26895938e+04, 1.91740672e+05, 2.71986062e+05,\n",
       "        7.14312188e+05, 1.18435075e+06, 1.57135275e+06, 2.61415200e+06,\n",
       "        1.98951038e+06, 9.13614062e+05, 3.42274781e+05, 2.89055566e+04,\n",
       "        2.28840840e+04, 4.81455898e+04, 8.87183281e+04, 1.51439031e+05,\n",
       "        8.61186094e+04, 5.69453477e+04, 8.93906797e+04, 1.23978695e+05,\n",
       "        7.14975234e+04, 6.19884883e+04, 2.61918734e+05, 2.57509719e+05,\n",
       "        2.99628531e+05, 2.00380031e+05, 1.31401234e+05, 1.86728164e+04,\n",
       "        5.09252109e+04, 1.38051484e+05, 8.63992676e+03, 5.10966211e+04,\n",
       "        1.69892328e+05, 1.46379594e+05, 1.95784922e+05, 9.95119219e+04,\n",
       "        1.13940586e+05, 5.77373945e+04, 3.62450430e+04, 1.09302305e+05,\n",
       "        1.88230141e+05, 2.61769578e+05, 3.64392438e+05, 5.03804844e+05,\n",
       "        3.70935719e+05, 1.80945281e+05, 5.73729648e+04, 4.00346367e+04,\n",
       "        1.51499906e+05, 1.28680922e+05, 3.55840906e+05, 5.98178812e+05,\n",
       "        9.61693312e+05, 1.40591812e+06, 1.62498500e+06, 1.29490312e+06,\n",
       "        1.46216588e+06, 8.74370391e+04, 6.31810703e+04, 3.24909375e+04,\n",
       "        7.44698672e+04, 6.15945039e+04, 8.48642734e+04, 7.78863359e+04,\n",
       "        8.19017031e+04, 4.86313312e+05, 8.77522438e+05, 7.28738125e+05,\n",
       "        1.13393612e+06, 1.21743425e+06, 1.72845538e+06, 1.28127800e+06,\n",
       "        1.84075828e+05, 2.21114578e+05, 1.60317469e+05, 5.74937461e+04,\n",
       "        3.78415000e+05, 8.77819875e+05, 1.23659212e+06, 9.81649500e+05,\n",
       "        1.64128575e+06, 2.05168138e+06, 3.07300400e+06, 2.36691275e+06,\n",
       "        8.90454312e+05, 4.86148938e+05, 4.03785219e+05, 1.13370888e+06,\n",
       "        1.63787288e+06, 2.26839200e+06, 1.75454375e+06, 1.75452362e+06,\n",
       "        1.45584800e+06, 8.83223312e+05, 2.33703125e+06, 2.20254425e+06,\n",
       "        1.42047738e+06, 1.19302688e+05, 1.85366500e+05, 4.65001969e+05,\n",
       "        9.08846562e+05, 7.99674000e+05, 7.10170438e+05, 8.83989438e+05,\n",
       "        4.86479812e+05, 2.18963719e+05, 1.39562100e+06, 5.48393050e+06,\n",
       "        8.44693800e+06, 9.73213000e+06, 1.23833210e+07, 1.22124610e+07,\n",
       "        1.25801760e+07, 4.70143500e+06, 7.57112688e+05, 4.96891938e+05,\n",
       "        1.41205925e+06, 1.46135088e+06, 2.81077000e+06, 4.23979500e+06,\n",
       "        8.75503300e+06, 1.19172710e+07, 1.02892530e+07, 7.99556450e+06,\n",
       "        1.13102560e+07, 9.12667400e+06, 1.45842910e+07, 1.32285390e+07,\n",
       "        2.34818500e+07, 3.33538460e+07, 2.68835480e+07, 2.20790040e+07,\n",
       "        2.57045420e+07, 1.36715020e+07, 9.41802900e+06, 9.80646600e+06,\n",
       "        1.90237860e+07, 2.96340280e+07, 2.01284760e+07, 4.22941650e+06,\n",
       "        1.35400025e+06, 1.74320800e+06, 1.19261410e+07, 1.25558670e+07,\n",
       "        1.41684980e+07, 1.46380370e+07, 1.49420270e+07, 2.08843800e+07,\n",
       "        1.48441900e+07, 2.01646912e+06, 1.61657175e+06, 5.28124050e+06,\n",
       "        2.70605650e+06, 3.18079325e+06, 5.93560550e+06, 1.90395640e+07,\n",
       "        1.01248370e+07, 7.80932750e+06, 1.06168270e+07, 9.92942300e+06,\n",
       "        2.68115560e+07, 3.60120480e+07, 2.92767260e+07, 4.49721200e+07,\n",
       "        5.69259200e+07, 3.97163760e+07, 5.17402680e+07, 9.62837400e+06,\n",
       "        3.58791550e+06, 6.00004700e+06, 2.45365050e+06, 8.26850300e+06,\n",
       "        9.00764600e+06, 1.21807600e+07, 1.92535620e+07, 1.64180470e+07,\n",
       "        9.42085300e+06, 1.36733300e+07, 4.57118800e+07, 6.74111600e+07,\n",
       "        1.10703672e+08, 9.40474000e+07, 3.45526320e+07, 1.00921900e+07,\n",
       "        5.28144850e+06, 5.17736100e+06, 8.59303400e+06, 1.83228120e+07,\n",
       "        1.09204670e+07, 1.48933380e+07, 1.13590780e+07, 3.01379300e+07,\n",
       "        2.07700200e+07, 5.41113400e+07, 4.84211720e+07, 4.64170680e+07,\n",
       "        2.12965300e+07, 6.97724000e+06, 4.28502350e+06, 3.67483325e+06,\n",
       "        5.74914650e+06, 8.15566250e+06, 6.08798300e+06, 4.86586850e+06,\n",
       "        1.66218030e+07, 2.84133480e+07, 3.72975800e+07, 3.15108060e+07,\n",
       "        2.66532540e+07, 8.26592000e+06, 4.02831350e+06, 1.23265740e+07,\n",
       "        2.03840420e+07, 1.58246130e+07, 8.09203450e+06, 9.38704100e+06,\n",
       "        4.19483600e+06, 5.64576688e+05, 1.28711262e+06, 2.44576275e+06,\n",
       "        1.82140388e+06, 9.80736688e+05, 1.85518675e+06, 1.84612075e+06,\n",
       "        5.87715550e+06, 9.54418700e+06, 1.22808550e+07, 1.68641660e+07,\n",
       "        6.70014650e+06, 6.72760650e+06, 1.14155860e+07, 2.95164620e+07,\n",
       "        5.16780880e+07, 8.05913200e+07, 8.19649520e+07, 8.21341680e+07,\n",
       "        4.23944040e+07, 3.02562920e+07, 2.21318720e+07, 9.68153300e+06,\n",
       "        4.33767500e+06, 1.01843930e+07, 1.69312080e+07, 3.17285800e+07,\n",
       "        9.66950600e+06, 3.30346650e+06, 4.89844550e+06, 6.16325250e+06,\n",
       "        2.31206375e+06, 2.88674975e+06, 2.44448050e+06, 3.33147425e+06,\n",
       "        9.87433500e+06, 4.75538950e+06, 7.17877600e+06, 1.78420340e+07,\n",
       "        4.56583400e+07, 8.32005840e+07, 9.06871760e+07], dtype=float32),\n",
       " 'rmse': array([  714.1991  ,   501.0765  ,   435.55933 ,   542.1903  ,\n",
       "          440.04123 ,   528.97876 ,   566.8086  ,   583.3313  ,\n",
       "          687.19727 ,   733.5129  ,   787.34717 ,   815.05255 ,\n",
       "          957.2372  ,   910.7684  ,   676.25195 ,   343.21265 ,\n",
       "          215.18672 ,   264.95172 ,   199.7271  ,   249.33112 ,\n",
       "          224.3817  ,   329.34918 ,   526.0247  ,   379.13953 ,\n",
       "          305.54736 ,    99.3555  ,    86.79558 ,   122.558846,\n",
       "          208.26973 ,   226.59007 ,   299.7263  ,   429.771   ,\n",
       "          367.0904  ,   419.24887 ,   434.1174  ,   391.35626 ,\n",
       "          380.77225 ,   350.95682 ,   288.3982  ,   251.68164 ,\n",
       "          435.68765 ,    72.920364,    99.11555 ,    83.982346,\n",
       "          117.006805,   161.97784 ,    89.536766,   193.32718 ,\n",
       "          140.03477 ,   171.82286 ,   198.42062 ,   148.78902 ,\n",
       "          214.72322 ,   279.11707 ,   305.00238 ,   429.00644 ,\n",
       "          609.0261  ,   542.2238  ,   555.4453  ,   565.8533  ,\n",
       "          354.8093  ,   300.62885 ,   334.2643  ,   424.02142 ,\n",
       "          470.60342 ,   559.01196 ,   399.01758 ,   524.4092  ,\n",
       "          151.29617 ,   246.89726 ,   363.22968 ,   513.84344 ,\n",
       "          589.72076 ,   496.42505 ,   431.50366 ,   362.23312 ,\n",
       "          329.20908 ,   448.15    ,   568.1921  ,   823.51166 ,\n",
       "          766.8052  ,   618.0146  ,   342.23706 ,   258.13055 ,\n",
       "          251.91777 ,   276.21365 ,   229.34242 ,   294.23267 ,\n",
       "          434.44357 ,   646.26465 ,   502.6128  ,   513.6283  ,\n",
       "          392.95605 ,   157.76953 ,   337.3123  ,   368.45975 ,\n",
       "          532.5704  ,   634.3559  ,   696.7845  ,   848.8948  ,\n",
       "          591.06494 ,   412.20297 ,   233.51645 ,   427.9883  ,\n",
       "          385.73166 ,   592.70337 ,   652.31775 ,   782.09265 ,\n",
       "         1100.8094  ,  1029.6866  ,   853.56537 ,   381.28854 ,\n",
       "          232.46834 ,   287.16772 ,   247.62617 ,   277.64627 ,\n",
       "          477.70023 ,   592.2512  ,   762.8323  ,  1507.396   ,\n",
       "         2101.5127  ,  2538.5134  ,  2480.0852  ,  2394.4153  ,\n",
       "         2507.6165  ,  2670.3528  ,  1288.9353  ,   785.27094 ,\n",
       "          571.1647  ,   448.1319  ,   590.9025  ,   470.22305 ,\n",
       "          570.7864  ,   340.68018 ,   294.93253 ,   303.04065 ,\n",
       "          408.4864  ,   329.64297 ,   390.8893  ,   474.37857 ,\n",
       "          272.94827 ,   453.14935 ,   608.30835 ,   893.9296  ,\n",
       "          846.2726  ,   909.2257  ,   804.59766 ,   423.7452  ,\n",
       "          340.3264  ,   279.69678 ,   331.85233 ,   430.03885 ,\n",
       "          456.8691  ,   663.5215  ,   598.4791  ,   220.89983 ,\n",
       "          275.36102 ,   230.0381  ,   213.56538 ,   376.81232 ,\n",
       "          391.91504 ,   272.24506 ,   315.66702 ,   294.50314 ,\n",
       "          233.36313 ,   364.7876  ,   565.183   ,   840.2845  ,\n",
       "          787.6963  ,   870.8522  ,   893.8621  ,  1026.1746  ,\n",
       "          977.7308  ,  1032.9037  ,   451.94614 ,   489.1126  ,\n",
       "          421.41898 ,   353.28192 ,   393.94086 ,   523.07336 ,\n",
       "          546.281   ,   593.3147  ,   852.7619  ,  1074.8263  ,\n",
       "          928.38165 ,   386.80563 ,   482.47388 ,   688.5417  ,\n",
       "          351.39685 ,   242.06024 ,   290.26596 ,   282.0806  ,\n",
       "          471.79965 ,   687.7524  ,   720.29474 ,   644.6622  ,\n",
       "          240.1562  ,   301.92133 ,   388.70123 ,   387.45132 ,\n",
       "          682.1545  ,   798.5362  ,   836.06506 ,   490.07117 ,\n",
       "          418.975   ,   358.23334 ,   267.547   ,   669.74445 ,\n",
       "          235.90973 ,   182.71315 ,   151.91168 ,   203.24942 ,\n",
       "          271.68936 ,   372.346   ,   395.84976 ,   380.49384 ,\n",
       "          606.9097  ,   175.60175 ,   293.26523 ,   311.13092 ,\n",
       "          176.41078 ,   273.58246 ,   244.7358  ,   136.98163 ,\n",
       "          162.17308 ,   188.03549 ,   274.87006 ,   285.13855 ,\n",
       "          449.77997 ,   448.50946 ,   362.56476 ,   276.57623 ,\n",
       "          244.44608 ,   161.11635 ,   153.21997 ,   154.1985  ,\n",
       "           80.99949 ,   218.10089 ,   114.77073 ,    99.59423 ,\n",
       "          172.78497 ,   184.5803  ,   166.5087  ,   167.37532 ,\n",
       "          271.6199  ,   197.37642 ,   234.08531 ,   193.8272  ,\n",
       "          201.90675 ,   141.68579 ,   150.6221  ,   165.43384 ,\n",
       "          193.26111 ,   150.0246  ,   219.83519 ,   358.23727 ,\n",
       "          822.57935 ,   887.60315 ,  1019.5427  ,  1048.5557  ,\n",
       "         1207.5164  ,  1350.7706  ,  1282.3783  ,   410.61673 ,\n",
       "          323.30124 ,   329.54733 ,   336.87015 ,   354.60446 ,\n",
       "          452.43417 ,   198.88739 ,   292.3817  ,   293.39813 ,\n",
       "          281.27567 ,   352.06808 ,   434.75043 ,   403.53094 ,\n",
       "          285.82928 ,   385.25928 ,   309.45438 ,   217.17267 ,\n",
       "          257.9298  ,   227.47556 ,   310.35458 ,   279.13647 ,\n",
       "          539.05383 ,   457.99823 ,   353.01132 ,   379.3077  ,\n",
       "          339.54688 ,   365.7052  ,   311.20282 ,   305.25745 ,\n",
       "          213.12096 ,   150.63066 ,   437.88202 ,   521.5228  ,\n",
       "          845.1699  ,  1088.2788  ,  1253.5361  ,  1616.834   ,\n",
       "         1410.5     ,   955.8316  ,   585.04254 ,   170.01634 ,\n",
       "          151.27486 ,   219.42104 ,   297.85623 ,   389.15167 ,\n",
       "          293.45972 ,   238.63225 ,   298.98273 ,   352.10608 ,\n",
       "          267.3902  ,   248.97487 ,   511.77997 ,   507.45416 ,\n",
       "          547.38336 ,   447.63828 ,   362.49307 ,   136.64851 ,\n",
       "          225.66615 ,   371.5528  ,    92.95121 ,   226.04562 ,\n",
       "          412.17996 ,   382.59586 ,   442.4759  ,   315.4551  ,\n",
       "          337.55087 ,   240.28607 ,   190.3813  ,   330.60898 ,\n",
       "          433.85498 ,   511.63422 ,   603.6493  ,   709.7921  ,\n",
       "          609.0449  ,   425.37665 ,   239.52655 ,   200.08658 ,\n",
       "          389.2299  ,   358.72122 ,   596.52405 ,   773.4202  ,\n",
       "          980.6596  ,  1185.7142  ,  1274.749   ,  1137.9381  ,\n",
       "         1209.2006  ,   295.69754 ,   251.35844 ,   180.25243 ,\n",
       "          272.89166 ,   248.1824  ,   291.31473 ,   279.08124 ,\n",
       "          286.18472 ,   697.3617  ,   936.76166 ,   853.6616  ,\n",
       "         1064.8644  ,  1103.374   ,  1314.7073  ,  1131.9355  ,\n",
       "          429.0406  ,   470.2282  ,   400.39664 ,   239.77853 ,\n",
       "          615.1545  ,   936.9204  ,  1112.0216  ,   990.7823  ,\n",
       "         1281.1267  ,  1432.3691  ,  1752.9985  ,  1538.4774  ,\n",
       "          943.63885 ,   697.24384 ,   635.441   ,  1064.7577  ,\n",
       "         1279.7941  ,  1506.1182  ,  1324.5919  ,  1324.5844  ,\n",
       "         1206.5852  ,   939.7996  ,  1528.7352  ,  1484.0972  ,\n",
       "         1191.8378  ,   345.40222 ,   430.5421  ,   681.9105  ,\n",
       "          953.3345  ,   894.24493 ,   842.7161  ,   940.20715 ,\n",
       "          697.481   ,   467.93558 ,  1181.364   ,  2341.7793  ,\n",
       "         2906.3616  ,  3119.6362  ,  3518.9944  ,  3494.633   ,\n",
       "         3546.8545  ,  2168.2793  ,   870.12225 ,   704.90564 ,\n",
       "         1188.301   ,  1208.8634  ,  1676.5352  ,  2059.0762  ,\n",
       "         2958.8904  ,  3452.1401  ,  3207.6865  ,  2827.6428  ,\n",
       "         3363.0725  ,  3021.0386  ,  3818.9385  ,  3637.106   ,\n",
       "         4845.8076  ,  5775.279   ,  5184.9346  ,  4698.83    ,\n",
       "         5069.965   ,  3697.4995  ,  3068.8809  ,  3131.5278  ,\n",
       "         4361.6265  ,  5443.7144  ,  4486.477   ,  2056.5544  ,\n",
       "         1163.6151  ,  1320.306   ,  3453.4246  ,  3543.4258  ,\n",
       "         3764.1064  ,  3825.9688  ,  3865.4917  ,  4569.943   ,\n",
       "         3852.816   ,  1420.0243  ,  1271.4447  ,  2298.095   ,\n",
       "         1645.0095  ,  1783.4779  ,  2436.3098  ,  4363.435   ,\n",
       "         3181.9548  ,  2794.5173  ,  3258.3472  ,  3151.0986  ,\n",
       "         5177.988   ,  6001.004   ,  5410.7974  ,  6706.1255  ,\n",
       "         7544.927   ,  6302.093   ,  7193.071   ,  3102.9622  ,\n",
       "         1894.1793  ,  2449.4993  ,  1566.4132  ,  2875.5005  ,\n",
       "         3001.2742  ,  3490.0945  ,  4387.888   ,  4051.919   ,\n",
       "         3069.3408  ,  3697.7466  ,  6761.056   ,  8210.43    ,\n",
       "        10521.581   ,  9697.804   ,  5878.149   ,  3176.8208  ,\n",
       "         2298.1401  ,  2275.3816  ,  2931.3877  ,  4280.5156  ,\n",
       "         3304.613   ,  3859.1887  ,  3370.3232  ,  5489.8022  ,\n",
       "         4557.4136  ,  7356.041   ,  6958.532   ,  6813.0073  ,\n",
       "         4614.8164  ,  2641.4465  ,  2070.0298  ,  1916.9855  ,\n",
       "         2397.7378  ,  2855.812   ,  2467.3838  ,  2205.8713  ,\n",
       "         4076.9846  ,  5330.4175  ,  6107.1743  ,  5613.4487  ,\n",
       "         5162.679   ,  2875.0513  ,  2007.0659  ,  3510.922   ,\n",
       "         4514.869   ,  3978.016   ,  2844.6501  ,  3063.828   ,\n",
       "         2048.13    ,   751.3832  ,  1134.5099  ,  1563.8934  ,\n",
       "         1349.594   ,   990.32153 ,  1362.0524  ,  1358.7202  ,\n",
       "         2424.2844  ,  3089.3667  ,  3504.405   ,  4106.6     ,\n",
       "         2588.464   ,  2593.763   ,  3378.6958  ,  5432.9053  ,\n",
       "         7188.7476  ,  8977.267   ,  9053.45    ,  9062.79    ,\n",
       "         6511.0986  ,  5500.572   ,  4704.452   ,  3111.516   ,\n",
       "         2082.7085  ,  3191.2996  ,  4114.755   ,  5632.813   ,\n",
       "         3109.583   ,  1817.5441  ,  2213.2432  ,  2482.5898  ,\n",
       "         1520.5472  ,  1699.0438  ,  1563.4834  ,  1825.2327  ,\n",
       "         3142.3455  ,  2180.6855  ,  2679.3237  ,  4223.9834  ,\n",
       "         6757.0957  ,  9121.436   ,  9522.981   ], dtype=float32),\n",
       " 'mape': array([ 7.614422  ,  5.354992  ,  4.136466  ,  5.609122  ,  4.4859033 ,\n",
       "         5.765562  ,  6.1475935 ,  6.393142  ,  7.2871947 ,  7.5596876 ,\n",
       "         8.542318  ,  9.635152  , 12.240197  , 12.14746   ,  8.921478  ,\n",
       "         4.2166243 ,  2.6930354 ,  2.9855897 ,  2.221893  ,  2.673681  ,\n",
       "         2.8042512 ,  3.791058  ,  6.628107  ,  4.7800145 ,  3.8441143 ,\n",
       "         1.2655714 ,  1.0594199 ,  1.4897853 ,  2.3849936 ,  2.734759  ,\n",
       "         3.7340991 ,  5.665483  ,  4.7002406 ,  4.625841  ,  4.652099  ,\n",
       "         4.2340746 ,  4.4838862 ,  3.8176157 ,  3.305035  ,  2.8139443 ,\n",
       "         5.84816   ,  0.9168661 ,  1.0588999 ,  0.8970164 ,  1.3221852 ,\n",
       "         2.1054964 ,  0.8838395 ,  2.4797728 ,  1.8418899 ,  2.0633714 ,\n",
       "         2.2749054 ,  1.8008898 ,  2.4258332 ,  3.3371787 ,  2.56449   ,\n",
       "         4.325239  ,  7.3000827 ,  6.0782933 ,  6.2054276 ,  6.7418194 ,\n",
       "         3.980548  ,  1.9186633 ,  2.9293818 ,  3.9053879 ,  4.1816115 ,\n",
       "         5.540025  ,  4.1266937 ,  5.6965213 ,  1.4336286 ,  2.435884  ,\n",
       "         3.6538534 ,  5.4059873 ,  6.4872503 ,  4.8787866 ,  4.2165747 ,\n",
       "         3.7670293 ,  3.2878592 ,  3.6623828 ,  5.242489  ,  8.361958  ,\n",
       "         8.030733  ,  6.435659  ,  3.2387648 ,  2.4327362 ,  2.2634795 ,\n",
       "         2.4531403 ,  2.0729299 ,  2.2848845 ,  4.1806073 ,  6.141526  ,\n",
       "         4.550471  ,  4.649519  ,  3.2499318 ,  1.3532807 ,  2.9056432 ,\n",
       "         3.2828853 ,  4.1081214 ,  5.4594016 ,  6.311101  ,  8.308273  ,\n",
       "         5.677621  ,  3.951792  ,  1.7558727 ,  4.1520424 ,  2.8927407 ,\n",
       "         4.8288865 ,  5.761551  ,  7.4037848 , 11.240332  , 11.099899  ,\n",
       "         9.542022  ,  3.7791996 ,  2.3779073 ,  2.4799778 ,  2.5103097 ,\n",
       "         2.9660783 ,  4.31755   ,  5.751884  ,  8.206285  , 16.307962  ,\n",
       "        26.441256  , 35.97465   , 37.07558   , 38.22651   , 43.049194  ,\n",
       "        49.330193  , 22.200758  , 12.487949  ,  8.577097  ,  7.0409036 ,\n",
       "         8.247462  ,  6.9500113 ,  7.813699  ,  4.6595125 ,  3.6384742 ,\n",
       "         3.5996842 ,  5.205603  ,  4.1392508 ,  4.394605  ,  5.6211023 ,\n",
       "         3.1052732 ,  5.9664893 ,  8.562113  , 12.974198  , 11.533519  ,\n",
       "        12.660228  , 11.128299  ,  5.255529  ,  3.7956567 ,  3.443198  ,\n",
       "         3.879873  ,  5.611516  ,  5.7562165 ,  8.963865  ,  8.137596  ,\n",
       "         2.7186623 ,  2.9478614 ,  2.7661326 ,  2.5884662 ,  4.669471  ,\n",
       "         4.8278236 ,  2.6280255 ,  4.0277653 ,  3.5196424 ,  2.6611383 ,\n",
       "         4.386241  ,  7.160168  ,  8.792218  ,  6.6821837 ,  7.737418  ,\n",
       "         8.555247  , 10.38493   , 10.219758  , 11.606099  ,  4.6390915 ,\n",
       "         3.606283  ,  3.3232048 ,  3.3318558 ,  3.8759716 ,  4.975591  ,\n",
       "         5.315662  ,  5.814311  ,  7.9747863 , 10.99699   ,  9.489315  ,\n",
       "         3.1134832 ,  4.151161  ,  6.8425565 ,  3.1875398 ,  1.8049909 ,\n",
       "         2.4884386 ,  2.4908428 ,  4.2643023 ,  6.8092966 ,  7.204081  ,\n",
       "         6.4933004 ,  2.271974  ,  3.1053956 ,  3.7223358 ,  3.5794578 ,\n",
       "         6.1208415 ,  7.610027  ,  7.9366336 ,  4.281127  ,  3.3094292 ,\n",
       "         2.3917232 ,  2.033925  ,  6.6807604 ,  1.9597288 ,  1.6658638 ,\n",
       "         1.0347302 ,  1.5337651 ,  2.093013  ,  3.1059256 ,  3.7409644 ,\n",
       "         3.6449034 ,  6.2553024 ,  1.4523534 ,  2.6273053 ,  2.5155668 ,\n",
       "         1.5692737 ,  2.4957643 ,  2.010959  ,  1.3317307 ,  1.5181764 ,\n",
       "         1.6896546 ,  2.2171962 ,  2.7353177 ,  4.391182  ,  4.6335015 ,\n",
       "         3.6943765 ,  2.8404968 ,  2.4163587 ,  1.4447058 ,  1.5054799 ,\n",
       "         1.284041  ,  0.62144077,  2.1705573 ,  1.0324332 ,  1.0116854 ,\n",
       "         1.4745591 ,  1.5774246 ,  1.0883344 ,  1.54484   ,  2.8163064 ,\n",
       "         1.9927558 ,  2.3333502 ,  1.6311929 ,  1.9097176 ,  1.4136525 ,\n",
       "         1.3654945 ,  1.5438327 ,  1.4491585 ,  1.2142956 ,  1.8141532 ,\n",
       "         3.2825065 ,  5.620446  ,  6.2155027 ,  6.9286065 ,  7.7397623 ,\n",
       "         9.483552  , 11.026766  , 11.24089   ,  3.0804288 ,  2.3034189 ,\n",
       "         2.6350741 ,  2.4508028 ,  2.2909055 ,  3.6751003 ,  1.2561532 ,\n",
       "         2.1791115 ,  2.2650552 ,  1.9911216 ,  2.2457721 ,  3.080614  ,\n",
       "         3.1041043 ,  2.1875997 ,  3.1440787 ,  2.2075934 ,  1.3967769 ,\n",
       "         1.8329995 ,  1.4248987 ,  2.1045034 ,  2.1274502 ,  4.2698402 ,\n",
       "         3.6117845 ,  2.6750739 ,  2.956383  ,  2.5097158 ,  2.9399097 ,\n",
       "         2.2784715 ,  2.3518753 ,  0.9992222 ,  0.8813143 ,  3.352521  ,\n",
       "         3.891888  ,  6.496179  ,  8.5007715 , 10.449854  , 14.787078  ,\n",
       "        13.458933  ,  9.207817  ,  5.436405  ,  1.2715884 ,  1.1943641 ,\n",
       "         1.4467019 ,  2.312139  ,  2.703568  ,  2.1126714 ,  1.8322859 ,\n",
       "         2.4081588 ,  2.9225328 ,  2.1910684 ,  1.7687198 ,  4.127929  ,\n",
       "         3.9351416 ,  4.385815  ,  3.7505481 ,  3.019574  ,  1.1112128 ,\n",
       "         2.0880754 ,  3.3690016 ,  0.751     ,  1.6458133 ,  3.3429909 ,\n",
       "         2.9369774 ,  3.6734645 ,  2.708771  ,  3.0303347 ,  2.055994  ,\n",
       "         1.2643484 ,  2.0354633 ,  2.7629814 ,  3.629572  ,  4.849508  ,\n",
       "         5.9392757 ,  5.0479627 ,  3.5344248 ,  1.3981457 ,  1.4398739 ,\n",
       "         2.9003093 ,  2.7162547 ,  3.3057957 ,  3.9234967 ,  5.7573767 ,\n",
       "         7.855471  ,  9.045181  ,  8.289514  ,  8.87539   ,  1.8010961 ,\n",
       "         1.79988   ,  1.1994826 ,  1.8443561 ,  1.6567483 ,  1.7200007 ,\n",
       "         2.0033827 ,  1.46346   ,  2.8068204 ,  3.9873085 ,  4.1983585 ,\n",
       "         5.8571258 ,  6.471353  ,  7.920158  ,  7.053061  ,  2.2908542 ,\n",
       "         2.5968757 ,  2.035225  ,  1.2347822 ,  2.7802165 ,  4.406423  ,\n",
       "         5.047824  ,  4.445903  ,  6.0076976 ,  7.099039  ,  9.03252   ,\n",
       "         8.289001  ,  4.781539  ,  3.4601588 ,  2.8804648 ,  3.8915503 ,\n",
       "         5.4960804 ,  7.1022725 ,  6.133606  ,  6.2329674 ,  5.480254  ,\n",
       "         4.423759  ,  7.561513  ,  7.53983   ,  6.0083013 ,  1.5468318 ,\n",
       "         1.6203431 ,  2.491168  ,  4.651295  ,  4.337024  ,  3.843126  ,\n",
       "         3.8813074 ,  3.284068  ,  2.1274312 ,  4.136273  ,  8.255892  ,\n",
       "        10.804954  , 11.570282  , 13.9018345 , 14.013168  , 15.039738  ,\n",
       "         9.191888  ,  3.037336  ,  2.5510638 ,  4.4742823 ,  4.300164  ,\n",
       "         4.8826537 ,  6.219193  ,  9.05514   , 11.473197  , 10.636568  ,\n",
       "         7.5489545 ,  8.642042  ,  8.37752   , 10.505455  ,  8.826794  ,\n",
       "        10.709546  , 12.985966  , 11.080543  , 10.570807  , 11.799713  ,\n",
       "         7.7361107 ,  7.3751726 ,  7.108299  , 10.3666115 , 14.473854  ,\n",
       "        12.110593  ,  5.0765247 ,  2.1542513 ,  2.9448617 ,  8.353477  ,\n",
       "         8.444597  ,  9.477879  ,  9.334959  , 10.50298   , 13.78363   ,\n",
       "        11.2767    ,  3.4006925 ,  3.0219657 ,  4.931514  ,  4.197872  ,\n",
       "         4.274484  ,  6.5341377 , 11.801559  ,  8.004585  ,  6.4698825 ,\n",
       "         7.286127  ,  7.756734  , 10.548158  , 11.435778  ,  9.406431  ,\n",
       "        12.614629  , 14.687218  , 12.600907  , 14.923077  ,  6.139142  ,\n",
       "         3.474493  ,  3.752329  ,  2.513421  ,  4.635701  ,  4.2763567 ,\n",
       "         5.078711  ,  7.0411487 ,  6.6293015 ,  4.833049  ,  6.307634  ,\n",
       "        11.473216  , 15.314087  , 21.315418  , 20.072424  , 12.027531  ,\n",
       "         5.579964  ,  4.361676  ,  4.012522  ,  5.282005  ,  8.24204   ,\n",
       "         6.0251703 ,  6.7347856 ,  4.9934125 ,  8.87584   ,  6.9353385 ,\n",
       "        11.90278   , 10.581825  , 11.345689  ,  7.534165  ,  3.6285787 ,\n",
       "         2.7752278 ,  2.6135142 ,  3.7261524 ,  4.749083  ,  3.452682  ,\n",
       "         2.6827054 ,  5.827801  ,  7.9274693 ,  9.86453   ,  9.655982  ,\n",
       "         9.086735  ,  4.7329464 ,  3.0683534 ,  5.268955  ,  7.500838  ,\n",
       "         6.4611835 ,  4.6128683 ,  5.104902  ,  2.81023   ,  1.0697037 ,\n",
       "         1.5689478 ,  1.9268289 ,  1.8770549 ,  1.36561   ,  2.0093603 ,\n",
       "         2.061832  ,  2.4254231 ,  4.034711  ,  5.017838  ,  6.166056  ,\n",
       "         3.8133945 ,  3.69891   ,  4.863145  ,  7.614945  , 10.752914  ,\n",
       "        14.914989  , 15.576264  , 16.254316  , 11.4407625 ,  9.575142  ,\n",
       "         7.9022155 ,  4.9037256 ,  3.1083384 ,  4.6745334 ,  6.8856516 ,\n",
       "         9.726216  ,  5.1210327 ,  2.6022499 ,  3.5504978 ,  4.0994773 ,\n",
       "         1.5886352 ,  2.4458115 ,  2.36865   ,  2.3721533 ,  5.1038623 ,\n",
       "         2.9454675 ,  3.9844773 ,  6.123063  , 10.675493  , 16.349953  ,\n",
       "        17.769531  ], dtype=float32),\n",
       " 'mase': 2.19672}"
      ]
     },
     "execution_count": 188,
     "metadata": {},
     "output_type": "execute_result"
    }
   ],
   "source": [
    "# Evaluate model_3 results (these are going multi-dimensional because we're trying to predict 7 values)\n",
    "model_3_results = evaluate_preds(y_true=tf.squeeze(test_labels),\n",
    "                                 y_pred=model_3_preds)\n",
    "model_3_results"
   ]
  },
  {
   "cell_type": "markdown",
   "metadata": {},
   "source": [
    "## Make our evaluation function work for larger horizons"
   ]
  },
  {
   "cell_type": "code",
   "execution_count": 189,
   "metadata": {},
   "outputs": [
    {
     "data": {
      "text/plain": [
       "<tf.Tensor: shape=(), dtype=float32, numpy=1234.4977>"
      ]
     },
     "execution_count": 189,
     "metadata": {},
     "output_type": "execute_result"
    }
   ],
   "source": [
    "# Aggregating to a single value\n",
    "tf.reduce_mean(model_3_results[\"mae\"])"
   ]
  },
  {
   "cell_type": "code",
   "execution_count": 190,
   "metadata": {},
   "outputs": [],
   "source": [
    "def evaluate_preds(y_true, y_pred):\n",
    "    # Make sure float32 datatype (for metric calculations)\n",
    "    y_true = tf.cast(y_true, dtype=tf.float32)\n",
    "    y_pred = tf.cast(y_pred, dtype=tf.float32)\n",
    "\n",
    "    # Calculate various evaluation metrics\n",
    "    mae = tf.keras.metrics.mean_absolute_error(y_true, y_pred)\n",
    "    mse = tf.keras.metrics.mean_squared_error(y_true, y_pred)\n",
    "    rmse = tf.sqrt(mse)\n",
    "    mape = tf.keras.metrics.mean_absolute_percentage_error(y_true, y_pred)\n",
    "    mase = mean_absolute_scaled_error(y_true, y_pred)\n",
    "\n",
    "    # Account for different sized metrics (for longer horizons, we want to reduce metrics to a single value) (aggregation)\n",
    "    # if multi-dimensional, aggregated to single values\n",
    "    if mae.ndim > 0:\n",
    "        mae = tf.reduce_mean(mae)\n",
    "        mse = tf.reduce_mean(mse)\n",
    "        rmse = tf.reduce_mean(rmse)\n",
    "        mape = tf.reduce_mean(mape)\n",
    "        mase = tf.reduce_mean(mase)\n",
    "\n",
    "    return {\n",
    "        \"mae\": mae.numpy(),\n",
    "        \"mse\": mse.numpy(),\n",
    "        \"rmse\": rmse.numpy(),\n",
    "        \"mape\": mape.numpy(),\n",
    "        \"mase\": mase.numpy()\n",
    "    }\n"
   ]
  },
  {
   "cell_type": "code",
   "execution_count": 191,
   "metadata": {},
   "outputs": [
    {
     "data": {
      "text/plain": [
       "{'mae': 1234.4977,\n",
       " 'mse': 5351902.5,\n",
       " 'rmse': 1419.7804,\n",
       " 'mape': 5.5734453,\n",
       " 'mase': 2.19672}"
      ]
     },
     "execution_count": 191,
     "metadata": {},
     "output_type": "execute_result"
    }
   ],
   "source": [
    "# Get model_3 results aggregated to single values\n",
    "model_3_results = evaluate_preds(y_true=tf.squeeze(test_labels),\n",
    "                                 y_pred=model_3_preds)\n",
    "\n",
    "model_3_results"
   ]
  },
  {
   "cell_type": "markdown",
   "metadata": {},
   "source": [
    "We've made and evaluated predictions with model_3, let's visualize."
   ]
  },
  {
   "cell_type": "code",
   "execution_count": 192,
   "metadata": {},
   "outputs": [
    {
     "data": {
      "image/png": "[encoded data removed]",
      "text/plain": [
       "<Figure size 1000x700 with 1 Axes>"
      ]
     },
     "metadata": {},
     "output_type": "display_data"
    }
   ],
   "source": [
    "offset = 300\n",
    "plt.figure(figsize=(10, 7))\n",
    "plot_time_series(\n",
    "    timesteps=X_test[-len(test_windows):],\n",
    "    values=test_labels[:, 0],\n",
    "    start=offset,\n",
    "    format=\"-\",\n",
    "    label=\"Test data\"\n",
    ")\n",
    "plot_time_series(\n",
    "    timesteps=X_test[-len(test_windows):],\n",
    "    values=model_3_preds,\n",
    "    start=offset,\n",
    "    format=\".\",\n",
    "    label=\"Model_3_preds\"\n",
    ")"
   ]
  },
  {
   "cell_type": "code",
   "execution_count": 193,
   "metadata": {},
   "outputs": [
    {
     "data": {
      "text/plain": [
       "<tf.Tensor: shape=(7,), dtype=float32, numpy=\n",
       "array([9454.988, 9032.537, 9421.765, 9528.852, 9589.421, 9715.785,\n",
       "       9478.563], dtype=float32)>"
      ]
     },
     "execution_count": 193,
     "metadata": {},
     "output_type": "execute_result"
    }
   ],
   "source": [
    "model_3_preds[0]"
   ]
  },
  {
   "cell_type": "code",
   "execution_count": 194,
   "metadata": {},
   "outputs": [
    {
     "data": {
      "image/png": "[encoded data removed]",
      "text/plain": [
       "<Figure size 1000x700 with 1 Axes>"
      ]
     },
     "metadata": {},
     "output_type": "display_data"
    }
   ],
   "source": [
    "offset = 300\n",
    "plt.figure(figsize=(10, 7))\n",
    "plot_time_series(\n",
    "    timesteps=X_test[-len(test_windows):],\n",
    "    values=test_labels[:, 0],\n",
    "    start=offset,\n",
    "    label=\"Test data\"\n",
    ")\n",
    "plot_time_series(\n",
    "    timesteps=X_test[-len(test_windows):],\n",
    "    values=tf.reduce_mean(model_3_preds, axis=1),\n",
    "    start=offset,\n",
    "    format=\"-\",\n",
    "    label=\"Model_3_preds\"\n",
    ")"
   ]
  },
  {
   "cell_type": "markdown",
   "metadata": {},
   "source": [
    "## Which of our models is performing the best so far?"
   ]
  },
  {
   "cell_type": "code",
   "execution_count": 195,
   "metadata": {},
   "outputs": [
    {
     "data": {
      "image/png": "[encoded data removed]",
      "text/plain": [
       "<Figure size 1000x700 with 1 Axes>"
      ]
     },
     "metadata": {},
     "output_type": "display_data"
    }
   ],
   "source": [
    "pd.DataFrame({\"naive\": naive_results[\"mae\"], \n",
    "              \"horizon_1_window_7\": model_1_results[\"mae\"], \n",
    "              \"horizon_1_window_30\": model_2_results[\"mae\"], \n",
    "              \"horizon_7_window_30\": model_3_results[\"mae\"]}, index=[\"mae\"]).plot(figsize=(10, 7), kind=\"bar\");"
   ]
  },
  {
   "cell_type": "markdown",
   "metadata": {},
   "source": [
    "## Model 4: Conv1D\n",
    "\n",
    "<img src=\"course_images/10_time_series/10-bitcoin-forecast-in-seq2seq-terms.png\" height=\"500\">\n"
   ]
  },
  {
   "cell_type": "code",
   "execution_count": 199,
   "metadata": {},
   "outputs": [
    {
     "data": {
      "text/plain": [
       "(2780, 2780)"
      ]
     },
     "execution_count": 199,
     "metadata": {},
     "output_type": "execute_result"
    }
   ],
   "source": [
    "HORIZON = 1 # predict next day of Bitcoin prices\n",
    "WINDOW_SIZE = 7 # use previous week worth data\n",
    "\n",
    "# Create windowed data\n",
    "full_windows, full_labels = make_windows(prices, window_size=WINDOW_SIZE, horizon=HORIZON)\n",
    "len(full_windows), len(full_labels)"
   ]
  },
  {
   "cell_type": "code",
   "execution_count": 201,
   "metadata": {},
   "outputs": [
    {
     "data": {
      "text/plain": [
       "(2224, 2224, 556, 556)"
      ]
     },
     "execution_count": 201,
     "metadata": {},
     "output_type": "execute_result"
    }
   ],
   "source": [
    "# Create train/test sets\n",
    "train_windows, test_windows, train_labels, test_labels = make_train_test_splits(full_windows, full_labels)\n",
    "len(train_windows), len(train_labels), len(test_windows), len(test_labels)"
   ]
  },
  {
   "cell_type": "markdown",
   "metadata": {},
   "source": [
    "To use the Conv1D layer, We need an input shape of : `(batch_size, timesteps, input_dim)`...\n",
    "\n",
    "However our data isn't that shape yet..."
   ]
  },
  {
   "cell_type": "code",
   "execution_count": 202,
   "metadata": {},
   "outputs": [
    {
     "data": {
      "text/plain": [
       "(7,)"
      ]
     },
     "execution_count": 202,
     "metadata": {},
     "output_type": "execute_result"
    }
   ],
   "source": [
    "# Check data input shape\n",
    "train_windows[0].shape # returns (WINDOW_SIZE, )"
   ]
  },
  {
   "cell_type": "code",
   "execution_count": 203,
   "metadata": {},
   "outputs": [
    {
     "data": {
      "text/plain": [
       "<tf.Tensor: shape=(7,), dtype=float64, numpy=\n",
       "array([123.65499, 125.455  , 108.58483, 118.67466, 121.33866, 120.65533,\n",
       "       121.795  ])>"
      ]
     },
     "execution_count": 203,
     "metadata": {},
     "output_type": "execute_result"
    }
   ],
   "source": [
    "# Before we pass our data to the Con1D layer, we have to reshape it in order to make sure it works\n",
    "x = tf.constant(train_windows[0])\n",
    "x"
   ]
  },
  {
   "cell_type": "code",
   "execution_count": 205,
   "metadata": {},
   "outputs": [],
   "source": [
    "expand_dim_layer = layers.Lambda(lambda x: tf.expand_dims(x, axis=1)) # add extra dimension for `input_dim`"
   ]
  },
  {
   "cell_type": "code",
   "execution_count": 207,
   "metadata": {},
   "outputs": [
    {
     "name": "stdout",
     "output_type": "stream",
     "text": [
      "Original shape: (7,)\n",
      "Expanded shape: (7, 1)\n",
      "Original values with expanded shape:\n",
      " [[123.65499]\n",
      " [125.455  ]\n",
      " [108.58483]\n",
      " [118.67466]\n",
      " [121.33866]\n",
      " [120.65533]\n",
      " [121.795  ]]\n"
     ]
    }
   ],
   "source": [
    "# test our our lambda layer\n",
    "print(f\"Original shape: {x.shape}\") # (WINDOW_SIZE)\n",
    "print(f\"Expanded shape: {expand_dim_layer(x).shape}\") # output = (7, 1)\n",
    "print(f\"Original values with expanded shape:\\n {expand_dim_layer(x)}\")\n",
    "      "
   ]
  },
  {
   "cell_type": "code",
   "execution_count": 210,
   "metadata": {},
   "outputs": [
    {
     "name": "stdout",
     "output_type": "stream",
     "text": [
      "INFO:tensorflow:Assets written to: model_experiments\\model_4_conv1D\\assets\n"
     ]
    },
    {
     "name": "stderr",
     "output_type": "stream",
     "text": [
      "INFO:tensorflow:Assets written to: model_experiments\\model_4_conv1D\\assets\n"
     ]
    },
    {
     "name": "stdout",
     "output_type": "stream",
     "text": [
      "INFO:tensorflow:Assets written to: model_experiments\\model_4_conv1D\\assets\n"
     ]
    },
    {
     "name": "stderr",
     "output_type": "stream",
     "text": [
      "INFO:tensorflow:Assets written to: model_experiments\\model_4_conv1D\\assets\n"
     ]
    },
    {
     "name": "stdout",
     "output_type": "stream",
     "text": [
      "INFO:tensorflow:Assets written to: model_experiments\\model_4_conv1D\\assets\n"
     ]
    },
    {
     "name": "stderr",
     "output_type": "stream",
     "text": [
      "INFO:tensorflow:Assets written to: model_experiments\\model_4_conv1D\\assets\n"
     ]
    },
    {
     "name": "stdout",
     "output_type": "stream",
     "text": [
      "INFO:tensorflow:Assets written to: model_experiments\\model_4_conv1D\\assets\n"
     ]
    },
    {
     "name": "stderr",
     "output_type": "stream",
     "text": [
      "INFO:tensorflow:Assets written to: model_experiments\\model_4_conv1D\\assets\n"
     ]
    },
    {
     "name": "stdout",
     "output_type": "stream",
     "text": [
      "INFO:tensorflow:Assets written to: model_experiments\\model_4_conv1D\\assets\n"
     ]
    },
    {
     "name": "stderr",
     "output_type": "stream",
     "text": [
      "INFO:tensorflow:Assets written to: model_experiments\\model_4_conv1D\\assets\n"
     ]
    },
    {
     "name": "stdout",
     "output_type": "stream",
     "text": [
      "INFO:tensorflow:Assets written to: model_experiments\\model_4_conv1D\\assets\n"
     ]
    },
    {
     "name": "stderr",
     "output_type": "stream",
     "text": [
      "INFO:tensorflow:Assets written to: model_experiments\\model_4_conv1D\\assets\n"
     ]
    },
    {
     "name": "stdout",
     "output_type": "stream",
     "text": [
      "INFO:tensorflow:Assets written to: model_experiments\\model_4_conv1D\\assets\n"
     ]
    },
    {
     "name": "stderr",
     "output_type": "stream",
     "text": [
      "INFO:tensorflow:Assets written to: model_experiments\\model_4_conv1D\\assets\n"
     ]
    },
    {
     "name": "stdout",
     "output_type": "stream",
     "text": [
      "INFO:tensorflow:Assets written to: model_experiments\\model_4_conv1D\\assets\n"
     ]
    },
    {
     "name": "stderr",
     "output_type": "stream",
     "text": [
      "INFO:tensorflow:Assets written to: model_experiments\\model_4_conv1D\\assets\n"
     ]
    },
    {
     "name": "stdout",
     "output_type": "stream",
     "text": [
      "INFO:tensorflow:Assets written to: model_experiments\\model_4_conv1D\\assets\n"
     ]
    },
    {
     "name": "stderr",
     "output_type": "stream",
     "text": [
      "INFO:tensorflow:Assets written to: model_experiments\\model_4_conv1D\\assets\n"
     ]
    },
    {
     "name": "stdout",
     "output_type": "stream",
     "text": [
      "INFO:tensorflow:Assets written to: model_experiments\\model_4_conv1D\\assets\n"
     ]
    },
    {
     "name": "stderr",
     "output_type": "stream",
     "text": [
      "INFO:tensorflow:Assets written to: model_experiments\\model_4_conv1D\\assets\n"
     ]
    },
    {
     "name": "stdout",
     "output_type": "stream",
     "text": [
      "INFO:tensorflow:Assets written to: model_experiments\\model_4_conv1D\\assets\n"
     ]
    },
    {
     "name": "stderr",
     "output_type": "stream",
     "text": [
      "INFO:tensorflow:Assets written to: model_experiments\\model_4_conv1D\\assets\n"
     ]
    },
    {
     "name": "stdout",
     "output_type": "stream",
     "text": [
      "INFO:tensorflow:Assets written to: model_experiments\\model_4_conv1D\\assets\n"
     ]
    },
    {
     "name": "stderr",
     "output_type": "stream",
     "text": [
      "INFO:tensorflow:Assets written to: model_experiments\\model_4_conv1D\\assets\n"
     ]
    },
    {
     "name": "stdout",
     "output_type": "stream",
     "text": [
      "INFO:tensorflow:Assets written to: model_experiments\\model_4_conv1D\\assets\n"
     ]
    },
    {
     "name": "stderr",
     "output_type": "stream",
     "text": [
      "INFO:tensorflow:Assets written to: model_experiments\\model_4_conv1D\\assets\n"
     ]
    },
    {
     "name": "stdout",
     "output_type": "stream",
     "text": [
      "INFO:tensorflow:Assets written to: model_experiments\\model_4_conv1D\\assets\n"
     ]
    },
    {
     "name": "stderr",
     "output_type": "stream",
     "text": [
      "INFO:tensorflow:Assets written to: model_experiments\\model_4_conv1D\\assets\n"
     ]
    },
    {
     "name": "stdout",
     "output_type": "stream",
     "text": [
      "INFO:tensorflow:Assets written to: model_experiments\\model_4_conv1D\\assets\n"
     ]
    },
    {
     "name": "stderr",
     "output_type": "stream",
     "text": [
      "INFO:tensorflow:Assets written to: model_experiments\\model_4_conv1D\\assets\n"
     ]
    },
    {
     "name": "stdout",
     "output_type": "stream",
     "text": [
      "INFO:tensorflow:Assets written to: model_experiments\\model_4_conv1D\\assets\n"
     ]
    },
    {
     "name": "stderr",
     "output_type": "stream",
     "text": [
      "INFO:tensorflow:Assets written to: model_experiments\\model_4_conv1D\\assets\n"
     ]
    },
    {
     "name": "stdout",
     "output_type": "stream",
     "text": [
      "INFO:tensorflow:Assets written to: model_experiments\\model_4_conv1D\\assets\n"
     ]
    },
    {
     "name": "stderr",
     "output_type": "stream",
     "text": [
      "INFO:tensorflow:Assets written to: model_experiments\\model_4_conv1D\\assets\n"
     ]
    },
    {
     "name": "stdout",
     "output_type": "stream",
     "text": [
      "INFO:tensorflow:Assets written to: model_experiments\\model_4_conv1D\\assets\n"
     ]
    },
    {
     "name": "stderr",
     "output_type": "stream",
     "text": [
      "INFO:tensorflow:Assets written to: model_experiments\\model_4_conv1D\\assets\n"
     ]
    },
    {
     "name": "stdout",
     "output_type": "stream",
     "text": [
      "INFO:tensorflow:Assets written to: model_experiments\\model_4_conv1D\\assets\n"
     ]
    },
    {
     "name": "stderr",
     "output_type": "stream",
     "text": [
      "INFO:tensorflow:Assets written to: model_experiments\\model_4_conv1D\\assets\n"
     ]
    },
    {
     "name": "stdout",
     "output_type": "stream",
     "text": [
      "INFO:tensorflow:Assets written to: model_experiments\\model_4_conv1D\\assets\n"
     ]
    },
    {
     "name": "stderr",
     "output_type": "stream",
     "text": [
      "INFO:tensorflow:Assets written to: model_experiments\\model_4_conv1D\\assets\n"
     ]
    },
    {
     "name": "stdout",
     "output_type": "stream",
     "text": [
      "INFO:tensorflow:Assets written to: model_experiments\\model_4_conv1D\\assets\n"
     ]
    },
    {
     "name": "stderr",
     "output_type": "stream",
     "text": [
      "INFO:tensorflow:Assets written to: model_experiments\\model_4_conv1D\\assets\n"
     ]
    },
    {
     "name": "stdout",
     "output_type": "stream",
     "text": [
      "INFO:tensorflow:Assets written to: model_experiments\\model_4_conv1D\\assets\n"
     ]
    },
    {
     "name": "stderr",
     "output_type": "stream",
     "text": [
      "INFO:tensorflow:Assets written to: model_experiments\\model_4_conv1D\\assets\n"
     ]
    },
    {
     "name": "stdout",
     "output_type": "stream",
     "text": [
      "INFO:tensorflow:Assets written to: model_experiments\\model_4_conv1D\\assets\n"
     ]
    },
    {
     "name": "stderr",
     "output_type": "stream",
     "text": [
      "INFO:tensorflow:Assets written to: model_experiments\\model_4_conv1D\\assets\n"
     ]
    },
    {
     "name": "stdout",
     "output_type": "stream",
     "text": [
      "INFO:tensorflow:Assets written to: model_experiments\\model_4_conv1D\\assets\n"
     ]
    },
    {
     "name": "stderr",
     "output_type": "stream",
     "text": [
      "INFO:tensorflow:Assets written to: model_experiments\\model_4_conv1D\\assets\n"
     ]
    },
    {
     "name": "stdout",
     "output_type": "stream",
     "text": [
      "INFO:tensorflow:Assets written to: model_experiments\\model_4_conv1D\\assets\n"
     ]
    },
    {
     "name": "stderr",
     "output_type": "stream",
     "text": [
      "INFO:tensorflow:Assets written to: model_experiments\\model_4_conv1D\\assets\n"
     ]
    },
    {
     "name": "stdout",
     "output_type": "stream",
     "text": [
      "INFO:tensorflow:Assets written to: model_experiments\\model_4_conv1D\\assets\n"
     ]
    },
    {
     "name": "stderr",
     "output_type": "stream",
     "text": [
      "INFO:tensorflow:Assets written to: model_experiments\\model_4_conv1D\\assets\n"
     ]
    },
    {
     "name": "stdout",
     "output_type": "stream",
     "text": [
      "INFO:tensorflow:Assets written to: model_experiments\\model_4_conv1D\\assets\n"
     ]
    },
    {
     "name": "stderr",
     "output_type": "stream",
     "text": [
      "INFO:tensorflow:Assets written to: model_experiments\\model_4_conv1D\\assets\n"
     ]
    },
    {
     "name": "stdout",
     "output_type": "stream",
     "text": [
      "INFO:tensorflow:Assets written to: model_experiments\\model_4_conv1D\\assets\n"
     ]
    },
    {
     "name": "stderr",
     "output_type": "stream",
     "text": [
      "INFO:tensorflow:Assets written to: model_experiments\\model_4_conv1D\\assets\n"
     ]
    },
    {
     "name": "stdout",
     "output_type": "stream",
     "text": [
      "INFO:tensorflow:Assets written to: model_experiments\\model_4_conv1D\\assets\n"
     ]
    },
    {
     "name": "stderr",
     "output_type": "stream",
     "text": [
      "INFO:tensorflow:Assets written to: model_experiments\\model_4_conv1D\\assets\n"
     ]
    },
    {
     "name": "stdout",
     "output_type": "stream",
     "text": [
      "INFO:tensorflow:Assets written to: model_experiments\\model_4_conv1D\\assets\n"
     ]
    },
    {
     "name": "stderr",
     "output_type": "stream",
     "text": [
      "INFO:tensorflow:Assets written to: model_experiments\\model_4_conv1D\\assets\n"
     ]
    },
    {
     "name": "stdout",
     "output_type": "stream",
     "text": [
      "INFO:tensorflow:Assets written to: model_experiments\\model_4_conv1D\\assets\n"
     ]
    },
    {
     "name": "stderr",
     "output_type": "stream",
     "text": [
      "INFO:tensorflow:Assets written to: model_experiments\\model_4_conv1D\\assets\n"
     ]
    },
    {
     "name": "stdout",
     "output_type": "stream",
     "text": [
      "INFO:tensorflow:Assets written to: model_experiments\\model_4_conv1D\\assets\n"
     ]
    },
    {
     "name": "stderr",
     "output_type": "stream",
     "text": [
      "INFO:tensorflow:Assets written to: model_experiments\\model_4_conv1D\\assets\n"
     ]
    },
    {
     "name": "stdout",
     "output_type": "stream",
     "text": [
      "INFO:tensorflow:Assets written to: model_experiments\\model_4_conv1D\\assets\n"
     ]
    },
    {
     "name": "stderr",
     "output_type": "stream",
     "text": [
      "INFO:tensorflow:Assets written to: model_experiments\\model_4_conv1D\\assets\n"
     ]
    },
    {
     "name": "stdout",
     "output_type": "stream",
     "text": [
      "INFO:tensorflow:Assets written to: model_experiments\\model_4_conv1D\\assets\n"
     ]
    },
    {
     "name": "stderr",
     "output_type": "stream",
     "text": [
      "INFO:tensorflow:Assets written to: model_experiments\\model_4_conv1D\\assets\n"
     ]
    },
    {
     "name": "stdout",
     "output_type": "stream",
     "text": [
      "INFO:tensorflow:Assets written to: model_experiments\\model_4_conv1D\\assets\n"
     ]
    },
    {
     "name": "stderr",
     "output_type": "stream",
     "text": [
      "INFO:tensorflow:Assets written to: model_experiments\\model_4_conv1D\\assets\n"
     ]
    },
    {
     "name": "stdout",
     "output_type": "stream",
     "text": [
      "INFO:tensorflow:Assets written to: model_experiments\\model_4_conv1D\\assets\n"
     ]
    },
    {
     "name": "stderr",
     "output_type": "stream",
     "text": [
      "INFO:tensorflow:Assets written to: model_experiments\\model_4_conv1D\\assets\n"
     ]
    },
    {
     "name": "stdout",
     "output_type": "stream",
     "text": [
      "INFO:tensorflow:Assets written to: model_experiments\\model_4_conv1D\\assets\n"
     ]
    },
    {
     "name": "stderr",
     "output_type": "stream",
     "text": [
      "INFO:tensorflow:Assets written to: model_experiments\\model_4_conv1D\\assets\n"
     ]
    },
    {
     "name": "stdout",
     "output_type": "stream",
     "text": [
      "INFO:tensorflow:Assets written to: model_experiments\\model_4_conv1D\\assets\n"
     ]
    },
    {
     "name": "stderr",
     "output_type": "stream",
     "text": [
      "INFO:tensorflow:Assets written to: model_experiments\\model_4_conv1D\\assets\n"
     ]
    },
    {
     "name": "stdout",
     "output_type": "stream",
     "text": [
      "INFO:tensorflow:Assets written to: model_experiments\\model_4_conv1D\\assets\n"
     ]
    },
    {
     "name": "stderr",
     "output_type": "stream",
     "text": [
      "INFO:tensorflow:Assets written to: model_experiments\\model_4_conv1D\\assets\n"
     ]
    },
    {
     "name": "stdout",
     "output_type": "stream",
     "text": [
      "INFO:tensorflow:Assets written to: model_experiments\\model_4_conv1D\\assets\n"
     ]
    },
    {
     "name": "stderr",
     "output_type": "stream",
     "text": [
      "INFO:tensorflow:Assets written to: model_experiments\\model_4_conv1D\\assets\n"
     ]
    },
    {
     "name": "stdout",
     "output_type": "stream",
     "text": [
      "INFO:tensorflow:Assets written to: model_experiments\\model_4_conv1D\\assets\n"
     ]
    },
    {
     "name": "stderr",
     "output_type": "stream",
     "text": [
      "INFO:tensorflow:Assets written to: model_experiments\\model_4_conv1D\\assets\n"
     ]
    },
    {
     "name": "stdout",
     "output_type": "stream",
     "text": [
      "INFO:tensorflow:Assets written to: model_experiments\\model_4_conv1D\\assets\n"
     ]
    },
    {
     "name": "stderr",
     "output_type": "stream",
     "text": [
      "INFO:tensorflow:Assets written to: model_experiments\\model_4_conv1D\\assets\n"
     ]
    },
    {
     "name": "stdout",
     "output_type": "stream",
     "text": [
      "INFO:tensorflow:Assets written to: model_experiments\\model_4_conv1D\\assets\n"
     ]
    },
    {
     "name": "stderr",
     "output_type": "stream",
     "text": [
      "INFO:tensorflow:Assets written to: model_experiments\\model_4_conv1D\\assets\n"
     ]
    },
    {
     "name": "stdout",
     "output_type": "stream",
     "text": [
      "INFO:tensorflow:Assets written to: model_experiments\\model_4_conv1D\\assets\n"
     ]
    },
    {
     "name": "stderr",
     "output_type": "stream",
     "text": [
      "INFO:tensorflow:Assets written to: model_experiments\\model_4_conv1D\\assets\n"
     ]
    },
    {
     "data": {
      "text/plain": [
       "<keras.src.callbacks.History at 0x23b9a42aa10>"
      ]
     },
     "execution_count": 210,
     "metadata": {},
     "output_type": "execute_result"
    }
   ],
   "source": [
    "tf.random.set_seed(42)\n",
    "\n",
    "# Create Conv1D model\n",
    "model_4 = tf.keras.Sequential([\n",
    "    layers.Lambda(lambda x: tf.expand_dims(x, axis=1)),\n",
    "    layers.Conv1D(filters=128, \n",
    "                  kernel_size=5, # sliding windows, looks to last x values\n",
    "                  strides=1,\n",
    "                  padding=\"causal\", # temporal data\n",
    "                  activation=\"relu\"), \n",
    "    layers.Dense(HORIZON)\n",
    "], name=\"model_4_conv1D\")\n",
    "\n",
    "# compile\n",
    "model_4.compile(loss='MAE',\n",
    "                optimizer=tf.keras.optimizers.Adam())\n",
    "\n",
    "# Fit\n",
    "model_4.fit(train_windows,\n",
    "            train_labels,\n",
    "            epochs=100,\n",
    "            batch_size=128,\n",
    "            verbose=0,\n",
    "            validation_data=(test_windows, test_labels),\n",
    "            callbacks=[create_model_checkpoint(model_name=model_4.name)])\n"
   ]
  },
  {
   "cell_type": "code",
   "execution_count": 211,
   "metadata": {},
   "outputs": [
    {
     "name": "stdout",
     "output_type": "stream",
     "text": [
      "Model: \"model_4_conv1D\"\n",
      "_________________________________________________________________\n",
      " Layer (type)                Output Shape              Param #   \n",
      "=================================================================\n",
      " lambda_2 (Lambda)           (None, 1, 7)              0         \n",
      "                                                                 \n",
      " conv1d_2 (Conv1D)           (None, 1, 128)            4608      \n",
      "                                                                 \n",
      " dense_18 (Dense)            (None, 1, 1)              129       \n",
      "                                                                 \n",
      "=================================================================\n",
      "Total params: 4737 (18.50 KB)\n",
      "Trainable params: 4737 (18.50 KB)\n",
      "Non-trainable params: 0 (0.00 Byte)\n",
      "_________________________________________________________________\n"
     ]
    }
   ],
   "source": [
    "model_4.summary()"
   ]
  },
  {
   "cell_type": "code",
   "execution_count": 212,
   "metadata": {},
   "outputs": [
    {
     "name": "stdout",
     "output_type": "stream",
     "text": [
      "18/18 [==============================] - 0s 892us/step - loss: 679.5013\n"
     ]
    },
    {
     "data": {
      "text/plain": [
       "679.5013427734375"
      ]
     },
     "execution_count": 212,
     "metadata": {},
     "output_type": "execute_result"
    }
   ],
   "source": [
    "# Evaluate model\n",
    "model_4.evaluate(test_windows, test_labels)"
   ]
  },
  {
   "cell_type": "code",
   "execution_count": 213,
   "metadata": {},
   "outputs": [
    {
     "name": "stdout",
     "output_type": "stream",
     "text": [
      "18/18 [==============================] - 0s 1ms/step - loss: 571.9178\n"
     ]
    },
    {
     "data": {
      "text/plain": [
       "571.9177856445312"
      ]
     },
     "execution_count": 213,
     "metadata": {},
     "output_type": "execute_result"
    }
   ],
   "source": [
    "# Load\n",
    "model_4 = tf.keras.models.load_model(\"model_experiments/model_4_conv1D/\")\n",
    "model_4.evaluate(test_windows, test_labels)"
   ]
  },
  {
   "cell_type": "code",
   "execution_count": 214,
   "metadata": {},
   "outputs": [
    {
     "name": "stdout",
     "output_type": "stream",
     "text": [
      "18/18 [==============================] - 0s 889us/step\n"
     ]
    },
    {
     "data": {
      "text/plain": [
       "<tf.Tensor: shape=(10,), dtype=float32, numpy=\n",
       "array([8857.441 , 8758.465 , 9019.487 , 8771.895 , 8725.787 , 8749.8955,\n",
       "       8679.242 , 8499.248 , 8465.069 , 8517.217 ], dtype=float32)>"
      ]
     },
     "execution_count": 214,
     "metadata": {},
     "output_type": "execute_result"
    }
   ],
   "source": [
    "# Make predictions\n",
    "model_4_preds = make_preds(model_4, test_windows)\n",
    "model_1_preds[:10]"
   ]
  },
  {
   "cell_type": "code",
   "execution_count": 215,
   "metadata": {},
   "outputs": [
    {
     "data": {
      "text/plain": [
       "{'mae': 571.9177,\n",
       " 'mse': 1184362.4,\n",
       " 'rmse': 1088.2842,\n",
       " 'mape': 2.5586722,\n",
       " 'mase': 1.004701}"
      ]
     },
     "execution_count": 215,
     "metadata": {},
     "output_type": "execute_result"
    }
   ],
   "source": [
    "# Evaluate predictions\n",
    "model_4_results = evaluate_preds(y_true=tf.squeeze(test_labels),\n",
    "                                 y_pred=model_4_preds)\n",
    "model_4_results"
   ]
  },
  {
   "cell_type": "markdown",
   "metadata": {},
   "source": [
    "## Model 5: RNN (LSTM)\n",
    "\n",
    "Let's build an RNN model for our time series data.\n",
    "\n",
    "We'll use the same data we create previously.\n"
   ]
  },
  {
   "cell_type": "code",
   "execution_count": 220,
   "metadata": {},
   "outputs": [
    {
     "name": "stdout",
     "output_type": "stream",
     "text": [
      "Epoch 1/100\n",
      "17/18 [===========================>..] - ETA: 0s - loss: 2579.1421INFO:tensorflow:Assets written to: model_experiments\\model_5_LSTM\\assets\n"
     ]
    },
    {
     "name": "stderr",
     "output_type": "stream",
     "text": [
      "INFO:tensorflow:Assets written to: model_experiments\\model_5_LSTM\\assets\n"
     ]
    },
    {
     "name": "stdout",
     "output_type": "stream",
     "text": [
      "18/18 [==============================] - 3s 85ms/step - loss: 2558.6003 - val_loss: 10581.7578\n",
      "Epoch 2/100\n",
      "14/18 [======================>.......] - ETA: 0s - loss: 859.9941 INFO:tensorflow:Assets written to: model_experiments\\model_5_LSTM\\assets\n"
     ]
    },
    {
     "name": "stderr",
     "output_type": "stream",
     "text": [
      "INFO:tensorflow:Assets written to: model_experiments\\model_5_LSTM\\assets\n"
     ]
    },
    {
     "name": "stdout",
     "output_type": "stream",
     "text": [
      "18/18 [==============================] - 1s 79ms/step - loss: 740.5473 - val_loss: 1875.3074\n",
      "Epoch 3/100\n",
      "17/18 [===========================>..] - ETA: 0s - loss: 242.8994INFO:tensorflow:Assets written to: model_experiments\\model_5_LSTM\\assets\n"
     ]
    },
    {
     "name": "stderr",
     "output_type": "stream",
     "text": [
      "INFO:tensorflow:Assets written to: model_experiments\\model_5_LSTM\\assets\n"
     ]
    },
    {
     "name": "stdout",
     "output_type": "stream",
     "text": [
      "18/18 [==============================] - 1s 76ms/step - loss: 241.0812 - val_loss: 1328.5734\n",
      "Epoch 4/100\n",
      "15/18 [========================>.....] - ETA: 0s - loss: 185.7491INFO:tensorflow:Assets written to: model_experiments\\model_5_LSTM\\assets\n"
     ]
    },
    {
     "name": "stderr",
     "output_type": "stream",
     "text": [
      "INFO:tensorflow:Assets written to: model_experiments\\model_5_LSTM\\assets\n"
     ]
    },
    {
     "name": "stdout",
     "output_type": "stream",
     "text": [
      "18/18 [==============================] - 1s 78ms/step - loss: 184.3528 - val_loss: 1023.2451\n",
      "Epoch 5/100\n",
      "18/18 [==============================] - 0s 17ms/step - loss: 179.3182 - val_loss: 1036.8405\n",
      "Epoch 6/100\n",
      "17/18 [===========================>..] - ETA: 0s - loss: 176.4362INFO:tensorflow:Assets written to: model_experiments\\model_5_LSTM\\assets\n"
     ]
    },
    {
     "name": "stderr",
     "output_type": "stream",
     "text": [
      "INFO:tensorflow:Assets written to: model_experiments\\model_5_LSTM\\assets\n"
     ]
    },
    {
     "name": "stdout",
     "output_type": "stream",
     "text": [
      "18/18 [==============================] - 1s 79ms/step - loss: 178.2484 - val_loss: 946.7285\n",
      "Epoch 7/100\n",
      "17/18 [===========================>..] - ETA: 0s - loss: 176.3984INFO:tensorflow:Assets written to: model_experiments\\model_5_LSTM\\assets\n"
     ]
    },
    {
     "name": "stderr",
     "output_type": "stream",
     "text": [
      "INFO:tensorflow:Assets written to: model_experiments\\model_5_LSTM\\assets\n"
     ]
    },
    {
     "name": "stdout",
     "output_type": "stream",
     "text": [
      "18/18 [==============================] - 1s 79ms/step - loss: 175.4995 - val_loss: 914.2689\n",
      "Epoch 8/100\n",
      "18/18 [==============================] - 0s 17ms/step - loss: 174.4235 - val_loss: 998.0540\n",
      "Epoch 9/100\n",
      "18/18 [==============================] - 0s 17ms/step - loss: 175.3439 - val_loss: 988.2650\n",
      "Epoch 10/100\n",
      "18/18 [==============================] - 0s 17ms/step - loss: 173.4699 - val_loss: 966.6085\n",
      "Epoch 11/100\n",
      "18/18 [==============================] - 0s 16ms/step - loss: 171.5676 - val_loss: 952.4845\n",
      "Epoch 12/100\n",
      "18/18 [==============================] - 0s 16ms/step - loss: 172.2182 - val_loss: 951.1689\n",
      "Epoch 13/100\n",
      "18/18 [==============================] - 0s 17ms/step - loss: 167.8298 - val_loss: 957.1064\n",
      "Epoch 14/100\n",
      "18/18 [==============================] - 0s 16ms/step - loss: 165.5963 - val_loss: 962.6576\n",
      "Epoch 15/100\n",
      "18/18 [==============================] - 0s 16ms/step - loss: 165.3864 - val_loss: 919.8257\n",
      "Epoch 16/100\n",
      "17/18 [===========================>..] - ETA: 0s - loss: 163.5278INFO:tensorflow:Assets written to: model_experiments\\model_5_LSTM\\assets\n"
     ]
    },
    {
     "name": "stderr",
     "output_type": "stream",
     "text": [
      "INFO:tensorflow:Assets written to: model_experiments\\model_5_LSTM\\assets\n"
     ]
    },
    {
     "name": "stdout",
     "output_type": "stream",
     "text": [
      "18/18 [==============================] - 1s 81ms/step - loss: 161.8536 - val_loss: 904.7454\n",
      "Epoch 17/100\n",
      "18/18 [==============================] - 0s 15ms/step - loss: 159.5903 - val_loss: 968.2210\n",
      "Epoch 18/100\n",
      "17/18 [===========================>..] - ETA: 0s - loss: 160.6764INFO:tensorflow:Assets written to: model_experiments\\model_5_LSTM\\assets\n"
     ]
    },
    {
     "name": "stderr",
     "output_type": "stream",
     "text": [
      "INFO:tensorflow:Assets written to: model_experiments\\model_5_LSTM\\assets\n"
     ]
    },
    {
     "name": "stdout",
     "output_type": "stream",
     "text": [
      "18/18 [==============================] - 1s 78ms/step - loss: 159.3961 - val_loss: 897.8049\n",
      "Epoch 19/100\n",
      "18/18 [==============================] - 0s 16ms/step - loss: 155.5194 - val_loss: 917.0482\n",
      "Epoch 20/100\n",
      "17/18 [===========================>..] - ETA: 0s - loss: 154.4646INFO:tensorflow:Assets written to: model_experiments\\model_5_LSTM\\assets\n"
     ]
    },
    {
     "name": "stderr",
     "output_type": "stream",
     "text": [
      "INFO:tensorflow:Assets written to: model_experiments\\model_5_LSTM\\assets\n"
     ]
    },
    {
     "name": "stdout",
     "output_type": "stream",
     "text": [
      "18/18 [==============================] - 1s 78ms/step - loss: 154.9269 - val_loss: 854.4378\n",
      "Epoch 21/100\n",
      "18/18 [==============================] - 0s 17ms/step - loss: 153.0407 - val_loss: 877.9932\n",
      "Epoch 22/100\n",
      "18/18 [==============================] - 0s 15ms/step - loss: 149.9568 - val_loss: 856.9446\n",
      "Epoch 23/100\n",
      "18/18 [==============================] - 0s 16ms/step - loss: 148.1595 - val_loss: 856.6801\n",
      "Epoch 24/100\n",
      "17/18 [===========================>..] - ETA: 0s - loss: 148.8954INFO:tensorflow:Assets written to: model_experiments\\model_5_LSTM\\assets\n"
     ]
    },
    {
     "name": "stderr",
     "output_type": "stream",
     "text": [
      "INFO:tensorflow:Assets written to: model_experiments\\model_5_LSTM\\assets\n"
     ]
    },
    {
     "name": "stdout",
     "output_type": "stream",
     "text": [
      "18/18 [==============================] - 1s 77ms/step - loss: 147.2397 - val_loss: 831.4348\n",
      "Epoch 25/100\n",
      "15/18 [========================>.....] - ETA: 0s - loss: 149.8699INFO:tensorflow:Assets written to: model_experiments\\model_5_LSTM\\assets\n"
     ]
    },
    {
     "name": "stderr",
     "output_type": "stream",
     "text": [
      "INFO:tensorflow:Assets written to: model_experiments\\model_5_LSTM\\assets\n"
     ]
    },
    {
     "name": "stdout",
     "output_type": "stream",
     "text": [
      "18/18 [==============================] - 1s 83ms/step - loss: 144.4004 - val_loss: 804.5323\n",
      "Epoch 26/100\n",
      "16/18 [=========================>....] - ETA: 0s - loss: 144.9015INFO:tensorflow:Assets written to: model_experiments\\model_5_LSTM\\assets\n"
     ]
    },
    {
     "name": "stderr",
     "output_type": "stream",
     "text": [
      "INFO:tensorflow:Assets written to: model_experiments\\model_5_LSTM\\assets\n"
     ]
    },
    {
     "name": "stdout",
     "output_type": "stream",
     "text": [
      "18/18 [==============================] - 1s 79ms/step - loss: 143.7485 - val_loss: 789.9615\n",
      "Epoch 27/100\n",
      "18/18 [==============================] - 0s 14ms/step - loss: 142.1702 - val_loss: 795.0739\n",
      "Epoch 28/100\n",
      "16/18 [=========================>....] - ETA: 0s - loss: 138.9749INFO:tensorflow:Assets written to: model_experiments\\model_5_LSTM\\assets\n"
     ]
    },
    {
     "name": "stderr",
     "output_type": "stream",
     "text": [
      "INFO:tensorflow:Assets written to: model_experiments\\model_5_LSTM\\assets\n"
     ]
    },
    {
     "name": "stdout",
     "output_type": "stream",
     "text": [
      "18/18 [==============================] - 1s 78ms/step - loss: 140.0218 - val_loss: 775.0764\n",
      "Epoch 29/100\n",
      "15/18 [========================>.....] - ETA: 0s - loss: 141.6490INFO:tensorflow:Assets written to: model_experiments\\model_5_LSTM\\assets\n"
     ]
    },
    {
     "name": "stderr",
     "output_type": "stream",
     "text": [
      "INFO:tensorflow:Assets written to: model_experiments\\model_5_LSTM\\assets\n"
     ]
    },
    {
     "name": "stdout",
     "output_type": "stream",
     "text": [
      "18/18 [==============================] - 1s 78ms/step - loss: 140.8833 - val_loss: 770.5036\n",
      "Epoch 30/100\n",
      "18/18 [==============================] - 0s 16ms/step - loss: 141.0265 - val_loss: 846.9474\n",
      "Epoch 31/100\n",
      "17/18 [===========================>..] - ETA: 0s - loss: 138.2638INFO:tensorflow:Assets written to: model_experiments\\model_5_LSTM\\assets\n"
     ]
    },
    {
     "name": "stderr",
     "output_type": "stream",
     "text": [
      "INFO:tensorflow:Assets written to: model_experiments\\model_5_LSTM\\assets\n"
     ]
    },
    {
     "name": "stdout",
     "output_type": "stream",
     "text": [
      "18/18 [==============================] - 1s 82ms/step - loss: 138.2759 - val_loss: 745.7911\n",
      "Epoch 32/100\n",
      "18/18 [==============================] - 0s 16ms/step - loss: 133.3484 - val_loss: 748.3218\n",
      "Epoch 33/100\n",
      "17/18 [===========================>..] - ETA: 0s - loss: 132.8190INFO:tensorflow:Assets written to: model_experiments\\model_5_LSTM\\assets\n"
     ]
    },
    {
     "name": "stderr",
     "output_type": "stream",
     "text": [
      "INFO:tensorflow:Assets written to: model_experiments\\model_5_LSTM\\assets\n"
     ]
    },
    {
     "name": "stdout",
     "output_type": "stream",
     "text": [
      "18/18 [==============================] - 1s 81ms/step - loss: 132.0392 - val_loss: 736.8491\n",
      "Epoch 34/100\n",
      "18/18 [==============================] - 0s 15ms/step - loss: 131.3131 - val_loss: 739.1030\n",
      "Epoch 35/100\n",
      "14/18 [======================>.......] - ETA: 0s - loss: 133.3312INFO:tensorflow:Assets written to: model_experiments\\model_5_LSTM\\assets\n"
     ]
    },
    {
     "name": "stderr",
     "output_type": "stream",
     "text": [
      "INFO:tensorflow:Assets written to: model_experiments\\model_5_LSTM\\assets\n"
     ]
    },
    {
     "name": "stdout",
     "output_type": "stream",
     "text": [
      "18/18 [==============================] - 2s 132ms/step - loss: 129.9774 - val_loss: 715.1166\n",
      "Epoch 36/100\n",
      "14/18 [======================>.......] - ETA: 0s - loss: 128.8846INFO:tensorflow:Assets written to: model_experiments\\model_5_LSTM\\assets\n"
     ]
    },
    {
     "name": "stderr",
     "output_type": "stream",
     "text": [
      "INFO:tensorflow:Assets written to: model_experiments\\model_5_LSTM\\assets\n"
     ]
    },
    {
     "name": "stdout",
     "output_type": "stream",
     "text": [
      "18/18 [==============================] - 1s 81ms/step - loss: 129.4003 - val_loss: 712.3780\n",
      "Epoch 37/100\n",
      "15/18 [========================>.....] - ETA: 0s - loss: 129.4030INFO:tensorflow:Assets written to: model_experiments\\model_5_LSTM\\assets\n"
     ]
    },
    {
     "name": "stderr",
     "output_type": "stream",
     "text": [
      "INFO:tensorflow:Assets written to: model_experiments\\model_5_LSTM\\assets\n"
     ]
    },
    {
     "name": "stdout",
     "output_type": "stream",
     "text": [
      "18/18 [==============================] - 1s 79ms/step - loss: 127.3386 - val_loss: 708.0173\n",
      "Epoch 38/100\n",
      "17/18 [===========================>..] - ETA: 0s - loss: 126.3701INFO:tensorflow:Assets written to: model_experiments\\model_5_LSTM\\assets\n"
     ]
    },
    {
     "name": "stderr",
     "output_type": "stream",
     "text": [
      "INFO:tensorflow:Assets written to: model_experiments\\model_5_LSTM\\assets\n"
     ]
    },
    {
     "name": "stdout",
     "output_type": "stream",
     "text": [
      "18/18 [==============================] - 1s 79ms/step - loss: 126.2591 - val_loss: 694.8751\n",
      "Epoch 39/100\n",
      "18/18 [==============================] - 0s 15ms/step - loss: 126.0913 - val_loss: 705.7859\n",
      "Epoch 40/100\n",
      "14/18 [======================>.......] - ETA: 0s - loss: 126.9816INFO:tensorflow:Assets written to: model_experiments\\model_5_LSTM\\assets\n"
     ]
    },
    {
     "name": "stderr",
     "output_type": "stream",
     "text": [
      "INFO:tensorflow:Assets written to: model_experiments\\model_5_LSTM\\assets\n"
     ]
    },
    {
     "name": "stdout",
     "output_type": "stream",
     "text": [
      "18/18 [==============================] - 1s 78ms/step - loss: 125.4503 - val_loss: 692.1070\n",
      "Epoch 41/100\n",
      "18/18 [==============================] - 0s 15ms/step - loss: 124.8320 - val_loss: 692.7975\n",
      "Epoch 42/100\n",
      "18/18 [==============================] - 0s 15ms/step - loss: 125.2800 - val_loss: 697.8141\n",
      "Epoch 43/100\n",
      "17/18 [===========================>..] - ETA: 0s - loss: 121.9711INFO:tensorflow:Assets written to: model_experiments\\model_5_LSTM\\assets\n"
     ]
    },
    {
     "name": "stderr",
     "output_type": "stream",
     "text": [
      "INFO:tensorflow:Assets written to: model_experiments\\model_5_LSTM\\assets\n"
     ]
    },
    {
     "name": "stdout",
     "output_type": "stream",
     "text": [
      "18/18 [==============================] - 1s 77ms/step - loss: 122.1880 - val_loss: 666.7878\n",
      "Epoch 44/100\n",
      "15/18 [========================>.....] - ETA: 0s - loss: 121.5138INFO:tensorflow:Assets written to: model_experiments\\model_5_LSTM\\assets\n"
     ]
    },
    {
     "name": "stderr",
     "output_type": "stream",
     "text": [
      "INFO:tensorflow:Assets written to: model_experiments\\model_5_LSTM\\assets\n"
     ]
    },
    {
     "name": "stdout",
     "output_type": "stream",
     "text": [
      "18/18 [==============================] - 1s 79ms/step - loss: 121.6784 - val_loss: 664.7020\n",
      "Epoch 45/100\n",
      "15/18 [========================>.....] - ETA: 0s - loss: 118.1718INFO:tensorflow:Assets written to: model_experiments\\model_5_LSTM\\assets\n"
     ]
    },
    {
     "name": "stderr",
     "output_type": "stream",
     "text": [
      "INFO:tensorflow:Assets written to: model_experiments\\model_5_LSTM\\assets\n"
     ]
    },
    {
     "name": "stdout",
     "output_type": "stream",
     "text": [
      "18/18 [==============================] - 1s 83ms/step - loss: 120.8230 - val_loss: 660.8619\n",
      "Epoch 46/100\n",
      "14/18 [======================>.......] - ETA: 0s - loss: 125.7439INFO:tensorflow:Assets written to: model_experiments\\model_5_LSTM\\assets\n"
     ]
    },
    {
     "name": "stderr",
     "output_type": "stream",
     "text": [
      "INFO:tensorflow:Assets written to: model_experiments\\model_5_LSTM\\assets\n"
     ]
    },
    {
     "name": "stdout",
     "output_type": "stream",
     "text": [
      "18/18 [==============================] - 1s 77ms/step - loss: 122.7182 - val_loss: 654.6066\n",
      "Epoch 47/100\n",
      "18/18 [==============================] - 0s 17ms/step - loss: 121.6202 - val_loss: 659.3349\n",
      "Epoch 48/100\n",
      "17/18 [===========================>..] - ETA: 0s - loss: 120.8755INFO:tensorflow:Assets written to: model_experiments\\model_5_LSTM\\assets\n"
     ]
    },
    {
     "name": "stderr",
     "output_type": "stream",
     "text": [
      "INFO:tensorflow:Assets written to: model_experiments\\model_5_LSTM\\assets\n"
     ]
    },
    {
     "name": "stdout",
     "output_type": "stream",
     "text": [
      "18/18 [==============================] - 1s 79ms/step - loss: 121.2046 - val_loss: 647.3625\n",
      "Epoch 49/100\n",
      "18/18 [==============================] - 0s 16ms/step - loss: 118.9365 - val_loss: 655.1332\n",
      "Epoch 50/100\n",
      "18/18 [==============================] - 0s 16ms/step - loss: 123.1827 - val_loss: 647.7899\n",
      "Epoch 51/100\n",
      "18/18 [==============================] - 0s 15ms/step - loss: 118.0981 - val_loss: 654.2491\n",
      "Epoch 52/100\n",
      "17/18 [===========================>..] - ETA: 0s - loss: 118.1921INFO:tensorflow:Assets written to: model_experiments\\model_5_LSTM\\assets\n"
     ]
    },
    {
     "name": "stderr",
     "output_type": "stream",
     "text": [
      "INFO:tensorflow:Assets written to: model_experiments\\model_5_LSTM\\assets\n"
     ]
    },
    {
     "name": "stdout",
     "output_type": "stream",
     "text": [
      "18/18 [==============================] - 1s 79ms/step - loss: 117.7945 - val_loss: 635.5386\n",
      "Epoch 53/100\n",
      "18/18 [==============================] - 0s 15ms/step - loss: 118.0592 - val_loss: 641.4078\n",
      "Epoch 54/100\n",
      "18/18 [==============================] - 0s 14ms/step - loss: 120.6534 - val_loss: 651.5128\n",
      "Epoch 55/100\n",
      "15/18 [========================>.....] - ETA: 0s - loss: 121.1377INFO:tensorflow:Assets written to: model_experiments\\model_5_LSTM\\assets\n"
     ]
    },
    {
     "name": "stderr",
     "output_type": "stream",
     "text": [
      "INFO:tensorflow:Assets written to: model_experiments\\model_5_LSTM\\assets\n"
     ]
    },
    {
     "name": "stdout",
     "output_type": "stream",
     "text": [
      "18/18 [==============================] - 1s 78ms/step - loss: 117.4153 - val_loss: 628.4011\n",
      "Epoch 56/100\n",
      "18/18 [==============================] - 0s 15ms/step - loss: 119.8723 - val_loss: 656.2256\n",
      "Epoch 57/100\n",
      "18/18 [==============================] - 0s 14ms/step - loss: 127.4969 - val_loss: 656.5479\n",
      "Epoch 58/100\n",
      "18/18 [==============================] - 0s 14ms/step - loss: 117.0085 - val_loss: 635.1631\n",
      "Epoch 59/100\n",
      "14/18 [======================>.......] - ETA: 0s - loss: 115.9636INFO:tensorflow:Assets written to: model_experiments\\model_5_LSTM\\assets\n"
     ]
    },
    {
     "name": "stderr",
     "output_type": "stream",
     "text": [
      "INFO:tensorflow:Assets written to: model_experiments\\model_5_LSTM\\assets\n"
     ]
    },
    {
     "name": "stdout",
     "output_type": "stream",
     "text": [
      "18/18 [==============================] - 1s 79ms/step - loss: 116.0691 - val_loss: 620.2750\n",
      "Epoch 60/100\n",
      "14/18 [======================>.......] - ETA: 0s - loss: 116.5398INFO:tensorflow:Assets written to: model_experiments\\model_5_LSTM\\assets\n"
     ]
    },
    {
     "name": "stderr",
     "output_type": "stream",
     "text": [
      "INFO:tensorflow:Assets written to: model_experiments\\model_5_LSTM\\assets\n"
     ]
    },
    {
     "name": "stdout",
     "output_type": "stream",
     "text": [
      "18/18 [==============================] - 1s 78ms/step - loss: 115.5223 - val_loss: 619.3799\n",
      "Epoch 61/100\n",
      "18/18 [==============================] - 0s 15ms/step - loss: 115.6868 - val_loss: 640.0817\n",
      "Epoch 62/100\n",
      "18/18 [==============================] - 0s 15ms/step - loss: 116.5985 - val_loss: 632.9362\n",
      "Epoch 63/100\n",
      "18/18 [==============================] - 0s 15ms/step - loss: 118.8439 - val_loss: 621.8544\n",
      "Epoch 64/100\n",
      "18/18 [==============================] - 0s 15ms/step - loss: 114.5507 - val_loss: 626.9584\n",
      "Epoch 65/100\n",
      "14/18 [======================>.......] - ETA: 0s - loss: 115.8251INFO:tensorflow:Assets written to: model_experiments\\model_5_LSTM\\assets\n"
     ]
    },
    {
     "name": "stderr",
     "output_type": "stream",
     "text": [
      "INFO:tensorflow:Assets written to: model_experiments\\model_5_LSTM\\assets\n"
     ]
    },
    {
     "name": "stdout",
     "output_type": "stream",
     "text": [
      "18/18 [==============================] - 1s 77ms/step - loss: 115.6401 - val_loss: 616.0507\n",
      "Epoch 66/100\n",
      "18/18 [==============================] - 0s 14ms/step - loss: 114.0374 - val_loss: 638.3330\n",
      "Epoch 67/100\n",
      "16/18 [=========================>....] - ETA: 0s - loss: 113.3996INFO:tensorflow:Assets written to: model_experiments\\model_5_LSTM\\assets\n"
     ]
    },
    {
     "name": "stderr",
     "output_type": "stream",
     "text": [
      "INFO:tensorflow:Assets written to: model_experiments\\model_5_LSTM\\assets\n"
     ]
    },
    {
     "name": "stdout",
     "output_type": "stream",
     "text": [
      "18/18 [==============================] - 1s 77ms/step - loss: 115.9372 - val_loss: 610.3190\n",
      "Epoch 68/100\n",
      "18/18 [==============================] - 0s 14ms/step - loss: 116.9615 - val_loss: 628.9420\n",
      "Epoch 69/100\n",
      "18/18 [==============================] - 0s 14ms/step - loss: 121.1736 - val_loss: 628.8013\n",
      "Epoch 70/100\n",
      "14/18 [======================>.......] - ETA: 0s - loss: 117.4971INFO:tensorflow:Assets written to: model_experiments\\model_5_LSTM\\assets\n"
     ]
    },
    {
     "name": "stderr",
     "output_type": "stream",
     "text": [
      "INFO:tensorflow:Assets written to: model_experiments\\model_5_LSTM\\assets\n"
     ]
    },
    {
     "name": "stdout",
     "output_type": "stream",
     "text": [
      "18/18 [==============================] - 1s 77ms/step - loss: 117.0945 - val_loss: 607.7687\n",
      "Epoch 71/100\n",
      "18/18 [==============================] - 0s 15ms/step - loss: 113.2618 - val_loss: 612.6521\n",
      "Epoch 72/100\n",
      "16/18 [=========================>....] - ETA: 0s - loss: 112.8388INFO:tensorflow:Assets written to: model_experiments\\model_5_LSTM\\assets\n"
     ]
    },
    {
     "name": "stderr",
     "output_type": "stream",
     "text": [
      "INFO:tensorflow:Assets written to: model_experiments\\model_5_LSTM\\assets\n"
     ]
    },
    {
     "name": "stdout",
     "output_type": "stream",
     "text": [
      "18/18 [==============================] - 1s 79ms/step - loss: 114.4448 - val_loss: 605.5875\n",
      "Epoch 73/100\n",
      "16/18 [=========================>....] - ETA: 0s - loss: 112.4413INFO:tensorflow:Assets written to: model_experiments\\model_5_LSTM\\assets\n"
     ]
    },
    {
     "name": "stderr",
     "output_type": "stream",
     "text": [
      "INFO:tensorflow:Assets written to: model_experiments\\model_5_LSTM\\assets\n"
     ]
    },
    {
     "name": "stdout",
     "output_type": "stream",
     "text": [
      "18/18 [==============================] - 1s 80ms/step - loss: 112.0526 - val_loss: 601.9145\n",
      "Epoch 74/100\n",
      "18/18 [==============================] - 0s 13ms/step - loss: 113.8241 - val_loss: 603.0751\n",
      "Epoch 75/100\n",
      "18/18 [==============================] - 0s 13ms/step - loss: 113.8305 - val_loss: 630.6225\n",
      "Epoch 76/100\n",
      "18/18 [==============================] - 0s 13ms/step - loss: 114.5885 - val_loss: 623.3722\n",
      "Epoch 77/100\n",
      "18/18 [==============================] - 0s 13ms/step - loss: 115.8959 - val_loss: 668.3967\n",
      "Epoch 78/100\n",
      "18/18 [==============================] - 0s 13ms/step - loss: 118.1924 - val_loss: 648.3706\n",
      "Epoch 79/100\n",
      "17/18 [===========================>..] - ETA: 0s - loss: 114.3801INFO:tensorflow:Assets written to: model_experiments\\model_5_LSTM\\assets\n"
     ]
    },
    {
     "name": "stderr",
     "output_type": "stream",
     "text": [
      "INFO:tensorflow:Assets written to: model_experiments\\model_5_LSTM\\assets\n"
     ]
    },
    {
     "name": "stdout",
     "output_type": "stream",
     "text": [
      "18/18 [==============================] - 1s 74ms/step - loss: 113.8895 - val_loss: 596.1457\n",
      "Epoch 80/100\n",
      "18/18 [==============================] - 0s 12ms/step - loss: 111.3853 - val_loss: 605.4294\n",
      "Epoch 81/100\n",
      "18/18 [==============================] - 0s 13ms/step - loss: 112.7090 - val_loss: 616.2324\n",
      "Epoch 82/100\n",
      "18/18 [==============================] - 0s 12ms/step - loss: 114.1938 - val_loss: 605.1932\n",
      "Epoch 83/100\n",
      "18/18 [==============================] - 0s 12ms/step - loss: 112.6371 - val_loss: 617.3801\n",
      "Epoch 84/100\n",
      "13/18 [====================>.........] - ETA: 0s - loss: 108.5873INFO:tensorflow:Assets written to: model_experiments\\model_5_LSTM\\assets\n"
     ]
    },
    {
     "name": "stderr",
     "output_type": "stream",
     "text": [
      "INFO:tensorflow:Assets written to: model_experiments\\model_5_LSTM\\assets\n"
     ]
    },
    {
     "name": "stdout",
     "output_type": "stream",
     "text": [
      "18/18 [==============================] - 1s 74ms/step - loss: 112.6435 - val_loss: 594.7381\n",
      "Epoch 85/100\n",
      "18/18 [==============================] - 0s 11ms/step - loss: 110.9990 - val_loss: 612.1250\n",
      "Epoch 86/100\n",
      "18/18 [==============================] - 0s 11ms/step - loss: 112.0967 - val_loss: 642.5970\n",
      "Epoch 87/100\n",
      "13/18 [====================>.........] - ETA: 0s - loss: 118.9016INFO:tensorflow:Assets written to: model_experiments\\model_5_LSTM\\assets\n"
     ]
    },
    {
     "name": "stderr",
     "output_type": "stream",
     "text": [
      "INFO:tensorflow:Assets written to: model_experiments\\model_5_LSTM\\assets\n"
     ]
    },
    {
     "name": "stdout",
     "output_type": "stream",
     "text": [
      "18/18 [==============================] - 2s 136ms/step - loss: 114.7601 - val_loss: 592.7261\n",
      "Epoch 88/100\n",
      "18/18 [==============================] - 0s 10ms/step - loss: 112.6612 - val_loss: 604.8996\n",
      "Epoch 89/100\n",
      "18/18 [==============================] - 0s 12ms/step - loss: 110.6213 - val_loss: 653.3724\n",
      "Epoch 90/100\n",
      "18/18 [==============================] - 0s 12ms/step - loss: 119.4768 - val_loss: 649.8215\n",
      "Epoch 91/100\n",
      "18/18 [==============================] - 0s 12ms/step - loss: 116.9895 - val_loss: 658.8879\n",
      "Epoch 92/100\n",
      "18/18 [==============================] - 0s 11ms/step - loss: 111.4656 - val_loss: 595.0494\n",
      "Epoch 93/100\n",
      "18/18 [==============================] - 0s 11ms/step - loss: 113.3293 - val_loss: 594.9482\n",
      "Epoch 94/100\n",
      "18/18 [==============================] - 0s 11ms/step - loss: 110.0829 - val_loss: 606.5720\n",
      "Epoch 95/100\n",
      "13/18 [====================>.........] - ETA: 0s - loss: 110.0454INFO:tensorflow:Assets written to: model_experiments\\model_5_LSTM\\assets\n"
     ]
    },
    {
     "name": "stderr",
     "output_type": "stream",
     "text": [
      "INFO:tensorflow:Assets written to: model_experiments\\model_5_LSTM\\assets\n"
     ]
    },
    {
     "name": "stdout",
     "output_type": "stream",
     "text": [
      "18/18 [==============================] - 1s 72ms/step - loss: 110.1498 - val_loss: 587.6232\n",
      "Epoch 96/100\n",
      "18/18 [==============================] - 0s 12ms/step - loss: 110.9980 - val_loss: 588.4274\n",
      "Epoch 97/100\n",
      "18/18 [==============================] - 0s 11ms/step - loss: 110.6861 - val_loss: 647.5112\n",
      "Epoch 98/100\n",
      "18/18 [==============================] - 0s 11ms/step - loss: 111.8696 - val_loss: 596.8857\n",
      "Epoch 99/100\n",
      "13/18 [====================>.........] - ETA: 0s - loss: 105.8369INFO:tensorflow:Assets written to: model_experiments\\model_5_LSTM\\assets\n"
     ]
    },
    {
     "name": "stderr",
     "output_type": "stream",
     "text": [
      "INFO:tensorflow:Assets written to: model_experiments\\model_5_LSTM\\assets\n"
     ]
    },
    {
     "name": "stdout",
     "output_type": "stream",
     "text": [
      "18/18 [==============================] - 1s 73ms/step - loss: 109.6784 - val_loss: 586.2825\n",
      "Epoch 100/100\n",
      "18/18 [==============================] - 0s 9ms/step - loss: 111.3746 - val_loss: 587.1483\n"
     ]
    },
    {
     "data": {
      "text/plain": [
       "<keras.src.callbacks.History at 0x23c1c7ba050>"
      ]
     },
     "execution_count": 220,
     "metadata": {},
     "output_type": "execute_result"
    }
   ],
   "source": [
    "tf.random.set_seed(42)\n",
    "\n",
    "# let's build and LSTM model with Functionnal API\n",
    "inputs = layers.Input(shape=WINDOW_SIZE)\n",
    "x = layers.Lambda(lambda x: tf.expand_dims(x, axis=1))(inputs)\n",
    "# x = layers.LSTM(128, return_sequences=True)(x)\n",
    "x = layers.LSTM(128, activation=\"relu\")(x) # instead of activation=tanh\n",
    "# x = layers.Dense(32, activation=\"relu\")(x)\n",
    "output = layers.Dense(HORIZON)(x)\n",
    "model_5 = tf.keras.Model(inputs=inputs, outputs=output, name=\"model_5_LSTM\")\n",
    "\n",
    "# Compile\n",
    "model_5.compile(loss=\"MAE\",\n",
    "                optimizer=tf.keras.optimizers.Adam())\n",
    "\n",
    "# Fit\n",
    "model_5.fit(train_windows,\n",
    "            train_labels,\n",
    "            epochs=100,\n",
    "            verbose=1,\n",
    "            batch_size=128,\n",
    "            validation_data=(test_windows, test_labels),\n",
    "            callbacks=[create_model_checkpoint(model_5.name)])\n",
    "\n"
   ]
  },
  {
   "cell_type": "code",
   "execution_count": 221,
   "metadata": {},
   "outputs": [
    {
     "name": "stdout",
     "output_type": "stream",
     "text": [
      "18/18 [==============================] - 0s 2ms/step - loss: 586.2824\n"
     ]
    },
    {
     "data": {
      "text/plain": [
       "586.2824096679688"
      ]
     },
     "execution_count": 221,
     "metadata": {},
     "output_type": "execute_result"
    }
   ],
   "source": [
    "# Load in best model 5 and evalute on test data\n",
    "model_5 = tf.keras.models.load_model(\"model_experiments/model_5_LSTM/\")\n",
    "model_5.evaluate(test_windows, test_labels)"
   ]
  },
  {
   "cell_type": "code",
   "execution_count": 222,
   "metadata": {},
   "outputs": [
    {
     "name": "stdout",
     "output_type": "stream",
     "text": [
      "18/18 [==============================] - 0s 2ms/step\n"
     ]
    },
    {
     "data": {
      "text/plain": [
       "<tf.Tensor: shape=(5,), dtype=float32, numpy=array([8917.572, 8777.163, 8954.292, 8784.071, 8719.12 ], dtype=float32)>"
      ]
     },
     "execution_count": 222,
     "metadata": {},
     "output_type": "execute_result"
    }
   ],
   "source": [
    "# Make predictions with our LSTM model\n",
    "model_5_preds = make_preds(model_5, test_windows)\n",
    "model_5_preds[:5]"
   ]
  },
  {
   "cell_type": "code",
   "execution_count": 223,
   "metadata": {},
   "outputs": [
    {
     "data": {
      "text/plain": [
       "{'mae': 586.2825,\n",
       " 'mse': 1232607.2,\n",
       " 'rmse': 1110.2285,\n",
       " 'mape': 2.6353383,\n",
       " 'mase': 1.029936}"
      ]
     },
     "execution_count": 223,
     "metadata": {},
     "output_type": "execute_result"
    }
   ],
   "source": [
    "# Evaluate model 5 predictions\n",
    "model_5_results = evaluate_preds(y_true=tf.squeeze(test_labels),\n",
    "                                 y_pred=model_5_preds)\n",
    "model_5_results"
   ]
  },
  {
   "cell_type": "code",
   "execution_count": 224,
   "metadata": {},
   "outputs": [
    {
     "data": {
      "text/plain": [
       "{'mae': 565.5482,\n",
       " 'mse': 1161920.8,\n",
       " 'rmse': 1077.9243,\n",
       " 'mape': 2.5257013,\n",
       " 'mase': 0.99351156}"
      ]
     },
     "execution_count": 224,
     "metadata": {},
     "output_type": "execute_result"
    }
   ],
   "source": [
    "model_1_results"
   ]
  },
  {
   "cell_type": "code",
   "execution_count": null,
   "metadata": {},
   "outputs": [],
   "source": []
  }
 ],
 "metadata": {
  "kernelspec": {
   "display_name": "global",
   "language": "python",
   "name": "python3"
  },
  "language_info": {
   "codemirror_mode": {
    "name": "ipython",
    "version": 3
   },
   "file_extension": ".py",
   "mimetype": "text/x-python",
   "name": "python",
   "nbconvert_exporter": "python",
   "pygments_lexer": "ipython3",
   "version": "3.11.5"
  },
  "orig_nbformat": 4
 },
 "nbformat": 4,
 "nbformat_minor": 2
}
