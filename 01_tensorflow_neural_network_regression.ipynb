{
 "cells": [
  {
   "attachments": {},
   "cell_type": "markdown",
   "metadata": {},
   "source": [
    "# Introduction to Regression Neural network  with TensorFlow\n",
    "\n",
    "- **Regression**: Predicting a number\n",
    "\n",
    "There are many definitions for a regression problem but in our case, w're going to simplify it: predicting a numerical variable based on some other combination of variables, even shorter... predicting a number."
   ]
  },
  {
   "attachments": {},
   "cell_type": "markdown",
   "metadata": {},
   "source": [
    "<img src=\"./course_images/regression_typical_architecture.png\">"
   ]
  },
  {
   "cell_type": "code",
   "execution_count": 33,
   "metadata": {},
   "outputs": [
    {
     "data": {
      "text/plain": [
       "'2.13.0'"
      ]
     },
     "execution_count": 33,
     "metadata": {},
     "output_type": "execute_result"
    }
   ],
   "source": [
    "# Import TensorFlow\n",
    "import tensorflow as tf\n",
    "\n",
    "tf.__version__"
   ]
  },
  {
   "attachments": {},
   "cell_type": "markdown",
   "metadata": {},
   "source": [
    "## Creating data to view and fit\n"
   ]
  },
  {
   "cell_type": "code",
   "execution_count": 34,
   "metadata": {},
   "outputs": [
    {
     "data": {
      "text/plain": [
       "<matplotlib.collections.PathCollection at 0x1ed20da6c20>"
      ]
     },
     "execution_count": 34,
     "metadata": {},
     "output_type": "execute_result"
    },
    {
     "data": {
      "image/png": "[encoded data removed]",
      "text/plain": [
       "<Figure size 640x480 with 1 Axes>"
      ]
     },
     "metadata": {},
     "output_type": "display_data"
    }
   ],
   "source": [
    "import numpy as np\n",
    "import matplotlib.pyplot as plt\n",
    "\n",
    "# Create features (X)\n",
    "X = np.array([-7.0, -4.0, -1.0, 2.0, 5.0, 8.0, 11.0, 14.0])\n",
    "\n",
    "# Create labels\n",
    "y = np.array([3.0, 6.0, 9.0, 12.0, 15.0, 18.0, 21.0, 24.0])\n",
    "\n",
    "# Visualize itt\n",
    "plt.scatter(X, y)\n"
   ]
  },
  {
   "cell_type": "code",
   "execution_count": 35,
   "metadata": {},
   "outputs": [
    {
     "data": {
      "text/plain": [
       "(array([ 3.,  6.,  9., 12., 15., 18., 21., 24.]),\n",
       " array([ True,  True,  True,  True,  True,  True,  True,  True]))"
      ]
     },
     "execution_count": 35,
     "metadata": {},
     "output_type": "execute_result"
    }
   ],
   "source": [
    "\n",
    "X+10, y == X + 10"
   ]
  },
  {
   "attachments": {},
   "cell_type": "markdown",
   "metadata": {},
   "source": [
    "##  Input and output shapes"
   ]
  },
  {
   "cell_type": "code",
   "execution_count": 36,
   "metadata": {},
   "outputs": [
    {
     "data": {
      "text/plain": [
       "(<tf.Tensor: shape=(3,), dtype=string, numpy=array([b'bedroom', b'bathroom', b'garage'], dtype=object)>,\n",
       " <tf.Tensor: shape=(1,), dtype=int32, numpy=array([939700])>)"
      ]
     },
     "execution_count": 36,
     "metadata": {},
     "output_type": "execute_result"
    }
   ],
   "source": [
    "# Create a demo tensor for our housing price prediction problem\n",
    "house_info = tf.constant([\"bedroom\", \"bathroom\", \"garage\"])\n",
    "house_price = tf.constant([939700])\n",
    "house_info, house_price"
   ]
  },
  {
   "cell_type": "code",
   "execution_count": 37,
   "metadata": {},
   "outputs": [
    {
     "data": {
      "text/plain": [
       "(-7.0, 3.0)"
      ]
     },
     "execution_count": 37,
     "metadata": {},
     "output_type": "execute_result"
    }
   ],
   "source": [
    "X[0], y[0]"
   ]
  },
  {
   "cell_type": "code",
   "execution_count": 38,
   "metadata": {},
   "outputs": [
    {
     "data": {
      "text/plain": [
       "((), ())"
      ]
     },
     "execution_count": 38,
     "metadata": {},
     "output_type": "execute_result"
    }
   ],
   "source": [
    "input_shape = X[0].shape\n",
    "output_shape = y[0].shape\n",
    "input_shape, output_shape # no shape because scalar (rank ndim 0)"
   ]
  },
  {
   "cell_type": "code",
   "execution_count": 39,
   "metadata": {},
   "outputs": [
    {
     "data": {
      "text/plain": [
       "0"
      ]
     },
     "execution_count": 39,
     "metadata": {},
     "output_type": "execute_result"
    }
   ],
   "source": [
    "X[0].ndim"
   ]
  },
  {
   "cell_type": "code",
   "execution_count": 40,
   "metadata": {},
   "outputs": [
    {
     "data": {
      "text/plain": [
       "(<tf.Tensor: shape=(8,), dtype=float32, numpy=array([-7., -4., -1.,  2.,  5.,  8., 11., 14.], dtype=float32)>,\n",
       " <tf.Tensor: shape=(8,), dtype=float32, numpy=array([ 3.,  6.,  9., 12., 15., 18., 21., 24.], dtype=float32)>)"
      ]
     },
     "execution_count": 40,
     "metadata": {},
     "output_type": "execute_result"
    }
   ],
   "source": [
    "# Turn our NumPy arrays into tensors with dtype float32\n",
    "X = tf.cast(tf.constant(X), dtype=tf.float32)\n",
    "y = tf.cast(tf.constant(y), dtype=tf.float32)\n",
    "X, y"
   ]
  },
  {
   "cell_type": "code",
   "execution_count": 41,
   "metadata": {},
   "outputs": [
    {
     "data": {
      "text/plain": [
       "(TensorShape([]), TensorShape([]))"
      ]
     },
     "execution_count": 41,
     "metadata": {},
     "output_type": "execute_result"
    }
   ],
   "source": [
    "input_shape = X[0].shape\n",
    "output_shape = y[0].shape\n",
    "input_shape, output_shape"
   ]
  },
  {
   "cell_type": "code",
   "execution_count": 42,
   "metadata": {},
   "outputs": [
    {
     "data": {
      "text/plain": [
       "<matplotlib.collections.PathCollection at 0x1ed20da7610>"
      ]
     },
     "execution_count": 42,
     "metadata": {},
     "output_type": "execute_result"
    },
    {
     "data": {
      "image/png": "[encoded data removed]",
      "text/plain": [
       "<Figure size 640x480 with 1 Axes>"
      ]
     },
     "metadata": {},
     "output_type": "display_data"
    }
   ],
   "source": [
    "plt.scatter(X, y)"
   ]
  },
  {
   "attachments": {},
   "cell_type": "markdown",
   "metadata": {},
   "source": [
    "## Steps in modelling with TensorFlow\n",
    "\n",
    "1. **Creating a model** - define the input and output layers, as well as the hidden layers of a deep learning model.\n",
    "\n",
    "2. **Compiling a model** - define the loss fonction (in other words, the function which tells our model how wrong it is) and the optimizer (tells our model how to improve the patterns its learning) and evaluation metrics (what we can use to interpret the performance of our model).\n",
    "\n",
    "3. **Fitting a model** - letting the model try to find patterns between (features and labels).\n",
    "\n",
    "<img src=\"./course_images/steps_modeling_tensorflow.png\" >\n",
    "\n",
    "<img src=\"./course_images/steps2_modeling_tensorflow.png\" >\n",
    "\n",
    "**VS CODE SHORTCUT**: pour voir la doc: ctrl + space / google colab: shift + ctrl + space"
   ]
  },
  {
   "cell_type": "code",
   "execution_count": 43,
   "metadata": {},
   "outputs": [
    {
     "name": "stdout",
     "output_type": "stream",
     "text": [
      "Epoch 1/5\n",
      "1/1 [==============================] - 0s 247ms/step - loss: 18.1101 - mae: 18.1101\n",
      "Epoch 2/5\n",
      "1/1 [==============================] - 0s 5ms/step - loss: 17.8288 - mae: 17.8288\n",
      "Epoch 3/5\n",
      "1/1 [==============================] - 0s 5ms/step - loss: 17.5476 - mae: 17.5476\n",
      "Epoch 4/5\n",
      "1/1 [==============================] - 0s 4ms/step - loss: 17.2663 - mae: 17.2663\n",
      "Epoch 5/5\n",
      "1/1 [==============================] - 0s 4ms/step - loss: 16.9851 - mae: 16.9851\n"
     ]
    },
    {
     "data": {
      "text/plain": [
       "<keras.src.callbacks.History at 0x1ed213607c0>"
      ]
     },
     "execution_count": 43,
     "metadata": {},
     "output_type": "execute_result"
    }
   ],
   "source": [
    "# Set random seed\n",
    "tf.random.set_seed(42)\n",
    "\n",
    "# 1. Create a model using the Sequential API ( you can add layer as list or .add())\n",
    "model = tf.keras.Sequential([\n",
    "    tf.keras.layers.Dense(1)\n",
    "])\n",
    "\n",
    "# 2. Compile the model\n",
    "model.compile(loss=tf.keras.losses.mae, # mae is short for mean absolute error\n",
    "              #optimizer=tf.keras.optimizers.SGD(), # sgd is short for stochastic gradient descent\n",
    "              optimizer=\"sgd\",\n",
    "              metrics=[\"mae\"])\n",
    "\n",
    "# 3. Fit the model\n",
    "model.fit(tf.expand_dims(X, axis=-1), y, epochs=5)"
   ]
  },
  {
   "cell_type": "code",
   "execution_count": 44,
   "metadata": {},
   "outputs": [
    {
     "data": {
      "text/plain": [
       "(<tf.Tensor: shape=(8,), dtype=float32, numpy=array([-7., -4., -1.,  2.,  5.,  8., 11., 14.], dtype=float32)>,\n",
       " <tf.Tensor: shape=(8,), dtype=float32, numpy=array([ 3.,  6.,  9., 12., 15., 18., 21., 24.], dtype=float32)>)"
      ]
     },
     "execution_count": 44,
     "metadata": {},
     "output_type": "execute_result"
    }
   ],
   "source": [
    "# Check out X and y\n",
    "X, y"
   ]
  },
  {
   "cell_type": "code",
   "execution_count": 45,
   "metadata": {},
   "outputs": [
    {
     "name": "stdout",
     "output_type": "stream",
     "text": [
      "1/1 [==============================] - 0s 58ms/step\n"
     ]
    },
    {
     "data": {
      "text/plain": [
       "array([[-12.856369]], dtype=float32)"
      ]
     },
     "execution_count": 45,
     "metadata": {},
     "output_type": "execute_result"
    }
   ],
   "source": [
    "# Try and make a prediction using our model\n",
    "y_pred = model.predict([17.0])\n",
    "y_pred"
   ]
  },
  {
   "cell_type": "code",
   "execution_count": 46,
   "metadata": {},
   "outputs": [
    {
     "data": {
      "text/plain": [
       "array([[-5.856369]], dtype=float32)"
      ]
     },
     "execution_count": 46,
     "metadata": {},
     "output_type": "execute_result"
    }
   ],
   "source": [
    "y_pred + 7"
   ]
  },
  {
   "attachments": {},
   "cell_type": "markdown",
   "metadata": {},
   "source": [
    "## Improving model\n",
    "\n",
    "We can improve our model, by altering the steps we took to create a model.\n",
    "\n",
    "1. **Creating a model** - here we might add more layers, increase the number of hidden units (all called neurons) within each of the hidden layers, change the activation function of each layer.\n",
    "\n",
    "2. **Compiling a model** - here we might change the optimization function or perhaps the **learning rate** of the optimization function.\n",
    "\n",
    "3. **Fitting a model** - here we might fit a model for more **epochs** (leave it training for longer) or on more data (give the model more examples to learn from)."
   ]
  },
  {
   "cell_type": "code",
   "execution_count": 47,
   "metadata": {},
   "outputs": [
    {
     "name": "stdout",
     "output_type": "stream",
     "text": [
      "Epoch 1/100\n"
     ]
    },
    {
     "name": "stdout",
     "output_type": "stream",
     "text": [
      "1/1 [==============================] - 0s 241ms/step - loss: 10.4268 - mae: 10.4268\n",
      "Epoch 2/100\n",
      "1/1 [==============================] - 0s 4ms/step - loss: 10.2943 - mae: 10.2943\n",
      "Epoch 3/100\n",
      "1/1 [==============================] - 0s 4ms/step - loss: 10.1618 - mae: 10.1618\n",
      "Epoch 4/100\n",
      "1/1 [==============================] - 0s 6ms/step - loss: 10.0293 - mae: 10.0293\n",
      "Epoch 5/100\n",
      "1/1 [==============================] - 0s 5ms/step - loss: 9.8968 - mae: 9.8968\n",
      "Epoch 6/100\n",
      "1/1 [==============================] - 0s 5ms/step - loss: 9.7643 - mae: 9.7643\n",
      "Epoch 7/100\n",
      "1/1 [==============================] - 0s 5ms/step - loss: 9.6318 - mae: 9.6318\n",
      "Epoch 8/100\n",
      "1/1 [==============================] - 0s 6ms/step - loss: 9.4993 - mae: 9.4993\n",
      "Epoch 9/100\n",
      "1/1 [==============================] - 0s 6ms/step - loss: 9.3668 - mae: 9.3668\n",
      "Epoch 10/100\n",
      "1/1 [==============================] - 0s 6ms/step - loss: 9.2343 - mae: 9.2343\n",
      "Epoch 11/100\n",
      "1/1 [==============================] - 0s 5ms/step - loss: 9.1018 - mae: 9.1018\n",
      "Epoch 12/100\n",
      "1/1 [==============================] - 0s 5ms/step - loss: 8.9693 - mae: 8.9693\n",
      "Epoch 13/100\n",
      "1/1 [==============================] - 0s 5ms/step - loss: 8.8368 - mae: 8.8368\n",
      "Epoch 14/100\n",
      "1/1 [==============================] - 0s 6ms/step - loss: 8.7043 - mae: 8.7043\n",
      "Epoch 15/100\n",
      "1/1 [==============================] - 0s 5ms/step - loss: 8.5718 - mae: 8.5718\n",
      "Epoch 16/100\n",
      "1/1 [==============================] - 0s 4ms/step - loss: 8.4393 - mae: 8.4393\n",
      "Epoch 17/100\n",
      "1/1 [==============================] - 0s 6ms/step - loss: 8.3068 - mae: 8.3068\n",
      "Epoch 18/100\n",
      "1/1 [==============================] - 0s 5ms/step - loss: 8.1743 - mae: 8.1743\n",
      "Epoch 19/100\n",
      "1/1 [==============================] - 0s 5ms/step - loss: 8.0418 - mae: 8.0418\n",
      "Epoch 20/100\n",
      "1/1 [==============================] - 0s 6ms/step - loss: 7.9093 - mae: 7.9093\n",
      "Epoch 21/100\n",
      "1/1 [==============================] - 0s 4ms/step - loss: 7.7768 - mae: 7.7768\n",
      "Epoch 22/100\n",
      "1/1 [==============================] - 0s 5ms/step - loss: 7.6443 - mae: 7.6443\n",
      "Epoch 23/100\n",
      "1/1 [==============================] - 0s 3ms/step - loss: 7.5118 - mae: 7.5118\n",
      "Epoch 24/100\n",
      "1/1 [==============================] - 0s 3ms/step - loss: 7.3793 - mae: 7.3793\n",
      "Epoch 25/100\n",
      "1/1 [==============================] - 0s 3ms/step - loss: 7.3200 - mae: 7.3200\n",
      "Epoch 26/100\n",
      "1/1 [==============================] - 0s 4ms/step - loss: 7.3144 - mae: 7.3144\n",
      "Epoch 27/100\n",
      "1/1 [==============================] - 0s 3ms/step - loss: 7.3087 - mae: 7.3087\n",
      "Epoch 28/100\n",
      "1/1 [==============================] - 0s 3ms/step - loss: 7.3031 - mae: 7.3031\n",
      "Epoch 29/100\n",
      "1/1 [==============================] - 0s 5ms/step - loss: 7.2975 - mae: 7.2975\n",
      "Epoch 30/100\n",
      "1/1 [==============================] - 0s 3ms/step - loss: 7.2919 - mae: 7.2919\n",
      "Epoch 31/100\n",
      "1/1 [==============================] - 0s 4ms/step - loss: 7.2863 - mae: 7.2863\n",
      "Epoch 32/100\n",
      "1/1 [==============================] - 0s 4ms/step - loss: 7.2806 - mae: 7.2806\n",
      "Epoch 33/100\n",
      "1/1 [==============================] - 0s 4ms/step - loss: 7.2750 - mae: 7.2750\n",
      "Epoch 34/100\n",
      "1/1 [==============================] - 0s 4ms/step - loss: 7.2694 - mae: 7.2694\n",
      "Epoch 35/100\n",
      "1/1 [==============================] - 0s 5ms/step - loss: 7.2638 - mae: 7.2638\n",
      "Epoch 36/100\n",
      "1/1 [==============================] - 0s 5ms/step - loss: 7.2581 - mae: 7.2581\n",
      "Epoch 37/100\n",
      "1/1 [==============================] - 0s 5ms/step - loss: 7.2525 - mae: 7.2525\n",
      "Epoch 38/100\n",
      "1/1 [==============================] - 0s 6ms/step - loss: 7.2469 - mae: 7.2469\n",
      "Epoch 39/100\n",
      "1/1 [==============================] - 0s 3ms/step - loss: 7.2413 - mae: 7.2413\n",
      "Epoch 40/100\n",
      "1/1 [==============================] - 0s 6ms/step - loss: 7.2356 - mae: 7.2356\n",
      "Epoch 41/100\n",
      "1/1 [==============================] - 0s 5ms/step - loss: 7.2300 - mae: 7.2300\n",
      "Epoch 42/100\n",
      "1/1 [==============================] - 0s 7ms/step - loss: 7.2244 - mae: 7.2244\n",
      "Epoch 43/100\n",
      "1/1 [==============================] - 0s 5ms/step - loss: 7.2188 - mae: 7.2188\n",
      "Epoch 44/100\n",
      "1/1 [==============================] - 0s 5ms/step - loss: 7.2131 - mae: 7.2131\n",
      "Epoch 45/100\n",
      "1/1 [==============================] - 0s 4ms/step - loss: 7.2075 - mae: 7.2075\n",
      "Epoch 46/100\n",
      "1/1 [==============================] - 0s 4ms/step - loss: 7.2019 - mae: 7.2019\n",
      "Epoch 47/100\n",
      "1/1 [==============================] - 0s 4ms/step - loss: 7.1962 - mae: 7.1962\n",
      "Epoch 48/100\n",
      "1/1 [==============================] - 0s 3ms/step - loss: 7.1906 - mae: 7.1906\n",
      "Epoch 49/100\n",
      "1/1 [==============================] - 0s 3ms/step - loss: 7.1850 - mae: 7.1850\n",
      "Epoch 50/100\n",
      "1/1 [==============================] - 0s 2ms/step - loss: 7.1794 - mae: 7.1794\n",
      "Epoch 51/100\n",
      "1/1 [==============================] - 0s 6ms/step - loss: 7.1738 - mae: 7.1738\n",
      "Epoch 52/100\n",
      "1/1 [==============================] - 0s 3ms/step - loss: 7.1681 - mae: 7.1681\n",
      "Epoch 53/100\n",
      "1/1 [==============================] - 0s 5ms/step - loss: 7.1625 - mae: 7.1625\n",
      "Epoch 54/100\n",
      "1/1 [==============================] - 0s 3ms/step - loss: 7.1569 - mae: 7.1569\n",
      "Epoch 55/100\n",
      "1/1 [==============================] - 0s 3ms/step - loss: 7.1512 - mae: 7.1512\n",
      "Epoch 56/100\n",
      "1/1 [==============================] - 0s 3ms/step - loss: 7.1456 - mae: 7.1456\n",
      "Epoch 57/100\n",
      "1/1 [==============================] - 0s 3ms/step - loss: 7.1400 - mae: 7.1400\n",
      "Epoch 58/100\n",
      "1/1 [==============================] - 0s 3ms/step - loss: 7.1344 - mae: 7.1344\n",
      "Epoch 59/100\n",
      "1/1 [==============================] - 0s 4ms/step - loss: 7.1287 - mae: 7.1287\n",
      "Epoch 60/100\n",
      "1/1 [==============================] - 0s 4ms/step - loss: 7.1231 - mae: 7.1231\n",
      "Epoch 61/100\n",
      "1/1 [==============================] - 0s 4ms/step - loss: 7.1175 - mae: 7.1175\n",
      "Epoch 62/100\n",
      "1/1 [==============================] - 0s 3ms/step - loss: 7.1119 - mae: 7.1119\n",
      "Epoch 63/100\n",
      "1/1 [==============================] - 0s 4ms/step - loss: 7.1063 - mae: 7.1063\n",
      "Epoch 64/100\n",
      "1/1 [==============================] - 0s 4ms/step - loss: 7.1006 - mae: 7.1006\n",
      "Epoch 65/100\n",
      "1/1 [==============================] - 0s 4ms/step - loss: 7.0950 - mae: 7.0950\n",
      "Epoch 66/100\n",
      "1/1 [==============================] - 0s 5ms/step - loss: 7.0894 - mae: 7.0894\n",
      "Epoch 67/100\n",
      "1/1 [==============================] - 0s 4ms/step - loss: 7.0838 - mae: 7.0838\n",
      "Epoch 68/100\n",
      "1/1 [==============================] - 0s 4ms/step - loss: 7.0781 - mae: 7.0781\n",
      "Epoch 69/100\n",
      "1/1 [==============================] - 0s 5ms/step - loss: 7.0725 - mae: 7.0725\n",
      "Epoch 70/100\n",
      "1/1 [==============================] - 0s 4ms/step - loss: 7.0669 - mae: 7.0669\n",
      "Epoch 71/100\n",
      "1/1 [==============================] - 0s 6ms/step - loss: 7.0613 - mae: 7.0613\n",
      "Epoch 72/100\n",
      "1/1 [==============================] - 0s 4ms/step - loss: 7.0556 - mae: 7.0556\n",
      "Epoch 73/100\n",
      "1/1 [==============================] - 0s 5ms/step - loss: 7.0500 - mae: 7.0500\n",
      "Epoch 74/100\n",
      "1/1 [==============================] - 0s 5ms/step - loss: 7.0444 - mae: 7.0444\n",
      "Epoch 75/100\n",
      "1/1 [==============================] - 0s 4ms/step - loss: 7.0388 - mae: 7.0388\n",
      "Epoch 76/100\n",
      "1/1 [==============================] - 0s 5ms/step - loss: 7.0331 - mae: 7.0331\n",
      "Epoch 77/100\n",
      "1/1 [==============================] - 0s 4ms/step - loss: 7.0275 - mae: 7.0275\n",
      "Epoch 78/100\n",
      "1/1 [==============================] - 0s 5ms/step - loss: 7.0219 - mae: 7.0219\n",
      "Epoch 79/100\n",
      "1/1 [==============================] - 0s 4ms/step - loss: 7.0163 - mae: 7.0163\n",
      "Epoch 80/100\n",
      "1/1 [==============================] - 0s 2ms/step - loss: 7.0106 - mae: 7.0106\n",
      "Epoch 81/100\n",
      "1/1 [==============================] - 0s 3ms/step - loss: 7.0050 - mae: 7.0050\n",
      "Epoch 82/100\n",
      "1/1 [==============================] - 0s 4ms/step - loss: 6.9994 - mae: 6.9994\n",
      "Epoch 83/100\n",
      "1/1 [==============================] - 0s 3ms/step - loss: 6.9938 - mae: 6.9938\n",
      "Epoch 84/100\n",
      "1/1 [==============================] - 0s 3ms/step - loss: 6.9881 - mae: 6.9881\n",
      "Epoch 85/100\n",
      "1/1 [==============================] - 0s 5ms/step - loss: 6.9825 - mae: 6.9825\n",
      "Epoch 86/100\n",
      "1/1 [==============================] - 0s 4ms/step - loss: 6.9769 - mae: 6.9769\n",
      "Epoch 87/100\n",
      "1/1 [==============================] - 0s 3ms/step - loss: 6.9713 - mae: 6.9713\n",
      "Epoch 88/100\n",
      "1/1 [==============================] - 0s 4ms/step - loss: 6.9656 - mae: 6.9656\n",
      "Epoch 89/100\n",
      "1/1 [==============================] - 0s 3ms/step - loss: 6.9600 - mae: 6.9600\n",
      "Epoch 90/100\n",
      "1/1 [==============================] - 0s 4ms/step - loss: 6.9544 - mae: 6.9544\n",
      "Epoch 91/100\n",
      "1/1 [==============================] - 0s 3ms/step - loss: 6.9488 - mae: 6.9488\n",
      "Epoch 92/100\n",
      "1/1 [==============================] - 0s 4ms/step - loss: 6.9431 - mae: 6.9431\n",
      "Epoch 93/100\n",
      "1/1 [==============================] - 0s 4ms/step - loss: 6.9375 - mae: 6.9375\n",
      "Epoch 94/100\n",
      "1/1 [==============================] - 0s 3ms/step - loss: 6.9319 - mae: 6.9319\n",
      "Epoch 95/100\n",
      "1/1 [==============================] - 0s 3ms/step - loss: 6.9263 - mae: 6.9263\n",
      "Epoch 96/100\n",
      "1/1 [==============================] - 0s 4ms/step - loss: 6.9206 - mae: 6.9206\n",
      "Epoch 97/100\n",
      "1/1 [==============================] - 0s 5ms/step - loss: 6.9150 - mae: 6.9150\n",
      "Epoch 98/100\n",
      "1/1 [==============================] - 0s 4ms/step - loss: 6.9094 - mae: 6.9094\n",
      "Epoch 99/100\n",
      "1/1 [==============================] - 0s 4ms/step - loss: 6.9038 - mae: 6.9038\n",
      "Epoch 100/100\n",
      "1/1 [==============================] - 0s 5ms/step - loss: 6.8981 - mae: 6.8981\n"
     ]
    },
    {
     "data": {
      "text/plain": [
       "<keras.src.callbacks.History at 0x1ed2140c220>"
      ]
     },
     "execution_count": 47,
     "metadata": {},
     "output_type": "execute_result"
    }
   ],
   "source": [
    "# Let's rebuild our model\n",
    "\n",
    "# 1. Create the model\n",
    "model = tf.keras.Sequential([\n",
    "    tf.keras.layers.Dense(1)\n",
    "])\n",
    "\n",
    "# 2. Compile the model\n",
    "model.compile(loss=tf.keras.losses.mae,\n",
    "              optimizer=tf.keras.optimizers.SGD(),\n",
    "              metrics=[\"mae\"])\n",
    "\n",
    "# 3. Fit the model (this time we'll try to train for longer)\n",
    "model.fit(tf.expand_dims(X, axis=-1), y, epochs=100)"
   ]
  },
  {
   "cell_type": "code",
   "execution_count": 48,
   "metadata": {},
   "outputs": [
    {
     "data": {
      "text/plain": [
       "(<tf.Tensor: shape=(8,), dtype=float32, numpy=array([-7., -4., -1.,  2.,  5.,  8., 11., 14.], dtype=float32)>,\n",
       " <tf.Tensor: shape=(8,), dtype=float32, numpy=array([ 3.,  6.,  9., 12., 15., 18., 21., 24.], dtype=float32)>)"
      ]
     },
     "execution_count": 48,
     "metadata": {},
     "output_type": "execute_result"
    }
   ],
   "source": [
    "# Remind ourselves of of the data\n",
    "X, y"
   ]
  },
  {
   "cell_type": "code",
   "execution_count": 49,
   "metadata": {},
   "outputs": [
    {
     "name": "stdout",
     "output_type": "stream",
     "text": [
      "WARNING:tensorflow:5 out of the last 5 calls to <function Model.make_predict_function.<locals>.predict_function at 0x000001ED213651B0> triggered tf.function retracing. Tracing is expensive and the excessive number of tracings could be due to (1) creating @tf.function repeatedly in a loop, (2) passing tensors with different shapes, (3) passing Python objects instead of tensors. For (1), please define your @tf.function outside of the loop. For (2), @tf.function has reduce_retracing=True option that can avoid unnecessary retracing. For (3), please refer to https://www.tensorflow.org/guide/function#controlling_retracing and https://www.tensorflow.org/api_docs/python/tf/function for  more details.\n",
      "1/1 [==============================] - 0s 58ms/step\n"
     ]
    },
    {
     "data": {
      "text/plain": [
       "array([[30.016872]], dtype=float32)"
      ]
     },
     "execution_count": 49,
     "metadata": {},
     "output_type": "execute_result"
    }
   ],
   "source": [
    "# Let's see if our model's predication has improved...\n",
    "model.predict([17.0])"
   ]
  },
  {
   "attachments": {},
   "cell_type": "markdown",
   "metadata": {},
   "source": [
    "<img src=\"./course_images/improving_model.png\">\n",
    "\n",
    "**the learning rate is the most important hyperparameter of many different neural networks**"
   ]
  },
  {
   "cell_type": "code",
   "execution_count": 50,
   "metadata": {},
   "outputs": [
    {
     "name": "stdout",
     "output_type": "stream",
     "text": [
      "Epoch 1/100\n"
     ]
    },
    {
     "name": "stdout",
     "output_type": "stream",
     "text": [
      "1/1 [==============================] - 0s 394ms/step - loss: 12.7621 - mae: 12.7621\n",
      "Epoch 2/100\n",
      "1/1 [==============================] - 0s 4ms/step - loss: 12.0243 - mae: 12.0243\n",
      "Epoch 3/100\n",
      "1/1 [==============================] - 0s 5ms/step - loss: 11.2835 - mae: 11.2835\n",
      "Epoch 4/100\n",
      "1/1 [==============================] - 0s 4ms/step - loss: 10.5393 - mae: 10.5393\n",
      "Epoch 5/100\n",
      "1/1 [==============================] - 0s 4ms/step - loss: 9.7909 - mae: 9.7909\n",
      "Epoch 6/100\n",
      "1/1 [==============================] - 0s 5ms/step - loss: 9.0363 - mae: 9.0363\n",
      "Epoch 7/100\n",
      "1/1 [==============================] - 0s 5ms/step - loss: 8.2727 - mae: 8.2727\n",
      "Epoch 8/100\n",
      "1/1 [==============================] - 0s 6ms/step - loss: 7.4968 - mae: 7.4968\n",
      "Epoch 9/100\n",
      "1/1 [==============================] - 0s 4ms/step - loss: 6.8620 - mae: 6.8620\n",
      "Epoch 10/100\n",
      "1/1 [==============================] - 0s 4ms/step - loss: 6.9171 - mae: 6.9171\n",
      "Epoch 11/100\n",
      "1/1 [==============================] - 0s 6ms/step - loss: 7.1962 - mae: 7.1962\n",
      "Epoch 12/100\n",
      "1/1 [==============================] - 0s 5ms/step - loss: 7.3549 - mae: 7.3549\n",
      "Epoch 13/100\n",
      "1/1 [==============================] - 0s 5ms/step - loss: 7.4610 - mae: 7.4610\n",
      "Epoch 14/100\n",
      "1/1 [==============================] - 0s 4ms/step - loss: 7.3922 - mae: 7.3922\n",
      "Epoch 15/100\n",
      "1/1 [==============================] - 0s 4ms/step - loss: 7.1747 - mae: 7.1747\n",
      "Epoch 16/100\n",
      "1/1 [==============================] - 0s 6ms/step - loss: 6.9697 - mae: 6.9697\n",
      "Epoch 17/100\n",
      "1/1 [==============================] - 0s 8ms/step - loss: 6.7332 - mae: 6.7332\n",
      "Epoch 18/100\n",
      "1/1 [==============================] - 0s 5ms/step - loss: 6.4712 - mae: 6.4712\n",
      "Epoch 19/100\n",
      "1/1 [==============================] - 0s 6ms/step - loss: 6.1889 - mae: 6.1889\n",
      "Epoch 20/100\n",
      "1/1 [==============================] - 0s 5ms/step - loss: 6.1339 - mae: 6.1339\n",
      "Epoch 21/100\n",
      "1/1 [==============================] - 0s 4ms/step - loss: 6.1143 - mae: 6.1143\n",
      "Epoch 22/100\n",
      "1/1 [==============================] - 0s 6ms/step - loss: 6.2075 - mae: 6.2075\n",
      "Epoch 23/100\n",
      "1/1 [==============================] - 0s 4ms/step - loss: 6.1872 - mae: 6.1872\n",
      "Epoch 24/100\n",
      "1/1 [==============================] - 0s 4ms/step - loss: 6.0688 - mae: 6.0688\n",
      "Epoch 25/100\n",
      "1/1 [==============================] - 0s 4ms/step - loss: 5.8634 - mae: 5.8634\n",
      "Epoch 26/100\n",
      "1/1 [==============================] - 0s 5ms/step - loss: 5.6682 - mae: 5.6682\n",
      "Epoch 27/100\n",
      "1/1 [==============================] - 0s 5ms/step - loss: 5.5655 - mae: 5.5655\n",
      "Epoch 28/100\n",
      "1/1 [==============================] - 0s 5ms/step - loss: 5.4598 - mae: 5.4598\n",
      "Epoch 29/100\n",
      "1/1 [==============================] - 0s 4ms/step - loss: 5.4392 - mae: 5.4392\n",
      "Epoch 30/100\n",
      "1/1 [==============================] - 0s 5ms/step - loss: 5.4144 - mae: 5.4144\n",
      "Epoch 31/100\n",
      "1/1 [==============================] - 0s 5ms/step - loss: 5.3410 - mae: 5.3410\n",
      "Epoch 32/100\n",
      "1/1 [==============================] - 0s 3ms/step - loss: 5.2231 - mae: 5.2231\n",
      "Epoch 33/100\n",
      "1/1 [==============================] - 0s 4ms/step - loss: 5.0644 - mae: 5.0644\n",
      "Epoch 34/100\n",
      "1/1 [==============================] - 0s 4ms/step - loss: 4.8685 - mae: 4.8685\n",
      "Epoch 35/100\n",
      "1/1 [==============================] - 0s 3ms/step - loss: 4.7650 - mae: 4.7650\n",
      "Epoch 36/100\n",
      "1/1 [==============================] - 0s 5ms/step - loss: 4.6662 - mae: 4.6662\n",
      "Epoch 37/100\n",
      "1/1 [==============================] - 0s 3ms/step - loss: 4.5854 - mae: 4.5854\n",
      "Epoch 38/100\n",
      "1/1 [==============================] - 0s 3ms/step - loss: 4.4888 - mae: 4.4888\n",
      "Epoch 39/100\n",
      "1/1 [==============================] - 0s 4ms/step - loss: 4.2999 - mae: 4.2999\n",
      "Epoch 40/100\n",
      "1/1 [==============================] - 0s 4ms/step - loss: 4.1557 - mae: 4.1557\n",
      "Epoch 41/100\n",
      "1/1 [==============================] - 0s 5ms/step - loss: 4.0046 - mae: 4.0046\n",
      "Epoch 42/100\n",
      "1/1 [==============================] - 0s 5ms/step - loss: 3.8464 - mae: 3.8464\n",
      "Epoch 43/100\n",
      "1/1 [==============================] - 0s 4ms/step - loss: 3.7052 - mae: 3.7052\n",
      "Epoch 44/100\n",
      "1/1 [==============================] - 0s 3ms/step - loss: 3.5641 - mae: 3.5641\n",
      "Epoch 45/100\n",
      "1/1 [==============================] - 0s 4ms/step - loss: 3.3667 - mae: 3.3667\n",
      "Epoch 46/100\n",
      "1/1 [==============================] - 0s 4ms/step - loss: 3.1975 - mae: 3.1975\n",
      "Epoch 47/100\n",
      "1/1 [==============================] - 0s 5ms/step - loss: 3.0276 - mae: 3.0276\n",
      "Epoch 48/100\n",
      "1/1 [==============================] - 0s 4ms/step - loss: 2.8628 - mae: 2.8628\n",
      "Epoch 49/100\n",
      "1/1 [==============================] - 0s 4ms/step - loss: 2.6455 - mae: 2.6455\n",
      "Epoch 50/100\n",
      "1/1 [==============================] - 0s 6ms/step - loss: 2.4339 - mae: 2.4339\n",
      "Epoch 51/100\n",
      "1/1 [==============================] - 0s 4ms/step - loss: 2.2120 - mae: 2.2120\n",
      "Epoch 52/100\n",
      "1/1 [==============================] - 0s 5ms/step - loss: 2.0084 - mae: 2.0084\n",
      "Epoch 53/100\n",
      "1/1 [==============================] - 0s 4ms/step - loss: 1.7707 - mae: 1.7707\n",
      "Epoch 54/100\n",
      "1/1 [==============================] - 0s 6ms/step - loss: 1.5187 - mae: 1.5187\n",
      "Epoch 55/100\n",
      "1/1 [==============================] - 0s 6ms/step - loss: 1.3157 - mae: 1.3157\n",
      "Epoch 56/100\n",
      "1/1 [==============================] - 0s 5ms/step - loss: 1.0079 - mae: 1.0079\n",
      "Epoch 57/100\n",
      "1/1 [==============================] - 0s 5ms/step - loss: 0.7542 - mae: 0.7542\n",
      "Epoch 58/100\n",
      "1/1 [==============================] - 0s 5ms/step - loss: 0.4639 - mae: 0.4639\n",
      "Epoch 59/100\n",
      "1/1 [==============================] - 0s 4ms/step - loss: 0.2561 - mae: 0.2561\n",
      "Epoch 60/100\n",
      "1/1 [==============================] - 0s 5ms/step - loss: 0.1684 - mae: 0.1684\n",
      "Epoch 61/100\n",
      "1/1 [==============================] - 0s 4ms/step - loss: 0.6010 - mae: 0.6010\n",
      "Epoch 62/100\n",
      "1/1 [==============================] - 0s 3ms/step - loss: 0.8262 - mae: 0.8262\n",
      "Epoch 63/100\n",
      "1/1 [==============================] - 0s 4ms/step - loss: 0.7983 - mae: 0.7983\n",
      "Epoch 64/100\n",
      "1/1 [==============================] - 0s 4ms/step - loss: 0.8171 - mae: 0.8171\n",
      "Epoch 65/100\n",
      "1/1 [==============================] - 0s 4ms/step - loss: 1.0224 - mae: 1.0224\n",
      "Epoch 66/100\n",
      "1/1 [==============================] - 0s 4ms/step - loss: 0.9402 - mae: 0.9402\n",
      "Epoch 67/100\n",
      "1/1 [==============================] - 0s 3ms/step - loss: 0.7071 - mae: 0.7071\n",
      "Epoch 68/100\n",
      "1/1 [==============================] - 0s 3ms/step - loss: 0.7929 - mae: 0.7929\n",
      "Epoch 69/100\n",
      "1/1 [==============================] - 0s 4ms/step - loss: 0.7016 - mae: 0.7016\n",
      "Epoch 70/100\n",
      "1/1 [==============================] - 0s 3ms/step - loss: 0.4206 - mae: 0.4206\n",
      "Epoch 71/100\n",
      "1/1 [==============================] - 0s 3ms/step - loss: 0.5391 - mae: 0.5391\n",
      "Epoch 72/100\n",
      "1/1 [==============================] - 0s 3ms/step - loss: 0.5108 - mae: 0.5108\n",
      "Epoch 73/100\n",
      "1/1 [==============================] - 0s 4ms/step - loss: 0.1467 - mae: 0.1467\n",
      "Epoch 74/100\n",
      "1/1 [==============================] - 0s 3ms/step - loss: 0.5157 - mae: 0.5157\n",
      "Epoch 75/100\n",
      "1/1 [==============================] - 0s 3ms/step - loss: 0.7494 - mae: 0.7494\n",
      "Epoch 76/100\n",
      "1/1 [==============================] - 0s 4ms/step - loss: 0.6613 - mae: 0.6613\n",
      "Epoch 77/100\n",
      "1/1 [==============================] - 0s 3ms/step - loss: 0.3607 - mae: 0.3607\n",
      "Epoch 78/100\n",
      "1/1 [==============================] - 0s 4ms/step - loss: 0.5822 - mae: 0.5822\n",
      "Epoch 79/100\n",
      "1/1 [==============================] - 0s 5ms/step - loss: 0.7037 - mae: 0.7037\n",
      "Epoch 80/100\n",
      "1/1 [==============================] - 0s 4ms/step - loss: 0.6773 - mae: 0.6773\n",
      "Epoch 81/100\n",
      "1/1 [==============================] - 0s 5ms/step - loss: 0.4242 - mae: 0.4242\n",
      "Epoch 82/100\n",
      "1/1 [==============================] - 0s 4ms/step - loss: 0.1411 - mae: 0.1411\n",
      "Epoch 83/100\n",
      "1/1 [==============================] - 0s 4ms/step - loss: 0.2581 - mae: 0.2581\n",
      "Epoch 84/100\n",
      "1/1 [==============================] - 0s 5ms/step - loss: 0.1546 - mae: 0.1546\n",
      "Epoch 85/100\n",
      "1/1 [==============================] - 0s 6ms/step - loss: 0.3382 - mae: 0.3382\n",
      "Epoch 86/100\n",
      "1/1 [==============================] - 0s 5ms/step - loss: 0.3830 - mae: 0.3830\n",
      "Epoch 87/100\n",
      "1/1 [==============================] - 0s 4ms/step - loss: 0.2101 - mae: 0.2101\n",
      "Epoch 88/100\n",
      "1/1 [==============================] - 0s 4ms/step - loss: 0.3055 - mae: 0.3055\n",
      "Epoch 89/100\n",
      "1/1 [==============================] - 0s 5ms/step - loss: 0.2508 - mae: 0.2508\n",
      "Epoch 90/100\n",
      "1/1 [==============================] - 0s 4ms/step - loss: 0.0733 - mae: 0.0733\n",
      "Epoch 91/100\n",
      "1/1 [==============================] - 0s 4ms/step - loss: 0.0261 - mae: 0.0261\n",
      "Epoch 92/100\n",
      "1/1 [==============================] - 0s 5ms/step - loss: 0.0987 - mae: 0.0987\n",
      "Epoch 93/100\n",
      "1/1 [==============================] - 0s 4ms/step - loss: 0.1708 - mae: 0.1708\n",
      "Epoch 94/100\n",
      "1/1 [==============================] - 0s 3ms/step - loss: 0.1340 - mae: 0.1340\n",
      "Epoch 95/100\n",
      "1/1 [==============================] - 0s 5ms/step - loss: 0.1774 - mae: 0.1774\n",
      "Epoch 96/100\n",
      "1/1 [==============================] - 0s 3ms/step - loss: 0.0667 - mae: 0.0667\n",
      "Epoch 97/100\n",
      "1/1 [==============================] - 0s 3ms/step - loss: 0.3335 - mae: 0.3335\n",
      "Epoch 98/100\n",
      "1/1 [==============================] - 0s 5ms/step - loss: 0.3913 - mae: 0.3913\n",
      "Epoch 99/100\n",
      "1/1 [==============================] - 0s 4ms/step - loss: 0.1624 - mae: 0.1624\n",
      "Epoch 100/100\n",
      "1/1 [==============================] - 0s 3ms/step - loss: 0.3662 - mae: 0.3662\n"
     ]
    },
    {
     "data": {
      "text/plain": [
       "<keras.src.callbacks.History at 0x1ed214103a0>"
      ]
     },
     "execution_count": 50,
     "metadata": {},
     "output_type": "execute_result"
    }
   ],
   "source": [
    "# Let's see if we can make another to improve our model\n",
    "\n",
    "# 1. Create the model (this time with extra hidden layer with 100 hidden units)\n",
    "model = tf.keras.Sequential([\n",
    "    tf.keras.layers.Dense(50, activation=None),\n",
    "    tf.keras.layers.Dense(1)\n",
    "])\n",
    "\n",
    "# 2. Compile the model\n",
    "model.compile(loss=\"mae\",\n",
    "              optimizer=tf.keras.optimizers.Adam(learning_rate=0.01),\n",
    "              metrics=['mae'])\n",
    "\n",
    "# 3. Fit the model\n",
    "model.fit(tf.expand_dims(X, axis=-1), y, epochs=100)"
   ]
  },
  {
   "cell_type": "code",
   "execution_count": 51,
   "metadata": {},
   "outputs": [
    {
     "data": {
      "text/plain": [
       "(<tf.Tensor: shape=(8,), dtype=float32, numpy=array([-7., -4., -1.,  2.,  5.,  8., 11., 14.], dtype=float32)>,\n",
       " <tf.Tensor: shape=(8,), dtype=float32, numpy=array([ 3.,  6.,  9., 12., 15., 18., 21., 24.], dtype=float32)>)"
      ]
     },
     "execution_count": 51,
     "metadata": {},
     "output_type": "execute_result"
    }
   ],
   "source": [
    "# Let's remind ourselves of the data\n",
    "X, y"
   ]
  },
  {
   "cell_type": "code",
   "execution_count": 52,
   "metadata": {},
   "outputs": [
    {
     "name": "stdout",
     "output_type": "stream",
     "text": [
      "WARNING:tensorflow:6 out of the last 6 calls to <function Model.make_predict_function.<locals>.predict_function at 0x000001ED21414D30> triggered tf.function retracing. Tracing is expensive and the excessive number of tracings could be due to (1) creating @tf.function repeatedly in a loop, (2) passing tensors with different shapes, (3) passing Python objects instead of tensors. For (1), please define your @tf.function outside of the loop. For (2), @tf.function has reduce_retracing=True option that can avoid unnecessary retracing. For (3), please refer to https://www.tensorflow.org/guide/function#controlling_retracing and https://www.tensorflow.org/api_docs/python/tf/function for  more details.\n",
      "1/1 [==============================] - 0s 65ms/step\n"
     ]
    },
    {
     "data": {
      "text/plain": [
       "array([[28.324827]], dtype=float32)"
      ]
     },
     "execution_count": 52,
     "metadata": {},
     "output_type": "execute_result"
    }
   ],
   "source": [
    "# Let's try to make a predication\n",
    "model.predict([17.0])\n"
   ]
  },
  {
   "attachments": {},
   "cell_type": "markdown",
   "metadata": {},
   "source": [
    "⚠️Sometimes the predictions can be even worse yes losses and mae are lower. This result an **overfitting**. They are not always representating."
   ]
  },
  {
   "attachments": {},
   "cell_type": "markdown",
   "metadata": {},
   "source": [
    "## Evaluating a model\n",
    "\n",
    "In practice, a typical workflow you'll go through when build neural networks is:\n",
    "\n",
    "```\n",
    "Build a model -> fit it -> evaluate it -> tweak a model -> fit it -> evaluate it -> tweak a model -> fit it -> evaluate it...\n",
    "```"
   ]
  },
  {
   "attachments": {},
   "cell_type": "markdown",
   "metadata": {},
   "source": [
    "When it comes to evaluation... there are 3 words you should memorize:\n",
    "\n",
    "> \"Visualize, visualize, visualize\"\n",
    "\n",
    "It's a good idea to visualize:\n",
    "* The data - what data are we working with? What does it look like?\n",
    "* The model itself - what does our model look like?\n",
    "* The training of a model - how does a model perform while it learns?\n",
    "* The predictions of the modle - how do the predictions of a model line up against the ground truth (the orignal labels)?\n"
   ]
  },
  {
   "cell_type": "code",
   "execution_count": 53,
   "metadata": {},
   "outputs": [
    {
     "data": {
      "text/plain": [
       "<tf.Tensor: shape=(50,), dtype=int32, numpy=\n",
       "array([-100,  -96,  -92,  -88,  -84,  -80,  -76,  -72,  -68,  -64,  -60,\n",
       "        -56,  -52,  -48,  -44,  -40,  -36,  -32,  -28,  -24,  -20,  -16,\n",
       "        -12,   -8,   -4,    0,    4,    8,   12,   16,   20,   24,   28,\n",
       "         32,   36,   40,   44,   48,   52,   56,   60,   64,   68,   72,\n",
       "         76,   80,   84,   88,   92,   96])>"
      ]
     },
     "execution_count": 53,
     "metadata": {},
     "output_type": "execute_result"
    }
   ],
   "source": [
    "# Make a bigger dataset\n",
    "X = tf.range(-100, 100, 4)\n",
    "X"
   ]
  },
  {
   "cell_type": "code",
   "execution_count": 54,
   "metadata": {},
   "outputs": [
    {
     "data": {
      "text/plain": [
       "<tf.Tensor: shape=(50,), dtype=int32, numpy=\n",
       "array([-90, -86, -82, -78, -74, -70, -66, -62, -58, -54, -50, -46, -42,\n",
       "       -38, -34, -30, -26, -22, -18, -14, -10,  -6,  -2,   2,   6,  10,\n",
       "        14,  18,  22,  26,  30,  34,  38,  42,  46,  50,  54,  58,  62,\n",
       "        66,  70,  74,  78,  82,  86,  90,  94,  98, 102, 106])>"
      ]
     },
     "execution_count": 54,
     "metadata": {},
     "output_type": "execute_result"
    }
   ],
   "source": [
    "# Make labels for the dataset\n",
    "y = X + 10\n",
    "y"
   ]
  },
  {
   "cell_type": "code",
   "execution_count": 55,
   "metadata": {},
   "outputs": [
    {
     "data": {
      "text/plain": [
       "<matplotlib.collections.PathCollection at 0x1ed212a7880>"
      ]
     },
     "execution_count": 55,
     "metadata": {},
     "output_type": "execute_result"
    },
    {
     "data": {
      "image/png": "[encoded data removed]",
      "text/plain": [
       "<Figure size 640x480 with 1 Axes>"
      ]
     },
     "metadata": {},
     "output_type": "display_data"
    }
   ],
   "source": [
    "# Visualize the data\n",
    "import matplotlib.pyplot as plt\n",
    "# plt.plot(X, y)\n",
    "plt.scatter(X, y) # cots\n"
   ]
  },
  {
   "attachments": {},
   "cell_type": "markdown",
   "metadata": {},
   "source": [
    "### The 3 sets...\n",
    "\n",
    "* **Training set** - the model learns from this data, which is typically 70-80% of the total data you have available.\n",
    "\n",
    "* **Validation set** - the model gets tuned on this data, which is typically 10-15% of the data available.\n",
    "\n",
    "* **Test set** - the model gets evaluated on this data to test what is has learned, this set is typically 10-15% of the total data available\n",
    "\n",
    "<img src=\"./course_images/three_datasets.png\">"
   ]
  },
  {
   "cell_type": "code",
   "execution_count": 56,
   "metadata": {},
   "outputs": [
    {
     "data": {
      "text/plain": [
       "50"
      ]
     },
     "execution_count": 56,
     "metadata": {},
     "output_type": "execute_result"
    }
   ],
   "source": [
    "# Check the length of how many samples we have\n",
    "len(X)"
   ]
  },
  {
   "cell_type": "code",
   "execution_count": 57,
   "metadata": {},
   "outputs": [
    {
     "data": {
      "text/plain": [
       "(40, 10, 40, 10)"
      ]
     },
     "execution_count": 57,
     "metadata": {},
     "output_type": "execute_result"
    }
   ],
   "source": [
    "# Split the data into train test sets\n",
    "X_train = X[:40] # first 40 are training samples (80% of the data)\n",
    "y_train = y[:40]\n",
    "\n",
    "X_test = X[40:] # last 10 are testing samples (20% of the data)\n",
    "y_test = y[40:]\n",
    "\n",
    "len(X_train), len(X_test), len(y_train), len(y_test)"
   ]
  },
  {
   "attachments": {},
   "cell_type": "markdown",
   "metadata": {},
   "source": [
    "### Visualizing the data\n",
    "\n",
    "Now we've got our data in training and test sets... let's visualize it again!"
   ]
  },
  {
   "cell_type": "code",
   "execution_count": 58,
   "metadata": {},
   "outputs": [
    {
     "data": {
      "image/png": "[encoded data removed]",
      "text/plain": [
       "<Figure size 1000x700 with 1 Axes>"
      ]
     },
     "metadata": {},
     "output_type": "display_data"
    }
   ],
   "source": [
    "plt.figure(figsize=(10,7))\n",
    "# Plot train data in blue\n",
    "plt.scatter(X_train, y_train, c=\"b\", label=\"Training data\") # our model will learn on this\n",
    "# Plot test data in green\n",
    "plt.scatter(X_test, y_test, c=\"g\", label=\"Testing data\") # we want our model be able to predict this (given X, what's y?)\n",
    "# Show a legend\n",
    "plt.legend();"
   ]
  },
  {
   "cell_type": "code",
   "execution_count": 59,
   "metadata": {},
   "outputs": [],
   "source": [
    "# Let's have a look at how to build a neural network for our data\n",
    "\n",
    "# 1. create a model\n",
    "model = tf.keras.Sequential([\n",
    "    tf.keras.layers.Dense(1)\n",
    "])\n",
    "\n",
    "# 2. Compile the model\n",
    "model.compile(loss=tf.keras.losses.mae,\n",
    "              optimizer=tf.keras.optimizers.SGD(),\n",
    "              metrics=[\"mae\"])\n",
    "\n",
    "# 3. Fit the model\n",
    "# model.fit(X_train, y_train, epochs=100)"
   ]
  },
  {
   "attachments": {},
   "cell_type": "markdown",
   "metadata": {},
   "source": [
    "### Visualizing the model"
   ]
  },
  {
   "cell_type": "code",
   "execution_count": 60,
   "metadata": {},
   "outputs": [
    {
     "ename": "ValueError",
     "evalue": "This model has not yet been built. Build the model first by calling `build()` or by calling the model on a batch of data.",
     "output_type": "error",
     "traceback": [
      "\u001b[1;31m---------------------------------------------------------------------------\u001b[0m",
      "\u001b[1;31mValueError\u001b[0m                                Traceback (most recent call last)",
      "Cell \u001b[1;32mIn[60], line 1\u001b[0m\n\u001b[1;32m----> 1\u001b[0m model\u001b[39m.\u001b[39;49msummary()\n",
      "File \u001b[1;32mc:\\ProgramData\\miniconda3\\envs\\tf_course\\lib\\site-packages\\keras\\src\\engine\\training.py:3403\u001b[0m, in \u001b[0;36mModel.summary\u001b[1;34m(self, line_length, positions, print_fn, expand_nested, show_trainable, layer_range)\u001b[0m\n\u001b[0;32m   3372\u001b[0m \u001b[39m\u001b[39m\u001b[39m\"\"\"Prints a string summary of the network.\u001b[39;00m\n\u001b[0;32m   3373\u001b[0m \n\u001b[0;32m   3374\u001b[0m \u001b[39mArgs:\u001b[39;00m\n\u001b[1;32m   (...)\u001b[0m\n\u001b[0;32m   3400\u001b[0m \u001b[39m    ValueError: if `summary()` is called before the model is built.\u001b[39;00m\n\u001b[0;32m   3401\u001b[0m \u001b[39m\"\"\"\u001b[39;00m\n\u001b[0;32m   3402\u001b[0m \u001b[39mif\u001b[39;00m \u001b[39mnot\u001b[39;00m \u001b[39mself\u001b[39m\u001b[39m.\u001b[39mbuilt:\n\u001b[1;32m-> 3403\u001b[0m     \u001b[39mraise\u001b[39;00m \u001b[39mValueError\u001b[39;00m(\n\u001b[0;32m   3404\u001b[0m         \u001b[39m\"\u001b[39m\u001b[39mThis model has not yet been built. \u001b[39m\u001b[39m\"\u001b[39m\n\u001b[0;32m   3405\u001b[0m         \u001b[39m\"\u001b[39m\u001b[39mBuild the model first by calling `build()` or by calling \u001b[39m\u001b[39m\"\u001b[39m\n\u001b[0;32m   3406\u001b[0m         \u001b[39m\"\u001b[39m\u001b[39mthe model on a batch of data.\u001b[39m\u001b[39m\"\u001b[39m\n\u001b[0;32m   3407\u001b[0m     )\n\u001b[0;32m   3408\u001b[0m layer_utils\u001b[39m.\u001b[39mprint_summary(\n\u001b[0;32m   3409\u001b[0m     \u001b[39mself\u001b[39m,\n\u001b[0;32m   3410\u001b[0m     line_length\u001b[39m=\u001b[39mline_length,\n\u001b[1;32m   (...)\u001b[0m\n\u001b[0;32m   3415\u001b[0m     layer_range\u001b[39m=\u001b[39mlayer_range,\n\u001b[0;32m   3416\u001b[0m )\n",
      "\u001b[1;31mValueError\u001b[0m: This model has not yet been built. Build the model first by calling `build()` or by calling the model on a batch of data."
     ]
    }
   ],
   "source": [
    "model.summary()"
   ]
  },
  {
   "cell_type": "code",
   "execution_count": 61,
   "metadata": {},
   "outputs": [
    {
     "data": {
      "text/plain": [
       "(<tf.Tensor: shape=(), dtype=int32, numpy=-100>,\n",
       " <tf.Tensor: shape=(), dtype=int32, numpy=-90>)"
      ]
     },
     "execution_count": 61,
     "metadata": {},
     "output_type": "execute_result"
    }
   ],
   "source": [
    "X[0], y[0]"
   ]
  },
  {
   "cell_type": "code",
   "execution_count": 62,
   "metadata": {},
   "outputs": [],
   "source": [
    "# Let's create a model which builds automatically by defining the input_shape argument in the first layer\n",
    "tf.random.set_seed(42)\n",
    "\n",
    "# 1. Create a model (same as above)\n",
    "model = tf.keras.Sequential([\n",
    "    tf.keras.layers.Dense(10, input_shape=[1], name=\"input_layer\"), # 1 number to predict 1 number,\n",
    "    tf.keras.layers.Dense(1, name=\"output_layer\")\n",
    "], name=\"model_1\")\n",
    "\n",
    "# 2. Compile the model (same as above)\n",
    "model.compile(loss=tf.keras.losses.mae,\n",
    "              optimizer=tf.keras.optimizers.SGD(),\n",
    "              metrics=[\"mae\"])\n"
   ]
  },
  {
   "attachments": {},
   "cell_type": "markdown",
   "metadata": {},
   "source": [
    "**dense** == fully connected layers"
   ]
  },
  {
   "cell_type": "code",
   "execution_count": 63,
   "metadata": {},
   "outputs": [
    {
     "name": "stdout",
     "output_type": "stream",
     "text": [
      "Model: \"model_1\"\n",
      "_________________________________________________________________\n",
      " Layer (type)                Output Shape              Param #   \n",
      "=================================================================\n",
      " input_layer (Dense)         (None, 10)                20        \n",
      "                                                                 \n",
      " output_layer (Dense)        (None, 1)                 11        \n",
      "                                                                 \n",
      "=================================================================\n",
      "Total params: 31 (124.00 Byte)\n",
      "Trainable params: 31 (124.00 Byte)\n",
      "Non-trainable params: 0 (0.00 Byte)\n",
      "_________________________________________________________________\n"
     ]
    }
   ],
   "source": [
    "model.summary()\n"
   ]
  },
  {
   "attachments": {},
   "cell_type": "markdown",
   "metadata": {},
   "source": [
    "* **Total params** - total number of parameters in the model\n",
    "* **Trainable parameters** - these are the parameters ( patterns) the model can update as it trains\n",
    "* Non-trainable params - these parameters aren't updated during training (this is typical when you bring in already learn patterns or parameters from other models during **transfer learning**)"
   ]
  },
  {
   "attachments": {},
   "cell_type": "markdown",
   "metadata": {},
   "source": [
    "📖**Ressource:** For a more in-depth overview of the trainable parameters within a layer, check out MIT's introduction to deep learning video.\n",
    "\n",
    "http://introtodeeplearning.com/"
   ]
  },
  {
   "cell_type": "code",
   "execution_count": 64,
   "metadata": {},
   "outputs": [
    {
     "data": {
      "text/plain": [
       "<keras.src.callbacks.History at 0x1ed2194c6d0>"
      ]
     },
     "execution_count": 64,
     "metadata": {},
     "output_type": "execute_result"
    }
   ],
   "source": [
    "# Let's fit our model to the training data ( verbosity mode)\n",
    "model.fit(X_train, y_train, epochs=100, verbose=0)"
   ]
  },
  {
   "cell_type": "code",
   "execution_count": 65,
   "metadata": {},
   "outputs": [
    {
     "name": "stdout",
     "output_type": "stream",
     "text": [
      "Model: \"model_1\"\n",
      "_________________________________________________________________\n",
      " Layer (type)                Output Shape              Param #   \n",
      "=================================================================\n",
      " input_layer (Dense)         (None, 10)                20        \n",
      "                                                                 \n",
      " output_layer (Dense)        (None, 1)                 11        \n",
      "                                                                 \n",
      "=================================================================\n",
      "Total params: 31 (124.00 Byte)\n",
      "Trainable params: 31 (124.00 Byte)\n",
      "Non-trainable params: 0 (0.00 Byte)\n",
      "_________________________________________________________________\n"
     ]
    }
   ],
   "source": [
    "# Get a summary of our model ( the number of sequential higher up because number of creation if the session evolve)\n",
    "model.summary()"
   ]
  },
  {
   "cell_type": "code",
   "execution_count": 66,
   "metadata": {},
   "outputs": [
    {
     "data": {
      "image/png": "[encoded data removed]",
      "text/plain": [
       "<IPython.core.display.Image object>"
      ]
     },
     "execution_count": 66,
     "metadata": {},
     "output_type": "execute_result"
    }
   ],
   "source": [
    "from keras.utils import plot_model\n",
    "\n",
    "plot_model(model=model, show_shapes=True)"
   ]
  },
  {
   "attachments": {},
   "cell_type": "markdown",
   "metadata": {},
   "source": [
    "### Visualizing our model's predication\n",
    "\n",
    "To visualize predications, it's a good idea to plot them against the ground truth labels.\n",
    "\n",
    "Often you'll see this in the form of `y_test` or `y_true` versus `y_pred` (ground truth versus your model's predictions)"
   ]
  },
  {
   "cell_type": "code",
   "execution_count": 67,
   "metadata": {},
   "outputs": [
    {
     "name": "stdout",
     "output_type": "stream",
     "text": [
      "1/1 [==============================] - 0s 56ms/step\n"
     ]
    },
    {
     "data": {
      "text/plain": [
       "array([[ 75.98649 ],\n",
       "       [ 80.93516 ],\n",
       "       [ 85.883835],\n",
       "       [ 90.832504],\n",
       "       [ 95.78118 ],\n",
       "       [100.72985 ],\n",
       "       [105.67852 ],\n",
       "       [110.62719 ],\n",
       "       [115.57586 ],\n",
       "       [120.52453 ]], dtype=float32)"
      ]
     },
     "execution_count": 67,
     "metadata": {},
     "output_type": "execute_result"
    }
   ],
   "source": [
    "# Make some predictions\n",
    "y_pred = model.predict(X_test)\n",
    "y_pred"
   ]
  },
  {
   "cell_type": "code",
   "execution_count": 68,
   "metadata": {},
   "outputs": [
    {
     "data": {
      "text/plain": [
       "<tf.Tensor: shape=(10,), dtype=int32, numpy=array([ 70,  74,  78,  82,  86,  90,  94,  98, 102, 106])>"
      ]
     },
     "execution_count": 68,
     "metadata": {},
     "output_type": "execute_result"
    }
   ],
   "source": [
    "y_test"
   ]
  },
  {
   "cell_type": "code",
   "execution_count": 69,
   "metadata": {},
   "outputs": [],
   "source": [
    "# Let's create a plotting function\n",
    "def plot_predictions(train_data=X_train, \n",
    "                     train_labels=y_train, \n",
    "                     test_data=X_test, \n",
    "                     test_labels=y_test, \n",
    "                     predictions=y_pred):\n",
    "    \"\"\"\n",
    "    Plots training data, test data and compares predictions to ground truth labels.\n",
    "    \"\"\"\n",
    "    plt.figure(figsize=(10, 7))\n",
    "    # Plot training data in blue\n",
    "    plt.scatter(train_data, train_labels, c=\"b\", label=\"Training data\")\n",
    "    # Plot testing data in green\n",
    "    plt.scatter(test_data, test_labels, c=\"g\", label=\"Testing data\")\n",
    "    # Plot model's predictions in red\n",
    "    plt.scatter(test_data, predictions, c=\"r\", label=\"Predictions\")\n",
    "    # Show the legend\n",
    "    plt.legend();"
   ]
  },
  {
   "cell_type": "code",
   "execution_count": 70,
   "metadata": {},
   "outputs": [
    {
     "data": {
      "image/png": "[encoded data removed]",
      "text/plain": [
       "<Figure size 1000x700 with 1 Axes>"
      ]
     },
     "metadata": {},
     "output_type": "display_data"
    }
   ],
   "source": [
    "plot_predictions();"
   ]
  },
  {
   "cell_type": "code",
   "execution_count": 71,
   "metadata": {},
   "outputs": [
    {
     "name": "stdout",
     "output_type": "stream",
     "text": [
      "1/1 [==============================] - 0s 65ms/step\n"
     ]
    },
    {
     "data": {
      "image/png": "[encoded data removed]",
      "text/plain": [
       "<Figure size 1000x700 with 1 Axes>"
      ]
     },
     "metadata": {},
     "output_type": "display_data"
    }
   ],
   "source": [
    "# Let's try to create a best model\n",
    "tf.random.set_seed(42)\n",
    "\n",
    "# 1. Create a model\n",
    "model = tf.keras.Sequential([\n",
    "    tf.keras.layers.Dense(100, input_shape=[1], activation=\"relu\"), # 1 number to predict 1 number,\n",
    "    tf.keras.layers.Dense(1)\n",
    "], name=\"model_1\")\n",
    "\n",
    "# 2. Compile the model\n",
    "model.compile(loss=tf.keras.losses.mae,\n",
    "              optimizer=tf.keras.optimizers.Adam(learning_rate=0.01),\n",
    "              metrics=[\"mae\"])\n",
    "\n",
    "model.fit(X_train, y_train, epochs=100, verbose=0)\n",
    "y_pred = model.predict(X_test)\n",
    "plot_predictions(predictions=y_pred) # why not actualizing if not set?"
   ]
  },
  {
   "attachments": {},
   "cell_type": "markdown",
   "metadata": {},
   "source": [
    "### Evaluating our model's predictions with regression evaluation metrics\n",
    "\n",
    "Depending on the problem you're working on, there will be different evaluation metrics to evaluate your model's performance.\n",
    "\n",
    "Since we're working on a regression, two of the map metrics:\n",
    "* MAE - mean absolute error, \"on average, how wrong is each of my model's predictions\"\n",
    "* MSE - mean square error, \"square the average errors\"\n",
    "\n",
    "<img src=\"./course_images/regression_evaluation_metrics.png\">\n",
    "\n",
    "**Y^**= y_pred"
   ]
  },
  {
   "cell_type": "code",
   "execution_count": 72,
   "metadata": {},
   "outputs": [
    {
     "name": "stdout",
     "output_type": "stream",
     "text": [
      "1/1 [==============================] - 0s 166ms/step - loss: 1.1851 - mae: 1.1851\n"
     ]
    },
    {
     "data": {
      "text/plain": [
       "[1.18505859375, 1.18505859375]"
      ]
     },
     "execution_count": 72,
     "metadata": {},
     "output_type": "execute_result"
    }
   ],
   "source": [
    "# Evaluate the model on the test\n",
    "model.evaluate(X_test, y_test) # returns loss + evaluation metrics"
   ]
  },
  {
   "cell_type": "code",
   "execution_count": 73,
   "metadata": {},
   "outputs": [
    {
     "data": {
      "text/plain": [
       "<tf.Tensor: shape=(10,), dtype=float32, numpy=\n",
       "array([18.881165, 15.55907 , 13.009832, 11.233548, 10.23027 , 10.      ,\n",
       "       10.542737, 11.858484, 13.947232, 16.80899 ], dtype=float32)>"
      ]
     },
     "execution_count": 73,
     "metadata": {},
     "output_type": "execute_result"
    }
   ],
   "source": [
    "# Calculate the mean absolute error\n",
    "mae = tf.metrics.mean_absolute_error(y_true=y_test, \n",
    "                                     y_pred=y_pred)\n",
    "mae"
   ]
  },
  {
   "cell_type": "code",
   "execution_count": 74,
   "metadata": {},
   "outputs": [
    {
     "data": {
      "text/plain": [
       "<tf.Tensor: shape=(10, 1), dtype=float32, numpy=\n",
       "array([[ 69.118835],\n",
       "       [ 73.05116 ],\n",
       "       [ 76.98361 ],\n",
       "       [ 80.91613 ],\n",
       "       [ 84.84865 ],\n",
       "       [ 88.781166],\n",
       "       [ 92.713684],\n",
       "       [ 96.64621 ],\n",
       "       [100.57872 ],\n",
       "       [104.51124 ]], dtype=float32)>"
      ]
     },
     "execution_count": 74,
     "metadata": {},
     "output_type": "execute_result"
    }
   ],
   "source": [
    "tf.constant(y_pred)"
   ]
  },
  {
   "cell_type": "code",
   "execution_count": 75,
   "metadata": {},
   "outputs": [
    {
     "data": {
      "text/plain": [
       "<tf.Tensor: shape=(10,), dtype=int32, numpy=array([ 70,  74,  78,  82,  86,  90,  94,  98, 102, 106])>"
      ]
     },
     "execution_count": 75,
     "metadata": {},
     "output_type": "execute_result"
    }
   ],
   "source": [
    "y_test"
   ]
  },
  {
   "cell_type": "code",
   "execution_count": 76,
   "metadata": {},
   "outputs": [
    {
     "data": {
      "text/plain": [
       "<tf.Tensor: shape=(10,), dtype=float32, numpy=\n",
       "array([ 69.118835,  73.05116 ,  76.98361 ,  80.91613 ,  84.84865 ,\n",
       "        88.781166,  92.713684,  96.64621 , 100.57872 , 104.51124 ],\n",
       "      dtype=float32)>"
      ]
     },
     "execution_count": 76,
     "metadata": {},
     "output_type": "execute_result"
    }
   ],
   "source": [
    "tf.squeeze(y_pred)"
   ]
  },
  {
   "cell_type": "code",
   "execution_count": 77,
   "metadata": {},
   "outputs": [
    {
     "data": {
      "text/plain": [
       "<tf.Tensor: shape=(), dtype=float32, numpy=1.1850593>"
      ]
     },
     "execution_count": 77,
     "metadata": {},
     "output_type": "execute_result"
    }
   ],
   "source": [
    "# Calculate the mean absolute error\n",
    "mae = tf.metrics.mean_absolute_error(y_test, tf.squeeze(y_pred))\n",
    "mae\n",
    "\n",
    "# same as evaluate function"
   ]
  },
  {
   "cell_type": "code",
   "execution_count": 78,
   "metadata": {},
   "outputs": [
    {
     "data": {
      "text/plain": [
       "<tf.Tensor: shape=(), dtype=float32, numpy=1.4419534>"
      ]
     },
     "execution_count": 78,
     "metadata": {},
     "output_type": "execute_result"
    }
   ],
   "source": [
    "# Calculate the mean square error\n",
    "mse = tf.metrics.mean_squared_error(y_test, tf.squeeze(y_pred))\n",
    "mse"
   ]
  },
  {
   "cell_type": "code",
   "execution_count": 79,
   "metadata": {},
   "outputs": [],
   "source": [
    "# Make some functions to reuse MAE and MSE\n",
    "def mae(y_true, y_pred):\n",
    "    return tf.metrics.mean_absolute_error(y_true, tf.squeeze(y_pred))\n",
    "\n",
    "def mse(y_true, y_pred):\n",
    "    return tf.metrics.mean_squared_error(y_true,  tf.squeeze(y_pred))"
   ]
  },
  {
   "attachments": {},
   "cell_type": "markdown",
   "metadata": {},
   "source": [
    "### Running experiments to improve our model\n",
    "\n",
    "```\n",
    "Build a model -> fit it -> evaluate it -> tweak it -> fit it -> evaluate it -> tweak it -> fit it -> evaluate it ...\n",
    "```\n",
    "\n",
    "The machine learning practitioner's motto:\n",
    "\n",
    "**Experiment, experiment, experiment**\n",
    "\n",
    "1. **Get more data** - get more examples for your model to train on (more opportunities to lean patterns or relationships between features and labels).\n",
    "2. **Make your model larger** (using a more complet model) - this might come in the form of more layers or more hidder units in each layer.\n",
    "3. **Train for longer** - give your model more of a chance to find patterns in the data.\n",
    "\n",
    "Let's do 3 modelling experiments:\n",
    "\n",
    "1. `model_1` - same as original model, 1 layer, trained for 100 epochs.\n",
    "2. `model_2` - 2 layers, trained for 100 epochs\n",
    "3. `model_3` - 2 layers, trained for 500 epochs\n",
    "\n",
    "**Build `model_1`** "
   ]
  },
  {
   "cell_type": "code",
   "execution_count": 80,
   "metadata": {},
   "outputs": [
    {
     "name": "stdout",
     "output_type": "stream",
     "text": [
      "Epoch 1/100\n"
     ]
    },
    {
     "name": "stdout",
     "output_type": "stream",
     "text": [
      "2/2 [==============================] - 0s 8ms/step - loss: 47.8295 - mae: 47.8295\n",
      "Epoch 2/100\n",
      "2/2 [==============================] - 0s 3ms/step - loss: 16.2232 - mae: 16.2232\n",
      "Epoch 3/100\n",
      "2/2 [==============================] - 0s 3ms/step - loss: 15.1252 - mae: 15.1252\n",
      "Epoch 4/100\n",
      "2/2 [==============================] - 0s 4ms/step - loss: 8.2098 - mae: 8.2098\n",
      "Epoch 5/100\n",
      "2/2 [==============================] - 0s 3ms/step - loss: 10.6413 - mae: 10.6413\n",
      "Epoch 6/100\n",
      "2/2 [==============================] - 0s 5ms/step - loss: 9.8486 - mae: 9.8486\n",
      "Epoch 7/100\n",
      "2/2 [==============================] - 0s 3ms/step - loss: 8.9215 - mae: 8.9215\n",
      "Epoch 8/100\n",
      "2/2 [==============================] - 0s 3ms/step - loss: 9.0840 - mae: 9.0840\n",
      "Epoch 9/100\n",
      "2/2 [==============================] - 0s 2ms/step - loss: 19.6108 - mae: 19.6108\n",
      "Epoch 10/100\n",
      "2/2 [==============================] - 0s 3ms/step - loss: 10.5997 - mae: 10.5997\n",
      "Epoch 11/100\n",
      "2/2 [==============================] - 0s 2ms/step - loss: 8.5935 - mae: 8.5935\n",
      "Epoch 12/100\n",
      "2/2 [==============================] - 0s 2ms/step - loss: 11.0985 - mae: 11.0985\n",
      "Epoch 13/100\n",
      "2/2 [==============================] - 0s 29ms/step - loss: 7.6093 - mae: 7.6093\n",
      "Epoch 14/100\n",
      "2/2 [==============================] - 0s 3ms/step - loss: 15.7985 - mae: 15.7985\n",
      "Epoch 15/100\n",
      "2/2 [==============================] - 0s 5ms/step - loss: 12.8653 - mae: 12.8653\n",
      "Epoch 16/100\n",
      "2/2 [==============================] - 0s 2ms/step - loss: 7.6562 - mae: 7.6562\n",
      "Epoch 17/100\n",
      "2/2 [==============================] - 0s 2ms/step - loss: 12.5733 - mae: 12.5733\n",
      "Epoch 18/100\n",
      "2/2 [==============================] - 0s 2ms/step - loss: 9.6625 - mae: 9.6625\n",
      "Epoch 19/100\n",
      "2/2 [==============================] - 0s 2ms/step - loss: 20.4596 - mae: 20.4596\n",
      "Epoch 20/100\n",
      "2/2 [==============================] - 0s 2ms/step - loss: 9.5293 - mae: 9.5293\n",
      "Epoch 21/100\n",
      "2/2 [==============================] - 0s 4ms/step - loss: 12.8425 - mae: 12.8425\n",
      "Epoch 22/100\n",
      "2/2 [==============================] - 0s 2ms/step - loss: 13.2365 - mae: 13.2365\n",
      "Epoch 23/100\n",
      "2/2 [==============================] - 0s 4ms/step - loss: 9.3099 - mae: 9.3099\n",
      "Epoch 24/100\n",
      "2/2 [==============================] - 0s 3ms/step - loss: 7.3964 - mae: 7.3964\n",
      "Epoch 25/100\n",
      "2/2 [==============================] - 0s 4ms/step - loss: 10.4122 - mae: 10.4122\n",
      "Epoch 26/100\n",
      "2/2 [==============================] - 0s 3ms/step - loss: 16.5490 - mae: 16.5490\n",
      "Epoch 27/100\n",
      "2/2 [==============================] - 0s 3ms/step - loss: 13.2735 - mae: 13.2735\n",
      "Epoch 28/100\n",
      "2/2 [==============================] - 0s 3ms/step - loss: 14.3921 - mae: 14.3921\n",
      "Epoch 29/100\n",
      "2/2 [==============================] - 0s 2ms/step - loss: 10.1105 - mae: 10.1105\n",
      "Epoch 30/100\n",
      "2/2 [==============================] - 0s 2ms/step - loss: 16.5393 - mae: 16.5393\n",
      "Epoch 31/100\n",
      "2/2 [==============================] - 0s 4ms/step - loss: 23.4696 - mae: 23.4696\n",
      "Epoch 32/100\n",
      "2/2 [==============================] - 0s 3ms/step - loss: 7.3727 - mae: 7.3727\n",
      "Epoch 33/100\n",
      "2/2 [==============================] - 0s 2ms/step - loss: 9.8059 - mae: 9.8059\n",
      "Epoch 34/100\n",
      "2/2 [==============================] - 0s 2ms/step - loss: 12.2538 - mae: 12.2538\n",
      "Epoch 35/100\n",
      "2/2 [==============================] - 0s 4ms/step - loss: 11.1693 - mae: 11.1693\n",
      "Epoch 36/100\n",
      "2/2 [==============================] - 0s 3ms/step - loss: 13.3983 - mae: 13.3983\n",
      "Epoch 37/100\n",
      "2/2 [==============================] - 0s 2ms/step - loss: 9.4534 - mae: 9.4534\n",
      "Epoch 38/100\n",
      "2/2 [==============================] - 0s 2ms/step - loss: 10.1041 - mae: 10.1041\n",
      "Epoch 39/100\n",
      "2/2 [==============================] - 0s 3ms/step - loss: 8.9803 - mae: 8.9803\n",
      "Epoch 40/100\n",
      "2/2 [==============================] - 0s 3ms/step - loss: 9.6089 - mae: 9.6089\n",
      "Epoch 41/100\n",
      "2/2 [==============================] - 0s 3ms/step - loss: 10.5700 - mae: 10.5700\n",
      "Epoch 42/100\n",
      "2/2 [==============================] - 0s 2ms/step - loss: 10.6239 - mae: 10.6239\n",
      "Epoch 43/100\n",
      "2/2 [==============================] - 0s 2ms/step - loss: 7.2143 - mae: 7.2143\n",
      "Epoch 44/100\n",
      "2/2 [==============================] - 0s 3ms/step - loss: 8.0217 - mae: 8.0217\n",
      "Epoch 45/100\n",
      "2/2 [==============================] - 0s 2ms/step - loss: 9.8246 - mae: 9.8246\n",
      "Epoch 46/100\n",
      "2/2 [==============================] - 0s 2ms/step - loss: 8.9048 - mae: 8.9048\n",
      "Epoch 47/100\n",
      "2/2 [==============================] - 0s 3ms/step - loss: 7.5689 - mae: 7.5689\n",
      "Epoch 48/100\n",
      "2/2 [==============================] - 0s 3ms/step - loss: 8.5324 - mae: 8.5324\n",
      "Epoch 49/100\n",
      "2/2 [==============================] - 0s 3ms/step - loss: 10.0366 - mae: 10.0366\n",
      "Epoch 50/100\n",
      "2/2 [==============================] - 0s 3ms/step - loss: 8.9783 - mae: 8.9783\n",
      "Epoch 51/100\n",
      "2/2 [==============================] - 0s 3ms/step - loss: 10.7139 - mae: 10.7139\n",
      "Epoch 52/100\n",
      "2/2 [==============================] - 0s 3ms/step - loss: 15.2593 - mae: 15.2593\n",
      "Epoch 53/100\n",
      "2/2 [==============================] - 0s 4ms/step - loss: 14.2903 - mae: 14.2903\n",
      "Epoch 54/100\n",
      "2/2 [==============================] - 0s 3ms/step - loss: 21.5372 - mae: 21.5372\n",
      "Epoch 55/100\n",
      "2/2 [==============================] - 0s 6ms/step - loss: 16.0567 - mae: 16.0567\n",
      "Epoch 56/100\n",
      "2/2 [==============================] - 0s 2ms/step - loss: 10.2423 - mae: 10.2423\n",
      "Epoch 57/100\n",
      "2/2 [==============================] - 0s 5ms/step - loss: 9.8011 - mae: 9.8011\n",
      "Epoch 58/100\n",
      "2/2 [==============================] - 0s 3ms/step - loss: 9.0830 - mae: 9.0830\n",
      "Epoch 59/100\n",
      "2/2 [==============================] - 0s 2ms/step - loss: 8.2869 - mae: 8.2869\n",
      "Epoch 60/100\n",
      "2/2 [==============================] - 0s 3ms/step - loss: 9.3790 - mae: 9.3790\n",
      "Epoch 61/100\n",
      "2/2 [==============================] - 0s 3ms/step - loss: 11.2100 - mae: 11.2100\n",
      "Epoch 62/100\n",
      "2/2 [==============================] - 0s 5ms/step - loss: 12.0289 - mae: 12.0289\n",
      "Epoch 63/100\n",
      "2/2 [==============================] - 0s 4ms/step - loss: 7.2757 - mae: 7.2757\n",
      "Epoch 64/100\n",
      "2/2 [==============================] - 0s 4ms/step - loss: 12.4714 - mae: 12.4714\n",
      "Epoch 65/100\n",
      "2/2 [==============================] - 0s 2ms/step - loss: 10.5459 - mae: 10.5459\n",
      "Epoch 66/100\n",
      "2/2 [==============================] - 0s 2ms/step - loss: 15.5610 - mae: 15.5610\n",
      "Epoch 67/100\n",
      "2/2 [==============================] - 0s 4ms/step - loss: 9.9771 - mae: 9.9771\n",
      "Epoch 68/100\n",
      "2/2 [==============================] - 0s 2ms/step - loss: 8.7089 - mae: 8.7089\n",
      "Epoch 69/100\n",
      "2/2 [==============================] - 0s 2ms/step - loss: 13.4371 - mae: 13.4371\n",
      "Epoch 70/100\n",
      "2/2 [==============================] - 0s 3ms/step - loss: 7.4719 - mae: 7.4719\n",
      "Epoch 71/100\n",
      "2/2 [==============================] - 0s 3ms/step - loss: 12.2728 - mae: 12.2728\n",
      "Epoch 72/100\n",
      "2/2 [==============================] - 0s 2ms/step - loss: 8.5068 - mae: 8.5068\n",
      "Epoch 73/100\n",
      "2/2 [==============================] - 0s 2ms/step - loss: 7.0384 - mae: 7.0384\n",
      "Epoch 74/100\n",
      "2/2 [==============================] - 0s 2ms/step - loss: 9.8815 - mae: 9.8815\n",
      "Epoch 75/100\n",
      "2/2 [==============================] - 0s 3ms/step - loss: 9.9694 - mae: 9.9694\n",
      "Epoch 76/100\n",
      "2/2 [==============================] - 0s 3ms/step - loss: 10.1283 - mae: 10.1283\n",
      "Epoch 77/100\n",
      "2/2 [==============================] - 0s 3ms/step - loss: 13.0063 - mae: 13.0063\n",
      "Epoch 78/100\n",
      "2/2 [==============================] - 0s 2ms/step - loss: 10.8906 - mae: 10.8906\n",
      "Epoch 79/100\n",
      "2/2 [==============================] - 0s 3ms/step - loss: 15.3598 - mae: 15.3598\n",
      "Epoch 80/100\n",
      "2/2 [==============================] - 0s 2ms/step - loss: 11.7444 - mae: 11.7444\n",
      "Epoch 81/100\n",
      "2/2 [==============================] - 0s 3ms/step - loss: 9.2344 - mae: 9.2344\n",
      "Epoch 82/100\n",
      "2/2 [==============================] - 0s 4ms/step - loss: 12.7455 - mae: 12.7455\n",
      "Epoch 83/100\n",
      "2/2 [==============================] - 0s 4ms/step - loss: 8.2947 - mae: 8.2947\n",
      "Epoch 84/100\n",
      "2/2 [==============================] - 0s 2ms/step - loss: 7.3052 - mae: 7.3052\n",
      "Epoch 85/100\n",
      "2/2 [==============================] - 0s 4ms/step - loss: 10.4583 - mae: 10.4583\n",
      "Epoch 86/100\n",
      "2/2 [==============================] - 0s 3ms/step - loss: 9.1351 - mae: 9.1351\n",
      "Epoch 87/100\n",
      "2/2 [==============================] - 0s 4ms/step - loss: 11.8421 - mae: 11.8421\n",
      "Epoch 88/100\n",
      "2/2 [==============================] - 0s 3ms/step - loss: 10.4500 - mae: 10.4500\n",
      "Epoch 89/100\n",
      "2/2 [==============================] - 0s 3ms/step - loss: 6.9725 - mae: 6.9725\n",
      "Epoch 90/100\n",
      "2/2 [==============================] - 0s 3ms/step - loss: 13.7728 - mae: 13.7728\n",
      "Epoch 91/100\n",
      "2/2 [==============================] - 0s 2ms/step - loss: 7.8595 - mae: 7.8595\n",
      "Epoch 92/100\n",
      "2/2 [==============================] - 0s 3ms/step - loss: 7.9227 - mae: 7.9227\n",
      "Epoch 93/100\n",
      "2/2 [==============================] - 0s 3ms/step - loss: 9.4178 - mae: 9.4178\n",
      "Epoch 94/100\n",
      "2/2 [==============================] - 0s 4ms/step - loss: 8.7381 - mae: 8.7381\n",
      "Epoch 95/100\n",
      "2/2 [==============================] - 0s 3ms/step - loss: 9.8578 - mae: 9.8578\n",
      "Epoch 96/100\n",
      "2/2 [==============================] - 0s 2ms/step - loss: 7.3387 - mae: 7.3387\n",
      "Epoch 97/100\n",
      "2/2 [==============================] - 0s 3ms/step - loss: 6.8546 - mae: 6.8546\n",
      "Epoch 98/100\n",
      "2/2 [==============================] - 0s 3ms/step - loss: 7.2464 - mae: 7.2464\n",
      "Epoch 99/100\n",
      "2/2 [==============================] - 0s 3ms/step - loss: 7.4001 - mae: 7.4001\n",
      "Epoch 100/100\n",
      "2/2 [==============================] - 0s 2ms/step - loss: 11.0988 - mae: 11.0988\n"
     ]
    },
    {
     "data": {
      "text/plain": [
       "<keras.src.callbacks.History at 0x1ed22c42860>"
      ]
     },
     "execution_count": 80,
     "metadata": {},
     "output_type": "execute_result"
    }
   ],
   "source": [
    "# Set random seed\n",
    "tf.random.set_seed(42)\n",
    "\n",
    "# 1. Create the model\n",
    "model_1 = tf.keras.Sequential([\n",
    "    tf.keras.layers.Dense(1, input_shape=[1])\n",
    "])\n",
    "\n",
    "# 2. Compile the model\n",
    "model_1.compile(loss=tf.keras.losses.mae,\n",
    "                optimizer=tf.keras.optimizers.SGD(),\n",
    "                metrics=[\"mae\"])\n",
    "\n",
    "# 3.Fit the model\n",
    "model_1.fit(X_train, y_train, epochs=100)"
   ]
  },
  {
   "cell_type": "code",
   "execution_count": 81,
   "metadata": {},
   "outputs": [
    {
     "name": "stdout",
     "output_type": "stream",
     "text": [
      "1/1 [==============================] - 0s 51ms/step\n"
     ]
    },
    {
     "data": {
      "image/png": "[encoded data removed]",
      "text/plain": [
       "<Figure size 1000x700 with 1 Axes>"
      ]
     },
     "metadata": {},
     "output_type": "display_data"
    }
   ],
   "source": [
    "# Make and plot predictions for model_1\n",
    "y_preds_1 = model_1.predict(X_test)\n",
    "plot_predictions(predictions=y_preds_1)"
   ]
  },
  {
   "cell_type": "code",
   "execution_count": 82,
   "metadata": {},
   "outputs": [
    {
     "data": {
      "text/plain": [
       "(<tf.Tensor: shape=(), dtype=float32, numpy=21.250381>,\n",
       " <tf.Tensor: shape=(), dtype=float32, numpy=455.0019>)"
      ]
     },
     "execution_count": 82,
     "metadata": {},
     "output_type": "execute_result"
    }
   ],
   "source": [
    "# Calculate model_1 evaluation metrics\n",
    "mae_1 = mae(y_test, y_preds_1)\n",
    "mse_1 = mse(y_test, y_preds_1)\n",
    "mae_1, mse_1"
   ]
  },
  {
   "attachments": {},
   "cell_type": "markdown",
   "metadata": {},
   "source": [
    "**Build `Model_2`**\n",
    "\n",
    "* 2 dense layers, trained for 100 epochs"
   ]
  },
  {
   "cell_type": "code",
   "execution_count": 83,
   "metadata": {},
   "outputs": [
    {
     "name": "stdout",
     "output_type": "stream",
     "text": [
      "Epoch 1/100\n",
      "2/2 [==============================] - 0s 8ms/step - loss: 35.4428 - mse: 1763.2152\n",
      "Epoch 2/100\n",
      "2/2 [==============================] - 0s 3ms/step - loss: 28.3779 - mse: 1040.8669\n",
      "Epoch 3/100\n",
      "2/2 [==============================] - 0s 7ms/step - loss: 32.6131 - mse: 1626.9739\n",
      "Epoch 4/100\n",
      "2/2 [==============================] - 0s 3ms/step - loss: 21.4832 - mse: 659.5864\n",
      "Epoch 5/100\n",
      "2/2 [==============================] - 0s 5ms/step - loss: 14.3806 - mse: 255.1665\n",
      "Epoch 6/100\n",
      "2/2 [==============================] - 0s 2ms/step - loss: 11.5216 - mse: 151.2996\n",
      "Epoch 7/100\n",
      "2/2 [==============================] - 0s 2ms/step - loss: 12.5959 - mse: 210.7515\n",
      "Epoch 8/100\n",
      "2/2 [==============================] - 0s 3ms/step - loss: 11.0554 - mse: 148.8460\n",
      "Epoch 9/100\n",
      "2/2 [==============================] - 0s 4ms/step - loss: 39.7370 - mse: 2473.3765\n",
      "Epoch 10/100\n",
      "2/2 [==============================] - 0s 2ms/step - loss: 27.2255 - mse: 1042.8850\n",
      "Epoch 11/100\n",
      "2/2 [==============================] - 0s 3ms/step - loss: 11.0356 - mse: 181.3800\n",
      "Epoch 12/100\n",
      "2/2 [==============================] - 0s 4ms/step - loss: 24.4425 - mse: 839.1874\n",
      "Epoch 13/100\n",
      "2/2 [==============================] - 0s 3ms/step - loss: 19.3187 - mse: 525.3788\n",
      "Epoch 14/100\n",
      "2/2 [==============================] - 0s 3ms/step - loss: 23.5633 - mse: 850.9890\n",
      "Epoch 15/100\n",
      "2/2 [==============================] - 0s 3ms/step - loss: 15.6751 - mse: 334.1628\n",
      "Epoch 16/100\n",
      "2/2 [==============================] - 0s 3ms/step - loss: 10.4020 - mse: 124.5642\n",
      "Epoch 17/100\n",
      "2/2 [==============================] - 0s 4ms/step - loss: 19.5905 - mse: 521.3680\n",
      "Epoch 18/100\n",
      "2/2 [==============================] - 0s 4ms/step - loss: 13.2442 - mse: 273.6891\n",
      "Epoch 19/100\n",
      "2/2 [==============================] - 0s 5ms/step - loss: 15.9954 - mse: 408.6992\n",
      "Epoch 20/100\n",
      "2/2 [==============================] - 0s 4ms/step - loss: 10.1811 - mse: 154.4486\n",
      "Epoch 21/100\n",
      "2/2 [==============================] - 0s 3ms/step - loss: 13.7172 - mse: 247.5387\n",
      "Epoch 22/100\n",
      "2/2 [==============================] - 0s 3ms/step - loss: 21.8949 - mse: 679.6237\n",
      "Epoch 23/100\n",
      "2/2 [==============================] - 0s 4ms/step - loss: 10.4626 - mse: 166.4943\n",
      "Epoch 24/100\n",
      "2/2 [==============================] - 0s 4ms/step - loss: 15.7634 - mse: 333.6059\n",
      "Epoch 25/100\n",
      "2/2 [==============================] - 0s 3ms/step - loss: 14.9100 - mse: 292.5189\n",
      "Epoch 26/100\n",
      "2/2 [==============================] - 0s 4ms/step - loss: 19.5475 - mse: 578.9671\n",
      "Epoch 27/100\n",
      "2/2 [==============================] - 0s 3ms/step - loss: 20.4856 - mse: 634.2721\n",
      "Epoch 28/100\n",
      "2/2 [==============================] - 0s 3ms/step - loss: 14.8687 - mse: 340.5080\n",
      "Epoch 29/100\n",
      "2/2 [==============================] - 0s 3ms/step - loss: 9.2619 - mse: 93.4781\n",
      "Epoch 30/100\n",
      "2/2 [==============================] - 0s 3ms/step - loss: 30.2224 - mse: 1666.2170\n",
      "Epoch 31/100\n",
      "2/2 [==============================] - 0s 4ms/step - loss: 54.8978 - mse: 5403.4829\n",
      "Epoch 32/100\n",
      "2/2 [==============================] - 0s 4ms/step - loss: 9.6691 - mse: 102.4293\n",
      "Epoch 33/100\n",
      "2/2 [==============================] - 0s 3ms/step - loss: 12.2749 - mse: 188.5710\n",
      "Epoch 34/100\n",
      "2/2 [==============================] - 0s 3ms/step - loss: 24.3357 - mse: 899.1527\n",
      "Epoch 35/100\n",
      "2/2 [==============================] - 0s 2ms/step - loss: 11.9719 - mse: 209.8972\n",
      "Epoch 36/100\n",
      "2/2 [==============================] - 0s 4ms/step - loss: 22.2453 - mse: 703.5072\n",
      "Epoch 37/100\n",
      "2/2 [==============================] - 0s 2ms/step - loss: 17.3262 - mse: 426.9254\n",
      "Epoch 38/100\n",
      "2/2 [==============================] - 0s 2ms/step - loss: 10.6490 - mse: 130.0432\n",
      "Epoch 39/100\n",
      "2/2 [==============================] - 0s 2ms/step - loss: 11.1654 - mse: 160.7123\n",
      "Epoch 40/100\n",
      "2/2 [==============================] - 0s 2ms/step - loss: 17.9283 - mse: 465.2602\n",
      "Epoch 41/100\n",
      "2/2 [==============================] - 0s 4ms/step - loss: 10.3771 - mse: 183.4479\n",
      "Epoch 42/100\n",
      "2/2 [==============================] - 0s 3ms/step - loss: 7.2739 - mse: 75.8745\n",
      "Epoch 43/100\n",
      "2/2 [==============================] - 0s 6ms/step - loss: 18.8963 - mse: 529.1307\n",
      "Epoch 44/100\n",
      "2/2 [==============================] - 0s 4ms/step - loss: 20.0391 - mse: 620.7201\n",
      "Epoch 45/100\n",
      "2/2 [==============================] - 0s 4ms/step - loss: 10.1005 - mse: 127.7123\n",
      "Epoch 46/100\n",
      "2/2 [==============================] - 0s 4ms/step - loss: 11.3510 - mse: 158.8650\n",
      "Epoch 47/100\n",
      "2/2 [==============================] - 0s 4ms/step - loss: 9.8315 - mse: 152.8326\n",
      "Epoch 48/100\n",
      "2/2 [==============================] - 0s 4ms/step - loss: 17.6364 - mse: 422.9969\n",
      "Epoch 49/100\n",
      "2/2 [==============================] - 0s 5ms/step - loss: 9.3151 - mse: 95.3260\n",
      "Epoch 50/100\n",
      "2/2 [==============================] - 0s 3ms/step - loss: 13.3491 - mse: 234.6418\n",
      "Epoch 51/100\n",
      "2/2 [==============================] - 0s 4ms/step - loss: 11.4232 - mse: 148.3118\n",
      "Epoch 52/100\n",
      "2/2 [==============================] - 0s 3ms/step - loss: 29.3312 - mse: 1474.6462\n",
      "Epoch 53/100\n",
      "2/2 [==============================] - 0s 4ms/step - loss: 16.7102 - mse: 413.2979\n",
      "Epoch 54/100\n",
      "2/2 [==============================] - 0s 3ms/step - loss: 21.6781 - mse: 692.6892\n",
      "Epoch 55/100\n",
      "2/2 [==============================] - 0s 2ms/step - loss: 22.1184 - mse: 731.7707\n",
      "Epoch 56/100\n",
      "2/2 [==============================] - 0s 4ms/step - loss: 11.2226 - mse: 171.4254\n",
      "Epoch 57/100\n",
      "2/2 [==============================] - 0s 3ms/step - loss: 13.1943 - mse: 217.3035\n",
      "Epoch 58/100\n",
      "2/2 [==============================] - 0s 4ms/step - loss: 9.8575 - mse: 107.2256\n",
      "Epoch 59/100\n",
      "2/2 [==============================] - 0s 3ms/step - loss: 13.3826 - mse: 253.4616\n",
      "Epoch 60/100\n",
      "2/2 [==============================] - 0s 3ms/step - loss: 10.9204 - mse: 140.9402\n",
      "Epoch 61/100\n",
      "2/2 [==============================] - 0s 3ms/step - loss: 13.5359 - mse: 244.9204\n",
      "Epoch 62/100\n",
      "2/2 [==============================] - 0s 2ms/step - loss: 17.6045 - mse: 473.1988\n",
      "Epoch 63/100\n",
      "2/2 [==============================] - 0s 3ms/step - loss: 9.1919 - mse: 87.9684\n",
      "Epoch 64/100\n",
      "2/2 [==============================] - 0s 3ms/step - loss: 18.4714 - mse: 495.8935\n",
      "Epoch 65/100\n",
      "2/2 [==============================] - 0s 2ms/step - loss: 10.1470 - mse: 115.8558\n",
      "Epoch 66/100\n",
      "2/2 [==============================] - 0s 4ms/step - loss: 24.3497 - mse: 895.6346\n",
      "Epoch 67/100\n",
      "2/2 [==============================] - 0s 5ms/step - loss: 10.9279 - mse: 144.1813\n",
      "Epoch 68/100\n",
      "2/2 [==============================] - 0s 4ms/step - loss: 10.8014 - mse: 161.0581\n",
      "Epoch 69/100\n",
      "2/2 [==============================] - 0s 4ms/step - loss: 23.3338 - mse: 787.3594\n",
      "Epoch 70/100\n",
      "2/2 [==============================] - 0s 3ms/step - loss: 8.8074 - mse: 143.9424\n",
      "Epoch 71/100\n",
      "2/2 [==============================] - 0s 4ms/step - loss: 15.9608 - mse: 346.6889\n",
      "Epoch 72/100\n",
      "2/2 [==============================] - 0s 5ms/step - loss: 8.1386 - mse: 110.0118\n",
      "Epoch 73/100\n",
      "2/2 [==============================] - 0s 3ms/step - loss: 9.4653 - mse: 153.6879\n",
      "Epoch 74/100\n",
      "2/2 [==============================] - 0s 4ms/step - loss: 28.1390 - mse: 1109.2145\n",
      "Epoch 75/100\n",
      "2/2 [==============================] - 0s 3ms/step - loss: 10.2258 - mse: 145.7011\n",
      "Epoch 76/100\n",
      "2/2 [==============================] - 0s 4ms/step - loss: 13.1788 - mse: 220.0682\n",
      "Epoch 77/100\n",
      "2/2 [==============================] - 0s 3ms/step - loss: 18.4339 - mse: 533.2228\n",
      "Epoch 78/100\n",
      "2/2 [==============================] - 0s 3ms/step - loss: 9.0320 - mse: 91.9647\n",
      "Epoch 79/100\n",
      "2/2 [==============================] - 0s 5ms/step - loss: 23.4800 - mse: 825.0634\n",
      "Epoch 80/100\n",
      "2/2 [==============================] - 0s 4ms/step - loss: 26.1599 - mse: 1051.8564\n",
      "Epoch 81/100\n",
      "2/2 [==============================] - 0s 4ms/step - loss: 11.4217 - mse: 159.4133\n",
      "Epoch 82/100\n",
      "2/2 [==============================] - 0s 2ms/step - loss: 12.4862 - mse: 227.5754\n",
      "Epoch 83/100\n",
      "2/2 [==============================] - 0s 2ms/step - loss: 17.1726 - mse: 383.5646\n",
      "Epoch 84/100\n",
      "2/2 [==============================] - 0s 3ms/step - loss: 6.6005 - mse: 64.5880\n",
      "Epoch 85/100\n",
      "2/2 [==============================] - 0s 4ms/step - loss: 20.3230 - mse: 577.5994\n",
      "Epoch 86/100\n",
      "2/2 [==============================] - 0s 3ms/step - loss: 10.1834 - mse: 116.1894\n",
      "Epoch 87/100\n",
      "2/2 [==============================] - 0s 3ms/step - loss: 24.3623 - mse: 830.5466\n",
      "Epoch 88/100\n",
      "2/2 [==============================] - 0s 3ms/step - loss: 19.0260 - mse: 514.0194\n",
      "Epoch 89/100\n",
      "2/2 [==============================] - 0s 3ms/step - loss: 7.1738 - mse: 70.3394\n",
      "Epoch 90/100\n",
      "2/2 [==============================] - 0s 4ms/step - loss: 18.2578 - mse: 494.5877\n",
      "Epoch 91/100\n",
      "2/2 [==============================] - 0s 5ms/step - loss: 13.3084 - mse: 255.9302\n",
      "Epoch 92/100\n",
      "2/2 [==============================] - 0s 4ms/step - loss: 14.8599 - mse: 311.0557\n",
      "Epoch 93/100\n",
      "2/2 [==============================] - 0s 5ms/step - loss: 11.6554 - mse: 250.3097\n",
      "Epoch 94/100\n",
      "2/2 [==============================] - 0s 2ms/step - loss: 16.2108 - mse: 371.3822\n",
      "Epoch 95/100\n",
      "2/2 [==============================] - 0s 5ms/step - loss: 15.5541 - mse: 322.3995\n",
      "Epoch 96/100\n",
      "2/2 [==============================] - 0s 4ms/step - loss: 15.0891 - mse: 324.7366\n",
      "Epoch 97/100\n",
      "2/2 [==============================] - 0s 4ms/step - loss: 10.9199 - mse: 188.2831\n",
      "Epoch 98/100\n",
      "2/2 [==============================] - 0s 2ms/step - loss: 14.3805 - mse: 287.0061\n",
      "Epoch 99/100\n",
      "2/2 [==============================] - 0s 3ms/step - loss: 13.3956 - mse: 252.0808\n",
      "Epoch 100/100\n",
      "2/2 [==============================] - 0s 2ms/step - loss: 20.0233 - mse: 585.7527\n"
     ]
    },
    {
     "data": {
      "text/plain": [
       "<keras.src.callbacks.History at 0x1ed219b1fc0>"
      ]
     },
     "execution_count": 83,
     "metadata": {},
     "output_type": "execute_result"
    }
   ],
   "source": [
    "# Set random seed\n",
    "tf.random.set_seed(42)\n",
    "\n",
    "# 1. Create the model\n",
    "model_2 = tf.keras.Sequential([\n",
    "    tf.keras.layers.Dense(10, input_shape=[1]),\n",
    "    tf.keras.layers.Dense(1)\n",
    "])\n",
    "\n",
    "# 2. Compile the model\n",
    "model_2.compile(loss=tf.keras.losses.mae,\n",
    "                optimizer=tf.keras.optimizers.SGD(),\n",
    "                metrics=[\"mse\"])\n",
    "\n",
    "# 3.Fit the model\n",
    "model_2.fit(X_train, y_train, epochs=100)"
   ]
  },
  {
   "cell_type": "code",
   "execution_count": 84,
   "metadata": {},
   "outputs": [
    {
     "name": "stdout",
     "output_type": "stream",
     "text": [
      "1/1 [==============================] - 0s 53ms/step\n"
     ]
    },
    {
     "data": {
      "image/png": "[encoded data removed]",
      "text/plain": [
       "<Figure size 1000x700 with 1 Axes>"
      ]
     },
     "metadata": {},
     "output_type": "display_data"
    }
   ],
   "source": [
    "# Make and plot predictions of model_2\n",
    "y_preds_2 = model_2.predict(X_test)\n",
    "plot_predictions(predictions=y_preds_2)"
   ]
  },
  {
   "cell_type": "code",
   "execution_count": 85,
   "metadata": {},
   "outputs": [
    {
     "data": {
      "text/plain": [
       "(<tf.Tensor: shape=(), dtype=float32, numpy=29.48154>,\n",
       " <tf.Tensor: shape=(), dtype=float32, numpy=899.9313>)"
      ]
     },
     "execution_count": 85,
     "metadata": {},
     "output_type": "execute_result"
    }
   ],
   "source": [
    "# Calculate model_2 evaluation metrics\n",
    "mae_2 = mae(y_test, y_preds_2)\n",
    "mse_2 = mse(y_test, y_preds_2)\n",
    "mae_2, mse_2"
   ]
  },
  {
   "attachments": {},
   "cell_type": "markdown",
   "metadata": {},
   "source": [
    "**Build `model_3`**\n",
    "\n",
    "* 2 layers, trained for 500 epochs"
   ]
  },
  {
   "cell_type": "code",
   "execution_count": 86,
   "metadata": {},
   "outputs": [
    {
     "name": "stdout",
     "output_type": "stream",
     "text": [
      "Epoch 1/500\n",
      "2/2 [==============================] - 0s 7ms/step - loss: 49.0870 - mae: 49.0870\n",
      "Epoch 2/500\n",
      "2/2 [==============================] - 0s 4ms/step - loss: 11.1640 - mae: 11.1640\n",
      "Epoch 3/500\n",
      "2/2 [==============================] - 0s 5ms/step - loss: 28.2210 - mae: 28.2210\n",
      "Epoch 4/500\n",
      "2/2 [==============================] - 0s 4ms/step - loss: 14.1855 - mae: 14.1855\n",
      "Epoch 5/500\n",
      "2/2 [==============================] - 0s 5ms/step - loss: 15.8694 - mae: 15.8694\n",
      "Epoch 6/500\n",
      "2/2 [==============================] - 0s 4ms/step - loss: 12.5838 - mae: 12.5838\n",
      "Epoch 7/500\n",
      "2/2 [==============================] - 0s 5ms/step - loss: 11.8610 - mae: 11.8610\n",
      "Epoch 8/500\n",
      "2/2 [==============================] - 0s 4ms/step - loss: 12.9493 - mae: 12.9493\n",
      "Epoch 9/500\n",
      "2/2 [==============================] - 0s 4ms/step - loss: 34.1516 - mae: 34.1516\n",
      "Epoch 10/500\n",
      "2/2 [==============================] - 0s 4ms/step - loss: 23.5913 - mae: 23.5913\n",
      "Epoch 11/500\n",
      "2/2 [==============================] - 0s 2ms/step - loss: 11.8648 - mae: 11.8648\n",
      "Epoch 12/500\n",
      "2/2 [==============================] - 0s 4ms/step - loss: 23.9055 - mae: 23.9055\n",
      "Epoch 13/500\n",
      "2/2 [==============================] - 0s 3ms/step - loss: 20.6577 - mae: 20.6577\n",
      "Epoch 14/500\n",
      "2/2 [==============================] - 0s 3ms/step - loss: 23.0040 - mae: 23.0040\n",
      "Epoch 15/500\n",
      "2/2 [==============================] - 0s 3ms/step - loss: 14.9742 - mae: 14.9742\n",
      "Epoch 16/500\n",
      "2/2 [==============================] - 0s 4ms/step - loss: 11.2208 - mae: 11.2208\n",
      "Epoch 17/500\n",
      "2/2 [==============================] - 0s 2ms/step - loss: 22.7798 - mae: 22.7798\n",
      "Epoch 18/500\n",
      "2/2 [==============================] - 0s 3ms/step - loss: 11.2555 - mae: 11.2555\n",
      "Epoch 19/500\n",
      "2/2 [==============================] - 0s 3ms/step - loss: 13.7657 - mae: 13.7657\n",
      "Epoch 20/500\n",
      "2/2 [==============================] - 0s 3ms/step - loss: 11.1154 - mae: 11.1154\n",
      "Epoch 21/500\n",
      "2/2 [==============================] - 0s 3ms/step - loss: 17.0737 - mae: 17.0737\n",
      "Epoch 22/500\n",
      "2/2 [==============================] - 0s 3ms/step - loss: 15.3122 - mae: 15.3122\n",
      "Epoch 23/500\n",
      "2/2 [==============================] - 0s 2ms/step - loss: 9.2451 - mae: 9.2451\n",
      "Epoch 24/500\n",
      "2/2 [==============================] - 0s 4ms/step - loss: 17.3378 - mae: 17.3378\n",
      "Epoch 25/500\n",
      "2/2 [==============================] - 0s 2ms/step - loss: 15.9871 - mae: 15.9871\n",
      "Epoch 26/500\n",
      "2/2 [==============================] - 0s 4ms/step - loss: 21.0527 - mae: 21.0527\n",
      "Epoch 27/500\n",
      "2/2 [==============================] - 0s 3ms/step - loss: 25.6891 - mae: 25.6891\n",
      "Epoch 28/500\n",
      "2/2 [==============================] - 0s 2ms/step - loss: 18.2221 - mae: 18.2221\n",
      "Epoch 29/500\n",
      "2/2 [==============================] - 0s 4ms/step - loss: 9.2268 - mae: 9.2268\n",
      "Epoch 30/500\n",
      "2/2 [==============================] - 0s 2ms/step - loss: 28.8270 - mae: 28.8270\n",
      "Epoch 31/500\n",
      "2/2 [==============================] - 0s 2ms/step - loss: 52.1812 - mae: 52.1812\n",
      "Epoch 32/500\n",
      "2/2 [==============================] - 0s 3ms/step - loss: 11.4540 - mae: 11.4540\n",
      "Epoch 33/500\n",
      "2/2 [==============================] - 0s 3ms/step - loss: 12.1969 - mae: 12.1969\n",
      "Epoch 34/500\n",
      "2/2 [==============================] - 0s 4ms/step - loss: 24.0668 - mae: 24.0668\n",
      "Epoch 35/500\n",
      "2/2 [==============================] - 0s 3ms/step - loss: 11.9917 - mae: 11.9917\n",
      "Epoch 36/500\n",
      "2/2 [==============================] - 0s 3ms/step - loss: 22.3398 - mae: 22.3398\n",
      "Epoch 37/500\n",
      "2/2 [==============================] - 0s 2ms/step - loss: 17.1552 - mae: 17.1552\n",
      "Epoch 38/500\n",
      "2/2 [==============================] - 0s 3ms/step - loss: 10.5738 - mae: 10.5738\n",
      "Epoch 39/500\n",
      "2/2 [==============================] - 0s 4ms/step - loss: 11.0928 - mae: 11.0928\n",
      "Epoch 40/500\n",
      "2/2 [==============================] - 0s 3ms/step - loss: 17.7385 - mae: 17.7385\n",
      "Epoch 41/500\n",
      "2/2 [==============================] - 0s 3ms/step - loss: 10.2844 - mae: 10.2844\n",
      "Epoch 42/500\n",
      "2/2 [==============================] - 0s 3ms/step - loss: 7.2727 - mae: 7.2727\n",
      "Epoch 43/500\n",
      "2/2 [==============================] - 0s 3ms/step - loss: 18.4306 - mae: 18.4306\n",
      "Epoch 44/500\n",
      "2/2 [==============================] - 0s 1ms/step - loss: 21.9724 - mae: 21.9724\n",
      "Epoch 45/500\n",
      "2/2 [==============================] - 0s 2ms/step - loss: 10.0836 - mae: 10.0836\n",
      "Epoch 46/500\n",
      "2/2 [==============================] - 0s 2ms/step - loss: 11.3316 - mae: 11.3316\n",
      "Epoch 47/500\n",
      "2/2 [==============================] - 0s 2ms/step - loss: 9.8283 - mae: 9.8283\n",
      "Epoch 48/500\n",
      "2/2 [==============================] - 0s 3ms/step - loss: 17.6373 - mae: 17.6373\n",
      "Epoch 49/500\n",
      "2/2 [==============================] - 0s 2ms/step - loss: 9.3033 - mae: 9.3033\n",
      "Epoch 50/500\n",
      "2/2 [==============================] - 0s 5ms/step - loss: 13.3361 - mae: 13.3361\n",
      "Epoch 51/500\n",
      "2/2 [==============================] - 0s 4ms/step - loss: 11.4127 - mae: 11.4127\n",
      "Epoch 52/500\n",
      "2/2 [==============================] - 0s 4ms/step - loss: 29.3352 - mae: 29.3352\n",
      "Epoch 53/500\n",
      "2/2 [==============================] - 0s 5ms/step - loss: 16.7091 - mae: 16.7091\n",
      "Epoch 54/500\n",
      "2/2 [==============================] - 0s 4ms/step - loss: 21.6779 - mae: 21.6779\n",
      "Epoch 55/500\n",
      "2/2 [==============================] - 0s 5ms/step - loss: 22.1167 - mae: 22.1167\n",
      "Epoch 56/500\n",
      "2/2 [==============================] - 0s 5ms/step - loss: 11.2134 - mae: 11.2134\n",
      "Epoch 57/500\n",
      "2/2 [==============================] - 0s 3ms/step - loss: 13.1872 - mae: 13.1872\n",
      "Epoch 58/500\n",
      "2/2 [==============================] - 0s 4ms/step - loss: 9.8508 - mae: 9.8508\n",
      "Epoch 59/500\n",
      "2/2 [==============================] - 0s 5ms/step - loss: 13.3821 - mae: 13.3821\n",
      "Epoch 60/500\n",
      "2/2 [==============================] - 0s 5ms/step - loss: 10.9156 - mae: 10.9156\n",
      "Epoch 61/500\n",
      "2/2 [==============================] - 0s 3ms/step - loss: 13.5369 - mae: 13.5369\n",
      "Epoch 62/500\n",
      "2/2 [==============================] - 0s 4ms/step - loss: 17.8479 - mae: 17.8479\n",
      "Epoch 63/500\n",
      "2/2 [==============================] - 0s 2ms/step - loss: 8.7248 - mae: 8.7248\n",
      "Epoch 64/500\n",
      "2/2 [==============================] - 0s 3ms/step - loss: 16.1139 - mae: 16.1139\n",
      "Epoch 65/500\n",
      "2/2 [==============================] - 0s 3ms/step - loss: 10.7319 - mae: 10.7319\n",
      "Epoch 66/500\n",
      "2/2 [==============================] - 0s 2ms/step - loss: 22.1624 - mae: 22.1624\n",
      "Epoch 67/500\n",
      "2/2 [==============================] - 0s 3ms/step - loss: 10.2544 - mae: 10.2544\n",
      "Epoch 68/500\n",
      "2/2 [==============================] - 0s 2ms/step - loss: 13.4541 - mae: 13.4541\n",
      "Epoch 69/500\n",
      "2/2 [==============================] - 0s 4ms/step - loss: 11.4194 - mae: 11.4194\n",
      "Epoch 70/500\n",
      "2/2 [==============================] - 0s 3ms/step - loss: 13.6036 - mae: 13.6036\n",
      "Epoch 71/500\n",
      "2/2 [==============================] - 0s 3ms/step - loss: 15.6159 - mae: 15.6159\n",
      "Epoch 72/500\n",
      "2/2 [==============================] - 0s 3ms/step - loss: 11.8420 - mae: 11.8420\n",
      "Epoch 73/500\n",
      "2/2 [==============================] - 0s 4ms/step - loss: 16.6217 - mae: 16.6217\n",
      "Epoch 74/500\n",
      "2/2 [==============================] - 0s 4ms/step - loss: 24.1465 - mae: 24.1465\n",
      "Epoch 75/500\n",
      "2/2 [==============================] - 0s 4ms/step - loss: 9.6243 - mae: 9.6243\n",
      "Epoch 76/500\n",
      "2/2 [==============================] - 0s 3ms/step - loss: 12.4768 - mae: 12.4768\n",
      "Epoch 77/500\n",
      "2/2 [==============================] - 0s 3ms/step - loss: 16.7216 - mae: 16.7216\n",
      "Epoch 78/500\n",
      "2/2 [==============================] - 0s 2ms/step - loss: 9.0782 - mae: 9.0782\n",
      "Epoch 79/500\n",
      "2/2 [==============================] - 0s 5ms/step - loss: 24.0519 - mae: 24.0519\n",
      "Epoch 80/500\n",
      "2/2 [==============================] - 0s 4ms/step - loss: 26.8486 - mae: 26.8486\n",
      "Epoch 81/500\n",
      "2/2 [==============================] - 0s 3ms/step - loss: 11.7254 - mae: 11.7254\n",
      "Epoch 82/500\n",
      "2/2 [==============================] - 0s 3ms/step - loss: 11.9983 - mae: 11.9983\n",
      "Epoch 83/500\n",
      "2/2 [==============================] - 0s 4ms/step - loss: 17.3879 - mae: 17.3879\n",
      "Epoch 84/500\n",
      "2/2 [==============================] - 0s 4ms/step - loss: 7.2639 - mae: 7.2639\n",
      "Epoch 85/500\n",
      "2/2 [==============================] - 0s 4ms/step - loss: 14.9416 - mae: 14.9416\n",
      "Epoch 86/500\n",
      "2/2 [==============================] - 0s 3ms/step - loss: 15.2684 - mae: 15.2684\n",
      "Epoch 87/500\n",
      "2/2 [==============================] - 0s 5ms/step - loss: 19.0693 - mae: 19.0693\n",
      "Epoch 88/500\n",
      "2/2 [==============================] - 0s 3ms/step - loss: 29.9281 - mae: 29.9281\n",
      "Epoch 89/500\n",
      "2/2 [==============================] - 0s 2ms/step - loss: 10.1973 - mae: 10.1973\n",
      "Epoch 90/500\n",
      "2/2 [==============================] - 0s 3ms/step - loss: 21.6078 - mae: 21.6078\n",
      "Epoch 91/500\n",
      "2/2 [==============================] - 0s 2ms/step - loss: 10.5988 - mae: 10.5988\n",
      "Epoch 92/500\n",
      "2/2 [==============================] - 0s 4ms/step - loss: 18.4717 - mae: 18.4717\n",
      "Epoch 93/500\n",
      "2/2 [==============================] - 0s 3ms/step - loss: 7.4265 - mae: 7.4265\n",
      "Epoch 94/500\n",
      "2/2 [==============================] - 0s 3ms/step - loss: 17.8028 - mae: 17.8028\n",
      "Epoch 95/500\n",
      "2/2 [==============================] - 0s 5ms/step - loss: 11.1456 - mae: 11.1456\n",
      "Epoch 96/500\n",
      "2/2 [==============================] - 0s 3ms/step - loss: 19.4996 - mae: 19.4996\n",
      "Epoch 97/500\n",
      "2/2 [==============================] - 0s 4ms/step - loss: 12.5255 - mae: 12.5255\n",
      "Epoch 98/500\n",
      "2/2 [==============================] - 0s 2ms/step - loss: 10.3122 - mae: 10.3122\n",
      "Epoch 99/500\n",
      "2/2 [==============================] - 0s 3ms/step - loss: 13.8551 - mae: 13.8551\n",
      "Epoch 100/500\n",
      "2/2 [==============================] - 0s 4ms/step - loss: 20.1695 - mae: 20.1695\n",
      "Epoch 101/500\n",
      "2/2 [==============================] - 0s 3ms/step - loss: 11.4340 - mae: 11.4340\n",
      "Epoch 102/500\n",
      "2/2 [==============================] - 0s 3ms/step - loss: 17.4311 - mae: 17.4311\n",
      "Epoch 103/500\n",
      "2/2 [==============================] - 0s 3ms/step - loss: 7.7694 - mae: 7.7694\n",
      "Epoch 104/500\n",
      "2/2 [==============================] - 0s 4ms/step - loss: 22.1020 - mae: 22.1020\n",
      "Epoch 105/500\n",
      "2/2 [==============================] - 0s 4ms/step - loss: 20.7175 - mae: 20.7175\n",
      "Epoch 106/500\n",
      "2/2 [==============================] - 0s 2ms/step - loss: 10.0480 - mae: 10.0480\n",
      "Epoch 107/500\n",
      "2/2 [==============================] - 0s 4ms/step - loss: 24.6271 - mae: 24.6271\n",
      "Epoch 108/500\n",
      "2/2 [==============================] - 0s 3ms/step - loss: 15.4899 - mae: 15.4899\n",
      "Epoch 109/500\n",
      "2/2 [==============================] - 0s 2ms/step - loss: 8.1869 - mae: 8.1869\n",
      "Epoch 110/500\n",
      "2/2 [==============================] - 0s 3ms/step - loss: 6.7326 - mae: 6.7326\n",
      "Epoch 111/500\n",
      "2/2 [==============================] - 0s 2ms/step - loss: 10.9976 - mae: 10.9976\n",
      "Epoch 112/500\n",
      "2/2 [==============================] - 0s 5ms/step - loss: 19.8872 - mae: 19.8872\n",
      "Epoch 113/500\n",
      "2/2 [==============================] - 0s 2ms/step - loss: 14.6958 - mae: 14.6958\n",
      "Epoch 114/500\n",
      "2/2 [==============================] - 0s 3ms/step - loss: 18.4415 - mae: 18.4415\n",
      "Epoch 115/500\n",
      "2/2 [==============================] - 0s 3ms/step - loss: 10.9043 - mae: 10.9043\n",
      "Epoch 116/500\n",
      "2/2 [==============================] - 0s 2ms/step - loss: 22.4282 - mae: 22.4282\n",
      "Epoch 117/500\n",
      "2/2 [==============================] - 0s 2ms/step - loss: 9.3532 - mae: 9.3532\n",
      "Epoch 118/500\n",
      "2/2 [==============================] - 0s 3ms/step - loss: 10.3808 - mae: 10.3808\n",
      "Epoch 119/500\n",
      "2/2 [==============================] - 0s 3ms/step - loss: 8.0233 - mae: 8.0233\n",
      "Epoch 120/500\n",
      "2/2 [==============================] - 0s 3ms/step - loss: 37.8426 - mae: 37.8426\n",
      "Epoch 121/500\n",
      "2/2 [==============================] - 0s 3ms/step - loss: 10.6873 - mae: 10.6873\n",
      "Epoch 122/500\n",
      "2/2 [==============================] - 0s 3ms/step - loss: 28.3617 - mae: 28.3617\n",
      "Epoch 123/500\n",
      "2/2 [==============================] - 0s 2ms/step - loss: 32.9638 - mae: 32.9638\n",
      "Epoch 124/500\n",
      "2/2 [==============================] - 0s 4ms/step - loss: 19.6865 - mae: 19.6865\n",
      "Epoch 125/500\n",
      "2/2 [==============================] - 0s 2ms/step - loss: 7.0486 - mae: 7.0486\n",
      "Epoch 126/500\n",
      "2/2 [==============================] - 0s 3ms/step - loss: 21.8427 - mae: 21.8427\n",
      "Epoch 127/500\n",
      "2/2 [==============================] - 0s 2ms/step - loss: 8.0198 - mae: 8.0198\n",
      "Epoch 128/500\n",
      "2/2 [==============================] - 0s 2ms/step - loss: 21.0778 - mae: 21.0778\n",
      "Epoch 129/500\n",
      "2/2 [==============================] - 0s 2ms/step - loss: 9.0499 - mae: 9.0499\n",
      "Epoch 130/500\n",
      "2/2 [==============================] - 0s 2ms/step - loss: 24.0505 - mae: 24.0505\n",
      "Epoch 131/500\n",
      "2/2 [==============================] - 0s 3ms/step - loss: 9.7904 - mae: 9.7904\n",
      "Epoch 132/500\n",
      "2/2 [==============================] - 0s 5ms/step - loss: 18.2973 - mae: 18.2973\n",
      "Epoch 133/500\n",
      "2/2 [==============================] - 0s 2ms/step - loss: 7.6137 - mae: 7.6137\n",
      "Epoch 134/500\n",
      "2/2 [==============================] - 0s 3ms/step - loss: 18.5581 - mae: 18.5581\n",
      "Epoch 135/500\n",
      "2/2 [==============================] - 0s 4ms/step - loss: 10.5602 - mae: 10.5602\n",
      "Epoch 136/500\n",
      "2/2 [==============================] - 0s 3ms/step - loss: 18.2422 - mae: 18.2422\n",
      "Epoch 137/500\n",
      "2/2 [==============================] - 0s 2ms/step - loss: 23.1169 - mae: 23.1169\n",
      "Epoch 138/500\n",
      "2/2 [==============================] - 0s 2ms/step - loss: 9.1423 - mae: 9.1423\n",
      "Epoch 139/500\n",
      "2/2 [==============================] - 0s 2ms/step - loss: 8.9299 - mae: 8.9299\n",
      "Epoch 140/500\n",
      "2/2 [==============================] - 0s 2ms/step - loss: 16.4146 - mae: 16.4146\n",
      "Epoch 141/500\n",
      "2/2 [==============================] - 0s 3ms/step - loss: 8.4523 - mae: 8.4523\n",
      "Epoch 142/500\n",
      "2/2 [==============================] - 0s 2ms/step - loss: 36.7733 - mae: 36.7733\n",
      "Epoch 143/500\n",
      "2/2 [==============================] - 0s 4ms/step - loss: 25.4581 - mae: 25.4581\n",
      "Epoch 144/500\n",
      "2/2 [==============================] - 0s 2ms/step - loss: 9.5723 - mae: 9.5723\n",
      "Epoch 145/500\n",
      "2/2 [==============================] - 0s 2ms/step - loss: 26.6562 - mae: 26.6562\n",
      "Epoch 146/500\n",
      "2/2 [==============================] - 0s 4ms/step - loss: 8.6915 - mae: 8.6915\n",
      "Epoch 147/500\n",
      "2/2 [==============================] - 0s 2ms/step - loss: 15.6828 - mae: 15.6828\n",
      "Epoch 148/500\n",
      "2/2 [==============================] - 0s 2ms/step - loss: 18.3863 - mae: 18.3863\n",
      "Epoch 149/500\n",
      "2/2 [==============================] - 0s 4ms/step - loss: 8.1693 - mae: 8.1693\n",
      "Epoch 150/500\n",
      "2/2 [==============================] - 0s 2ms/step - loss: 7.5056 - mae: 7.5056\n",
      "Epoch 151/500\n",
      "2/2 [==============================] - 0s 2ms/step - loss: 18.1694 - mae: 18.1694\n",
      "Epoch 152/500\n",
      "2/2 [==============================] - 0s 4ms/step - loss: 10.2762 - mae: 10.2762\n",
      "Epoch 153/500\n",
      "2/2 [==============================] - 0s 2ms/step - loss: 29.3535 - mae: 29.3535\n",
      "Epoch 154/500\n",
      "2/2 [==============================] - 0s 2ms/step - loss: 10.6307 - mae: 10.6307\n",
      "Epoch 155/500\n",
      "2/2 [==============================] - 0s 3ms/step - loss: 15.5216 - mae: 15.5216\n",
      "Epoch 156/500\n",
      "2/2 [==============================] - 0s 2ms/step - loss: 17.1562 - mae: 17.1562\n",
      "Epoch 157/500\n",
      "2/2 [==============================] - 0s 3ms/step - loss: 32.4680 - mae: 32.4680\n",
      "Epoch 158/500\n",
      "2/2 [==============================] - 0s 3ms/step - loss: 10.6342 - mae: 10.6342\n",
      "Epoch 159/500\n",
      "2/2 [==============================] - 0s 2ms/step - loss: 8.8873 - mae: 8.8873\n",
      "Epoch 160/500\n",
      "2/2 [==============================] - 0s 4ms/step - loss: 21.8611 - mae: 21.8611\n",
      "Epoch 161/500\n",
      "2/2 [==============================] - 0s 3ms/step - loss: 11.1007 - mae: 11.1007\n",
      "Epoch 162/500\n",
      "2/2 [==============================] - 0s 3ms/step - loss: 21.3893 - mae: 21.3893\n",
      "Epoch 163/500\n",
      "2/2 [==============================] - 0s 3ms/step - loss: 18.8712 - mae: 18.8712\n",
      "Epoch 164/500\n",
      "2/2 [==============================] - 0s 2ms/step - loss: 12.7125 - mae: 12.7125\n",
      "Epoch 165/500\n",
      "2/2 [==============================] - 0s 2ms/step - loss: 12.7319 - mae: 12.7319\n",
      "Epoch 166/500\n",
      "2/2 [==============================] - 0s 3ms/step - loss: 18.9078 - mae: 18.9078\n",
      "Epoch 167/500\n",
      "2/2 [==============================] - 0s 2ms/step - loss: 26.8139 - mae: 26.8139\n",
      "Epoch 168/500\n",
      "2/2 [==============================] - 0s 5ms/step - loss: 9.9937 - mae: 9.9937\n",
      "Epoch 169/500\n",
      "2/2 [==============================] - 0s 3ms/step - loss: 23.0596 - mae: 23.0596\n",
      "Epoch 170/500\n",
      "2/2 [==============================] - 0s 2ms/step - loss: 10.0910 - mae: 10.0910\n",
      "Epoch 171/500\n",
      "2/2 [==============================] - 0s 4ms/step - loss: 17.8460 - mae: 17.8460\n",
      "Epoch 172/500\n",
      "2/2 [==============================] - 0s 2ms/step - loss: 29.3273 - mae: 29.3273\n",
      "Epoch 173/500\n",
      "2/2 [==============================] - 0s 3ms/step - loss: 16.9278 - mae: 16.9278\n",
      "Epoch 174/500\n",
      "2/2 [==============================] - 0s 3ms/step - loss: 11.1876 - mae: 11.1876\n",
      "Epoch 175/500\n",
      "2/2 [==============================] - 0s 3ms/step - loss: 27.4621 - mae: 27.4621\n",
      "Epoch 176/500\n",
      "2/2 [==============================] - 0s 3ms/step - loss: 8.4396 - mae: 8.4396\n",
      "Epoch 177/500\n",
      "2/2 [==============================] - 0s 2ms/step - loss: 9.3983 - mae: 9.3983\n",
      "Epoch 178/500\n",
      "2/2 [==============================] - 0s 1ms/step - loss: 18.5283 - mae: 18.5283\n",
      "Epoch 179/500\n",
      "2/2 [==============================] - 0s 5ms/step - loss: 10.4377 - mae: 10.4377\n",
      "Epoch 180/500\n",
      "2/2 [==============================] - 0s 2ms/step - loss: 8.0006 - mae: 8.0006\n",
      "Epoch 181/500\n",
      "2/2 [==============================] - 0s 3ms/step - loss: 17.7070 - mae: 17.7070\n",
      "Epoch 182/500\n",
      "2/2 [==============================] - 0s 4ms/step - loss: 11.1828 - mae: 11.1828\n",
      "Epoch 183/500\n",
      "2/2 [==============================] - 0s 2ms/step - loss: 12.3641 - mae: 12.3641\n",
      "Epoch 184/500\n",
      "2/2 [==============================] - 0s 3ms/step - loss: 27.2622 - mae: 27.2622\n",
      "Epoch 185/500\n",
      "2/2 [==============================] - 0s 3ms/step - loss: 7.5889 - mae: 7.5889\n",
      "Epoch 186/500\n",
      "2/2 [==============================] - 0s 2ms/step - loss: 15.9925 - mae: 15.9925\n",
      "Epoch 187/500\n",
      "2/2 [==============================] - 0s 4ms/step - loss: 8.5994 - mae: 8.5994\n",
      "Epoch 188/500\n",
      "2/2 [==============================] - 0s 3ms/step - loss: 28.7353 - mae: 28.7353\n",
      "Epoch 189/500\n",
      "2/2 [==============================] - 0s 2ms/step - loss: 13.1827 - mae: 13.1827\n",
      "Epoch 190/500\n",
      "2/2 [==============================] - 0s 4ms/step - loss: 18.3271 - mae: 18.3271\n",
      "Epoch 191/500\n",
      "2/2 [==============================] - 0s 2ms/step - loss: 13.7585 - mae: 13.7585\n",
      "Epoch 192/500\n",
      "2/2 [==============================] - 0s 2ms/step - loss: 13.7329 - mae: 13.7329\n",
      "Epoch 193/500\n",
      "2/2 [==============================] - 0s 3ms/step - loss: 28.5982 - mae: 28.5982\n",
      "Epoch 194/500\n",
      "2/2 [==============================] - 0s 2ms/step - loss: 7.0876 - mae: 7.0876\n",
      "Epoch 195/500\n",
      "2/2 [==============================] - 0s 3ms/step - loss: 7.0883 - mae: 7.0883\n",
      "Epoch 196/500\n",
      "2/2 [==============================] - 0s 2ms/step - loss: 22.0471 - mae: 22.0471\n",
      "Epoch 197/500\n",
      "2/2 [==============================] - 0s 2ms/step - loss: 20.7671 - mae: 20.7671\n",
      "Epoch 198/500\n",
      "2/2 [==============================] - 0s 4ms/step - loss: 12.4374 - mae: 12.4374\n",
      "Epoch 199/500\n",
      "2/2 [==============================] - 0s 2ms/step - loss: 17.8410 - mae: 17.8410\n",
      "Epoch 200/500\n",
      "2/2 [==============================] - 0s 2ms/step - loss: 13.6877 - mae: 13.6877\n",
      "Epoch 201/500\n",
      "2/2 [==============================] - 0s 4ms/step - loss: 5.5113 - mae: 5.5113\n",
      "Epoch 202/500\n",
      "2/2 [==============================] - 0s 3ms/step - loss: 13.6377 - mae: 13.6377\n",
      "Epoch 203/500\n",
      "2/2 [==============================] - 0s 2ms/step - loss: 9.4230 - mae: 9.4230\n",
      "Epoch 204/500\n",
      "2/2 [==============================] - 0s 3ms/step - loss: 20.8391 - mae: 20.8391\n",
      "Epoch 205/500\n",
      "2/2 [==============================] - 0s 2ms/step - loss: 9.5330 - mae: 9.5330\n",
      "Epoch 206/500\n",
      "2/2 [==============================] - 0s 4ms/step - loss: 11.1717 - mae: 11.1717\n",
      "Epoch 207/500\n",
      "2/2 [==============================] - 0s 4ms/step - loss: 17.7208 - mae: 17.7208\n",
      "Epoch 208/500\n",
      "2/2 [==============================] - 0s 3ms/step - loss: 14.4183 - mae: 14.4183\n",
      "Epoch 209/500\n",
      "2/2 [==============================] - 0s 3ms/step - loss: 16.7443 - mae: 16.7443\n",
      "Epoch 210/500\n",
      "2/2 [==============================] - 0s 2ms/step - loss: 18.2662 - mae: 18.2662\n",
      "Epoch 211/500\n",
      "2/2 [==============================] - 0s 5ms/step - loss: 9.9787 - mae: 9.9787\n",
      "Epoch 212/500\n",
      "2/2 [==============================] - 0s 4ms/step - loss: 18.7477 - mae: 18.7477\n",
      "Epoch 213/500\n",
      "2/2 [==============================] - 0s 4ms/step - loss: 14.9430 - mae: 14.9430\n",
      "Epoch 214/500\n",
      "2/2 [==============================] - 0s 2ms/step - loss: 14.5293 - mae: 14.5293\n",
      "Epoch 215/500\n",
      "2/2 [==============================] - 0s 5ms/step - loss: 23.1708 - mae: 23.1708\n",
      "Epoch 216/500\n",
      "2/2 [==============================] - 0s 5ms/step - loss: 13.6005 - mae: 13.6005\n",
      "Epoch 217/500\n",
      "2/2 [==============================] - 0s 3ms/step - loss: 10.0697 - mae: 10.0697\n",
      "Epoch 218/500\n",
      "2/2 [==============================] - 0s 7ms/step - loss: 12.4204 - mae: 12.4204\n",
      "Epoch 219/500\n",
      "2/2 [==============================] - 0s 5ms/step - loss: 5.8701 - mae: 5.8701\n",
      "Epoch 220/500\n",
      "2/2 [==============================] - 0s 4ms/step - loss: 10.2046 - mae: 10.2046\n",
      "Epoch 221/500\n",
      "2/2 [==============================] - 0s 3ms/step - loss: 28.8787 - mae: 28.8787\n",
      "Epoch 222/500\n",
      "2/2 [==============================] - 0s 3ms/step - loss: 28.0657 - mae: 28.0657\n",
      "Epoch 223/500\n",
      "2/2 [==============================] - 0s 3ms/step - loss: 10.0785 - mae: 10.0785\n",
      "Epoch 224/500\n",
      "2/2 [==============================] - 0s 3ms/step - loss: 14.6284 - mae: 14.6284\n",
      "Epoch 225/500\n",
      "2/2 [==============================] - 0s 3ms/step - loss: 16.6452 - mae: 16.6452\n",
      "Epoch 226/500\n",
      "2/2 [==============================] - 0s 3ms/step - loss: 15.8669 - mae: 15.8669\n",
      "Epoch 227/500\n",
      "2/2 [==============================] - 0s 4ms/step - loss: 16.0855 - mae: 16.0855\n",
      "Epoch 228/500\n",
      "2/2 [==============================] - 0s 2ms/step - loss: 13.8644 - mae: 13.8644\n",
      "Epoch 229/500\n",
      "2/2 [==============================] - 0s 3ms/step - loss: 17.9841 - mae: 17.9841\n",
      "Epoch 230/500\n",
      "2/2 [==============================] - 0s 2ms/step - loss: 15.5782 - mae: 15.5782\n",
      "Epoch 231/500\n",
      "2/2 [==============================] - 0s 3ms/step - loss: 21.1014 - mae: 21.1014\n",
      "Epoch 232/500\n",
      "2/2 [==============================] - 0s 6ms/step - loss: 25.5059 - mae: 25.5059\n",
      "Epoch 233/500\n",
      "2/2 [==============================] - 0s 3ms/step - loss: 16.5072 - mae: 16.5072\n",
      "Epoch 234/500\n",
      "2/2 [==============================] - 0s 4ms/step - loss: 7.3618 - mae: 7.3618\n",
      "Epoch 235/500\n",
      "2/2 [==============================] - 0s 3ms/step - loss: 17.1466 - mae: 17.1466\n",
      "Epoch 236/500\n",
      "2/2 [==============================] - 0s 2ms/step - loss: 7.2215 - mae: 7.2215\n",
      "Epoch 237/500\n",
      "2/2 [==============================] - 0s 4ms/step - loss: 9.3194 - mae: 9.3194\n",
      "Epoch 238/500\n",
      "2/2 [==============================] - 0s 3ms/step - loss: 8.1772 - mae: 8.1772\n",
      "Epoch 239/500\n",
      "2/2 [==============================] - 0s 4ms/step - loss: 17.1634 - mae: 17.1634\n",
      "Epoch 240/500\n",
      "2/2 [==============================] - 0s 4ms/step - loss: 8.9482 - mae: 8.9482\n",
      "Epoch 241/500\n",
      "2/2 [==============================] - 0s 3ms/step - loss: 13.2593 - mae: 13.2593\n",
      "Epoch 242/500\n",
      "2/2 [==============================] - 0s 2ms/step - loss: 8.8588 - mae: 8.8588\n",
      "Epoch 243/500\n",
      "2/2 [==============================] - 0s 5ms/step - loss: 18.8915 - mae: 18.8915\n",
      "Epoch 244/500\n",
      "2/2 [==============================] - 0s 3ms/step - loss: 14.0545 - mae: 14.0545\n",
      "Epoch 245/500\n",
      "2/2 [==============================] - 0s 4ms/step - loss: 14.6824 - mae: 14.6824\n",
      "Epoch 246/500\n",
      "2/2 [==============================] - 0s 3ms/step - loss: 15.8154 - mae: 15.8154\n",
      "Epoch 247/500\n",
      "2/2 [==============================] - 0s 3ms/step - loss: 17.6945 - mae: 17.6945\n",
      "Epoch 248/500\n",
      "2/2 [==============================] - 0s 3ms/step - loss: 13.2512 - mae: 13.2512\n",
      "Epoch 249/500\n",
      "2/2 [==============================] - 0s 2ms/step - loss: 14.5259 - mae: 14.5259\n",
      "Epoch 250/500\n",
      "2/2 [==============================] - 0s 3ms/step - loss: 23.2499 - mae: 23.2499\n",
      "Epoch 251/500\n",
      "2/2 [==============================] - 0s 3ms/step - loss: 9.3344 - mae: 9.3344\n",
      "Epoch 252/500\n",
      "2/2 [==============================] - 0s 4ms/step - loss: 36.5969 - mae: 36.5969\n",
      "Epoch 253/500\n",
      "2/2 [==============================] - 0s 4ms/step - loss: 21.7881 - mae: 21.7881\n",
      "Epoch 254/500\n",
      "2/2 [==============================] - 0s 6ms/step - loss: 7.3172 - mae: 7.3172\n",
      "Epoch 255/500\n",
      "2/2 [==============================] - 0s 7ms/step - loss: 24.6532 - mae: 24.6532\n",
      "Epoch 256/500\n",
      "2/2 [==============================] - 0s 3ms/step - loss: 12.4220 - mae: 12.4220\n",
      "Epoch 257/500\n",
      "2/2 [==============================] - 0s 4ms/step - loss: 10.5876 - mae: 10.5876\n",
      "Epoch 258/500\n",
      "2/2 [==============================] - 0s 3ms/step - loss: 14.1920 - mae: 14.1920\n",
      "Epoch 259/500\n",
      "2/2 [==============================] - 0s 3ms/step - loss: 11.2639 - mae: 11.2639\n",
      "Epoch 260/500\n",
      "2/2 [==============================] - 0s 3ms/step - loss: 31.5703 - mae: 31.5703\n",
      "Epoch 261/500\n",
      "2/2 [==============================] - 0s 4ms/step - loss: 11.1847 - mae: 11.1847\n",
      "Epoch 262/500\n",
      "2/2 [==============================] - 0s 2ms/step - loss: 10.0399 - mae: 10.0399\n",
      "Epoch 263/500\n",
      "2/2 [==============================] - 0s 2ms/step - loss: 8.9560 - mae: 8.9560\n",
      "Epoch 264/500\n",
      "2/2 [==============================] - 0s 2ms/step - loss: 21.4615 - mae: 21.4615\n",
      "Epoch 265/500\n",
      "2/2 [==============================] - 0s 2ms/step - loss: 11.4653 - mae: 11.4653\n",
      "Epoch 266/500\n",
      "2/2 [==============================] - 0s 3ms/step - loss: 13.3061 - mae: 13.3061\n",
      "Epoch 267/500\n",
      "2/2 [==============================] - 0s 2ms/step - loss: 11.0933 - mae: 11.0933\n",
      "Epoch 268/500\n",
      "2/2 [==============================] - 0s 2ms/step - loss: 19.1757 - mae: 19.1757\n",
      "Epoch 269/500\n",
      "2/2 [==============================] - 0s 3ms/step - loss: 40.6510 - mae: 40.6510\n",
      "Epoch 270/500\n",
      "2/2 [==============================] - 0s 2ms/step - loss: 12.9039 - mae: 12.9039\n",
      "Epoch 271/500\n",
      "2/2 [==============================] - 0s 3ms/step - loss: 14.7714 - mae: 14.7714\n",
      "Epoch 272/500\n",
      "2/2 [==============================] - 0s 3ms/step - loss: 28.5201 - mae: 28.5201\n",
      "Epoch 273/500\n",
      "2/2 [==============================] - 0s 3ms/step - loss: 7.3686 - mae: 7.3686\n",
      "Epoch 274/500\n",
      "2/2 [==============================] - 0s 3ms/step - loss: 6.3640 - mae: 6.3640\n",
      "Epoch 275/500\n",
      "2/2 [==============================] - 0s 3ms/step - loss: 36.8567 - mae: 36.8567\n",
      "Epoch 276/500\n",
      "2/2 [==============================] - 0s 2ms/step - loss: 8.2939 - mae: 8.2939\n",
      "Epoch 277/500\n",
      "2/2 [==============================] - 0s 3ms/step - loss: 27.6845 - mae: 27.6845\n",
      "Epoch 278/500\n",
      "2/2 [==============================] - 0s 3ms/step - loss: 10.6886 - mae: 10.6886\n",
      "Epoch 279/500\n",
      "2/2 [==============================] - 0s 2ms/step - loss: 16.1168 - mae: 16.1168\n",
      "Epoch 280/500\n",
      "2/2 [==============================] - 0s 4ms/step - loss: 21.2478 - mae: 21.2478\n",
      "Epoch 281/500\n",
      "2/2 [==============================] - 0s 3ms/step - loss: 23.7639 - mae: 23.7639\n",
      "Epoch 282/500\n",
      "2/2 [==============================] - 0s 3ms/step - loss: 8.2624 - mae: 8.2624\n",
      "Epoch 283/500\n",
      "2/2 [==============================] - 0s 2ms/step - loss: 8.4465 - mae: 8.4465\n",
      "Epoch 284/500\n",
      "2/2 [==============================] - 0s 3ms/step - loss: 26.6012 - mae: 26.6012\n",
      "Epoch 285/500\n",
      "2/2 [==============================] - 0s 3ms/step - loss: 14.2122 - mae: 14.2122\n",
      "Epoch 286/500\n",
      "2/2 [==============================] - 0s 4ms/step - loss: 5.2658 - mae: 5.2658\n",
      "Epoch 287/500\n",
      "2/2 [==============================] - 0s 2ms/step - loss: 20.8286 - mae: 20.8286\n",
      "Epoch 288/500\n",
      "2/2 [==============================] - 0s 2ms/step - loss: 27.5870 - mae: 27.5870\n",
      "Epoch 289/500\n",
      "2/2 [==============================] - 0s 3ms/step - loss: 10.4415 - mae: 10.4415\n",
      "Epoch 290/500\n",
      "2/2 [==============================] - 0s 3ms/step - loss: 16.3139 - mae: 16.3139\n",
      "Epoch 291/500\n",
      "2/2 [==============================] - 0s 3ms/step - loss: 16.5032 - mae: 16.5032\n",
      "Epoch 292/500\n",
      "2/2 [==============================] - 0s 2ms/step - loss: 7.4347 - mae: 7.4347\n",
      "Epoch 293/500\n",
      "2/2 [==============================] - 0s 3ms/step - loss: 16.5504 - mae: 16.5504\n",
      "Epoch 294/500\n",
      "2/2 [==============================] - 0s 2ms/step - loss: 25.3387 - mae: 25.3387\n",
      "Epoch 295/500\n",
      "2/2 [==============================] - 0s 3ms/step - loss: 14.5713 - mae: 14.5713\n",
      "Epoch 296/500\n",
      "2/2 [==============================] - 0s 2ms/step - loss: 4.6749 - mae: 4.6749\n",
      "Epoch 297/500\n",
      "2/2 [==============================] - 0s 2ms/step - loss: 7.2847 - mae: 7.2847\n",
      "Epoch 298/500\n",
      "2/2 [==============================] - 0s 3ms/step - loss: 19.6081 - mae: 19.6081\n",
      "Epoch 299/500\n",
      "2/2 [==============================] - 0s 3ms/step - loss: 6.6206 - mae: 6.6206\n",
      "Epoch 300/500\n",
      "2/2 [==============================] - 0s 2ms/step - loss: 22.0577 - mae: 22.0577\n",
      "Epoch 301/500\n",
      "2/2 [==============================] - 0s 2ms/step - loss: 9.1373 - mae: 9.1373\n",
      "Epoch 302/500\n",
      "2/2 [==============================] - 0s 2ms/step - loss: 11.1945 - mae: 11.1945\n",
      "Epoch 303/500\n",
      "2/2 [==============================] - 0s 2ms/step - loss: 9.3408 - mae: 9.3408\n",
      "Epoch 304/500\n",
      "2/2 [==============================] - 0s 2ms/step - loss: 23.7103 - mae: 23.7103\n",
      "Epoch 305/500\n",
      "2/2 [==============================] - 0s 2ms/step - loss: 7.9248 - mae: 7.9248\n",
      "Epoch 306/500\n",
      "2/2 [==============================] - 0s 2ms/step - loss: 23.7665 - mae: 23.7665\n",
      "Epoch 307/500\n",
      "2/2 [==============================] - 0s 2ms/step - loss: 5.8855 - mae: 5.8855\n",
      "Epoch 308/500\n",
      "2/2 [==============================] - 0s 3ms/step - loss: 21.3196 - mae: 21.3196\n",
      "Epoch 309/500\n",
      "2/2 [==============================] - 0s 2ms/step - loss: 18.4193 - mae: 18.4193\n",
      "Epoch 310/500\n",
      "2/2 [==============================] - 0s 3ms/step - loss: 4.4981 - mae: 4.4981\n",
      "Epoch 311/500\n",
      "2/2 [==============================] - 0s 2ms/step - loss: 6.5091 - mae: 6.5091\n",
      "Epoch 312/500\n",
      "2/2 [==============================] - 0s 2ms/step - loss: 35.4656 - mae: 35.4656\n",
      "Epoch 313/500\n",
      "2/2 [==============================] - 0s 2ms/step - loss: 28.9429 - mae: 28.9429\n",
      "Epoch 314/500\n",
      "2/2 [==============================] - 0s 3ms/step - loss: 11.1905 - mae: 11.1905\n",
      "Epoch 315/500\n",
      "2/2 [==============================] - 0s 2ms/step - loss: 23.5462 - mae: 23.5462\n",
      "Epoch 316/500\n",
      "2/2 [==============================] - 0s 3ms/step - loss: 14.4354 - mae: 14.4354\n",
      "Epoch 317/500\n",
      "2/2 [==============================] - 0s 3ms/step - loss: 19.9861 - mae: 19.9861\n",
      "Epoch 318/500\n",
      "2/2 [==============================] - 0s 24ms/step - loss: 8.0008 - mae: 8.0008\n",
      "Epoch 319/500\n",
      "2/2 [==============================] - 0s 4ms/step - loss: 18.1228 - mae: 18.1228\n",
      "Epoch 320/500\n",
      "2/2 [==============================] - 0s 4ms/step - loss: 10.6484 - mae: 10.6484\n",
      "Epoch 321/500\n",
      "2/2 [==============================] - 0s 2ms/step - loss: 7.0295 - mae: 7.0295\n",
      "Epoch 322/500\n",
      "2/2 [==============================] - 0s 3ms/step - loss: 8.6680 - mae: 8.6680\n",
      "Epoch 323/500\n",
      "2/2 [==============================] - 0s 4ms/step - loss: 18.3298 - mae: 18.3298\n",
      "Epoch 324/500\n",
      "2/2 [==============================] - 0s 3ms/step - loss: 6.3078 - mae: 6.3078\n",
      "Epoch 325/500\n",
      "2/2 [==============================] - 0s 3ms/step - loss: 14.6271 - mae: 14.6271\n",
      "Epoch 326/500\n",
      "2/2 [==============================] - 0s 3ms/step - loss: 6.9908 - mae: 6.9908\n",
      "Epoch 327/500\n",
      "2/2 [==============================] - 0s 3ms/step - loss: 17.6493 - mae: 17.6493\n",
      "Epoch 328/500\n",
      "2/2 [==============================] - 0s 2ms/step - loss: 14.3668 - mae: 14.3668\n",
      "Epoch 329/500\n",
      "2/2 [==============================] - 0s 3ms/step - loss: 17.6751 - mae: 17.6751\n",
      "Epoch 330/500\n",
      "2/2 [==============================] - 0s 3ms/step - loss: 6.7816 - mae: 6.7816\n",
      "Epoch 331/500\n",
      "2/2 [==============================] - 0s 4ms/step - loss: 19.7701 - mae: 19.7701\n",
      "Epoch 332/500\n",
      "2/2 [==============================] - 0s 3ms/step - loss: 10.5588 - mae: 10.5588\n",
      "Epoch 333/500\n",
      "2/2 [==============================] - 0s 2ms/step - loss: 16.3670 - mae: 16.3670\n",
      "Epoch 334/500\n",
      "2/2 [==============================] - 0s 4ms/step - loss: 9.7063 - mae: 9.7063\n",
      "Epoch 335/500\n",
      "2/2 [==============================] - 0s 3ms/step - loss: 13.0522 - mae: 13.0522\n",
      "Epoch 336/500\n",
      "2/2 [==============================] - 0s 3ms/step - loss: 32.4868 - mae: 32.4868\n",
      "Epoch 337/500\n",
      "2/2 [==============================] - 0s 2ms/step - loss: 11.0307 - mae: 11.0307\n",
      "Epoch 338/500\n",
      "2/2 [==============================] - 0s 2ms/step - loss: 19.9356 - mae: 19.9356\n",
      "Epoch 339/500\n",
      "2/2 [==============================] - 0s 3ms/step - loss: 34.3665 - mae: 34.3665\n",
      "Epoch 340/500\n",
      "2/2 [==============================] - 0s 3ms/step - loss: 9.2879 - mae: 9.2879\n",
      "Epoch 341/500\n",
      "2/2 [==============================] - 0s 3ms/step - loss: 17.3276 - mae: 17.3276\n",
      "Epoch 342/500\n",
      "2/2 [==============================] - 0s 3ms/step - loss: 14.9016 - mae: 14.9016\n",
      "Epoch 343/500\n",
      "2/2 [==============================] - 0s 3ms/step - loss: 12.6931 - mae: 12.6931\n",
      "Epoch 344/500\n",
      "2/2 [==============================] - 0s 3ms/step - loss: 12.0178 - mae: 12.0178\n",
      "Epoch 345/500\n",
      "2/2 [==============================] - 0s 2ms/step - loss: 30.4832 - mae: 30.4832\n",
      "Epoch 346/500\n",
      "2/2 [==============================] - 0s 3ms/step - loss: 9.3155 - mae: 9.3155\n",
      "Epoch 347/500\n",
      "2/2 [==============================] - 0s 2ms/step - loss: 26.0455 - mae: 26.0455\n",
      "Epoch 348/500\n",
      "2/2 [==============================] - 0s 2ms/step - loss: 12.0084 - mae: 12.0084\n",
      "Epoch 349/500\n",
      "2/2 [==============================] - 0s 4ms/step - loss: 12.7572 - mae: 12.7572\n",
      "Epoch 350/500\n",
      "2/2 [==============================] - 0s 2ms/step - loss: 15.3075 - mae: 15.3075\n",
      "Epoch 351/500\n",
      "2/2 [==============================] - 0s 3ms/step - loss: 32.6970 - mae: 32.6970\n",
      "Epoch 352/500\n",
      "2/2 [==============================] - 0s 2ms/step - loss: 13.7176 - mae: 13.7176\n",
      "Epoch 353/500\n",
      "2/2 [==============================] - 0s 2ms/step - loss: 17.6602 - mae: 17.6602\n",
      "Epoch 354/500\n",
      "2/2 [==============================] - 0s 2ms/step - loss: 11.2885 - mae: 11.2885\n",
      "Epoch 355/500\n",
      "2/2 [==============================] - 0s 3ms/step - loss: 26.6519 - mae: 26.6519\n",
      "Epoch 356/500\n",
      "2/2 [==============================] - 0s 3ms/step - loss: 10.3277 - mae: 10.3277\n",
      "Epoch 357/500\n",
      "2/2 [==============================] - 0s 3ms/step - loss: 14.9699 - mae: 14.9699\n",
      "Epoch 358/500\n",
      "2/2 [==============================] - 0s 3ms/step - loss: 14.8977 - mae: 14.8977\n",
      "Epoch 359/500\n",
      "2/2 [==============================] - 0s 3ms/step - loss: 12.2665 - mae: 12.2665\n",
      "Epoch 360/500\n",
      "2/2 [==============================] - 0s 3ms/step - loss: 20.2219 - mae: 20.2219\n",
      "Epoch 361/500\n",
      "2/2 [==============================] - 0s 2ms/step - loss: 11.1028 - mae: 11.1028\n",
      "Epoch 362/500\n",
      "2/2 [==============================] - 0s 2ms/step - loss: 6.8521 - mae: 6.8521\n",
      "Epoch 363/500\n",
      "2/2 [==============================] - 0s 4ms/step - loss: 24.1009 - mae: 24.1009\n",
      "Epoch 364/500\n",
      "2/2 [==============================] - 0s 3ms/step - loss: 29.9044 - mae: 29.9044\n",
      "Epoch 365/500\n",
      "2/2 [==============================] - 0s 3ms/step - loss: 8.4162 - mae: 8.4162\n",
      "Epoch 366/500\n",
      "2/2 [==============================] - 0s 3ms/step - loss: 6.1136 - mae: 6.1136\n",
      "Epoch 367/500\n",
      "2/2 [==============================] - 0s 4ms/step - loss: 35.0447 - mae: 35.0447\n",
      "Epoch 368/500\n",
      "2/2 [==============================] - 0s 3ms/step - loss: 7.4579 - mae: 7.4579\n",
      "Epoch 369/500\n",
      "2/2 [==============================] - 0s 2ms/step - loss: 9.2816 - mae: 9.2816\n",
      "Epoch 370/500\n",
      "2/2 [==============================] - 0s 3ms/step - loss: 10.9912 - mae: 10.9912\n",
      "Epoch 371/500\n",
      "2/2 [==============================] - 0s 3ms/step - loss: 9.0521 - mae: 9.0521\n",
      "Epoch 372/500\n",
      "2/2 [==============================] - 0s 2ms/step - loss: 6.9548 - mae: 6.9548\n",
      "Epoch 373/500\n",
      "2/2 [==============================] - 0s 4ms/step - loss: 25.9328 - mae: 25.9328\n",
      "Epoch 374/500\n",
      "2/2 [==============================] - 0s 3ms/step - loss: 11.0000 - mae: 11.0000\n",
      "Epoch 375/500\n",
      "2/2 [==============================] - 0s 2ms/step - loss: 10.7774 - mae: 10.7774\n",
      "Epoch 376/500\n",
      "2/2 [==============================] - 0s 3ms/step - loss: 13.5689 - mae: 13.5689\n",
      "Epoch 377/500\n",
      "2/2 [==============================] - 0s 2ms/step - loss: 15.2648 - mae: 15.2648\n",
      "Epoch 378/500\n",
      "2/2 [==============================] - 0s 3ms/step - loss: 16.4049 - mae: 16.4049\n",
      "Epoch 379/500\n",
      "2/2 [==============================] - 0s 2ms/step - loss: 21.1416 - mae: 21.1416\n",
      "Epoch 380/500\n",
      "2/2 [==============================] - 0s 3ms/step - loss: 32.6324 - mae: 32.6324\n",
      "Epoch 381/500\n",
      "2/2 [==============================] - 0s 4ms/step - loss: 7.9756 - mae: 7.9756\n",
      "Epoch 382/500\n",
      "2/2 [==============================] - 0s 3ms/step - loss: 12.4232 - mae: 12.4232\n",
      "Epoch 383/500\n",
      "2/2 [==============================] - 0s 3ms/step - loss: 7.2796 - mae: 7.2796\n",
      "Epoch 384/500\n",
      "2/2 [==============================] - 0s 2ms/step - loss: 6.4036 - mae: 6.4036\n",
      "Epoch 385/500\n",
      "2/2 [==============================] - 0s 2ms/step - loss: 11.6322 - mae: 11.6322\n",
      "Epoch 386/500\n",
      "2/2 [==============================] - 0s 3ms/step - loss: 19.9795 - mae: 19.9795\n",
      "Epoch 387/500\n",
      "2/2 [==============================] - 0s 4ms/step - loss: 24.3683 - mae: 24.3683\n",
      "Epoch 388/500\n",
      "2/2 [==============================] - 0s 3ms/step - loss: 8.1215 - mae: 8.1215\n",
      "Epoch 389/500\n",
      "2/2 [==============================] - 0s 4ms/step - loss: 10.6534 - mae: 10.6534\n",
      "Epoch 390/500\n",
      "2/2 [==============================] - 0s 5ms/step - loss: 5.5391 - mae: 5.5391\n",
      "Epoch 391/500\n",
      "2/2 [==============================] - 0s 4ms/step - loss: 17.7441 - mae: 17.7441\n",
      "Epoch 392/500\n",
      "2/2 [==============================] - 0s 3ms/step - loss: 16.5222 - mae: 16.5222\n",
      "Epoch 393/500\n",
      "2/2 [==============================] - 0s 3ms/step - loss: 9.3138 - mae: 9.3138\n",
      "Epoch 394/500\n",
      "2/2 [==============================] - 0s 4ms/step - loss: 14.1354 - mae: 14.1354\n",
      "Epoch 395/500\n",
      "2/2 [==============================] - 0s 4ms/step - loss: 28.5477 - mae: 28.5477\n",
      "Epoch 396/500\n",
      "2/2 [==============================] - 0s 4ms/step - loss: 8.3878 - mae: 8.3878\n",
      "Epoch 397/500\n",
      "2/2 [==============================] - 0s 4ms/step - loss: 10.8155 - mae: 10.8155\n",
      "Epoch 398/500\n",
      "2/2 [==============================] - 0s 4ms/step - loss: 7.5165 - mae: 7.5165\n",
      "Epoch 399/500\n",
      "2/2 [==============================] - 0s 5ms/step - loss: 16.0203 - mae: 16.0203\n",
      "Epoch 400/500\n",
      "2/2 [==============================] - 0s 3ms/step - loss: 6.8848 - mae: 6.8848\n",
      "Epoch 401/500\n",
      "2/2 [==============================] - 0s 4ms/step - loss: 8.6084 - mae: 8.6084\n",
      "Epoch 402/500\n",
      "2/2 [==============================] - 0s 3ms/step - loss: 15.2936 - mae: 15.2936\n",
      "Epoch 403/500\n",
      "2/2 [==============================] - 0s 3ms/step - loss: 12.2611 - mae: 12.2611\n",
      "Epoch 404/500\n",
      "2/2 [==============================] - 0s 4ms/step - loss: 22.7378 - mae: 22.7378\n",
      "Epoch 405/500\n",
      "2/2 [==============================] - 0s 3ms/step - loss: 18.5290 - mae: 18.5290\n",
      "Epoch 406/500\n",
      "2/2 [==============================] - 0s 4ms/step - loss: 7.2057 - mae: 7.2057\n",
      "Epoch 407/500\n",
      "2/2 [==============================] - 0s 3ms/step - loss: 12.9663 - mae: 12.9663\n",
      "Epoch 408/500\n",
      "2/2 [==============================] - 0s 3ms/step - loss: 5.7057 - mae: 5.7057\n",
      "Epoch 409/500\n",
      "2/2 [==============================] - 0s 3ms/step - loss: 31.8530 - mae: 31.8530\n",
      "Epoch 410/500\n",
      "2/2 [==============================] - 0s 3ms/step - loss: 8.7182 - mae: 8.7182\n",
      "Epoch 411/500\n",
      "2/2 [==============================] - 0s 3ms/step - loss: 15.1237 - mae: 15.1237\n",
      "Epoch 412/500\n",
      "2/2 [==============================] - 0s 2ms/step - loss: 22.1940 - mae: 22.1940\n",
      "Epoch 413/500\n",
      "2/2 [==============================] - 0s 30ms/step - loss: 15.9404 - mae: 15.9404\n",
      "Epoch 414/500\n",
      "2/2 [==============================] - 0s 3ms/step - loss: 6.0468 - mae: 6.0468\n",
      "Epoch 415/500\n",
      "2/2 [==============================] - 0s 4ms/step - loss: 13.2102 - mae: 13.2102\n",
      "Epoch 416/500\n",
      "2/2 [==============================] - 0s 3ms/step - loss: 27.4080 - mae: 27.4080\n",
      "Epoch 417/500\n",
      "2/2 [==============================] - 0s 3ms/step - loss: 10.6679 - mae: 10.6679\n",
      "Epoch 418/500\n",
      "2/2 [==============================] - 0s 3ms/step - loss: 12.8075 - mae: 12.8075\n",
      "Epoch 419/500\n",
      "2/2 [==============================] - 0s 3ms/step - loss: 15.8680 - mae: 15.8680\n",
      "Epoch 420/500\n",
      "2/2 [==============================] - 0s 3ms/step - loss: 24.7303 - mae: 24.7303\n",
      "Epoch 421/500\n",
      "2/2 [==============================] - 0s 3ms/step - loss: 17.5283 - mae: 17.5283\n",
      "Epoch 422/500\n",
      "2/2 [==============================] - 0s 2ms/step - loss: 8.7131 - mae: 8.7131\n",
      "Epoch 423/500\n",
      "2/2 [==============================] - 0s 3ms/step - loss: 24.9238 - mae: 24.9238\n",
      "Epoch 424/500\n",
      "2/2 [==============================] - 0s 2ms/step - loss: 16.0991 - mae: 16.0991\n",
      "Epoch 425/500\n",
      "2/2 [==============================] - 0s 3ms/step - loss: 7.4496 - mae: 7.4496\n",
      "Epoch 426/500\n",
      "2/2 [==============================] - 0s 3ms/step - loss: 21.5207 - mae: 21.5207\n",
      "Epoch 427/500\n",
      "2/2 [==============================] - 0s 2ms/step - loss: 6.6387 - mae: 6.6387\n",
      "Epoch 428/500\n",
      "2/2 [==============================] - 0s 2ms/step - loss: 13.8058 - mae: 13.8058\n",
      "Epoch 429/500\n",
      "2/2 [==============================] - 0s 2ms/step - loss: 11.7595 - mae: 11.7595\n",
      "Epoch 430/500\n",
      "2/2 [==============================] - 0s 3ms/step - loss: 10.5006 - mae: 10.5006\n",
      "Epoch 431/500\n",
      "2/2 [==============================] - 0s 3ms/step - loss: 12.0492 - mae: 12.0492\n",
      "Epoch 432/500\n",
      "2/2 [==============================] - 0s 3ms/step - loss: 7.5936 - mae: 7.5936\n",
      "Epoch 433/500\n",
      "2/2 [==============================] - 0s 3ms/step - loss: 14.8280 - mae: 14.8280\n",
      "Epoch 434/500\n",
      "2/2 [==============================] - 0s 2ms/step - loss: 17.9451 - mae: 17.9451\n",
      "Epoch 435/500\n",
      "2/2 [==============================] - 0s 4ms/step - loss: 9.7072 - mae: 9.7072\n",
      "Epoch 436/500\n",
      "2/2 [==============================] - 0s 3ms/step - loss: 29.1144 - mae: 29.1144\n",
      "Epoch 437/500\n",
      "2/2 [==============================] - 0s 4ms/step - loss: 9.2718 - mae: 9.2718\n",
      "Epoch 438/500\n",
      "2/2 [==============================] - 0s 3ms/step - loss: 12.6891 - mae: 12.6891\n",
      "Epoch 439/500\n",
      "2/2 [==============================] - 0s 2ms/step - loss: 33.5497 - mae: 33.5497\n",
      "Epoch 440/500\n",
      "2/2 [==============================] - 0s 3ms/step - loss: 14.9123 - mae: 14.9123\n",
      "Epoch 441/500\n",
      "2/2 [==============================] - 0s 3ms/step - loss: 17.3434 - mae: 17.3434\n",
      "Epoch 442/500\n",
      "2/2 [==============================] - 0s 3ms/step - loss: 22.0183 - mae: 22.0183\n",
      "Epoch 443/500\n",
      "2/2 [==============================] - 0s 5ms/step - loss: 24.2660 - mae: 24.2660\n",
      "Epoch 444/500\n",
      "2/2 [==============================] - 0s 3ms/step - loss: 11.5464 - mae: 11.5464\n",
      "Epoch 445/500\n",
      "2/2 [==============================] - 0s 3ms/step - loss: 14.7505 - mae: 14.7505\n",
      "Epoch 446/500\n",
      "2/2 [==============================] - 0s 2ms/step - loss: 17.7562 - mae: 17.7562\n",
      "Epoch 447/500\n",
      "2/2 [==============================] - 0s 2ms/step - loss: 5.6848 - mae: 5.6848\n",
      "Epoch 448/500\n",
      "2/2 [==============================] - 0s 3ms/step - loss: 9.4984 - mae: 9.4984\n",
      "Epoch 449/500\n",
      "2/2 [==============================] - 0s 2ms/step - loss: 14.1634 - mae: 14.1634\n",
      "Epoch 450/500\n",
      "2/2 [==============================] - 0s 3ms/step - loss: 16.9281 - mae: 16.9281\n",
      "Epoch 451/500\n",
      "2/2 [==============================] - 0s 3ms/step - loss: 14.3516 - mae: 14.3516\n",
      "Epoch 452/500\n",
      "2/2 [==============================] - 0s 3ms/step - loss: 30.7565 - mae: 30.7565\n",
      "Epoch 453/500\n",
      "2/2 [==============================] - 0s 3ms/step - loss: 8.4068 - mae: 8.4068\n",
      "Epoch 454/500\n",
      "2/2 [==============================] - 0s 3ms/step - loss: 27.6724 - mae: 27.6724\n",
      "Epoch 455/500\n",
      "2/2 [==============================] - 0s 3ms/step - loss: 9.8783 - mae: 9.8783\n",
      "Epoch 456/500\n",
      "2/2 [==============================] - 0s 3ms/step - loss: 14.6068 - mae: 14.6068\n",
      "Epoch 457/500\n",
      "2/2 [==============================] - 0s 3ms/step - loss: 17.7660 - mae: 17.7660\n",
      "Epoch 458/500\n",
      "2/2 [==============================] - 0s 3ms/step - loss: 14.0458 - mae: 14.0458\n",
      "Epoch 459/500\n",
      "2/2 [==============================] - 0s 2ms/step - loss: 25.9746 - mae: 25.9746\n",
      "Epoch 460/500\n",
      "2/2 [==============================] - 0s 3ms/step - loss: 14.8556 - mae: 14.8556\n",
      "Epoch 461/500\n",
      "2/2 [==============================] - 0s 3ms/step - loss: 11.9876 - mae: 11.9876\n",
      "Epoch 462/500\n",
      "2/2 [==============================] - 0s 3ms/step - loss: 13.2954 - mae: 13.2954\n",
      "Epoch 463/500\n",
      "2/2 [==============================] - 0s 3ms/step - loss: 29.5086 - mae: 29.5086\n",
      "Epoch 464/500\n",
      "2/2 [==============================] - 0s 3ms/step - loss: 3.4520 - mae: 3.4520\n",
      "Epoch 465/500\n",
      "2/2 [==============================] - 0s 2ms/step - loss: 15.1773 - mae: 15.1773\n",
      "Epoch 466/500\n",
      "2/2 [==============================] - 0s 3ms/step - loss: 20.7508 - mae: 20.7508\n",
      "Epoch 467/500\n",
      "2/2 [==============================] - 0s 3ms/step - loss: 30.7373 - mae: 30.7373\n",
      "Epoch 468/500\n",
      "2/2 [==============================] - 0s 4ms/step - loss: 11.1533 - mae: 11.1533\n",
      "Epoch 469/500\n",
      "2/2 [==============================] - 0s 3ms/step - loss: 12.9681 - mae: 12.9681\n",
      "Epoch 470/500\n",
      "2/2 [==============================] - 0s 3ms/step - loss: 3.5392 - mae: 3.5392\n",
      "Epoch 471/500\n",
      "2/2 [==============================] - 0s 3ms/step - loss: 42.2243 - mae: 42.2243\n",
      "Epoch 472/500\n",
      "2/2 [==============================] - 0s 4ms/step - loss: 3.8784 - mae: 3.8784\n",
      "Epoch 473/500\n",
      "2/2 [==============================] - 0s 3ms/step - loss: 16.1052 - mae: 16.1052\n",
      "Epoch 474/500\n",
      "2/2 [==============================] - 0s 3ms/step - loss: 39.0176 - mae: 39.0176\n",
      "Epoch 475/500\n",
      "2/2 [==============================] - 0s 3ms/step - loss: 15.8432 - mae: 15.8432\n",
      "Epoch 476/500\n",
      "2/2 [==============================] - 0s 3ms/step - loss: 13.4694 - mae: 13.4694\n",
      "Epoch 477/500\n",
      "2/2 [==============================] - 0s 2ms/step - loss: 29.8264 - mae: 29.8264\n",
      "Epoch 478/500\n",
      "2/2 [==============================] - 0s 3ms/step - loss: 4.3228 - mae: 4.3228\n",
      "Epoch 479/500\n",
      "2/2 [==============================] - 0s 4ms/step - loss: 13.6162 - mae: 13.6162\n",
      "Epoch 480/500\n",
      "2/2 [==============================] - 0s 3ms/step - loss: 20.2838 - mae: 20.2838\n",
      "Epoch 481/500\n",
      "2/2 [==============================] - 0s 3ms/step - loss: 24.4408 - mae: 24.4408\n",
      "Epoch 482/500\n",
      "2/2 [==============================] - 0s 3ms/step - loss: 13.2396 - mae: 13.2396\n",
      "Epoch 483/500\n",
      "2/2 [==============================] - 0s 3ms/step - loss: 8.8273 - mae: 8.8273\n",
      "Epoch 484/500\n",
      "2/2 [==============================] - 0s 3ms/step - loss: 27.9628 - mae: 27.9628\n",
      "Epoch 485/500\n",
      "2/2 [==============================] - 0s 2ms/step - loss: 8.3022 - mae: 8.3022\n",
      "Epoch 486/500\n",
      "2/2 [==============================] - 0s 3ms/step - loss: 7.3919 - mae: 7.3919\n",
      "Epoch 487/500\n",
      "2/2 [==============================] - 0s 3ms/step - loss: 13.0182 - mae: 13.0182\n",
      "Epoch 488/500\n",
      "2/2 [==============================] - 0s 3ms/step - loss: 28.9836 - mae: 28.9836\n",
      "Epoch 489/500\n",
      "2/2 [==============================] - 0s 3ms/step - loss: 8.8813 - mae: 8.8813\n",
      "Epoch 490/500\n",
      "2/2 [==============================] - 0s 4ms/step - loss: 11.8407 - mae: 11.8407\n",
      "Epoch 491/500\n",
      "2/2 [==============================] - 0s 3ms/step - loss: 22.3943 - mae: 22.3943\n",
      "Epoch 492/500\n",
      "2/2 [==============================] - 0s 3ms/step - loss: 23.4558 - mae: 23.4558\n",
      "Epoch 493/500\n",
      "2/2 [==============================] - 0s 3ms/step - loss: 5.6134 - mae: 5.6134\n",
      "Epoch 494/500\n",
      "2/2 [==============================] - 0s 5ms/step - loss: 15.4721 - mae: 15.4721\n",
      "Epoch 495/500\n",
      "2/2 [==============================] - 0s 3ms/step - loss: 13.4889 - mae: 13.4889\n",
      "Epoch 496/500\n",
      "2/2 [==============================] - 0s 4ms/step - loss: 12.7508 - mae: 12.7508\n",
      "Epoch 497/500\n",
      "2/2 [==============================] - 0s 4ms/step - loss: 17.7589 - mae: 17.7589\n",
      "Epoch 498/500\n",
      "2/2 [==============================] - 0s 5ms/step - loss: 23.2490 - mae: 23.2490\n",
      "Epoch 499/500\n",
      "2/2 [==============================] - 0s 6ms/step - loss: 9.0211 - mae: 9.0211\n",
      "Epoch 500/500\n",
      "2/2 [==============================] - 0s 4ms/step - loss: 14.3951 - mae: 14.3951\n"
     ]
    },
    {
     "data": {
      "text/plain": [
       "<keras.src.callbacks.History at 0x1ed22c1e3e0>"
      ]
     },
     "execution_count": 86,
     "metadata": {},
     "output_type": "execute_result"
    }
   ],
   "source": [
    "# set seed\n",
    "tf.random.set_seed(42)\n",
    "\n",
    "# 1. create model\n",
    "model_3 = tf.keras.Sequential([\n",
    "    tf.keras.layers.Dense(10, input_shape=[1]),\n",
    "    tf.keras.layers.Dense(1)\n",
    "])\n",
    "\n",
    "# 2. compile model\n",
    "model_3.compile(loss=tf.losses.mae,\n",
    "                optimizer=tf.optimizers.SGD(),\n",
    "                metrics=[\"mae\"])\n",
    "\n",
    "# 3. fit the model\n",
    "model_3.fit(X_train, y_train, epochs=500)"
   ]
  },
  {
   "cell_type": "code",
   "execution_count": 87,
   "metadata": {},
   "outputs": [
    {
     "name": "stdout",
     "output_type": "stream",
     "text": [
      "1/1 [==============================] - 0s 54ms/step\n"
     ]
    },
    {
     "data": {
      "image/png": "[encoded data removed]",
      "text/plain": [
       "<Figure size 1000x700 with 1 Axes>"
      ]
     },
     "metadata": {},
     "output_type": "display_data"
    }
   ],
   "source": [
    "# make and plot our prediction\n",
    "y_preds_3 = model_3.predict(X_test)\n",
    "plot_predictions(predictions=y_preds_3)"
   ]
  },
  {
   "attachments": {},
   "cell_type": "markdown",
   "metadata": {},
   "source": [
    "**overfitting**= our model trained our data too well"
   ]
  },
  {
   "cell_type": "code",
   "execution_count": 88,
   "metadata": {},
   "outputs": [
    {
     "data": {
      "text/plain": [
       "(<tf.Tensor: shape=(), dtype=float32, numpy=67.94806>,\n",
       " <tf.Tensor: shape=(), dtype=float32, numpy=4701.428>)"
      ]
     },
     "execution_count": 88,
     "metadata": {},
     "output_type": "execute_result"
    }
   ],
   "source": [
    "# calculate model_3 evaluation metrics\n",
    "mae_3 = mae(y_test, y_preds_3)\n",
    "mse_3 = mse(y_test, y_preds_3)\n",
    "mae_3, mse_3"
   ]
  },
  {
   "attachments": {},
   "cell_type": "markdown",
   "metadata": {},
   "source": [
    "## Comparing the results of our experiments\n",
    "\n",
    "We've run a few experiments, let's compare the results."
   ]
  },
  {
   "cell_type": "code",
   "execution_count": 89,
   "metadata": {},
   "outputs": [
    {
     "data": {
      "text/html": [
       "<div>\n",
       "<style scoped>\n",
       "    .dataframe tbody tr th:only-of-type {\n",
       "        vertical-align: middle;\n",
       "    }\n",
       "\n",
       "    .dataframe tbody tr th {\n",
       "        vertical-align: top;\n",
       "    }\n",
       "\n",
       "    .dataframe thead th {\n",
       "        text-align: right;\n",
       "    }\n",
       "</style>\n",
       "<table border=\"1\" class=\"dataframe\">\n",
       "  <thead>\n",
       "    <tr style=\"text-align: right;\">\n",
       "      <th></th>\n",
       "      <th>model</th>\n",
       "      <th>mae</th>\n",
       "      <th>mse</th>\n",
       "    </tr>\n",
       "  </thead>\n",
       "  <tbody>\n",
       "    <tr>\n",
       "      <th>0</th>\n",
       "      <td>model_1</td>\n",
       "      <td>21.250381</td>\n",
       "      <td>455.001892</td>\n",
       "    </tr>\n",
       "    <tr>\n",
       "      <th>1</th>\n",
       "      <td>model_2</td>\n",
       "      <td>29.481541</td>\n",
       "      <td>899.931274</td>\n",
       "    </tr>\n",
       "    <tr>\n",
       "      <th>2</th>\n",
       "      <td>model_3</td>\n",
       "      <td>67.948059</td>\n",
       "      <td>4701.428223</td>\n",
       "    </tr>\n",
       "  </tbody>\n",
       "</table>\n",
       "</div>"
      ],
      "text/plain": [
       "     model        mae          mse\n",
       "0  model_1  21.250381   455.001892\n",
       "1  model_2  29.481541   899.931274\n",
       "2  model_3  67.948059  4701.428223"
      ]
     },
     "execution_count": 89,
     "metadata": {},
     "output_type": "execute_result"
    }
   ],
   "source": [
    "# Let's compare our model's results using a pandas DataFrame\n",
    "import pandas as pd\n",
    "model_results = [[\"model_1\", mae_1.numpy(), mse_1.numpy()],\n",
    "                  [\"model_2\", mae_2.numpy(), mse_2.numpy()],\n",
    "                  [\"model_3\", mae_3.numpy(), mse_3.numpy()]]\n",
    "all_results = pd.DataFrame(model_results, columns=[\"model\", \"mae\",\"mse\"])\n",
    "all_results"
   ]
  },
  {
   "attachments": {},
   "cell_type": "markdown",
   "metadata": {},
   "source": [
    "Looks like model_2 performed the best..."
   ]
  },
  {
   "cell_type": "code",
   "execution_count": 90,
   "metadata": {},
   "outputs": [
    {
     "name": "stdout",
     "output_type": "stream",
     "text": [
      "Model: \"sequential_9\"\n",
      "_________________________________________________________________\n",
      " Layer (type)                Output Shape              Param #   \n",
      "=================================================================\n",
      " dense_13 (Dense)            (None, 10)                20        \n",
      "                                                                 \n",
      " dense_14 (Dense)            (None, 1)                 11        \n",
      "                                                                 \n",
      "=================================================================\n",
      "Total params: 31 (124.00 Byte)\n",
      "Trainable params: 31 (124.00 Byte)\n",
      "Non-trainable params: 0 (0.00 Byte)\n",
      "_________________________________________________________________\n"
     ]
    }
   ],
   "source": [
    "model_2.summary()"
   ]
  },
  {
   "attachments": {},
   "cell_type": "markdown",
   "metadata": {},
   "source": [
    "> 🔑 **None:** One of your main goals should be to minimize the time between your experiments. The more experiments you do, the more things you'll figure out which don't work and in turn, get closer to figuring out what does work, Remember the machine learning practioner's motto: \"experiment, experiment, experiment\"."
   ]
  },
  {
   "attachments": {},
   "cell_type": "markdown",
   "metadata": {},
   "source": [
    "## Tracking your experiments\n",
    "\n",
    "One really good habit in machine learning modelling is to track the results of your experiments.\n",
    "\n",
    "And when doing so, it can be tedious if you're running lots of experiments.\n",
    "\n",
    "Luckily, there are tools to help us!\n",
    "\n",
    "📖 **Ressource:** As you build more models, you'll want to look into using:\n",
    "\n",
    "* **TensorBoard** - a component of the TensorFlow library to help track modelling experiments (we'll see this one later). https://www.tensorflow.org/tensorboard\n",
    "\n",
    "\n",
    "* **Weights & Biases** - a tool for tracking all kinds of machine learning experiments (plugs straight into TensorBoard). https://wandb.ai/site\n"
   ]
  },
  {
   "attachments": {},
   "cell_type": "markdown",
   "metadata": {},
   "source": [
    "## Saving our models\n",
    "\n",
    "Saving our models allow us to use the outside of Google Colab ( or wherever they were trained) such as in web application or a mobile app.\n",
    "\n",
    "There are two main formats we can save our model's too:\n",
    "\n",
    "1. The SavedModel format\n",
    "2. The HDF5 format\n",
    "3. New high-level **.keras** format\n",
    "\n",
    "https://www.tensorflow.org/tutorials/keras/save_and_load"
   ]
  },
  {
   "cell_type": "code",
   "execution_count": 91,
   "metadata": {},
   "outputs": [
    {
     "name": "stderr",
     "output_type": "stream",
     "text": [
      "A subdirectory or file saved_models already exists.\n"
     ]
    }
   ],
   "source": [
    "!mkdir saved_models"
   ]
  },
  {
   "cell_type": "code",
   "execution_count": 92,
   "metadata": {},
   "outputs": [
    {
     "name": "stdout",
     "output_type": "stream",
     "text": [
      "INFO:tensorflow:Assets written to: ./saved_models/best_model_SavedModel_format\\assets\n"
     ]
    },
    {
     "name": "stderr",
     "output_type": "stream",
     "text": [
      "INFO:tensorflow:Assets written to: ./saved_models/best_model_SavedModel_format\\assets\n"
     ]
    }
   ],
   "source": [
    "# Save model using the SavedModel format\n",
    "model_2.save(\"./saved_models/best_model_SavedModel_format\")"
   ]
  },
  {
   "cell_type": "code",
   "execution_count": 93,
   "metadata": {},
   "outputs": [
    {
     "name": "stderr",
     "output_type": "stream",
     "text": [
      "c:\\ProgramData\\miniconda3\\envs\\tf_course\\lib\\site-packages\\keras\\src\\engine\\training.py:3000: UserWarning: You are saving your model as an HDF5 file via `model.save()`. This file format is considered legacy. We recommend using instead the native Keras format, e.g. `model.save('my_model.keras')`.\n",
      "  saving_api.save_model(\n"
     ]
    }
   ],
   "source": [
    "# Save the model using the HDF5 format\n",
    "model_2.save(\"./saved_models/best_model_HDF5_format.h5\")"
   ]
  },
  {
   "cell_type": "code",
   "execution_count": 94,
   "metadata": {},
   "outputs": [],
   "source": [
    "# Save the model using the KERAS format\n",
    "model_2.save(\"./saved_models/best_model_KERAS_format.keras\")"
   ]
  },
  {
   "attachments": {},
   "cell_type": "markdown",
   "metadata": {},
   "source": [
    "🔑 if you stay in tensorflow: better to keep saved model,\n",
    "\n",
    "outside: hdf5"
   ]
  },
  {
   "attachments": {},
   "cell_type": "markdown",
   "metadata": {},
   "source": [
    "## Loading in a saved model"
   ]
  },
  {
   "cell_type": "code",
   "execution_count": 95,
   "metadata": {},
   "outputs": [
    {
     "name": "stdout",
     "output_type": "stream",
     "text": [
      "Model: \"sequential_9\"\n",
      "_________________________________________________________________\n",
      " Layer (type)                Output Shape              Param #   \n",
      "=================================================================\n",
      " dense_13 (Dense)            (None, 10)                20        \n",
      "                                                                 \n",
      " dense_14 (Dense)            (None, 1)                 11        \n",
      "                                                                 \n",
      "=================================================================\n",
      "Total params: 31 (124.00 Byte)\n",
      "Trainable params: 31 (124.00 Byte)\n",
      "Non-trainable params: 0 (0.00 Byte)\n",
      "_________________________________________________________________\n"
     ]
    }
   ],
   "source": [
    "# Load in the SavedModel format model\n",
    "loaded_SavedModel_format = tf.keras.models.load_model(\"./saved_models/best_model_SavedModel_format\")\n",
    "loaded_SavedModel_format.summary()"
   ]
  },
  {
   "cell_type": "code",
   "execution_count": 96,
   "metadata": {},
   "outputs": [
    {
     "name": "stdout",
     "output_type": "stream",
     "text": [
      "Model: \"sequential_9\"\n",
      "_________________________________________________________________\n",
      " Layer (type)                Output Shape              Param #   \n",
      "=================================================================\n",
      " dense_13 (Dense)            (None, 10)                20        \n",
      "                                                                 \n",
      " dense_14 (Dense)            (None, 1)                 11        \n",
      "                                                                 \n",
      "=================================================================\n",
      "Total params: 31 (124.00 Byte)\n",
      "Trainable params: 31 (124.00 Byte)\n",
      "Non-trainable params: 0 (0.00 Byte)\n",
      "_________________________________________________________________\n"
     ]
    }
   ],
   "source": [
    "model_2.summary()"
   ]
  },
  {
   "cell_type": "code",
   "execution_count": 97,
   "metadata": {},
   "outputs": [
    {
     "name": "stdout",
     "output_type": "stream",
     "text": [
      "1/1 [==============================] - 0s 29ms/step\n"
     ]
    },
    {
     "name": "stdout",
     "output_type": "stream",
     "text": [
      "1/1 [==============================] - 0s 47ms/step\n"
     ]
    },
    {
     "data": {
      "text/plain": [
       "array([[ True],\n",
       "       [ True],\n",
       "       [ True],\n",
       "       [ True],\n",
       "       [ True],\n",
       "       [ True],\n",
       "       [ True],\n",
       "       [ True],\n",
       "       [ True],\n",
       "       [ True]])"
      ]
     },
     "execution_count": 97,
     "metadata": {},
     "output_type": "execute_result"
    }
   ],
   "source": [
    "# Compare model_2 predictions with SavedModel format model predictions\n",
    "model_2_preds = model_2.predict(X_test)\n",
    "loaded_SavedModel_format_preds = loaded_SavedModel_format.predict(X_test)\n",
    "model_2_preds == loaded_SavedModel_format_preds"
   ]
  },
  {
   "cell_type": "code",
   "execution_count": 98,
   "metadata": {},
   "outputs": [
    {
     "name": "stdout",
     "output_type": "stream",
     "text": [
      "Model: \"sequential_9\"\n",
      "_________________________________________________________________\n",
      " Layer (type)                Output Shape              Param #   \n",
      "=================================================================\n",
      " dense_13 (Dense)            (None, 10)                20        \n",
      "                                                                 \n",
      " dense_14 (Dense)            (None, 1)                 11        \n",
      "                                                                 \n",
      "=================================================================\n",
      "Total params: 31 (124.00 Byte)\n",
      "Trainable params: 31 (124.00 Byte)\n",
      "Non-trainable params: 0 (0.00 Byte)\n",
      "_________________________________________________________________\n"
     ]
    }
   ],
   "source": [
    "# Load in a model using the .h5 format\n",
    "loaded_h5_model = tf.keras.models.load_model(\"saved_models/best_model_HDF5_format.h5\")\n",
    "loaded_h5_model.summary()"
   ]
  },
  {
   "cell_type": "code",
   "execution_count": 99,
   "metadata": {},
   "outputs": [
    {
     "name": "stdout",
     "output_type": "stream",
     "text": [
      "1/1 [==============================] - 0s 17ms/step\n"
     ]
    },
    {
     "name": "stdout",
     "output_type": "stream",
     "text": [
      "1/1 [==============================] - 0s 42ms/step\n"
     ]
    },
    {
     "data": {
      "text/plain": [
       "array([[ True],\n",
       "       [ True],\n",
       "       [ True],\n",
       "       [ True],\n",
       "       [ True],\n",
       "       [ True],\n",
       "       [ True],\n",
       "       [ True],\n",
       "       [ True],\n",
       "       [ True]])"
      ]
     },
     "execution_count": 99,
     "metadata": {},
     "output_type": "execute_result"
    }
   ],
   "source": [
    "# Check to see if loaded .h5 model predictions match model_2\n",
    "model_2_preds = model_2.predict(X_test)\n",
    "loaded_h5_model_preds = loaded_h5_model.predict(X_test)\n",
    "model_2_preds == loaded_h5_model_preds"
   ]
  },
  {
   "attachments": {},
   "cell_type": "markdown",
   "metadata": {},
   "source": [
    "## Download a model (or any other file) from Google Colab\n",
    "\n",
    "If you want to download  your files from Google Colab:\n",
    "\n",
    "1. you can go to the \"files\" tab and right click on the file you're after and click \"download\".\n",
    "2. Use code (see the cell below).\n",
    "3. Save it to Google Drive by connecting Google Drive and copying it there (see 2nd code cell below)."
   ]
  },
  {
   "cell_type": "code",
   "execution_count": null,
   "metadata": {},
   "outputs": [],
   "source": [
    "# Download a file from Google Colab\n",
    "from google.colab import files\n",
    "files.download(\"/content/best_model_HDF5_format.h5\")"
   ]
  },
  {
   "cell_type": "code",
   "execution_count": null,
   "metadata": {},
   "outputs": [],
   "source": [
    "# Save a file from Google Colab to Google Drive (requires mounting Google Drive)\n",
    "!cp /content/best_model_HDF5_format.h5 /content/drive/MyDrive/tensorflow_course"
   ]
  },
  {
   "cell_type": "code",
   "execution_count": null,
   "metadata": {},
   "outputs": [],
   "source": [
    "!ls /concent/drive/MyDrive/tensorflow_course"
   ]
  },
  {
   "attachments": {},
   "cell_type": "markdown",
   "metadata": {},
   "source": [
    "## A larger example"
   ]
  },
  {
   "cell_type": "code",
   "execution_count": 1,
   "metadata": {},
   "outputs": [],
   "source": [
    "# Import required libraires\n",
    "import tensorflow as tf\n",
    "import pandas as pd\n",
    "import matplotlib.pyplot as plt"
   ]
  },
  {
   "cell_type": "code",
   "execution_count": 2,
   "metadata": {},
   "outputs": [
    {
     "data": {
      "text/html": [
       "<div>\n",
       "<style scoped>\n",
       "    .dataframe tbody tr th:only-of-type {\n",
       "        vertical-align: middle;\n",
       "    }\n",
       "\n",
       "    .dataframe tbody tr th {\n",
       "        vertical-align: top;\n",
       "    }\n",
       "\n",
       "    .dataframe thead th {\n",
       "        text-align: right;\n",
       "    }\n",
       "</style>\n",
       "<table border=\"1\" class=\"dataframe\">\n",
       "  <thead>\n",
       "    <tr style=\"text-align: right;\">\n",
       "      <th></th>\n",
       "      <th>age</th>\n",
       "      <th>sex</th>\n",
       "      <th>bmi</th>\n",
       "      <th>children</th>\n",
       "      <th>smoker</th>\n",
       "      <th>region</th>\n",
       "      <th>charges</th>\n",
       "    </tr>\n",
       "  </thead>\n",
       "  <tbody>\n",
       "    <tr>\n",
       "      <th>0</th>\n",
       "      <td>19</td>\n",
       "      <td>female</td>\n",
       "      <td>27.900</td>\n",
       "      <td>0</td>\n",
       "      <td>yes</td>\n",
       "      <td>southwest</td>\n",
       "      <td>16884.92400</td>\n",
       "    </tr>\n",
       "    <tr>\n",
       "      <th>1</th>\n",
       "      <td>18</td>\n",
       "      <td>male</td>\n",
       "      <td>33.770</td>\n",
       "      <td>1</td>\n",
       "      <td>no</td>\n",
       "      <td>southeast</td>\n",
       "      <td>1725.55230</td>\n",
       "    </tr>\n",
       "    <tr>\n",
       "      <th>2</th>\n",
       "      <td>28</td>\n",
       "      <td>male</td>\n",
       "      <td>33.000</td>\n",
       "      <td>3</td>\n",
       "      <td>no</td>\n",
       "      <td>southeast</td>\n",
       "      <td>4449.46200</td>\n",
       "    </tr>\n",
       "    <tr>\n",
       "      <th>3</th>\n",
       "      <td>33</td>\n",
       "      <td>male</td>\n",
       "      <td>22.705</td>\n",
       "      <td>0</td>\n",
       "      <td>no</td>\n",
       "      <td>northwest</td>\n",
       "      <td>21984.47061</td>\n",
       "    </tr>\n",
       "    <tr>\n",
       "      <th>4</th>\n",
       "      <td>32</td>\n",
       "      <td>male</td>\n",
       "      <td>28.880</td>\n",
       "      <td>0</td>\n",
       "      <td>no</td>\n",
       "      <td>northwest</td>\n",
       "      <td>3866.85520</td>\n",
       "    </tr>\n",
       "    <tr>\n",
       "      <th>...</th>\n",
       "      <td>...</td>\n",
       "      <td>...</td>\n",
       "      <td>...</td>\n",
       "      <td>...</td>\n",
       "      <td>...</td>\n",
       "      <td>...</td>\n",
       "      <td>...</td>\n",
       "    </tr>\n",
       "    <tr>\n",
       "      <th>1333</th>\n",
       "      <td>50</td>\n",
       "      <td>male</td>\n",
       "      <td>30.970</td>\n",
       "      <td>3</td>\n",
       "      <td>no</td>\n",
       "      <td>northwest</td>\n",
       "      <td>10600.54830</td>\n",
       "    </tr>\n",
       "    <tr>\n",
       "      <th>1334</th>\n",
       "      <td>18</td>\n",
       "      <td>female</td>\n",
       "      <td>31.920</td>\n",
       "      <td>0</td>\n",
       "      <td>no</td>\n",
       "      <td>northeast</td>\n",
       "      <td>2205.98080</td>\n",
       "    </tr>\n",
       "    <tr>\n",
       "      <th>1335</th>\n",
       "      <td>18</td>\n",
       "      <td>female</td>\n",
       "      <td>36.850</td>\n",
       "      <td>0</td>\n",
       "      <td>no</td>\n",
       "      <td>southeast</td>\n",
       "      <td>1629.83350</td>\n",
       "    </tr>\n",
       "    <tr>\n",
       "      <th>1336</th>\n",
       "      <td>21</td>\n",
       "      <td>female</td>\n",
       "      <td>25.800</td>\n",
       "      <td>0</td>\n",
       "      <td>no</td>\n",
       "      <td>southwest</td>\n",
       "      <td>2007.94500</td>\n",
       "    </tr>\n",
       "    <tr>\n",
       "      <th>1337</th>\n",
       "      <td>61</td>\n",
       "      <td>female</td>\n",
       "      <td>29.070</td>\n",
       "      <td>0</td>\n",
       "      <td>yes</td>\n",
       "      <td>northwest</td>\n",
       "      <td>29141.36030</td>\n",
       "    </tr>\n",
       "  </tbody>\n",
       "</table>\n",
       "<p>1338 rows × 7 columns</p>\n",
       "</div>"
      ],
      "text/plain": [
       "      age     sex     bmi  children smoker     region      charges\n",
       "0      19  female  27.900         0    yes  southwest  16884.92400\n",
       "1      18    male  33.770         1     no  southeast   1725.55230\n",
       "2      28    male  33.000         3     no  southeast   4449.46200\n",
       "3      33    male  22.705         0     no  northwest  21984.47061\n",
       "4      32    male  28.880         0     no  northwest   3866.85520\n",
       "...   ...     ...     ...       ...    ...        ...          ...\n",
       "1333   50    male  30.970         3     no  northwest  10600.54830\n",
       "1334   18  female  31.920         0     no  northeast   2205.98080\n",
       "1335   18  female  36.850         0     no  southeast   1629.83350\n",
       "1336   21  female  25.800         0     no  southwest   2007.94500\n",
       "1337   61  female  29.070         0    yes  northwest  29141.36030\n",
       "\n",
       "[1338 rows x 7 columns]"
      ]
     },
     "execution_count": 2,
     "metadata": {},
     "output_type": "execute_result"
    }
   ],
   "source": [
    "# Read in the insurance dataset\n",
    "# https://github.com/stedy/Machine-Learning-with-R-datasets\n",
    "insurance = pd.read_csv(\"https://raw.githubusercontent.com/stedy/Machine-Learning-with-R-datasets/master/insurance.csv\")\n",
    "insurance"
   ]
  },
  {
   "cell_type": "code",
   "execution_count": 3,
   "metadata": {},
   "outputs": [
    {
     "data": {
      "text/html": [
       "<div>\n",
       "<style scoped>\n",
       "    .dataframe tbody tr th:only-of-type {\n",
       "        vertical-align: middle;\n",
       "    }\n",
       "\n",
       "    .dataframe tbody tr th {\n",
       "        vertical-align: top;\n",
       "    }\n",
       "\n",
       "    .dataframe thead th {\n",
       "        text-align: right;\n",
       "    }\n",
       "</style>\n",
       "<table border=\"1\" class=\"dataframe\">\n",
       "  <thead>\n",
       "    <tr style=\"text-align: right;\">\n",
       "      <th></th>\n",
       "      <th>age</th>\n",
       "      <th>bmi</th>\n",
       "      <th>children</th>\n",
       "      <th>charges</th>\n",
       "      <th>sex_female</th>\n",
       "      <th>sex_male</th>\n",
       "      <th>smoker_no</th>\n",
       "      <th>smoker_yes</th>\n",
       "      <th>region_northeast</th>\n",
       "      <th>region_northwest</th>\n",
       "      <th>region_southeast</th>\n",
       "      <th>region_southwest</th>\n",
       "    </tr>\n",
       "  </thead>\n",
       "  <tbody>\n",
       "    <tr>\n",
       "      <th>0</th>\n",
       "      <td>19</td>\n",
       "      <td>27.900</td>\n",
       "      <td>0</td>\n",
       "      <td>16884.92400</td>\n",
       "      <td>1</td>\n",
       "      <td>0</td>\n",
       "      <td>0</td>\n",
       "      <td>1</td>\n",
       "      <td>0</td>\n",
       "      <td>0</td>\n",
       "      <td>0</td>\n",
       "      <td>1</td>\n",
       "    </tr>\n",
       "    <tr>\n",
       "      <th>1</th>\n",
       "      <td>18</td>\n",
       "      <td>33.770</td>\n",
       "      <td>1</td>\n",
       "      <td>1725.55230</td>\n",
       "      <td>0</td>\n",
       "      <td>1</td>\n",
       "      <td>1</td>\n",
       "      <td>0</td>\n",
       "      <td>0</td>\n",
       "      <td>0</td>\n",
       "      <td>1</td>\n",
       "      <td>0</td>\n",
       "    </tr>\n",
       "    <tr>\n",
       "      <th>2</th>\n",
       "      <td>28</td>\n",
       "      <td>33.000</td>\n",
       "      <td>3</td>\n",
       "      <td>4449.46200</td>\n",
       "      <td>0</td>\n",
       "      <td>1</td>\n",
       "      <td>1</td>\n",
       "      <td>0</td>\n",
       "      <td>0</td>\n",
       "      <td>0</td>\n",
       "      <td>1</td>\n",
       "      <td>0</td>\n",
       "    </tr>\n",
       "    <tr>\n",
       "      <th>3</th>\n",
       "      <td>33</td>\n",
       "      <td>22.705</td>\n",
       "      <td>0</td>\n",
       "      <td>21984.47061</td>\n",
       "      <td>0</td>\n",
       "      <td>1</td>\n",
       "      <td>1</td>\n",
       "      <td>0</td>\n",
       "      <td>0</td>\n",
       "      <td>1</td>\n",
       "      <td>0</td>\n",
       "      <td>0</td>\n",
       "    </tr>\n",
       "    <tr>\n",
       "      <th>4</th>\n",
       "      <td>32</td>\n",
       "      <td>28.880</td>\n",
       "      <td>0</td>\n",
       "      <td>3866.85520</td>\n",
       "      <td>0</td>\n",
       "      <td>1</td>\n",
       "      <td>1</td>\n",
       "      <td>0</td>\n",
       "      <td>0</td>\n",
       "      <td>1</td>\n",
       "      <td>0</td>\n",
       "      <td>0</td>\n",
       "    </tr>\n",
       "  </tbody>\n",
       "</table>\n",
       "</div>"
      ],
      "text/plain": [
       "   age     bmi  children      charges  sex_female  sex_male  smoker_no  \\\n",
       "0   19  27.900         0  16884.92400           1         0          0   \n",
       "1   18  33.770         1   1725.55230           0         1          1   \n",
       "2   28  33.000         3   4449.46200           0         1          1   \n",
       "3   33  22.705         0  21984.47061           0         1          1   \n",
       "4   32  28.880         0   3866.85520           0         1          1   \n",
       "\n",
       "   smoker_yes  region_northeast  region_northwest  region_southeast  \\\n",
       "0           1                 0                 0                 0   \n",
       "1           0                 0                 0                 1   \n",
       "2           0                 0                 0                 1   \n",
       "3           0                 0                 1                 0   \n",
       "4           0                 0                 1                 0   \n",
       "\n",
       "   region_southwest  \n",
       "0                 1  \n",
       "1                 0  \n",
       "2                 0  \n",
       "3                 0  \n",
       "4                 0  "
      ]
     },
     "execution_count": 3,
     "metadata": {},
     "output_type": "execute_result"
    }
   ],
   "source": [
    "# Let's try one-hot encode our DataFrame so it's all numbers\n",
    "insurance_one_hot = pd.get_dummies(insurance, dtype=int)\n",
    "# convert bool to int\n",
    "#insurance_one_hot = insurance_one_hot.replace({True: 1, False:0})\n",
    "\n",
    "insurance_one_hot.head()"
   ]
  },
  {
   "cell_type": "code",
   "execution_count": 4,
   "metadata": {},
   "outputs": [
    {
     "data": {
      "text/plain": [
       "age                   int64\n",
       "bmi                 float64\n",
       "children              int64\n",
       "charges             float64\n",
       "sex_female            int32\n",
       "sex_male              int32\n",
       "smoker_no             int32\n",
       "smoker_yes            int32\n",
       "region_northeast      int32\n",
       "region_northwest      int32\n",
       "region_southeast      int32\n",
       "region_southwest      int32\n",
       "dtype: object"
      ]
     },
     "execution_count": 4,
     "metadata": {},
     "output_type": "execute_result"
    }
   ],
   "source": [
    "insurance_one_hot.dtypes"
   ]
  },
  {
   "attachments": {},
   "cell_type": "markdown",
   "metadata": {},
   "source": [
    "(you can split cells in google golab with ctrl + shift + -)"
   ]
  },
  {
   "cell_type": "code",
   "execution_count": 5,
   "metadata": {},
   "outputs": [],
   "source": [
    "# Create X & y values (features and labels)\n",
    "X = insurance_one_hot.drop(\"charges\", axis=1)\n",
    "y = insurance_one_hot[\"charges\"]"
   ]
  },
  {
   "cell_type": "code",
   "execution_count": 6,
   "metadata": {},
   "outputs": [
    {
     "data": {
      "text/html": [
       "<div>\n",
       "<style scoped>\n",
       "    .dataframe tbody tr th:only-of-type {\n",
       "        vertical-align: middle;\n",
       "    }\n",
       "\n",
       "    .dataframe tbody tr th {\n",
       "        vertical-align: top;\n",
       "    }\n",
       "\n",
       "    .dataframe thead th {\n",
       "        text-align: right;\n",
       "    }\n",
       "</style>\n",
       "<table border=\"1\" class=\"dataframe\">\n",
       "  <thead>\n",
       "    <tr style=\"text-align: right;\">\n",
       "      <th></th>\n",
       "      <th>age</th>\n",
       "      <th>bmi</th>\n",
       "      <th>children</th>\n",
       "      <th>sex_female</th>\n",
       "      <th>sex_male</th>\n",
       "      <th>smoker_no</th>\n",
       "      <th>smoker_yes</th>\n",
       "      <th>region_northeast</th>\n",
       "      <th>region_northwest</th>\n",
       "      <th>region_southeast</th>\n",
       "      <th>region_southwest</th>\n",
       "    </tr>\n",
       "  </thead>\n",
       "  <tbody>\n",
       "    <tr>\n",
       "      <th>0</th>\n",
       "      <td>19</td>\n",
       "      <td>27.900</td>\n",
       "      <td>0</td>\n",
       "      <td>1</td>\n",
       "      <td>0</td>\n",
       "      <td>0</td>\n",
       "      <td>1</td>\n",
       "      <td>0</td>\n",
       "      <td>0</td>\n",
       "      <td>0</td>\n",
       "      <td>1</td>\n",
       "    </tr>\n",
       "    <tr>\n",
       "      <th>1</th>\n",
       "      <td>18</td>\n",
       "      <td>33.770</td>\n",
       "      <td>1</td>\n",
       "      <td>0</td>\n",
       "      <td>1</td>\n",
       "      <td>1</td>\n",
       "      <td>0</td>\n",
       "      <td>0</td>\n",
       "      <td>0</td>\n",
       "      <td>1</td>\n",
       "      <td>0</td>\n",
       "    </tr>\n",
       "    <tr>\n",
       "      <th>2</th>\n",
       "      <td>28</td>\n",
       "      <td>33.000</td>\n",
       "      <td>3</td>\n",
       "      <td>0</td>\n",
       "      <td>1</td>\n",
       "      <td>1</td>\n",
       "      <td>0</td>\n",
       "      <td>0</td>\n",
       "      <td>0</td>\n",
       "      <td>1</td>\n",
       "      <td>0</td>\n",
       "    </tr>\n",
       "    <tr>\n",
       "      <th>3</th>\n",
       "      <td>33</td>\n",
       "      <td>22.705</td>\n",
       "      <td>0</td>\n",
       "      <td>0</td>\n",
       "      <td>1</td>\n",
       "      <td>1</td>\n",
       "      <td>0</td>\n",
       "      <td>0</td>\n",
       "      <td>1</td>\n",
       "      <td>0</td>\n",
       "      <td>0</td>\n",
       "    </tr>\n",
       "    <tr>\n",
       "      <th>4</th>\n",
       "      <td>32</td>\n",
       "      <td>28.880</td>\n",
       "      <td>0</td>\n",
       "      <td>0</td>\n",
       "      <td>1</td>\n",
       "      <td>1</td>\n",
       "      <td>0</td>\n",
       "      <td>0</td>\n",
       "      <td>1</td>\n",
       "      <td>0</td>\n",
       "      <td>0</td>\n",
       "    </tr>\n",
       "  </tbody>\n",
       "</table>\n",
       "</div>"
      ],
      "text/plain": [
       "   age     bmi  children  sex_female  sex_male  smoker_no  smoker_yes  \\\n",
       "0   19  27.900         0           1         0          0           1   \n",
       "1   18  33.770         1           0         1          1           0   \n",
       "2   28  33.000         3           0         1          1           0   \n",
       "3   33  22.705         0           0         1          1           0   \n",
       "4   32  28.880         0           0         1          1           0   \n",
       "\n",
       "   region_northeast  region_northwest  region_southeast  region_southwest  \n",
       "0                 0                 0                 0                 1  \n",
       "1                 0                 0                 1                 0  \n",
       "2                 0                 0                 1                 0  \n",
       "3                 0                 1                 0                 0  \n",
       "4                 0                 1                 0                 0  "
      ]
     },
     "execution_count": 6,
     "metadata": {},
     "output_type": "execute_result"
    }
   ],
   "source": [
    "# View X\n",
    "X.head()"
   ]
  },
  {
   "cell_type": "code",
   "execution_count": 7,
   "metadata": {},
   "outputs": [
    {
     "data": {
      "text/plain": [
       "0    16884.92400\n",
       "1     1725.55230\n",
       "2     4449.46200\n",
       "3    21984.47061\n",
       "4     3866.85520\n",
       "Name: charges, dtype: float64"
      ]
     },
     "execution_count": 7,
     "metadata": {},
     "output_type": "execute_result"
    }
   ],
   "source": [
    "# View y\n",
    "y.head()"
   ]
  },
  {
   "cell_type": "code",
   "execution_count": 8,
   "metadata": {},
   "outputs": [
    {
     "data": {
      "text/plain": [
       "(1338, 1070, 268)"
      ]
     },
     "execution_count": 8,
     "metadata": {},
     "output_type": "execute_result"
    }
   ],
   "source": [
    "# Create training and test sets\n",
    "from sklearn.model_selection import train_test_split\n",
    "X_train, X_test, y_train, y_test = train_test_split(X, y, test_size=0.2, random_state=42)\n",
    "len(X), len(X_train), len(X_test)"
   ]
  },
  {
   "cell_type": "code",
   "execution_count": 9,
   "metadata": {},
   "outputs": [
    {
     "name": "stdout",
     "output_type": "stream",
     "text": [
      "Epoch 1/100\n",
      "34/34 [==============================] - 1s 1ms/step - loss: 8728.9238 - mae: 8728.9238\n",
      "Epoch 2/100\n",
      "34/34 [==============================] - 0s 2ms/step - loss: 7883.4048 - mae: 7883.4048\n",
      "Epoch 3/100\n",
      "34/34 [==============================] - 0s 1ms/step - loss: 7606.9692 - mae: 7606.9692\n",
      "Epoch 4/100\n",
      "34/34 [==============================] - 0s 966us/step - loss: 7677.1304 - mae: 7677.1304\n",
      "Epoch 5/100\n",
      "34/34 [==============================] - 0s 995us/step - loss: 7673.5796 - mae: 7673.5796\n",
      "Epoch 6/100\n",
      "34/34 [==============================] - 0s 1ms/step - loss: 7662.8354 - mae: 7662.8354\n",
      "Epoch 7/100\n",
      "34/34 [==============================] - 0s 1ms/step - loss: 7561.4697 - mae: 7561.4697\n",
      "Epoch 8/100\n",
      "34/34 [==============================] - 0s 1ms/step - loss: 7792.5615 - mae: 7792.5615\n",
      "Epoch 9/100\n",
      "34/34 [==============================] - 0s 2ms/step - loss: 7614.5083 - mae: 7614.5083\n",
      "Epoch 10/100\n",
      "34/34 [==============================] - 0s 1ms/step - loss: 7749.0781 - mae: 7749.0781\n",
      "Epoch 11/100\n",
      "34/34 [==============================] - 0s 969us/step - loss: 7542.4185 - mae: 7542.4185\n",
      "Epoch 12/100\n",
      "34/34 [==============================] - 0s 1ms/step - loss: 7501.9766 - mae: 7501.9766\n",
      "Epoch 13/100\n",
      "34/34 [==============================] - 0s 1ms/step - loss: 7702.9390 - mae: 7702.9390\n",
      "Epoch 14/100\n",
      "34/34 [==============================] - 0s 1ms/step - loss: 7609.8628 - mae: 7609.8628\n",
      "Epoch 15/100\n",
      "34/34 [==============================] - 0s 1000us/step - loss: 7582.8872 - mae: 7582.8872\n",
      "Epoch 16/100\n",
      "34/34 [==============================] - 0s 1ms/step - loss: 7684.0552 - mae: 7684.0552\n",
      "Epoch 17/100\n",
      "34/34 [==============================] - 0s 1ms/step - loss: 7589.1440 - mae: 7589.1440\n",
      "Epoch 18/100\n",
      "34/34 [==============================] - 0s 1ms/step - loss: 7798.8423 - mae: 7798.8423\n",
      "Epoch 19/100\n",
      "34/34 [==============================] - 0s 1ms/step - loss: 7632.4990 - mae: 7632.4990\n",
      "Epoch 20/100\n",
      "34/34 [==============================] - 0s 1ms/step - loss: 7899.1001 - mae: 7899.1001\n",
      "Epoch 21/100\n",
      "34/34 [==============================] - 0s 1ms/step - loss: 7546.4185 - mae: 7546.4185\n",
      "Epoch 22/100\n",
      "34/34 [==============================] - 0s 1ms/step - loss: 7835.8696 - mae: 7835.8696\n",
      "Epoch 23/100\n",
      "34/34 [==============================] - 0s 1ms/step - loss: 7640.8906 - mae: 7640.8906\n",
      "Epoch 24/100\n",
      "34/34 [==============================] - 0s 1ms/step - loss: 7503.8628 - mae: 7503.8628\n",
      "Epoch 25/100\n",
      "34/34 [==============================] - 0s 1ms/step - loss: 7624.6235 - mae: 7624.6235\n",
      "Epoch 26/100\n",
      "34/34 [==============================] - 0s 921us/step - loss: 7614.3433 - mae: 7614.3433\n",
      "Epoch 27/100\n",
      "34/34 [==============================] - 0s 1ms/step - loss: 7685.3164 - mae: 7685.3164\n",
      "Epoch 28/100\n",
      "34/34 [==============================] - 0s 886us/step - loss: 7369.3784 - mae: 7369.3784\n",
      "Epoch 29/100\n",
      "34/34 [==============================] - 0s 907us/step - loss: 7613.0498 - mae: 7613.0498\n",
      "Epoch 30/100\n",
      "34/34 [==============================] - 0s 885us/step - loss: 7467.8472 - mae: 7467.8472\n",
      "Epoch 31/100\n",
      "34/34 [==============================] - 0s 1ms/step - loss: 7693.5913 - mae: 7693.5913\n",
      "Epoch 32/100\n",
      "34/34 [==============================] - 0s 1ms/step - loss: 7600.8120 - mae: 7600.8120\n",
      "Epoch 33/100\n",
      "34/34 [==============================] - 0s 1ms/step - loss: 7481.5205 - mae: 7481.5205\n",
      "Epoch 34/100\n",
      "34/34 [==============================] - 0s 1ms/step - loss: 7475.3657 - mae: 7475.3657\n",
      "Epoch 35/100\n",
      "34/34 [==============================] - 0s 937us/step - loss: 7594.4731 - mae: 7594.4731\n",
      "Epoch 36/100\n",
      "34/34 [==============================] - 0s 1ms/step - loss: 7570.1387 - mae: 7570.1387\n",
      "Epoch 37/100\n",
      "34/34 [==============================] - 0s 1ms/step - loss: 7658.4956 - mae: 7658.4956\n",
      "Epoch 38/100\n",
      "34/34 [==============================] - 0s 1ms/step - loss: 7411.8198 - mae: 7411.8198\n",
      "Epoch 39/100\n",
      "34/34 [==============================] - 0s 1ms/step - loss: 7498.8389 - mae: 7498.8389\n",
      "Epoch 40/100\n",
      "34/34 [==============================] - 0s 1ms/step - loss: 7296.5122 - mae: 7296.5122\n",
      "Epoch 41/100\n",
      "34/34 [==============================] - 0s 975us/step - loss: 7737.6445 - mae: 7737.6445\n",
      "Epoch 42/100\n",
      "34/34 [==============================] - 0s 927us/step - loss: 7562.8452 - mae: 7562.8452\n",
      "Epoch 43/100\n",
      "34/34 [==============================] - 0s 1ms/step - loss: 7630.8643 - mae: 7630.8643\n",
      "Epoch 44/100\n",
      "34/34 [==============================] - 0s 980us/step - loss: 7425.7393 - mae: 7425.7393\n",
      "Epoch 45/100\n",
      "34/34 [==============================] - 0s 983us/step - loss: 7465.0098 - mae: 7465.0098\n",
      "Epoch 46/100\n",
      "34/34 [==============================] - 0s 1ms/step - loss: 7283.9619 - mae: 7283.9619\n",
      "Epoch 47/100\n",
      "34/34 [==============================] - 0s 976us/step - loss: 7475.5635 - mae: 7475.5635\n",
      "Epoch 48/100\n",
      "34/34 [==============================] - 0s 1ms/step - loss: 7500.8672 - mae: 7500.8672\n",
      "Epoch 49/100\n",
      "34/34 [==============================] - 0s 995us/step - loss: 7557.0034 - mae: 7557.0034\n",
      "Epoch 50/100\n",
      "34/34 [==============================] - 0s 1ms/step - loss: 7488.9458 - mae: 7488.9458\n",
      "Epoch 51/100\n",
      "34/34 [==============================] - 0s 1ms/step - loss: 7382.6777 - mae: 7382.6777\n",
      "Epoch 52/100\n",
      "34/34 [==============================] - 0s 1ms/step - loss: 7525.4692 - mae: 7525.4692\n",
      "Epoch 53/100\n",
      "34/34 [==============================] - 0s 1ms/step - loss: 7581.0737 - mae: 7581.0737\n",
      "Epoch 54/100\n",
      "34/34 [==============================] - 0s 1ms/step - loss: 7342.8628 - mae: 7342.8628\n",
      "Epoch 55/100\n",
      "34/34 [==============================] - 0s 1ms/step - loss: 7242.9131 - mae: 7242.9131\n",
      "Epoch 56/100\n",
      "34/34 [==============================] - 0s 1ms/step - loss: 7287.1914 - mae: 7287.1914\n",
      "Epoch 57/100\n",
      "34/34 [==============================] - 0s 947us/step - loss: 7345.0815 - mae: 7345.0815\n",
      "Epoch 58/100\n",
      "34/34 [==============================] - 0s 885us/step - loss: 7604.3638 - mae: 7604.3638\n",
      "Epoch 59/100\n",
      "34/34 [==============================] - 0s 896us/step - loss: 7539.3350 - mae: 7539.3350\n",
      "Epoch 60/100\n",
      "34/34 [==============================] - 0s 1ms/step - loss: 7448.7593 - mae: 7448.7593\n",
      "Epoch 61/100\n",
      "34/34 [==============================] - 0s 1ms/step - loss: 7434.0674 - mae: 7434.0674\n",
      "Epoch 62/100\n",
      "34/34 [==============================] - 0s 1ms/step - loss: 7344.3398 - mae: 7344.3398\n",
      "Epoch 63/100\n",
      "34/34 [==============================] - 0s 1ms/step - loss: 7322.6885 - mae: 7322.6885\n",
      "Epoch 64/100\n",
      "34/34 [==============================] - 0s 980us/step - loss: 7284.2275 - mae: 7284.2275\n",
      "Epoch 65/100\n",
      "34/34 [==============================] - 0s 1ms/step - loss: 7510.6660 - mae: 7510.6660\n",
      "Epoch 66/100\n",
      "34/34 [==============================] - 0s 1ms/step - loss: 7249.6143 - mae: 7249.6143\n",
      "Epoch 67/100\n",
      "34/34 [==============================] - 0s 1ms/step - loss: 7360.1929 - mae: 7360.1929\n",
      "Epoch 68/100\n",
      "34/34 [==============================] - 0s 1ms/step - loss: 7538.6577 - mae: 7538.6577\n",
      "Epoch 69/100\n",
      "34/34 [==============================] - 0s 939us/step - loss: 7488.0381 - mae: 7488.0381\n",
      "Epoch 70/100\n",
      "34/34 [==============================] - 0s 976us/step - loss: 7532.9507 - mae: 7532.9507\n",
      "Epoch 71/100\n",
      "34/34 [==============================] - 0s 943us/step - loss: 7139.6099 - mae: 7139.6099\n",
      "Epoch 72/100\n",
      "34/34 [==============================] - 0s 1ms/step - loss: 7385.8013 - mae: 7385.8013\n",
      "Epoch 73/100\n",
      "34/34 [==============================] - 0s 1ms/step - loss: 7411.7368 - mae: 7411.7368\n",
      "Epoch 74/100\n",
      "34/34 [==============================] - 0s 1ms/step - loss: 7350.7769 - mae: 7350.7769\n",
      "Epoch 75/100\n",
      "34/34 [==============================] - 0s 1ms/step - loss: 7247.6689 - mae: 7247.6689\n",
      "Epoch 76/100\n",
      "34/34 [==============================] - 0s 1ms/step - loss: 7369.5449 - mae: 7369.5449\n",
      "Epoch 77/100\n",
      "34/34 [==============================] - 0s 993us/step - loss: 7441.6265 - mae: 7441.6265\n",
      "Epoch 78/100\n",
      "34/34 [==============================] - 0s 1ms/step - loss: 7202.0215 - mae: 7202.0215\n",
      "Epoch 79/100\n",
      "34/34 [==============================] - 0s 1ms/step - loss: 7630.8276 - mae: 7630.8276\n",
      "Epoch 80/100\n",
      "34/34 [==============================] - 0s 1ms/step - loss: 7220.5444 - mae: 7220.5444\n",
      "Epoch 81/100\n",
      "34/34 [==============================] - 0s 1ms/step - loss: 7290.3125 - mae: 7290.3125\n",
      "Epoch 82/100\n",
      "34/34 [==============================] - 0s 990us/step - loss: 7144.5386 - mae: 7144.5386\n",
      "Epoch 83/100\n",
      "34/34 [==============================] - 0s 1ms/step - loss: 7402.7144 - mae: 7402.7144\n",
      "Epoch 84/100\n",
      "34/34 [==============================] - 0s 1ms/step - loss: 7364.3018 - mae: 7364.3018\n",
      "Epoch 85/100\n",
      "34/34 [==============================] - 0s 1ms/step - loss: 7392.1577 - mae: 7392.1577\n",
      "Epoch 86/100\n",
      "34/34 [==============================] - 0s 1ms/step - loss: 7436.9087 - mae: 7436.9087\n",
      "Epoch 87/100\n",
      "34/34 [==============================] - 0s 1ms/step - loss: 7264.5879 - mae: 7264.5879\n",
      "Epoch 88/100\n",
      "34/34 [==============================] - 0s 1ms/step - loss: 7087.1367 - mae: 7087.1367\n",
      "Epoch 89/100\n",
      "34/34 [==============================] - 0s 1ms/step - loss: 7211.6992 - mae: 7211.6992\n",
      "Epoch 90/100\n",
      "34/34 [==============================] - 0s 1ms/step - loss: 7087.8979 - mae: 7087.8979\n",
      "Epoch 91/100\n",
      "34/34 [==============================] - 0s 1ms/step - loss: 7177.2720 - mae: 7177.2720\n",
      "Epoch 92/100\n",
      "34/34 [==============================] - 0s 1ms/step - loss: 7368.3491 - mae: 7368.3491\n",
      "Epoch 93/100\n",
      "34/34 [==============================] - 0s 1ms/step - loss: 7406.5923 - mae: 7406.5923\n",
      "Epoch 94/100\n",
      "34/34 [==============================] - 0s 1ms/step - loss: 7372.0308 - mae: 7372.0308\n",
      "Epoch 95/100\n",
      "34/34 [==============================] - 0s 1ms/step - loss: 7336.6177 - mae: 7336.6177\n",
      "Epoch 96/100\n",
      "34/34 [==============================] - 0s 965us/step - loss: 7316.7334 - mae: 7316.7334\n",
      "Epoch 97/100\n",
      "34/34 [==============================] - 0s 1ms/step - loss: 7162.3765 - mae: 7162.3765\n",
      "Epoch 98/100\n",
      "34/34 [==============================] - 0s 1ms/step - loss: 7385.4453 - mae: 7385.4453\n",
      "Epoch 99/100\n",
      "34/34 [==============================] - 0s 1ms/step - loss: 7418.5049 - mae: 7418.5049\n",
      "Epoch 100/100\n",
      "34/34 [==============================] - 0s 1ms/step - loss: 7132.0952 - mae: 7132.0952\n"
     ]
    },
    {
     "data": {
      "text/plain": [
       "<keras.src.callbacks.History at 0x185f7584430>"
      ]
     },
     "execution_count": 9,
     "metadata": {},
     "output_type": "execute_result"
    }
   ],
   "source": [
    "# Build a neural network (sort of like model_2 above)\n",
    "tf.random.set_seed(42)\n",
    "\n",
    "# 1. Create a model\n",
    "insurance_model = tf.keras.Sequential([\n",
    "    tf.keras.layers.Dense(10),\n",
    "    tf.keras.layers.Dense(1)\n",
    "])\n",
    "\n",
    "# 2. Compile the model\n",
    "insurance_model.compile(loss=tf.keras.losses.mae,\n",
    "                        optimizer=tf.keras.optimizers.SGD(),\n",
    "                        metrics=[\"mae\"])\n",
    "\n",
    "# 3. Fit the model\n",
    "insurance_model.fit(X_train, y_train, epochs=100)"
   ]
  },
  {
   "cell_type": "code",
   "execution_count": 10,
   "metadata": {},
   "outputs": [
    {
     "name": "stdout",
     "output_type": "stream",
     "text": [
      "9/9 [==============================] - 0s 1ms/step - loss: 7455.6157 - mae: 7455.6157\n"
     ]
    },
    {
     "data": {
      "text/plain": [
       "[7455.61572265625, 7455.61572265625]"
      ]
     },
     "execution_count": 10,
     "metadata": {},
     "output_type": "execute_result"
    }
   ],
   "source": [
    "# Check the results of the insurance model on the test data\n",
    "insurance_model.evaluate(X_test, y_test)"
   ]
  },
  {
   "cell_type": "code",
   "execution_count": 11,
   "metadata": {},
   "outputs": [
    {
     "data": {
      "text/plain": [
       "(9575.4421, 13346.089736364485)"
      ]
     },
     "execution_count": 11,
     "metadata": {},
     "output_type": "execute_result"
    }
   ],
   "source": [
    "y_train.median(), y_train.mean()"
   ]
  },
  {
   "attachments": {},
   "cell_type": "markdown",
   "metadata": {},
   "source": [
    "Right now it looks like our model isn't performing too well... let's try improve it!\n",
    "\n",
    "To (try) improve our model, we'll run 2 experiments:\n",
    "1. Add an extra layer with more hidden units and use Adam optimizer\n",
    "2. Same as above but train for longer (200 epochs)"
   ]
  },
  {
   "cell_type": "code",
   "execution_count": 17,
   "metadata": {},
   "outputs": [
    {
     "name": "stdout",
     "output_type": "stream",
     "text": [
      "Epoch 1/100\n",
      "34/34 [==============================] - 1s 2ms/step - loss: 13272.7236 - mae: 13272.7236\n",
      "Epoch 2/100\n",
      "34/34 [==============================] - 0s 1ms/step - loss: 13055.3662 - mae: 13055.3662\n",
      "Epoch 3/100\n",
      "34/34 [==============================] - 0s 1ms/step - loss: 12627.5762 - mae: 12627.5762\n",
      "Epoch 4/100\n",
      "34/34 [==============================] - 0s 2ms/step - loss: 11830.0107 - mae: 11830.0107\n",
      "Epoch 5/100\n",
      "34/34 [==============================] - 0s 2ms/step - loss: 10576.3301 - mae: 10576.3301\n",
      "Epoch 6/100\n",
      "34/34 [==============================] - 0s 1ms/step - loss: 9102.3525 - mae: 9102.3525\n",
      "Epoch 7/100\n",
      "34/34 [==============================] - 0s 1ms/step - loss: 7906.0327 - mae: 7906.0327\n",
      "Epoch 8/100\n",
      "34/34 [==============================] - 0s 1ms/step - loss: 7481.5493 - mae: 7481.5493\n",
      "Epoch 9/100\n",
      "34/34 [==============================] - 0s 1ms/step - loss: 7423.3589 - mae: 7423.3589\n",
      "Epoch 10/100\n",
      "34/34 [==============================] - 0s 1ms/step - loss: 7403.7334 - mae: 7403.7334\n",
      "Epoch 11/100\n",
      "34/34 [==============================] - 0s 1ms/step - loss: 7384.8618 - mae: 7384.8618\n",
      "Epoch 12/100\n",
      "34/34 [==============================] - 0s 1ms/step - loss: 7362.2197 - mae: 7362.2197\n",
      "Epoch 13/100\n",
      "34/34 [==============================] - 0s 1ms/step - loss: 7341.3281 - mae: 7341.3281\n",
      "Epoch 14/100\n",
      "34/34 [==============================] - 0s 968us/step - loss: 7318.4668 - mae: 7318.4668\n",
      "Epoch 15/100\n",
      "34/34 [==============================] - 0s 1ms/step - loss: 7298.9502 - mae: 7298.9502\n",
      "Epoch 16/100\n",
      "34/34 [==============================] - 0s 1ms/step - loss: 7275.9453 - mae: 7275.9453\n",
      "Epoch 17/100\n",
      "34/34 [==============================] - 0s 1ms/step - loss: 7254.7588 - mae: 7254.7588\n",
      "Epoch 18/100\n",
      "34/34 [==============================] - 0s 1ms/step - loss: 7230.6060 - mae: 7230.6060\n",
      "Epoch 19/100\n",
      "34/34 [==============================] - 0s 961us/step - loss: 7207.2134 - mae: 7207.2134\n",
      "Epoch 20/100\n",
      "34/34 [==============================] - 0s 1ms/step - loss: 7182.5645 - mae: 7182.5645\n",
      "Epoch 21/100\n",
      "34/34 [==============================] - 0s 1ms/step - loss: 7162.7505 - mae: 7162.7505\n",
      "Epoch 22/100\n",
      "34/34 [==============================] - 0s 1ms/step - loss: 7133.4619 - mae: 7133.4619\n",
      "Epoch 23/100\n",
      "34/34 [==============================] - 0s 999us/step - loss: 7107.4443 - mae: 7107.4443\n",
      "Epoch 24/100\n",
      "34/34 [==============================] - 0s 1ms/step - loss: 7080.2148 - mae: 7080.2148\n",
      "Epoch 25/100\n",
      "34/34 [==============================] - 0s 1ms/step - loss: 7060.4629 - mae: 7060.4629\n",
      "Epoch 26/100\n",
      "34/34 [==============================] - 0s 1ms/step - loss: 7026.8354 - mae: 7026.8354\n",
      "Epoch 27/100\n",
      "34/34 [==============================] - 0s 1ms/step - loss: 6996.6646 - mae: 6996.6646\n",
      "Epoch 28/100\n",
      "34/34 [==============================] - 0s 1ms/step - loss: 6966.5308 - mae: 6966.5308\n",
      "Epoch 29/100\n",
      "34/34 [==============================] - 0s 1ms/step - loss: 6936.2710 - mae: 6936.2710\n",
      "Epoch 30/100\n",
      "34/34 [==============================] - 0s 1ms/step - loss: 6907.2168 - mae: 6907.2168\n",
      "Epoch 31/100\n",
      "34/34 [==============================] - 0s 1ms/step - loss: 6874.5127 - mae: 6874.5127\n",
      "Epoch 32/100\n",
      "34/34 [==============================] - 0s 1ms/step - loss: 6843.3589 - mae: 6843.3589\n",
      "Epoch 33/100\n",
      "34/34 [==============================] - 0s 1ms/step - loss: 6809.7012 - mae: 6809.7012\n",
      "Epoch 34/100\n",
      "34/34 [==============================] - 0s 1ms/step - loss: 6776.7070 - mae: 6776.7070\n",
      "Epoch 35/100\n",
      "34/34 [==============================] - 0s 2ms/step - loss: 6739.8047 - mae: 6739.8047\n",
      "Epoch 36/100\n",
      "34/34 [==============================] - 0s 1ms/step - loss: 6704.6006 - mae: 6704.6006\n",
      "Epoch 37/100\n",
      "34/34 [==============================] - 0s 1ms/step - loss: 6667.0396 - mae: 6667.0396\n",
      "Epoch 38/100\n",
      "34/34 [==============================] - 0s 2ms/step - loss: 6636.1880 - mae: 6636.1880\n",
      "Epoch 39/100\n",
      "34/34 [==============================] - 0s 1ms/step - loss: 6597.4263 - mae: 6597.4263\n",
      "Epoch 40/100\n",
      "34/34 [==============================] - 0s 1ms/step - loss: 6565.5420 - mae: 6565.5420\n",
      "Epoch 41/100\n",
      "34/34 [==============================] - 0s 1ms/step - loss: 6540.9185 - mae: 6540.9185\n",
      "Epoch 42/100\n",
      "34/34 [==============================] - 0s 1ms/step - loss: 6518.1445 - mae: 6518.1445\n",
      "Epoch 43/100\n",
      "34/34 [==============================] - 0s 1ms/step - loss: 6495.9487 - mae: 6495.9487\n",
      "Epoch 44/100\n",
      "34/34 [==============================] - 0s 1ms/step - loss: 6477.7466 - mae: 6477.7466\n",
      "Epoch 45/100\n",
      "34/34 [==============================] - 0s 1ms/step - loss: 6468.8960 - mae: 6468.8960\n",
      "Epoch 46/100\n",
      "34/34 [==============================] - 0s 1ms/step - loss: 6451.1929 - mae: 6451.1929\n",
      "Epoch 47/100\n",
      "34/34 [==============================] - 0s 1ms/step - loss: 6435.7437 - mae: 6435.7437\n",
      "Epoch 48/100\n",
      "34/34 [==============================] - 0s 1ms/step - loss: 6421.2241 - mae: 6421.2241\n",
      "Epoch 49/100\n",
      "34/34 [==============================] - 0s 1ms/step - loss: 6410.6772 - mae: 6410.6772\n",
      "Epoch 50/100\n",
      "34/34 [==============================] - 0s 1ms/step - loss: 6395.6797 - mae: 6395.6797\n",
      "Epoch 51/100\n",
      "34/34 [==============================] - 0s 1ms/step - loss: 6382.2056 - mae: 6382.2056\n",
      "Epoch 52/100\n",
      "34/34 [==============================] - 0s 1ms/step - loss: 6369.0005 - mae: 6369.0005\n",
      "Epoch 53/100\n",
      "34/34 [==============================] - 0s 1ms/step - loss: 6354.6284 - mae: 6354.6284\n",
      "Epoch 54/100\n",
      "34/34 [==============================] - 0s 1ms/step - loss: 6340.8784 - mae: 6340.8784\n",
      "Epoch 55/100\n",
      "34/34 [==============================] - 0s 1ms/step - loss: 6326.7871 - mae: 6326.7871\n",
      "Epoch 56/100\n",
      "34/34 [==============================] - 0s 912us/step - loss: 6312.2197 - mae: 6312.2197\n",
      "Epoch 57/100\n",
      "34/34 [==============================] - 0s 1ms/step - loss: 6298.3379 - mae: 6298.3379\n",
      "Epoch 58/100\n",
      "34/34 [==============================] - 0s 1ms/step - loss: 6284.5347 - mae: 6284.5347\n",
      "Epoch 59/100\n",
      "34/34 [==============================] - 0s 1ms/step - loss: 6268.2920 - mae: 6268.2920\n",
      "Epoch 60/100\n",
      "34/34 [==============================] - 0s 1ms/step - loss: 6256.6714 - mae: 6256.6714\n",
      "Epoch 61/100\n",
      "34/34 [==============================] - 0s 945us/step - loss: 6235.9893 - mae: 6235.9893\n",
      "Epoch 62/100\n",
      "34/34 [==============================] - 0s 982us/step - loss: 6222.6782 - mae: 6222.6782\n",
      "Epoch 63/100\n",
      "34/34 [==============================] - 0s 1ms/step - loss: 6204.4458 - mae: 6204.4458\n",
      "Epoch 64/100\n",
      "34/34 [==============================] - 0s 1ms/step - loss: 6186.4106 - mae: 6186.4106\n",
      "Epoch 65/100\n",
      "34/34 [==============================] - 0s 1ms/step - loss: 6168.5576 - mae: 6168.5576\n",
      "Epoch 66/100\n",
      "34/34 [==============================] - 0s 1ms/step - loss: 6150.0459 - mae: 6150.0459\n",
      "Epoch 67/100\n",
      "34/34 [==============================] - 0s 1ms/step - loss: 6136.8633 - mae: 6136.8633\n",
      "Epoch 68/100\n",
      "34/34 [==============================] - 0s 1ms/step - loss: 6113.4043 - mae: 6113.4043\n",
      "Epoch 69/100\n",
      "34/34 [==============================] - 0s 991us/step - loss: 6095.1416 - mae: 6095.1416\n",
      "Epoch 70/100\n",
      "34/34 [==============================] - 0s 991us/step - loss: 6073.8975 - mae: 6073.8975\n",
      "Epoch 71/100\n",
      "34/34 [==============================] - 0s 989us/step - loss: 6052.8213 - mae: 6052.8213\n",
      "Epoch 72/100\n",
      "34/34 [==============================] - 0s 996us/step - loss: 6032.7578 - mae: 6032.7578\n",
      "Epoch 73/100\n",
      "34/34 [==============================] - 0s 984us/step - loss: 6016.3706 - mae: 6016.3706\n",
      "Epoch 74/100\n",
      "34/34 [==============================] - 0s 947us/step - loss: 5985.8887 - mae: 5985.8887\n",
      "Epoch 75/100\n",
      "34/34 [==============================] - 0s 1ms/step - loss: 5964.1162 - mae: 5964.1162\n",
      "Epoch 76/100\n",
      "34/34 [==============================] - 0s 1ms/step - loss: 5946.2437 - mae: 5946.2437\n",
      "Epoch 77/100\n",
      "34/34 [==============================] - 0s 1ms/step - loss: 5913.9824 - mae: 5913.9824\n",
      "Epoch 78/100\n",
      "34/34 [==============================] - 0s 1ms/step - loss: 5887.5020 - mae: 5887.5020\n",
      "Epoch 79/100\n",
      "34/34 [==============================] - 0s 990us/step - loss: 5860.8052 - mae: 5860.8052\n",
      "Epoch 80/100\n",
      "34/34 [==============================] - 0s 960us/step - loss: 5829.9819 - mae: 5829.9819\n",
      "Epoch 81/100\n",
      "34/34 [==============================] - 0s 1ms/step - loss: 5803.5146 - mae: 5803.5146\n",
      "Epoch 82/100\n",
      "34/34 [==============================] - 0s 1ms/step - loss: 5770.7925 - mae: 5770.7925\n",
      "Epoch 83/100\n",
      "34/34 [==============================] - 0s 1ms/step - loss: 5740.7856 - mae: 5740.7856\n",
      "Epoch 84/100\n",
      "34/34 [==============================] - 0s 1ms/step - loss: 5703.9487 - mae: 5703.9487\n",
      "Epoch 85/100\n",
      "34/34 [==============================] - 0s 1ms/step - loss: 5674.1992 - mae: 5674.1992\n",
      "Epoch 86/100\n",
      "34/34 [==============================] - 0s 997us/step - loss: 5637.6646 - mae: 5637.6646\n",
      "Epoch 87/100\n",
      "34/34 [==============================] - 0s 1ms/step - loss: 5597.6616 - mae: 5597.6616\n",
      "Epoch 88/100\n",
      "34/34 [==============================] - 0s 1ms/step - loss: 5560.0000 - mae: 5560.0000\n",
      "Epoch 89/100\n",
      "34/34 [==============================] - 0s 1ms/step - loss: 5515.2715 - mae: 5515.2715\n",
      "Epoch 90/100\n",
      "34/34 [==============================] - 0s 1ms/step - loss: 5469.5869 - mae: 5469.5869\n",
      "Epoch 91/100\n",
      "34/34 [==============================] - 0s 999us/step - loss: 5426.0010 - mae: 5426.0010\n",
      "Epoch 92/100\n",
      "34/34 [==============================] - 0s 1ms/step - loss: 5376.8193 - mae: 5376.8193\n",
      "Epoch 93/100\n",
      "34/34 [==============================] - 0s 1ms/step - loss: 5328.5435 - mae: 5328.5435\n",
      "Epoch 94/100\n",
      "34/34 [==============================] - 0s 1ms/step - loss: 5276.8701 - mae: 5276.8701\n",
      "Epoch 95/100\n",
      "34/34 [==============================] - 0s 1ms/step - loss: 5220.6938 - mae: 5220.6938\n",
      "Epoch 96/100\n",
      "34/34 [==============================] - 0s 1ms/step - loss: 5170.1372 - mae: 5170.1372\n",
      "Epoch 97/100\n",
      "34/34 [==============================] - 0s 1ms/step - loss: 5113.4678 - mae: 5113.4678\n",
      "Epoch 98/100\n",
      "34/34 [==============================] - 0s 1ms/step - loss: 5044.5654 - mae: 5044.5654\n",
      "Epoch 99/100\n",
      "34/34 [==============================] - 0s 1ms/step - loss: 4978.3096 - mae: 4978.3096\n",
      "Epoch 100/100\n",
      "34/34 [==============================] - 0s 991us/step - loss: 4920.1792 - mae: 4920.1792\n"
     ]
    },
    {
     "data": {
      "text/plain": [
       "<keras.src.callbacks.History at 0x185f9e83370>"
      ]
     },
     "execution_count": 17,
     "metadata": {},
     "output_type": "execute_result"
    }
   ],
   "source": [
    "# Set random seed\n",
    "tf.random.set_seed(42)\n",
    "\n",
    "# 1. create the model\n",
    "insurance_model_2 = tf.keras.Sequential([\n",
    "    tf.keras.layers.Dense(100),\n",
    "    tf.keras.layers.Dense(10),\n",
    "    tf.keras.layers.Dense(1)\n",
    "])\n",
    "\n",
    "# 2. Compile the model\n",
    "insurance_model_2.compile(loss=tf.keras.losses.mae,\n",
    "                          optimizer=tf.keras.optimizers.Adam(), # SGD didn't work (nan) so we changed\n",
    "                          metrics=[\"mae\"])\n",
    "\n",
    "# 3. Fit the model\n",
    "insurance_model_2.fit(X_train, y_train, epochs=100, verbose=1)"
   ]
  },
  {
   "cell_type": "code",
   "execution_count": 18,
   "metadata": {},
   "outputs": [
    {
     "name": "stdout",
     "output_type": "stream",
     "text": [
      "9/9 [==============================] - 0s 3ms/step - loss: 4793.6660 - mae: 4793.6660\n"
     ]
    },
    {
     "data": {
      "text/plain": [
       "[4793.666015625, 4793.666015625]"
      ]
     },
     "execution_count": 18,
     "metadata": {},
     "output_type": "execute_result"
    }
   ],
   "source": [
    "# Evaluate the larger model\n",
    "insurance_model_2.evaluate(X_test, y_test)"
   ]
  },
  {
   "cell_type": "code",
   "execution_count": 19,
   "metadata": {},
   "outputs": [
    {
     "name": "stdout",
     "output_type": "stream",
     "text": [
      "9/9 [==============================] - 0s 2ms/step - loss: 7455.6157 - mae: 7455.6157\n"
     ]
    },
    {
     "data": {
      "text/plain": [
       "[7455.61572265625, 7455.61572265625]"
      ]
     },
     "execution_count": 19,
     "metadata": {},
     "output_type": "execute_result"
    }
   ],
   "source": [
    "insurance_model.evaluate(X_test, y_test)"
   ]
  },
  {
   "cell_type": "code",
   "execution_count": 20,
   "metadata": {},
   "outputs": [
    {
     "name": "stdout",
     "output_type": "stream",
     "text": [
      "Epoch 1/200\n",
      "34/34 [==============================] - 1s 1ms/step - loss: 13304.4639 - mae: 13304.4639\n",
      "Epoch 2/200\n",
      "34/34 [==============================] - 0s 1ms/step - loss: 13137.1416 - mae: 13137.1416\n",
      "Epoch 3/200\n",
      "34/34 [==============================] - 0s 1ms/step - loss: 12785.2471 - mae: 12785.2471\n",
      "Epoch 4/200\n",
      "34/34 [==============================] - 0s 1ms/step - loss: 12091.3027 - mae: 12091.3027\n",
      "Epoch 5/200\n",
      "34/34 [==============================] - 0s 1ms/step - loss: 10933.4160 - mae: 10933.4160\n",
      "Epoch 6/200\n",
      "34/34 [==============================] - 0s 1ms/step - loss: 9469.3652 - mae: 9469.3652\n",
      "Epoch 7/200\n",
      "34/34 [==============================] - 0s 1ms/step - loss: 8149.1914 - mae: 8149.1914\n",
      "Epoch 8/200\n",
      "34/34 [==============================] - 0s 1ms/step - loss: 7531.1494 - mae: 7531.1494\n",
      "Epoch 9/200\n",
      "34/34 [==============================] - 0s 1ms/step - loss: 7434.7559 - mae: 7434.7559\n",
      "Epoch 10/200\n",
      "34/34 [==============================] - 0s 1ms/step - loss: 7414.7241 - mae: 7414.7241\n",
      "Epoch 11/200\n",
      "34/34 [==============================] - 0s 1ms/step - loss: 7395.6011 - mae: 7395.6011\n",
      "Epoch 12/200\n",
      "34/34 [==============================] - 0s 1ms/step - loss: 7373.0312 - mae: 7373.0312\n",
      "Epoch 13/200\n",
      "34/34 [==============================] - 0s 1ms/step - loss: 7352.1196 - mae: 7352.1196\n",
      "Epoch 14/200\n",
      "34/34 [==============================] - 0s 1ms/step - loss: 7329.3496 - mae: 7329.3496\n",
      "Epoch 15/200\n",
      "34/34 [==============================] - 0s 1ms/step - loss: 7309.7480 - mae: 7309.7480\n",
      "Epoch 16/200\n",
      "34/34 [==============================] - 0s 1ms/step - loss: 7286.3477 - mae: 7286.3477\n",
      "Epoch 17/200\n",
      "34/34 [==============================] - 0s 1ms/step - loss: 7266.2642 - mae: 7266.2642\n",
      "Epoch 18/200\n",
      "34/34 [==============================] - 0s 1ms/step - loss: 7241.9438 - mae: 7241.9438\n",
      "Epoch 19/200\n",
      "34/34 [==============================] - 0s 1ms/step - loss: 7218.8809 - mae: 7218.8809\n",
      "Epoch 20/200\n",
      "34/34 [==============================] - 0s 1ms/step - loss: 7194.7480 - mae: 7194.7480\n",
      "Epoch 21/200\n",
      "34/34 [==============================] - 0s 1ms/step - loss: 7175.8584 - mae: 7175.8584\n",
      "Epoch 22/200\n",
      "34/34 [==============================] - 0s 1ms/step - loss: 7146.3433 - mae: 7146.3433\n",
      "Epoch 23/200\n",
      "34/34 [==============================] - 0s 1ms/step - loss: 7120.9058 - mae: 7120.9058\n",
      "Epoch 24/200\n",
      "34/34 [==============================] - 0s 1ms/step - loss: 7094.5474 - mae: 7094.5474\n",
      "Epoch 25/200\n",
      "34/34 [==============================] - 0s 1ms/step - loss: 7076.0815 - mae: 7076.0815\n",
      "Epoch 26/200\n",
      "34/34 [==============================] - 0s 1ms/step - loss: 7041.7983 - mae: 7041.7983\n",
      "Epoch 27/200\n",
      "34/34 [==============================] - 0s 1ms/step - loss: 7012.6460 - mae: 7012.6460\n",
      "Epoch 28/200\n",
      "34/34 [==============================] - 0s 1ms/step - loss: 6983.2285 - mae: 6983.2285\n",
      "Epoch 29/200\n",
      "34/34 [==============================] - 0s 1ms/step - loss: 6953.5371 - mae: 6953.5371\n",
      "Epoch 30/200\n",
      "34/34 [==============================] - 0s 3ms/step - loss: 6924.8994 - mae: 6924.8994\n",
      "Epoch 31/200\n",
      "34/34 [==============================] - 0s 2ms/step - loss: 6892.8638 - mae: 6892.8638\n",
      "Epoch 32/200\n",
      "34/34 [==============================] - 0s 1ms/step - loss: 6862.7534 - mae: 6862.7534\n",
      "Epoch 33/200\n",
      "34/34 [==============================] - 0s 1ms/step - loss: 6829.9971 - mae: 6829.9971\n",
      "Epoch 34/200\n",
      "34/34 [==============================] - 0s 1ms/step - loss: 6797.4907 - mae: 6797.4907\n",
      "Epoch 35/200\n",
      "34/34 [==============================] - 0s 2ms/step - loss: 6761.5625 - mae: 6761.5625\n",
      "Epoch 36/200\n",
      "34/34 [==============================] - 0s 2ms/step - loss: 6726.3496 - mae: 6726.3496\n",
      "Epoch 37/200\n",
      "34/34 [==============================] - 0s 2ms/step - loss: 6688.5308 - mae: 6688.5308\n",
      "Epoch 38/200\n",
      "34/34 [==============================] - 0s 2ms/step - loss: 6657.6523 - mae: 6657.6523\n",
      "Epoch 39/200\n",
      "34/34 [==============================] - 0s 1ms/step - loss: 6619.0664 - mae: 6619.0664\n",
      "Epoch 40/200\n",
      "34/34 [==============================] - 0s 2ms/step - loss: 6584.7783 - mae: 6584.7783\n",
      "Epoch 41/200\n",
      "34/34 [==============================] - 0s 2ms/step - loss: 6554.9653 - mae: 6554.9653\n",
      "Epoch 42/200\n",
      "34/34 [==============================] - 0s 1ms/step - loss: 6532.0405 - mae: 6532.0405\n",
      "Epoch 43/200\n",
      "34/34 [==============================] - 0s 1ms/step - loss: 6505.8691 - mae: 6505.8691\n",
      "Epoch 44/200\n",
      "34/34 [==============================] - 0s 2ms/step - loss: 6485.5508 - mae: 6485.5508\n",
      "Epoch 45/200\n",
      "34/34 [==============================] - 0s 2ms/step - loss: 6476.5874 - mae: 6476.5874\n",
      "Epoch 46/200\n",
      "34/34 [==============================] - 0s 1ms/step - loss: 6458.1001 - mae: 6458.1001\n",
      "Epoch 47/200\n",
      "34/34 [==============================] - 0s 2ms/step - loss: 6441.9048 - mae: 6441.9048\n",
      "Epoch 48/200\n",
      "34/34 [==============================] - 0s 2ms/step - loss: 6428.0337 - mae: 6428.0337\n",
      "Epoch 49/200\n",
      "34/34 [==============================] - 0s 2ms/step - loss: 6415.1504 - mae: 6415.1504\n",
      "Epoch 50/200\n",
      "34/34 [==============================] - 0s 2ms/step - loss: 6401.0303 - mae: 6401.0303\n",
      "Epoch 51/200\n",
      "34/34 [==============================] - 0s 2ms/step - loss: 6387.5347 - mae: 6387.5347\n",
      "Epoch 52/200\n",
      "34/34 [==============================] - 0s 2ms/step - loss: 6375.5405 - mae: 6375.5405\n",
      "Epoch 53/200\n",
      "34/34 [==============================] - 0s 2ms/step - loss: 6360.3442 - mae: 6360.3442\n",
      "Epoch 54/200\n",
      "34/34 [==============================] - 0s 2ms/step - loss: 6346.8467 - mae: 6346.8467\n",
      "Epoch 55/200\n",
      "34/34 [==============================] - 0s 2ms/step - loss: 6332.7314 - mae: 6332.7314\n",
      "Epoch 56/200\n",
      "34/34 [==============================] - 0s 2ms/step - loss: 6318.9399 - mae: 6318.9399\n",
      "Epoch 57/200\n",
      "34/34 [==============================] - 0s 2ms/step - loss: 6304.6060 - mae: 6304.6060\n",
      "Epoch 58/200\n",
      "34/34 [==============================] - 0s 2ms/step - loss: 6290.6792 - mae: 6290.6792\n",
      "Epoch 59/200\n",
      "34/34 [==============================] - 0s 2ms/step - loss: 6275.0078 - mae: 6275.0078\n",
      "Epoch 60/200\n",
      "34/34 [==============================] - 0s 2ms/step - loss: 6264.0200 - mae: 6264.0200\n",
      "Epoch 61/200\n",
      "34/34 [==============================] - 0s 2ms/step - loss: 6243.3721 - mae: 6243.3721\n",
      "Epoch 62/200\n",
      "34/34 [==============================] - 0s 2ms/step - loss: 6230.5283 - mae: 6230.5283\n",
      "Epoch 63/200\n",
      "34/34 [==============================] - 0s 2ms/step - loss: 6211.8540 - mae: 6211.8540\n",
      "Epoch 64/200\n",
      "34/34 [==============================] - 0s 2ms/step - loss: 6194.7930 - mae: 6194.7930\n",
      "Epoch 65/200\n",
      "34/34 [==============================] - 0s 2ms/step - loss: 6177.0469 - mae: 6177.0469\n",
      "Epoch 66/200\n",
      "34/34 [==============================] - 0s 2ms/step - loss: 6158.9092 - mae: 6158.9092\n",
      "Epoch 67/200\n",
      "34/34 [==============================] - 0s 2ms/step - loss: 6146.0142 - mae: 6146.0142\n",
      "Epoch 68/200\n",
      "34/34 [==============================] - 0s 2ms/step - loss: 6123.5186 - mae: 6123.5186\n",
      "Epoch 69/200\n",
      "34/34 [==============================] - 0s 2ms/step - loss: 6105.3096 - mae: 6105.3096\n",
      "Epoch 70/200\n",
      "34/34 [==============================] - 0s 2ms/step - loss: 6084.2803 - mae: 6084.2803\n",
      "Epoch 71/200\n",
      "34/34 [==============================] - 0s 2ms/step - loss: 6063.9111 - mae: 6063.9111\n",
      "Epoch 72/200\n",
      "34/34 [==============================] - 0s 2ms/step - loss: 6043.3154 - mae: 6043.3154\n",
      "Epoch 73/200\n",
      "34/34 [==============================] - 0s 2ms/step - loss: 6028.7871 - mae: 6028.7871\n",
      "Epoch 74/200\n",
      "34/34 [==============================] - 0s 2ms/step - loss: 5998.9946 - mae: 5998.9946\n",
      "Epoch 75/200\n",
      "34/34 [==============================] - 0s 2ms/step - loss: 5976.7407 - mae: 5976.7407\n",
      "Epoch 76/200\n",
      "34/34 [==============================] - 0s 2ms/step - loss: 5960.5225 - mae: 5960.5225\n",
      "Epoch 77/200\n",
      "34/34 [==============================] - 0s 2ms/step - loss: 5928.2329 - mae: 5928.2329\n",
      "Epoch 78/200\n",
      "34/34 [==============================] - 0s 2ms/step - loss: 5902.9927 - mae: 5902.9927\n",
      "Epoch 79/200\n",
      "34/34 [==============================] - 0s 2ms/step - loss: 5876.9888 - mae: 5876.9888\n",
      "Epoch 80/200\n",
      "34/34 [==============================] - 0s 2ms/step - loss: 5847.6499 - mae: 5847.6499\n",
      "Epoch 81/200\n",
      "34/34 [==============================] - 0s 2ms/step - loss: 5821.1035 - mae: 5821.1035\n",
      "Epoch 82/200\n",
      "34/34 [==============================] - 0s 2ms/step - loss: 5790.2876 - mae: 5790.2876\n",
      "Epoch 83/200\n",
      "34/34 [==============================] - 0s 2ms/step - loss: 5760.8418 - mae: 5760.8418\n",
      "Epoch 84/200\n",
      "34/34 [==============================] - 0s 2ms/step - loss: 5724.7959 - mae: 5724.7959\n",
      "Epoch 85/200\n",
      "34/34 [==============================] - 0s 2ms/step - loss: 5697.5488 - mae: 5697.5488\n",
      "Epoch 86/200\n",
      "34/34 [==============================] - 0s 4ms/step - loss: 5661.3296 - mae: 5661.3296\n",
      "Epoch 87/200\n",
      "34/34 [==============================] - 0s 2ms/step - loss: 5623.0884 - mae: 5623.0884\n",
      "Epoch 88/200\n",
      "34/34 [==============================] - 0s 2ms/step - loss: 5584.7148 - mae: 5584.7148\n",
      "Epoch 89/200\n",
      "34/34 [==============================] - 0s 2ms/step - loss: 5543.3726 - mae: 5543.3726\n",
      "Epoch 90/200\n",
      "34/34 [==============================] - 0s 2ms/step - loss: 5498.8462 - mae: 5498.8462\n",
      "Epoch 91/200\n",
      "34/34 [==============================] - 0s 2ms/step - loss: 5459.1318 - mae: 5459.1318\n",
      "Epoch 92/200\n",
      "34/34 [==============================] - 0s 2ms/step - loss: 5408.1470 - mae: 5408.1470\n",
      "Epoch 93/200\n",
      "34/34 [==============================] - 0s 2ms/step - loss: 5363.1108 - mae: 5363.1108\n",
      "Epoch 94/200\n",
      "34/34 [==============================] - 0s 2ms/step - loss: 5312.5166 - mae: 5312.5166\n",
      "Epoch 95/200\n",
      "34/34 [==============================] - 0s 2ms/step - loss: 5258.7559 - mae: 5258.7559\n",
      "Epoch 96/200\n",
      "34/34 [==============================] - 0s 2ms/step - loss: 5209.6631 - mae: 5209.6631\n",
      "Epoch 97/200\n",
      "34/34 [==============================] - 0s 3ms/step - loss: 5153.5405 - mae: 5153.5405\n",
      "Epoch 98/200\n",
      "34/34 [==============================] - 0s 2ms/step - loss: 5086.4849 - mae: 5086.4849\n",
      "Epoch 99/200\n",
      "34/34 [==============================] - 0s 2ms/step - loss: 5023.6636 - mae: 5023.6636\n",
      "Epoch 100/200\n",
      "34/34 [==============================] - 0s 2ms/step - loss: 4967.1006 - mae: 4967.1006\n",
      "Epoch 101/200\n",
      "34/34 [==============================] - 0s 2ms/step - loss: 4888.3755 - mae: 4888.3755\n",
      "Epoch 102/200\n",
      "34/34 [==============================] - 0s 2ms/step - loss: 4811.9644 - mae: 4811.9644\n",
      "Epoch 103/200\n",
      "34/34 [==============================] - 0s 2ms/step - loss: 4744.9136 - mae: 4744.9136\n",
      "Epoch 104/200\n",
      "34/34 [==============================] - 0s 2ms/step - loss: 4658.3584 - mae: 4658.3584\n",
      "Epoch 105/200\n",
      "34/34 [==============================] - 0s 2ms/step - loss: 4565.7119 - mae: 4565.7119\n",
      "Epoch 106/200\n",
      "34/34 [==============================] - 0s 2ms/step - loss: 4481.1196 - mae: 4481.1196\n",
      "Epoch 107/200\n",
      "34/34 [==============================] - 0s 2ms/step - loss: 4395.5615 - mae: 4395.5615\n",
      "Epoch 108/200\n",
      "34/34 [==============================] - 0s 2ms/step - loss: 4310.9346 - mae: 4310.9346\n",
      "Epoch 109/200\n",
      "34/34 [==============================] - 0s 2ms/step - loss: 4227.3804 - mae: 4227.3804\n",
      "Epoch 110/200\n",
      "34/34 [==============================] - 0s 2ms/step - loss: 4147.9727 - mae: 4147.9727\n",
      "Epoch 111/200\n",
      "34/34 [==============================] - 0s 2ms/step - loss: 4077.9443 - mae: 4077.9443\n",
      "Epoch 112/200\n",
      "34/34 [==============================] - 0s 2ms/step - loss: 4021.2229 - mae: 4021.2229\n",
      "Epoch 113/200\n",
      "34/34 [==============================] - 0s 2ms/step - loss: 3968.3542 - mae: 3968.3542\n",
      "Epoch 114/200\n",
      "34/34 [==============================] - 0s 2ms/step - loss: 3944.9893 - mae: 3944.9893\n",
      "Epoch 115/200\n",
      "34/34 [==============================] - 0s 2ms/step - loss: 3901.8179 - mae: 3901.8179\n",
      "Epoch 116/200\n",
      "34/34 [==============================] - 0s 2ms/step - loss: 3890.6416 - mae: 3890.6416\n",
      "Epoch 117/200\n",
      "34/34 [==============================] - 0s 2ms/step - loss: 3870.6362 - mae: 3870.6362\n",
      "Epoch 118/200\n",
      "34/34 [==============================] - 0s 2ms/step - loss: 3853.2188 - mae: 3853.2188\n",
      "Epoch 119/200\n",
      "34/34 [==============================] - 0s 2ms/step - loss: 3839.2551 - mae: 3839.2551\n",
      "Epoch 120/200\n",
      "34/34 [==============================] - 0s 2ms/step - loss: 3824.5842 - mae: 3824.5842\n",
      "Epoch 121/200\n",
      "34/34 [==============================] - 0s 2ms/step - loss: 3816.8210 - mae: 3816.8210\n",
      "Epoch 122/200\n",
      "34/34 [==============================] - 0s 2ms/step - loss: 3814.4919 - mae: 3814.4919\n",
      "Epoch 123/200\n",
      "34/34 [==============================] - 0s 2ms/step - loss: 3806.6724 - mae: 3806.6724\n",
      "Epoch 124/200\n",
      "34/34 [==============================] - 0s 2ms/step - loss: 3801.4058 - mae: 3801.4058\n",
      "Epoch 125/200\n",
      "34/34 [==============================] - 0s 4ms/step - loss: 3790.5571 - mae: 3790.5571\n",
      "Epoch 126/200\n",
      "34/34 [==============================] - 0s 2ms/step - loss: 3799.9885 - mae: 3799.9885\n",
      "Epoch 127/200\n",
      "34/34 [==============================] - 0s 2ms/step - loss: 3792.1687 - mae: 3792.1687\n",
      "Epoch 128/200\n",
      "34/34 [==============================] - 0s 2ms/step - loss: 3788.4924 - mae: 3788.4924\n",
      "Epoch 129/200\n",
      "34/34 [==============================] - 0s 2ms/step - loss: 3798.8640 - mae: 3798.8640\n",
      "Epoch 130/200\n",
      "34/34 [==============================] - 0s 2ms/step - loss: 3788.1711 - mae: 3788.1711\n",
      "Epoch 131/200\n",
      "34/34 [==============================] - 0s 2ms/step - loss: 3780.2615 - mae: 3780.2615\n",
      "Epoch 132/200\n",
      "34/34 [==============================] - 0s 2ms/step - loss: 3773.3276 - mae: 3773.3276\n",
      "Epoch 133/200\n",
      "34/34 [==============================] - 0s 2ms/step - loss: 3768.5854 - mae: 3768.5854\n",
      "Epoch 134/200\n",
      "34/34 [==============================] - 0s 2ms/step - loss: 3768.8728 - mae: 3768.8728\n",
      "Epoch 135/200\n",
      "34/34 [==============================] - 0s 2ms/step - loss: 3765.5332 - mae: 3765.5332\n",
      "Epoch 136/200\n",
      "34/34 [==============================] - 0s 2ms/step - loss: 3764.7607 - mae: 3764.7607\n",
      "Epoch 137/200\n",
      "34/34 [==============================] - 0s 2ms/step - loss: 3772.7063 - mae: 3772.7063\n",
      "Epoch 138/200\n",
      "34/34 [==============================] - 0s 2ms/step - loss: 3780.9490 - mae: 3780.9490\n",
      "Epoch 139/200\n",
      "34/34 [==============================] - 0s 2ms/step - loss: 3759.9475 - mae: 3759.9475\n",
      "Epoch 140/200\n",
      "34/34 [==============================] - 0s 2ms/step - loss: 3760.0027 - mae: 3760.0027\n",
      "Epoch 141/200\n",
      "34/34 [==============================] - 0s 2ms/step - loss: 3761.9895 - mae: 3761.9895\n",
      "Epoch 142/200\n",
      "34/34 [==============================] - 0s 2ms/step - loss: 3763.2598 - mae: 3763.2598\n",
      "Epoch 143/200\n",
      "34/34 [==============================] - 0s 2ms/step - loss: 3752.7747 - mae: 3752.7747\n",
      "Epoch 144/200\n",
      "34/34 [==============================] - 0s 2ms/step - loss: 3749.0586 - mae: 3749.0586\n",
      "Epoch 145/200\n",
      "34/34 [==============================] - 0s 2ms/step - loss: 3748.7200 - mae: 3748.7200\n",
      "Epoch 146/200\n",
      "34/34 [==============================] - 0s 2ms/step - loss: 3753.2866 - mae: 3753.2866\n",
      "Epoch 147/200\n",
      "34/34 [==============================] - 0s 2ms/step - loss: 3749.6907 - mae: 3749.6907\n",
      "Epoch 148/200\n",
      "34/34 [==============================] - 0s 2ms/step - loss: 3754.3323 - mae: 3754.3323\n",
      "Epoch 149/200\n",
      "34/34 [==============================] - 0s 2ms/step - loss: 3741.6667 - mae: 3741.6667\n",
      "Epoch 150/200\n",
      "34/34 [==============================] - 0s 2ms/step - loss: 3737.4463 - mae: 3737.4463\n",
      "Epoch 151/200\n",
      "34/34 [==============================] - 0s 2ms/step - loss: 3738.7612 - mae: 3738.7612\n",
      "Epoch 152/200\n",
      "34/34 [==============================] - 0s 2ms/step - loss: 3739.3542 - mae: 3739.3542\n",
      "Epoch 153/200\n",
      "34/34 [==============================] - 0s 2ms/step - loss: 3742.6787 - mae: 3742.6787\n",
      "Epoch 154/200\n",
      "34/34 [==============================] - 0s 2ms/step - loss: 3735.6829 - mae: 3735.6829\n",
      "Epoch 155/200\n",
      "34/34 [==============================] - 0s 2ms/step - loss: 3737.2798 - mae: 3737.2798\n",
      "Epoch 156/200\n",
      "34/34 [==============================] - 0s 2ms/step - loss: 3735.1489 - mae: 3735.1489\n",
      "Epoch 157/200\n",
      "34/34 [==============================] - 0s 2ms/step - loss: 3730.5566 - mae: 3730.5566\n",
      "Epoch 158/200\n",
      "34/34 [==============================] - 0s 2ms/step - loss: 3728.0779 - mae: 3728.0779\n",
      "Epoch 159/200\n",
      "34/34 [==============================] - 0s 2ms/step - loss: 3724.9343 - mae: 3724.9343\n",
      "Epoch 160/200\n",
      "34/34 [==============================] - 0s 2ms/step - loss: 3732.1121 - mae: 3732.1121\n",
      "Epoch 161/200\n",
      "34/34 [==============================] - 0s 2ms/step - loss: 3727.5752 - mae: 3727.5752\n",
      "Epoch 162/200\n",
      "34/34 [==============================] - 0s 2ms/step - loss: 3723.5623 - mae: 3723.5623\n",
      "Epoch 163/200\n",
      "34/34 [==============================] - 0s 2ms/step - loss: 3720.6821 - mae: 3720.6821\n",
      "Epoch 164/200\n",
      "34/34 [==============================] - 0s 2ms/step - loss: 3725.6414 - mae: 3725.6414\n",
      "Epoch 165/200\n",
      "34/34 [==============================] - 0s 2ms/step - loss: 3716.7358 - mae: 3716.7358\n",
      "Epoch 166/200\n",
      "34/34 [==============================] - 0s 4ms/step - loss: 3718.6946 - mae: 3718.6946\n",
      "Epoch 167/200\n",
      "34/34 [==============================] - 0s 2ms/step - loss: 3718.4414 - mae: 3718.4414\n",
      "Epoch 168/200\n",
      "34/34 [==============================] - 0s 2ms/step - loss: 3714.5649 - mae: 3714.5649\n",
      "Epoch 169/200\n",
      "34/34 [==============================] - 0s 2ms/step - loss: 3712.2656 - mae: 3712.2656\n",
      "Epoch 170/200\n",
      "34/34 [==============================] - 0s 2ms/step - loss: 3706.8611 - mae: 3706.8611\n",
      "Epoch 171/200\n",
      "34/34 [==============================] - 0s 2ms/step - loss: 3707.3982 - mae: 3707.3982\n",
      "Epoch 172/200\n",
      "34/34 [==============================] - 0s 2ms/step - loss: 3708.0527 - mae: 3708.0527\n",
      "Epoch 173/200\n",
      "34/34 [==============================] - 0s 2ms/step - loss: 3703.5283 - mae: 3703.5283\n",
      "Epoch 174/200\n",
      "34/34 [==============================] - 0s 2ms/step - loss: 3707.1416 - mae: 3707.1416\n",
      "Epoch 175/200\n",
      "34/34 [==============================] - 0s 2ms/step - loss: 3708.8894 - mae: 3708.8894\n",
      "Epoch 176/200\n",
      "34/34 [==============================] - 0s 2ms/step - loss: 3705.1223 - mae: 3705.1223\n",
      "Epoch 177/200\n",
      "34/34 [==============================] - 0s 2ms/step - loss: 3697.8088 - mae: 3697.8088\n",
      "Epoch 178/200\n",
      "34/34 [==============================] - 0s 2ms/step - loss: 3693.8032 - mae: 3693.8032\n",
      "Epoch 179/200\n",
      "34/34 [==============================] - 0s 2ms/step - loss: 3705.3040 - mae: 3705.3040\n",
      "Epoch 180/200\n",
      "34/34 [==============================] - 0s 2ms/step - loss: 3708.2053 - mae: 3708.2053\n",
      "Epoch 181/200\n",
      "34/34 [==============================] - 0s 2ms/step - loss: 3694.3589 - mae: 3694.3589\n",
      "Epoch 182/200\n",
      "34/34 [==============================] - 0s 2ms/step - loss: 3691.5198 - mae: 3691.5198\n",
      "Epoch 183/200\n",
      "34/34 [==============================] - 0s 2ms/step - loss: 3690.0464 - mae: 3690.0464\n",
      "Epoch 184/200\n",
      "34/34 [==============================] - 0s 2ms/step - loss: 3697.2461 - mae: 3697.2461\n",
      "Epoch 185/200\n",
      "34/34 [==============================] - 0s 2ms/step - loss: 3693.0029 - mae: 3693.0029\n",
      "Epoch 186/200\n",
      "34/34 [==============================] - 0s 2ms/step - loss: 3694.8843 - mae: 3694.8843\n",
      "Epoch 187/200\n",
      "34/34 [==============================] - 0s 2ms/step - loss: 3685.7800 - mae: 3685.7800\n",
      "Epoch 188/200\n",
      "34/34 [==============================] - 0s 2ms/step - loss: 3693.2385 - mae: 3693.2385\n",
      "Epoch 189/200\n",
      "34/34 [==============================] - 0s 2ms/step - loss: 3682.0168 - mae: 3682.0168\n",
      "Epoch 190/200\n",
      "34/34 [==============================] - 0s 2ms/step - loss: 3681.9417 - mae: 3681.9417\n",
      "Epoch 191/200\n",
      "34/34 [==============================] - 0s 2ms/step - loss: 3700.4526 - mae: 3700.4526\n",
      "Epoch 192/200\n",
      "34/34 [==============================] - 0s 2ms/step - loss: 3683.7261 - mae: 3683.7261\n",
      "Epoch 193/200\n",
      "34/34 [==============================] - 0s 2ms/step - loss: 3673.0254 - mae: 3673.0254\n",
      "Epoch 194/200\n",
      "34/34 [==============================] - 0s 2ms/step - loss: 3673.7388 - mae: 3673.7388\n",
      "Epoch 195/200\n",
      "34/34 [==============================] - 0s 2ms/step - loss: 3671.4019 - mae: 3671.4019\n",
      "Epoch 196/200\n",
      "34/34 [==============================] - 0s 3ms/step - loss: 3680.5017 - mae: 3680.5017\n",
      "Epoch 197/200\n",
      "34/34 [==============================] - 0s 2ms/step - loss: 3664.5544 - mae: 3664.5544\n",
      "Epoch 198/200\n",
      "34/34 [==============================] - 0s 2ms/step - loss: 3670.2751 - mae: 3670.2751\n",
      "Epoch 199/200\n",
      "34/34 [==============================] - 0s 2ms/step - loss: 3679.2207 - mae: 3679.2207\n",
      "Epoch 200/200\n",
      "34/34 [==============================] - 0s 2ms/step - loss: 3667.7168 - mae: 3667.7168\n"
     ]
    }
   ],
   "source": [
    "# Set random set\n",
    "tf.random.set_seed(42)\n",
    "\n",
    "# 1. Create the model (same as above)\n",
    "insurance_model_3 = tf.keras.Sequential([\n",
    "    tf.keras.layers.Dense(100),\n",
    "    tf.keras.layers.Dense(10),\n",
    "    tf.keras.layers.Dense(1)\n",
    "])\n",
    "\n",
    "# 2. Compile the model\n",
    "insurance_model_3.compile(loss=tf.keras.losses.mae,\n",
    "                          optimizer=tf.keras.optimizers.Adam(),\n",
    "                          metrics=[\"mae\"])\n",
    "\n",
    "# 3. Fit the model\n",
    "history = insurance_model_3.fit(X_train, y_train, epochs=200)"
   ]
  },
  {
   "cell_type": "code",
   "execution_count": 21,
   "metadata": {},
   "outputs": [
    {
     "name": "stdout",
     "output_type": "stream",
     "text": [
      "9/9 [==============================] - 0s 2ms/step - loss: 3496.0054 - mae: 3496.0054\n"
     ]
    },
    {
     "data": {
      "text/plain": [
       "[3496.00537109375, 3496.00537109375]"
      ]
     },
     "execution_count": 21,
     "metadata": {},
     "output_type": "execute_result"
    }
   ],
   "source": [
    "# Evalute our third model\n",
    "insurance_model_3.evaluate(X_test, y_test)"
   ]
  },
  {
   "cell_type": "code",
   "execution_count": 22,
   "metadata": {},
   "outputs": [
    {
     "name": "stdout",
     "output_type": "stream",
     "text": [
      "9/9 [==============================] - 0s 2ms/step - loss: 7455.6157 - mae: 7455.6157\n"
     ]
    },
    {
     "data": {
      "text/plain": [
       "[7455.61572265625, 7455.61572265625]"
      ]
     },
     "execution_count": 22,
     "metadata": {},
     "output_type": "execute_result"
    }
   ],
   "source": [
    "insurance_model.evaluate(X_test, y_test)"
   ]
  },
  {
   "cell_type": "code",
   "execution_count": 25,
   "metadata": {},
   "outputs": [
    {
     "data": {
      "text/plain": [
       "Text(0.5, 0, 'epochs')"
      ]
     },
     "execution_count": 25,
     "metadata": {},
     "output_type": "execute_result"
    },
    {
     "data": {
      "image/png": "[encoded data removed]",
      "text/plain": [
       "<Figure size 640x480 with 1 Axes>"
      ]
     },
     "metadata": {},
     "output_type": "display_data"
    }
   ],
   "source": [
    "# Plot history (also known as a loss curve, or a training curve)\n",
    "pd.DataFrame(history.history).plot()\n",
    "plt.ylabel(\"loss\")\n",
    "plt.xlabel(\"epochs\")"
   ]
  },
  {
   "attachments": {},
   "cell_type": "markdown",
   "metadata": {},
   "source": [
    "> 🧐 **Question**: How long should you train for?\n",
    "\n",
    "It depends. Really... it depend on the problem you're working on. However, many people have asked this question before... so TensorFLow has a solution! It's called the [EarlyStopping Callback](https://www.tensorflow.org/api_docs/python/tf/keras/callbacks/EarlyStopping), which is a TensorFlow component you can add to your model to stop training once it stops improving a certain metric."
   ]
  },
  {
   "attachments": {},
   "cell_type": "markdown",
   "metadata": {},
   "source": [
    "## Preprocessing data (normalization and standardization)\n",
    "\n",
    "🔑 Steps prepare data:\n",
    "1. Turn all data into numbers (neural networks can't handle strings)\n",
    "2. Make sure all of your tensors are the right shape\n",
    "3. Scale features(normalize or standardize, neural networks tend to prefer normalization)\n",
    "\n",
    "In terms of scaling values, neural networks tend to prefer normalization.\n",
    "\n",
    "If you're not sure on which to use, you could try both and see which performs better.\n",
    "\n",
    "<img src=\"./course_images/feature_scaling.png\">"
   ]
  },
  {
   "cell_type": "code",
   "execution_count": 35,
   "metadata": {},
   "outputs": [
    {
     "data": {
      "text/plain": [
       "<Axes: ylabel='Frequency'>"
      ]
     },
     "execution_count": 35,
     "metadata": {},
     "output_type": "execute_result"
    },
    {
     "data": {
      "image/png": "[encoded data removed]",
      "text/plain": [
       "<Figure size 640x480 with 1 Axes>"
      ]
     },
     "metadata": {},
     "output_type": "display_data"
    }
   ],
   "source": [
    "X[\"bmi\"].plot(kind=\"hist\")"
   ]
  },
  {
   "cell_type": "code",
   "execution_count": 1,
   "metadata": {},
   "outputs": [
    {
     "data": {
      "text/html": [
       "<div>\n",
       "<style scoped>\n",
       "    .dataframe tbody tr th:only-of-type {\n",
       "        vertical-align: middle;\n",
       "    }\n",
       "\n",
       "    .dataframe tbody tr th {\n",
       "        vertical-align: top;\n",
       "    }\n",
       "\n",
       "    .dataframe thead th {\n",
       "        text-align: right;\n",
       "    }\n",
       "</style>\n",
       "<table border=\"1\" class=\"dataframe\">\n",
       "  <thead>\n",
       "    <tr style=\"text-align: right;\">\n",
       "      <th></th>\n",
       "      <th>age</th>\n",
       "      <th>sex</th>\n",
       "      <th>bmi</th>\n",
       "      <th>children</th>\n",
       "      <th>smoker</th>\n",
       "      <th>region</th>\n",
       "      <th>charges</th>\n",
       "    </tr>\n",
       "  </thead>\n",
       "  <tbody>\n",
       "    <tr>\n",
       "      <th>0</th>\n",
       "      <td>19</td>\n",
       "      <td>female</td>\n",
       "      <td>27.900</td>\n",
       "      <td>0</td>\n",
       "      <td>yes</td>\n",
       "      <td>southwest</td>\n",
       "      <td>16884.92400</td>\n",
       "    </tr>\n",
       "    <tr>\n",
       "      <th>1</th>\n",
       "      <td>18</td>\n",
       "      <td>male</td>\n",
       "      <td>33.770</td>\n",
       "      <td>1</td>\n",
       "      <td>no</td>\n",
       "      <td>southeast</td>\n",
       "      <td>1725.55230</td>\n",
       "    </tr>\n",
       "    <tr>\n",
       "      <th>2</th>\n",
       "      <td>28</td>\n",
       "      <td>male</td>\n",
       "      <td>33.000</td>\n",
       "      <td>3</td>\n",
       "      <td>no</td>\n",
       "      <td>southeast</td>\n",
       "      <td>4449.46200</td>\n",
       "    </tr>\n",
       "    <tr>\n",
       "      <th>3</th>\n",
       "      <td>33</td>\n",
       "      <td>male</td>\n",
       "      <td>22.705</td>\n",
       "      <td>0</td>\n",
       "      <td>no</td>\n",
       "      <td>northwest</td>\n",
       "      <td>21984.47061</td>\n",
       "    </tr>\n",
       "    <tr>\n",
       "      <th>4</th>\n",
       "      <td>32</td>\n",
       "      <td>male</td>\n",
       "      <td>28.880</td>\n",
       "      <td>0</td>\n",
       "      <td>no</td>\n",
       "      <td>northwest</td>\n",
       "      <td>3866.85520</td>\n",
       "    </tr>\n",
       "    <tr>\n",
       "      <th>...</th>\n",
       "      <td>...</td>\n",
       "      <td>...</td>\n",
       "      <td>...</td>\n",
       "      <td>...</td>\n",
       "      <td>...</td>\n",
       "      <td>...</td>\n",
       "      <td>...</td>\n",
       "    </tr>\n",
       "    <tr>\n",
       "      <th>1333</th>\n",
       "      <td>50</td>\n",
       "      <td>male</td>\n",
       "      <td>30.970</td>\n",
       "      <td>3</td>\n",
       "      <td>no</td>\n",
       "      <td>northwest</td>\n",
       "      <td>10600.54830</td>\n",
       "    </tr>\n",
       "    <tr>\n",
       "      <th>1334</th>\n",
       "      <td>18</td>\n",
       "      <td>female</td>\n",
       "      <td>31.920</td>\n",
       "      <td>0</td>\n",
       "      <td>no</td>\n",
       "      <td>northeast</td>\n",
       "      <td>2205.98080</td>\n",
       "    </tr>\n",
       "    <tr>\n",
       "      <th>1335</th>\n",
       "      <td>18</td>\n",
       "      <td>female</td>\n",
       "      <td>36.850</td>\n",
       "      <td>0</td>\n",
       "      <td>no</td>\n",
       "      <td>southeast</td>\n",
       "      <td>1629.83350</td>\n",
       "    </tr>\n",
       "    <tr>\n",
       "      <th>1336</th>\n",
       "      <td>21</td>\n",
       "      <td>female</td>\n",
       "      <td>25.800</td>\n",
       "      <td>0</td>\n",
       "      <td>no</td>\n",
       "      <td>southwest</td>\n",
       "      <td>2007.94500</td>\n",
       "    </tr>\n",
       "    <tr>\n",
       "      <th>1337</th>\n",
       "      <td>61</td>\n",
       "      <td>female</td>\n",
       "      <td>29.070</td>\n",
       "      <td>0</td>\n",
       "      <td>yes</td>\n",
       "      <td>northwest</td>\n",
       "      <td>29141.36030</td>\n",
       "    </tr>\n",
       "  </tbody>\n",
       "</table>\n",
       "<p>1338 rows × 7 columns</p>\n",
       "</div>"
      ],
      "text/plain": [
       "      age     sex     bmi  children smoker     region      charges\n",
       "0      19  female  27.900         0    yes  southwest  16884.92400\n",
       "1      18    male  33.770         1     no  southeast   1725.55230\n",
       "2      28    male  33.000         3     no  southeast   4449.46200\n",
       "3      33    male  22.705         0     no  northwest  21984.47061\n",
       "4      32    male  28.880         0     no  northwest   3866.85520\n",
       "...   ...     ...     ...       ...    ...        ...          ...\n",
       "1333   50    male  30.970         3     no  northwest  10600.54830\n",
       "1334   18  female  31.920         0     no  northeast   2205.98080\n",
       "1335   18  female  36.850         0     no  southeast   1629.83350\n",
       "1336   21  female  25.800         0     no  southwest   2007.94500\n",
       "1337   61  female  29.070         0    yes  northwest  29141.36030\n",
       "\n",
       "[1338 rows x 7 columns]"
      ]
     },
     "execution_count": 1,
     "metadata": {},
     "output_type": "execute_result"
    }
   ],
   "source": [
    "import pandas as pd\n",
    "import matplotlib.pyplot as plt\n",
    "import tensorflow as tf\n",
    "\n",
    "# Read the insurance dataframe\n",
    "insurance = pd.read_csv(\"https://raw.githubusercontent.com/stedy/Machine-Learning-with-R-datasets/master/insurance.csv\")\n",
    "insurance"
   ]
  },
  {
   "attachments": {},
   "cell_type": "markdown",
   "metadata": {},
   "source": [
    "To prepare our data, we can borrow a few classes from Scikit-Learn"
   ]
  },
  {
   "cell_type": "code",
   "execution_count": 2,
   "metadata": {},
   "outputs": [],
   "source": [
    "from sklearn.compose import make_column_transformer\n",
    "from sklearn.preprocessing import MinMaxScaler, OneHotEncoder\n",
    "from sklearn.model_selection import train_test_split\n",
    "\n",
    "# Create a column transformer\n",
    "ct = make_column_transformer(\n",
    "    (MinMaxScaler(), [\"age\", \"bmi\", \"children\"]), # turn all values in these columns between 0 and 1\n",
    "    (OneHotEncoder(handle_unknown=\"ignore\"), [\"sex\", \"smoker\", \"region\"])\n",
    ")\n",
    "\n",
    "# Create X & y\n",
    "X = insurance.drop(\"charges\", axis=1)\n",
    "y = insurance[\"charges\"]\n",
    "\n",
    "# Build our train and test sets\n",
    "X_train, X_test, y_train, y_test = train_test_split(X, y, test_size=0.2, random_state=42)\n",
    "\n",
    "# Fit the column transformer to our training data\n",
    "ct.fit(X_train)\n",
    "\n",
    "# Transform training and test data with normalization (MinMaxScaler) and OneHotEncoder\n",
    "X_train_normal = ct.transform(X_train)\n",
    "X_test_normal = ct.transform(X_test)"
   ]
  },
  {
   "cell_type": "code",
   "execution_count": 3,
   "metadata": {},
   "outputs": [
    {
     "data": {
      "text/plain": [
       "age                19\n",
       "sex            female\n",
       "bmi              27.9\n",
       "children            0\n",
       "smoker            yes\n",
       "region      southwest\n",
       "Name: 0, dtype: object"
      ]
     },
     "execution_count": 3,
     "metadata": {},
     "output_type": "execute_result"
    }
   ],
   "source": [
    "# What does our data look like now?\n",
    "X_train.loc[0]"
   ]
  },
  {
   "cell_type": "code",
   "execution_count": 4,
   "metadata": {},
   "outputs": [
    {
     "data": {
      "text/plain": [
       "array([0.60869565, 0.10734463, 0.4       , 1.        , 0.        ,\n",
       "       1.        , 0.        , 0.        , 1.        , 0.        ,\n",
       "       0.        ])"
      ]
     },
     "execution_count": 4,
     "metadata": {},
     "output_type": "execute_result"
    }
   ],
   "source": [
    "X_train_normal[0]"
   ]
  },
  {
   "cell_type": "code",
   "execution_count": 5,
   "metadata": {},
   "outputs": [
    {
     "data": {
      "text/plain": [
       "((1070, 6), (1070, 11))"
      ]
     },
     "execution_count": 5,
     "metadata": {},
     "output_type": "execute_result"
    }
   ],
   "source": [
    "X_train.shape, X_train_normal.shape"
   ]
  },
  {
   "attachments": {},
   "cell_type": "markdown",
   "metadata": {},
   "source": [
    "Beautiful: Our data has been normalized and one hot encoded. Now let's build a neural network model on it and see hot it goes."
   ]
  },
  {
   "cell_type": "code",
   "execution_count": 6,
   "metadata": {},
   "outputs": [
    {
     "name": "stdout",
     "output_type": "stream",
     "text": [
      "Epoch 1/100\n",
      "34/34 [==============================] - 1s 2ms/step - loss: 13343.8516 - mae: 13343.8516\n",
      "Epoch 2/100\n",
      "34/34 [==============================] - 0s 1ms/step - loss: 13335.9209 - mae: 13335.9209\n",
      "Epoch 3/100\n",
      "34/34 [==============================] - 0s 1ms/step - loss: 13315.9014 - mae: 13315.9014\n",
      "Epoch 4/100\n",
      "34/34 [==============================] - 0s 1ms/step - loss: 13273.0635 - mae: 13273.0635\n",
      "Epoch 5/100\n",
      "34/34 [==============================] - 0s 1ms/step - loss: 13195.9326 - mae: 13195.9326\n",
      "Epoch 6/100\n",
      "34/34 [==============================] - 0s 2ms/step - loss: 13073.2080 - mae: 13073.2080\n",
      "Epoch 7/100\n",
      "34/34 [==============================] - 0s 1ms/step - loss: 12894.3760 - mae: 12894.3760\n",
      "Epoch 8/100\n",
      "34/34 [==============================] - 0s 1ms/step - loss: 12649.4150 - mae: 12649.4150\n",
      "Epoch 9/100\n",
      "34/34 [==============================] - 0s 2ms/step - loss: 12328.2051 - mae: 12328.2051\n",
      "Epoch 10/100\n",
      "34/34 [==============================] - 0s 1ms/step - loss: 11926.2021 - mae: 11926.2021\n",
      "Epoch 11/100\n",
      "34/34 [==============================] - 0s 1ms/step - loss: 11453.0293 - mae: 11453.0293\n",
      "Epoch 12/100\n",
      "34/34 [==============================] - 0s 2ms/step - loss: 10947.7930 - mae: 10947.7930\n",
      "Epoch 13/100\n",
      "34/34 [==============================] - 0s 2ms/step - loss: 10446.1426 - mae: 10446.1426\n",
      "Epoch 14/100\n",
      "34/34 [==============================] - 0s 1ms/step - loss: 9950.8457 - mae: 9950.8457\n",
      "Epoch 15/100\n",
      "34/34 [==============================] - 0s 1ms/step - loss: 9484.3145 - mae: 9484.3145\n",
      "Epoch 16/100\n",
      "34/34 [==============================] - 0s 1ms/step - loss: 9069.0039 - mae: 9069.0039\n",
      "Epoch 17/100\n",
      "34/34 [==============================] - 0s 1ms/step - loss: 8724.5166 - mae: 8724.5166\n",
      "Epoch 18/100\n",
      "34/34 [==============================] - 0s 1ms/step - loss: 8444.1699 - mae: 8444.1699\n",
      "Epoch 19/100\n",
      "34/34 [==============================] - 0s 1ms/step - loss: 8231.3223 - mae: 8231.3223\n",
      "Epoch 20/100\n",
      "34/34 [==============================] - 0s 1ms/step - loss: 8085.9395 - mae: 8085.9395\n",
      "Epoch 21/100\n",
      "34/34 [==============================] - 0s 1ms/step - loss: 7976.9653 - mae: 7976.9653\n",
      "Epoch 22/100\n",
      "34/34 [==============================] - 0s 1ms/step - loss: 7902.1655 - mae: 7902.1655\n",
      "Epoch 23/100\n",
      "34/34 [==============================] - 0s 1ms/step - loss: 7843.3599 - mae: 7843.3599\n",
      "Epoch 24/100\n",
      "34/34 [==============================] - 0s 1ms/step - loss: 7790.4829 - mae: 7790.4829\n",
      "Epoch 25/100\n",
      "34/34 [==============================] - 0s 1ms/step - loss: 7751.3887 - mae: 7751.3887\n",
      "Epoch 26/100\n",
      "34/34 [==============================] - 0s 1ms/step - loss: 7699.4419 - mae: 7699.4419\n",
      "Epoch 27/100\n",
      "34/34 [==============================] - 0s 1ms/step - loss: 7657.1343 - mae: 7657.1343\n",
      "Epoch 28/100\n",
      "34/34 [==============================] - 0s 1ms/step - loss: 7614.3921 - mae: 7614.3921\n",
      "Epoch 29/100\n",
      "34/34 [==============================] - 0s 1ms/step - loss: 7571.7817 - mae: 7571.7817\n",
      "Epoch 30/100\n",
      "34/34 [==============================] - 0s 1ms/step - loss: 7527.9922 - mae: 7527.9922\n",
      "Epoch 31/100\n",
      "34/34 [==============================] - 0s 1ms/step - loss: 7483.8218 - mae: 7483.8218\n",
      "Epoch 32/100\n",
      "34/34 [==============================] - 0s 1ms/step - loss: 7439.4414 - mae: 7439.4414\n",
      "Epoch 33/100\n",
      "34/34 [==============================] - 0s 1ms/step - loss: 7394.8477 - mae: 7394.8477\n",
      "Epoch 34/100\n",
      "34/34 [==============================] - 0s 1ms/step - loss: 7346.2769 - mae: 7346.2769\n",
      "Epoch 35/100\n",
      "34/34 [==============================] - 0s 1ms/step - loss: 7299.1895 - mae: 7299.1895\n",
      "Epoch 36/100\n",
      "34/34 [==============================] - 0s 1ms/step - loss: 7248.7251 - mae: 7248.7251\n",
      "Epoch 37/100\n",
      "34/34 [==============================] - 0s 1ms/step - loss: 7198.0605 - mae: 7198.0605\n",
      "Epoch 38/100\n",
      "34/34 [==============================] - 0s 1ms/step - loss: 7146.6655 - mae: 7146.6655\n",
      "Epoch 39/100\n",
      "34/34 [==============================] - 0s 1ms/step - loss: 7091.5347 - mae: 7091.5347\n",
      "Epoch 40/100\n",
      "34/34 [==============================] - 0s 1ms/step - loss: 7035.8232 - mae: 7035.8232\n",
      "Epoch 41/100\n",
      "34/34 [==============================] - 0s 1ms/step - loss: 6979.0820 - mae: 6979.0820\n",
      "Epoch 42/100\n",
      "34/34 [==============================] - 0s 1ms/step - loss: 6919.7446 - mae: 6919.7446\n",
      "Epoch 43/100\n",
      "34/34 [==============================] - 0s 1ms/step - loss: 6856.6777 - mae: 6856.6777\n",
      "Epoch 44/100\n",
      "34/34 [==============================] - 0s 2ms/step - loss: 6790.0054 - mae: 6790.0054\n",
      "Epoch 45/100\n",
      "34/34 [==============================] - 0s 1ms/step - loss: 6722.3154 - mae: 6722.3154\n",
      "Epoch 46/100\n",
      "34/34 [==============================] - 0s 1ms/step - loss: 6652.8745 - mae: 6652.8745\n",
      "Epoch 47/100\n",
      "34/34 [==============================] - 0s 2ms/step - loss: 6580.8652 - mae: 6580.8652\n",
      "Epoch 48/100\n",
      "34/34 [==============================] - 0s 1ms/step - loss: 6501.5112 - mae: 6501.5112\n",
      "Epoch 49/100\n",
      "34/34 [==============================] - 0s 1ms/step - loss: 6422.0132 - mae: 6422.0132\n",
      "Epoch 50/100\n",
      "34/34 [==============================] - 0s 1ms/step - loss: 6335.6621 - mae: 6335.6621\n",
      "Epoch 51/100\n",
      "34/34 [==============================] - 0s 1ms/step - loss: 6250.4658 - mae: 6250.4658\n",
      "Epoch 52/100\n",
      "34/34 [==============================] - 0s 2ms/step - loss: 6156.5757 - mae: 6156.5757\n",
      "Epoch 53/100\n",
      "34/34 [==============================] - 0s 2ms/step - loss: 6059.7725 - mae: 6059.7725\n",
      "Epoch 54/100\n",
      "34/34 [==============================] - 0s 1ms/step - loss: 5960.3984 - mae: 5960.3984\n",
      "Epoch 55/100\n",
      "34/34 [==============================] - 0s 1ms/step - loss: 5852.9111 - mae: 5852.9111\n",
      "Epoch 56/100\n",
      "34/34 [==============================] - 0s 1ms/step - loss: 5743.8354 - mae: 5743.8354\n",
      "Epoch 57/100\n",
      "34/34 [==============================] - 0s 1ms/step - loss: 5628.0967 - mae: 5628.0967\n",
      "Epoch 58/100\n",
      "34/34 [==============================] - 0s 1ms/step - loss: 5512.3008 - mae: 5512.3008\n",
      "Epoch 59/100\n",
      "34/34 [==============================] - 0s 1ms/step - loss: 5393.3340 - mae: 5393.3340\n",
      "Epoch 60/100\n",
      "34/34 [==============================] - 0s 1ms/step - loss: 5270.6997 - mae: 5270.6997\n",
      "Epoch 61/100\n",
      "34/34 [==============================] - 0s 3ms/step - loss: 5145.5059 - mae: 5145.5059\n",
      "Epoch 62/100\n",
      "34/34 [==============================] - 0s 1ms/step - loss: 5015.5889 - mae: 5015.5889\n",
      "Epoch 63/100\n",
      "34/34 [==============================] - 0s 1ms/step - loss: 4888.2378 - mae: 4888.2378\n",
      "Epoch 64/100\n",
      "34/34 [==============================] - 0s 1ms/step - loss: 4756.7275 - mae: 4756.7275\n",
      "Epoch 65/100\n",
      "34/34 [==============================] - 0s 1ms/step - loss: 4631.7324 - mae: 4631.7324\n",
      "Epoch 66/100\n",
      "34/34 [==============================] - 0s 1ms/step - loss: 4510.3857 - mae: 4510.3857\n",
      "Epoch 67/100\n",
      "34/34 [==============================] - 0s 1ms/step - loss: 4404.5327 - mae: 4404.5327\n",
      "Epoch 68/100\n",
      "34/34 [==============================] - 0s 1ms/step - loss: 4299.2480 - mae: 4299.2480\n",
      "Epoch 69/100\n",
      "34/34 [==============================] - 0s 1ms/step - loss: 4199.1504 - mae: 4199.1504\n",
      "Epoch 70/100\n",
      "34/34 [==============================] - 0s 1ms/step - loss: 4106.9688 - mae: 4106.9688\n",
      "Epoch 71/100\n",
      "34/34 [==============================] - 0s 1ms/step - loss: 4021.2944 - mae: 4021.2944\n",
      "Epoch 72/100\n",
      "34/34 [==============================] - 0s 1ms/step - loss: 3946.6221 - mae: 3946.6221\n",
      "Epoch 73/100\n",
      "34/34 [==============================] - 0s 1ms/step - loss: 3881.6333 - mae: 3881.6333\n",
      "Epoch 74/100\n",
      "34/34 [==============================] - 0s 1ms/step - loss: 3827.5461 - mae: 3827.5461\n",
      "Epoch 75/100\n",
      "34/34 [==============================] - 0s 2ms/step - loss: 3784.7822 - mae: 3784.7822\n",
      "Epoch 76/100\n",
      "34/34 [==============================] - 0s 1ms/step - loss: 3751.3289 - mae: 3751.3289\n",
      "Epoch 77/100\n",
      "34/34 [==============================] - 0s 1ms/step - loss: 3724.7883 - mae: 3724.7883\n",
      "Epoch 78/100\n",
      "34/34 [==============================] - 0s 1ms/step - loss: 3706.2996 - mae: 3706.2996\n",
      "Epoch 79/100\n",
      "34/34 [==============================] - 0s 1ms/step - loss: 3692.4333 - mae: 3692.4333\n",
      "Epoch 80/100\n",
      "34/34 [==============================] - 0s 1ms/step - loss: 3682.7583 - mae: 3682.7583\n",
      "Epoch 81/100\n",
      "34/34 [==============================] - 0s 1ms/step - loss: 3675.5596 - mae: 3675.5596\n",
      "Epoch 82/100\n",
      "34/34 [==============================] - 0s 1ms/step - loss: 3671.7214 - mae: 3671.7214\n",
      "Epoch 83/100\n",
      "34/34 [==============================] - 0s 1ms/step - loss: 3665.5017 - mae: 3665.5017\n",
      "Epoch 84/100\n",
      "34/34 [==============================] - 0s 2ms/step - loss: 3662.5671 - mae: 3662.5671\n",
      "Epoch 85/100\n",
      "34/34 [==============================] - 0s 2ms/step - loss: 3660.2263 - mae: 3660.2263\n",
      "Epoch 86/100\n",
      "34/34 [==============================] - 0s 1ms/step - loss: 3658.2292 - mae: 3658.2292\n",
      "Epoch 87/100\n",
      "34/34 [==============================] - 0s 1ms/step - loss: 3655.2278 - mae: 3655.2278\n",
      "Epoch 88/100\n",
      "34/34 [==============================] - 0s 1ms/step - loss: 3652.7083 - mae: 3652.7083\n",
      "Epoch 89/100\n",
      "34/34 [==============================] - 0s 1ms/step - loss: 3650.9458 - mae: 3650.9458\n",
      "Epoch 90/100\n",
      "34/34 [==============================] - 0s 2ms/step - loss: 3649.2932 - mae: 3649.2932\n",
      "Epoch 91/100\n",
      "34/34 [==============================] - 0s 2ms/step - loss: 3646.1340 - mae: 3646.1340\n",
      "Epoch 92/100\n",
      "34/34 [==============================] - 0s 2ms/step - loss: 3645.4775 - mae: 3645.4775\n",
      "Epoch 93/100\n",
      "34/34 [==============================] - 0s 2ms/step - loss: 3643.4612 - mae: 3643.4612\n",
      "Epoch 94/100\n",
      "34/34 [==============================] - 0s 2ms/step - loss: 3641.5698 - mae: 3641.5698\n",
      "Epoch 95/100\n",
      "34/34 [==============================] - 0s 2ms/step - loss: 3642.6633 - mae: 3642.6633\n",
      "Epoch 96/100\n",
      "34/34 [==============================] - 0s 2ms/step - loss: 3639.4331 - mae: 3639.4331\n",
      "Epoch 97/100\n",
      "34/34 [==============================] - 0s 1ms/step - loss: 3637.0459 - mae: 3637.0459\n",
      "Epoch 98/100\n",
      "34/34 [==============================] - 0s 1ms/step - loss: 3634.9531 - mae: 3634.9531\n",
      "Epoch 99/100\n",
      "34/34 [==============================] - 0s 2ms/step - loss: 3634.3921 - mae: 3634.3921\n",
      "Epoch 100/100\n",
      "34/34 [==============================] - 0s 2ms/step - loss: 3632.6047 - mae: 3632.6047\n"
     ]
    },
    {
     "data": {
      "text/plain": [
       "<keras.src.callbacks.History at 0x2ed6eb06410>"
      ]
     },
     "execution_count": 6,
     "metadata": {},
     "output_type": "execute_result"
    }
   ],
   "source": [
    "# Build a neural network to fit on our normalized data\n",
    "tf.random.set_seed(42)\n",
    "\n",
    "# 1. create model\n",
    "insurance_model_4 = tf.keras.Sequential([\n",
    "    tf.keras.layers.Dense(100),\n",
    "    tf.keras.layers.Dense(10),\n",
    "    tf.keras.layers.Dense(1)\n",
    "])\n",
    "\n",
    "# 2. Compile the model\n",
    "insurance_model_4.compile(loss=tf.keras.losses.mae,\n",
    "                          optimizer=tf.keras.optimizers.Adam(),\n",
    "                          metrics=[\"mae\"])\n",
    "\n",
    "# 3. Fit the model\n",
    "insurance_model_4.fit(X_train_normal, y_train, epochs=100)"
   ]
  },
  {
   "cell_type": "code",
   "execution_count": 7,
   "metadata": {},
   "outputs": [
    {
     "name": "stdout",
     "output_type": "stream",
     "text": [
      "9/9 [==============================] - 0s 2ms/step - loss: 3434.4512 - mae: 3434.4512\n"
     ]
    },
    {
     "data": {
      "text/plain": [
       "[3434.451171875, 3434.451171875]"
      ]
     },
     "execution_count": 7,
     "metadata": {},
     "output_type": "execute_result"
    }
   ],
   "source": [
    "# Evaluate our insurance model trained on normalize data\n",
    "insurance_model_4.evaluate(X_test_normal, y_test)"
   ]
  },
  {
   "cell_type": "code",
   "execution_count": null,
   "metadata": {},
   "outputs": [],
   "source": [
    "# insurance model 2 results\n",
    "# 9/9 [==============================] - 0s 3ms/step - loss: 4793.6660 - mae: 4793.6660"
   ]
  },
  {
   "cell_type": "code",
   "execution_count": null,
   "metadata": {},
   "outputs": [],
   "source": []
  }
 ],
 "metadata": {
  "kernelspec": {
   "display_name": "tf_course",
   "language": "python",
   "name": "python3"
  },
  "language_info": {
   "codemirror_mode": {
    "name": "ipython",
    "version": 3
   },
   "file_extension": ".py",
   "mimetype": "text/x-python",
   "name": "python",
   "nbconvert_exporter": "python",
   "pygments_lexer": "ipython3",
   "version": "3.10.12"
  },
  "orig_nbformat": 4
 },
 "nbformat": 4,
 "nbformat_minor": 2
}
